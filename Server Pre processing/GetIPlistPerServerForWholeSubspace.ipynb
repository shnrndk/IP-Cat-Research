{
  "nbformat": 4,
  "nbformat_minor": 0,
  "metadata": {
    "colab": {
      "name": "GetIPlistPerServerForWholeSubspace.ipynb",
      "provenance": []
    },
    "kernelspec": {
      "name": "python3",
      "display_name": "Python 3"
    },
    "language_info": {
      "name": "python"
    }
  },
  "cells": [
    {
      "cell_type": "code",
      "metadata": {
        "colab": {
          "base_uri": "https://localhost:8080/"
        },
        "id": "REePSNFGDK4-",
        "outputId": "4181385b-cfe2-43b2-cb83-211467a668f1"
      },
      "source": [
        "!sudo apt-get install bzip2"
      ],
      "execution_count": null,
      "outputs": [
        {
          "output_type": "stream",
          "name": "stdout",
          "text": [
            "Reading package lists... Done\n",
            "Building dependency tree       \n",
            "Reading state information... Done\n",
            "bzip2 is already the newest version (1.0.6-8.1ubuntu0.2).\n",
            "0 upgraded, 0 newly installed, 0 to remove and 40 not upgraded.\n"
          ]
        }
      ]
    },
    {
      "cell_type": "code",
      "metadata": {
        "colab": {
          "base_uri": "https://localhost:8080/"
        },
        "id": "bX5v0-S2o5-C",
        "outputId": "e34cb805-d816-4edc-e963-4ce4e4e6a546"
      },
      "source": [
        "!!bzip2 -d FinalIPlistPerServer_Instance_no_02_round_3.csv.bz2"
      ],
      "execution_count": null,
      "outputs": [
        {
          "output_type": "execute_result",
          "data": {
            "text/plain": [
              "[]"
            ]
          },
          "metadata": {},
          "execution_count": 3
        }
      ]
    },
    {
      "cell_type": "code",
      "metadata": {
        "id": "Hk9dJsj1Bj3F"
      },
      "source": [
        "import pandas as pd"
      ],
      "execution_count": null,
      "outputs": []
    },
    {
      "cell_type": "code",
      "metadata": {
        "id": "RkSdRRBNB7oG"
      },
      "source": [
        "for i in range(7):\n",
        "    c = pd.read_csv('FinalIPlistPerServer_Instance_no_0'+str(i+1)+'_round_3.csv')\n",
        "    c.to_csv('FinalIPlistPerServerNotSorted.csv', mode='a', header=False,index=False)"
      ],
      "execution_count": null,
      "outputs": []
    },
    {
      "cell_type": "code",
      "metadata": {
        "id": "V8exbKYqCVdU"
      },
      "source": [
        "df = pd.read_csv('FinalIPlistPerServerNotSorted.csv',names = [\"IP\", \"Server\"])\n",
        "FinalIPlistPerServerSorted = df.sort_values(by=[ 'Server'])"
      ],
      "execution_count": null,
      "outputs": []
    },
    {
      "cell_type": "code",
      "metadata": {
        "id": "H5v39d7hCoAo"
      },
      "source": [
        "FinalIPlistPerServerSorted.to_csv('FinalIPlistPerServerSorted_round_03.csv',index=False)"
      ],
      "execution_count": null,
      "outputs": []
    },
    {
      "cell_type": "code",
      "metadata": {
        "id": "vi9IzATbCso7"
      },
      "source": [
        "!bzip2 FinalIPlistPerServerSorted_round_03.csv"
      ],
      "execution_count": null,
      "outputs": []
    }
  ]
}