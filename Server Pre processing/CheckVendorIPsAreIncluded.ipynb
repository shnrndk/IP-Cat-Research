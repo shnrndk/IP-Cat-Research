{
  "nbformat": 4,
  "nbformat_minor": 0,
  "metadata": {
    "colab": {
      "name": "CheckVendorIPsAreIncluded.ipynb",
      "provenance": []
    },
    "kernelspec": {
      "name": "python3",
      "display_name": "Python 3"
    },
    "language_info": {
      "name": "python"
    }
  },
  "cells": [
    {
      "cell_type": "code",
      "metadata": {
        "colab": {
          "base_uri": "https://localhost:8080/"
        },
        "id": "fHtRXqrUF7XB",
        "outputId": "a907af39-2f35-43c9-c292-5c6f8679e662"
      },
      "source": [
        "!sudo apt-get install bzip2"
      ],
      "execution_count": null,
      "outputs": [
        {
          "output_type": "stream",
          "name": "stdout",
          "text": [
            "Reading package lists... Done\n",
            "Building dependency tree       \n",
            "Reading state information... Done\n",
            "bzip2 is already the newest version (1.0.6-8.1ubuntu0.2).\n",
            "0 upgraded, 0 newly installed, 0 to remove and 40 not upgraded.\n"
          ]
        }
      ]
    },
    {
      "cell_type": "code",
      "metadata": {
        "id": "9VKdPbyVGYSu"
      },
      "source": [
        "!bzip2 -d FinalIPlistPerServerSorted_round_02.csv.bz2"
      ],
      "execution_count": null,
      "outputs": []
    },
    {
      "cell_type": "code",
      "metadata": {
        "id": "nYl9lp1YGO6Q"
      },
      "source": [
        "!bzip2 -d gcp_expanded.csv.bz2"
      ],
      "execution_count": null,
      "outputs": []
    },
    {
      "cell_type": "code",
      "metadata": {
        "id": "aGXQSTN9GYhZ"
      },
      "source": [
        "vendoriplist = []\n",
        "with open('digitalOcean_expanded.csv') as file:\n",
        "  for line in file:\n",
        "      vendoriplist.append(line.rstrip())"
      ],
      "execution_count": null,
      "outputs": []
    },
    {
      "cell_type": "code",
      "metadata": {
        "id": "Wxj8HytDIFzA"
      },
      "source": [
        "import pandas as pd"
      ],
      "execution_count": null,
      "outputs": []
    },
    {
      "cell_type": "code",
      "metadata": {
        "id": "j-1uKLu7ScAO"
      },
      "source": [
        "vendordf = pd.DataFrame(vendoriplist)\n",
        "vendordf.columns = ['IP']"
      ],
      "execution_count": null,
      "outputs": []
    },
    {
      "cell_type": "code",
      "metadata": {
        "id": "DrGGBG6ZILOc"
      },
      "source": [
        "df = pd.read_csv('FinalIPlistPerServerSorted_round_02.csv')"
      ],
      "execution_count": null,
      "outputs": []
    },
    {
      "cell_type": "code",
      "metadata": {
        "colab": {
          "base_uri": "https://localhost:8080/",
          "height": 418
        },
        "id": "FSv56nuiYKFL",
        "outputId": "5fb3ddca-1909-4d60-f5ac-7183afffb875"
      },
      "source": [
        "df"
      ],
      "execution_count": null,
      "outputs": [
        {
          "output_type": "execute_result",
          "data": {
            "text/html": [
              "<div>\n",
              "<style scoped>\n",
              "    .dataframe tbody tr th:only-of-type {\n",
              "        vertical-align: middle;\n",
              "    }\n",
              "\n",
              "    .dataframe tbody tr th {\n",
              "        vertical-align: top;\n",
              "    }\n",
              "\n",
              "    .dataframe thead th {\n",
              "        text-align: right;\n",
              "    }\n",
              "</style>\n",
              "<table border=\"1\" class=\"dataframe\">\n",
              "  <thead>\n",
              "    <tr style=\"text-align: right;\">\n",
              "      <th></th>\n",
              "      <th>IP</th>\n",
              "      <th>Server</th>\n",
              "    </tr>\n",
              "  </thead>\n",
              "  <tbody>\n",
              "    <tr>\n",
              "      <th>0</th>\n",
              "      <td>54.37.83.77</td>\n",
              "      <td>XXXXX</td>\n",
              "    </tr>\n",
              "    <tr>\n",
              "      <th>1</th>\n",
              "      <td>54.38.81.179</td>\n",
              "      <td>XXXXX</td>\n",
              "    </tr>\n",
              "    <tr>\n",
              "      <th>2</th>\n",
              "      <td>54.37.83.77</td>\n",
              "      <td>XXXXX</td>\n",
              "    </tr>\n",
              "    <tr>\n",
              "      <th>3</th>\n",
              "      <td>54.38.81.179</td>\n",
              "      <td>XXXXX</td>\n",
              "    </tr>\n",
              "    <tr>\n",
              "      <th>4</th>\n",
              "      <td>54.38.81.179</td>\n",
              "      <td>XXXXX</td>\n",
              "    </tr>\n",
              "    <tr>\n",
              "      <th>...</th>\n",
              "      <td>...</td>\n",
              "      <td>...</td>\n",
              "    </tr>\n",
              "    <tr>\n",
              "      <th>32578255</th>\n",
              "      <td>52.23.56.124</td>\n",
              "      <td>🙈</td>\n",
              "    </tr>\n",
              "    <tr>\n",
              "      <th>32578256</th>\n",
              "      <td>52.23.56.124</td>\n",
              "      <td>🙈</td>\n",
              "    </tr>\n",
              "    <tr>\n",
              "      <th>32578257</th>\n",
              "      <td>52.23.56.124</td>\n",
              "      <td>🙈</td>\n",
              "    </tr>\n",
              "    <tr>\n",
              "      <th>32578258</th>\n",
              "      <td>52.23.56.124</td>\n",
              "      <td>🙈</td>\n",
              "    </tr>\n",
              "    <tr>\n",
              "      <th>32578259</th>\n",
              "      <td>52.23.56.124</td>\n",
              "      <td>🙈</td>\n",
              "    </tr>\n",
              "  </tbody>\n",
              "</table>\n",
              "<p>32578260 rows × 2 columns</p>\n",
              "</div>"
            ],
            "text/plain": [
              "                    IP   Server\n",
              "0          54.37.83.77  \n",
              "XXXXX\n",
              "\n",
              "1         54.38.81.179  \n",
              "XXXXX\n",
              "\n",
              "2          54.37.83.77  \n",
              "XXXXX\n",
              "\n",
              "3         54.38.81.179  \n",
              "XXXXX\n",
              "\n",
              "4         54.38.81.179  \n",
              "XXXXX\n",
              "\n",
              "...                ...      ...\n",
              "32578255  52.23.56.124        🙈\n",
              "32578256  52.23.56.124        🙈\n",
              "32578257  52.23.56.124        🙈\n",
              "32578258  52.23.56.124        🙈\n",
              "32578259  52.23.56.124        🙈\n",
              "\n",
              "[32578260 rows x 2 columns]"
            ]
          },
          "metadata": {},
          "execution_count": 31
        }
      ]
    },
    {
      "cell_type": "code",
      "metadata": {
        "colab": {
          "base_uri": "https://localhost:8080/",
          "height": 418
        },
        "id": "DizLGMZDYeQ_",
        "outputId": "93ab90b1-c9f9-45bc-eaf2-64ccd16ba099"
      },
      "source": [
        "vendordf"
      ],
      "execution_count": null,
      "outputs": [
        {
          "output_type": "execute_result",
          "data": {
            "text/html": [
              "<div>\n",
              "<style scoped>\n",
              "    .dataframe tbody tr th:only-of-type {\n",
              "        vertical-align: middle;\n",
              "    }\n",
              "\n",
              "    .dataframe tbody tr th {\n",
              "        vertical-align: top;\n",
              "    }\n",
              "\n",
              "    .dataframe thead th {\n",
              "        text-align: right;\n",
              "    }\n",
              "</style>\n",
              "<table border=\"1\" class=\"dataframe\">\n",
              "  <thead>\n",
              "    <tr style=\"text-align: right;\">\n",
              "      <th></th>\n",
              "      <th>IP</th>\n",
              "    </tr>\n",
              "  </thead>\n",
              "  <tbody>\n",
              "    <tr>\n",
              "      <th>0</th>\n",
              "      <td>5.101.96.1</td>\n",
              "    </tr>\n",
              "    <tr>\n",
              "      <th>1</th>\n",
              "      <td>5.101.96.2</td>\n",
              "    </tr>\n",
              "    <tr>\n",
              "      <th>2</th>\n",
              "      <td>5.101.96.3</td>\n",
              "    </tr>\n",
              "    <tr>\n",
              "      <th>3</th>\n",
              "      <td>5.101.96.4</td>\n",
              "    </tr>\n",
              "    <tr>\n",
              "      <th>4</th>\n",
              "      <td>5.101.96.5</td>\n",
              "    </tr>\n",
              "    <tr>\n",
              "      <th>...</th>\n",
              "      <td>...</td>\n",
              "    </tr>\n",
              "    <tr>\n",
              "      <th>2512415</th>\n",
              "      <td>209.97.191.250</td>\n",
              "    </tr>\n",
              "    <tr>\n",
              "      <th>2512416</th>\n",
              "      <td>209.97.191.251</td>\n",
              "    </tr>\n",
              "    <tr>\n",
              "      <th>2512417</th>\n",
              "      <td>209.97.191.252</td>\n",
              "    </tr>\n",
              "    <tr>\n",
              "      <th>2512418</th>\n",
              "      <td>209.97.191.253</td>\n",
              "    </tr>\n",
              "    <tr>\n",
              "      <th>2512419</th>\n",
              "      <td>209.97.191.254</td>\n",
              "    </tr>\n",
              "  </tbody>\n",
              "</table>\n",
              "<p>2512420 rows × 1 columns</p>\n",
              "</div>"
            ],
            "text/plain": [
              "                     IP\n",
              "0            5.101.96.1\n",
              "1            5.101.96.2\n",
              "2            5.101.96.3\n",
              "3            5.101.96.4\n",
              "4            5.101.96.5\n",
              "...                 ...\n",
              "2512415  209.97.191.250\n",
              "2512416  209.97.191.251\n",
              "2512417  209.97.191.252\n",
              "2512418  209.97.191.253\n",
              "2512419  209.97.191.254\n",
              "\n",
              "[2512420 rows x 1 columns]"
            ]
          },
          "metadata": {},
          "execution_count": 32
        }
      ]
    },
    {
      "cell_type": "code",
      "metadata": {
        "id": "yjiN_jjfhjTD"
      },
      "source": [
        "merged = pd.merge(df, vendordf)"
      ],
      "execution_count": null,
      "outputs": []
    },
    {
      "cell_type": "code",
      "metadata": {
        "colab": {
          "base_uri": "https://localhost:8080/",
          "height": 418
        },
        "id": "720G7UEoimw0",
        "outputId": "a30fa016-c80c-4082-ea53-c84d5e3a938f"
      },
      "source": [
        "merged"
      ],
      "execution_count": null,
      "outputs": [
        {
          "output_type": "execute_result",
          "data": {
            "text/html": [
              "<div>\n",
              "<style scoped>\n",
              "    .dataframe tbody tr th:only-of-type {\n",
              "        vertical-align: middle;\n",
              "    }\n",
              "\n",
              "    .dataframe tbody tr th {\n",
              "        vertical-align: top;\n",
              "    }\n",
              "\n",
              "    .dataframe thead th {\n",
              "        text-align: right;\n",
              "    }\n",
              "</style>\n",
              "<table border=\"1\" class=\"dataframe\">\n",
              "  <thead>\n",
              "    <tr style=\"text-align: right;\">\n",
              "      <th></th>\n",
              "      <th>IP</th>\n",
              "      <th>Server</th>\n",
              "    </tr>\n",
              "  </thead>\n",
              "  <tbody>\n",
              "    <tr>\n",
              "      <th>0</th>\n",
              "      <td>138.68.76.199</td>\n",
              "      <td>\"&gt;&lt;img src=x onerror=alert(1)&gt;</td>\n",
              "    </tr>\n",
              "    <tr>\n",
              "      <th>1</th>\n",
              "      <td>138.68.76.199</td>\n",
              "      <td>\"&gt;&lt;img src=x onerror=alert(1)&gt;</td>\n",
              "    </tr>\n",
              "    <tr>\n",
              "      <th>2</th>\n",
              "      <td>167.172.134.113</td>\n",
              "      <td>(_8-(|)</td>\n",
              "    </tr>\n",
              "    <tr>\n",
              "      <th>3</th>\n",
              "      <td>167.172.134.113</td>\n",
              "      <td>(_8-(|)</td>\n",
              "    </tr>\n",
              "    <tr>\n",
              "      <th>4</th>\n",
              "      <td>167.172.134.113</td>\n",
              "      <td>(_8-(|)</td>\n",
              "    </tr>\n",
              "    <tr>\n",
              "      <th>...</th>\n",
              "      <td>...</td>\n",
              "      <td>...</td>\n",
              "    </tr>\n",
              "    <tr>\n",
              "      <th>784197</th>\n",
              "      <td>68.183.223.239</td>\n",
              "      <td>“B4B_SERVER”</td>\n",
              "    </tr>\n",
              "    <tr>\n",
              "      <th>784198</th>\n",
              "      <td>68.183.223.239</td>\n",
              "      <td>“B4B_SERVER”</td>\n",
              "    </tr>\n",
              "    <tr>\n",
              "      <th>784199</th>\n",
              "      <td>68.183.223.239</td>\n",
              "      <td>“B4B_SERVER”</td>\n",
              "    </tr>\n",
              "    <tr>\n",
              "      <th>784200</th>\n",
              "      <td>159.89.31.162</td>\n",
              "      <td>“SERVER”</td>\n",
              "    </tr>\n",
              "    <tr>\n",
              "      <th>784201</th>\n",
              "      <td>159.89.31.162</td>\n",
              "      <td>“SERVER”</td>\n",
              "    </tr>\n",
              "  </tbody>\n",
              "</table>\n",
              "<p>784202 rows × 2 columns</p>\n",
              "</div>"
            ],
            "text/plain": [
              "                     IP                          Server\n",
              "0         138.68.76.199  \"><img src=x onerror=alert(1)>\n",
              "1         138.68.76.199  \"><img src=x onerror=alert(1)>\n",
              "2       167.172.134.113                         (_8-(|)\n",
              "3       167.172.134.113                         (_8-(|)\n",
              "4       167.172.134.113                         (_8-(|)\n",
              "...                 ...                             ...\n",
              "784197   68.183.223.239                    “B4B_SERVER”\n",
              "784198   68.183.223.239                    “B4B_SERVER”\n",
              "784199   68.183.223.239                    “B4B_SERVER”\n",
              "784200    159.89.31.162                        “SERVER”\n",
              "784201    159.89.31.162                        “SERVER”\n",
              "\n",
              "[784202 rows x 2 columns]"
            ]
          },
          "metadata": {},
          "execution_count": 34
        }
      ]
    },
    {
      "cell_type": "code",
      "metadata": {
        "id": "StyZIxjoXTNS"
      },
      "source": [
        "merged.to_csv('merged_digital_ocean_with_servers_round_2.csv',index=False)"
      ],
      "execution_count": null,
      "outputs": []
    }
  ]
}