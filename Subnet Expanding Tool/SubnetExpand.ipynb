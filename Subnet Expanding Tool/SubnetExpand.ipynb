{
  "nbformat": 4,
  "nbformat_minor": 0,
  "metadata": {
    "colab": {
      "name": "SubnetExpand.ipynb",
      "provenance": []
    },
    "kernelspec": {
      "name": "python3",
      "display_name": "Python 3"
    },
    "language_info": {
      "name": "python"
    }
  },
  "cells": [
    {
      "cell_type": "code",
      "metadata": {
        "colab": {
          "base_uri": "https://localhost:8080/"
        },
        "id": "QhEvUfNebgai",
        "outputId": "d7039322-df03-48ce-eeff-bd0a4f876c1e"
      },
      "source": [
        "!sudo apt-get install bzip2"
      ],
      "execution_count": null,
      "outputs": [
        {
          "output_type": "stream",
          "name": "stdout",
          "text": [
            "Reading package lists... Done\n",
            "Building dependency tree       \n",
            "Reading state information... Done\n",
            "bzip2 is already the newest version (1.0.6-8.1ubuntu0.2).\n",
            "0 upgraded, 0 newly installed, 0 to remove and 40 not upgraded.\n"
          ]
        }
      ]
    },
    {
      "cell_type": "code",
      "metadata": {
        "colab": {
          "base_uri": "https://localhost:8080/"
        },
        "id": "54NMXQrwFwRl",
        "outputId": "9a6f0ff2-f81b-4511-b468-11604a6e5602"
      },
      "source": [
        "!pip install ipcalc"
      ],
      "execution_count": null,
      "outputs": [
        {
          "output_type": "stream",
          "name": "stdout",
          "text": [
            "Collecting ipcalc\n",
            "  Downloading ipcalc-1.99.0.tar.gz (9.8 kB)\n",
            "Building wheels for collected packages: ipcalc\n",
            "  Building wheel for ipcalc (setup.py) ... \u001b[?25l\u001b[?25hdone\n",
            "  Created wheel for ipcalc: filename=ipcalc-1.99.0-py3-none-any.whl size=9287 sha256=8f516740be56bbe088fca3b90f0c0995e3142a7bc9e9bc73dbf0145e8496bf21\n",
            "  Stored in directory: /root/.cache/pip/wheels/f1/0e/2e/998938d5eb1cceb9cde928aa38c3b6fd9f1c90a84a6f7cb6ac\n",
            "Successfully built ipcalc\n",
            "Installing collected packages: ipcalc\n",
            "Successfully installed ipcalc-1.99.0\n"
          ]
        }
      ]
    },
    {
      "cell_type": "code",
      "metadata": {
        "id": "1zVQAVDJF6MG"
      },
      "source": [
        "import ipcalc"
      ],
      "execution_count": null,
      "outputs": []
    },
    {
      "cell_type": "code",
      "metadata": {
        "id": "eklq9n4edQUi"
      },
      "source": [
        "filename='digitalOcean'"
      ],
      "execution_count": null,
      "outputs": []
    },
    {
      "cell_type": "code",
      "metadata": {
        "id": "4FqgiLWWaFrK"
      },
      "source": [
        "subnetsList = []\n",
        "count = 0\n",
        "with open(filename+'.csv') as file:\n",
        "  for line in file:\n",
        "    if(count != 0):\n",
        "        if(len(line.rstrip())>10):\n",
        "          subnetsList.append(line.rstrip())\n",
        "    count+=1"
      ],
      "execution_count": null,
      "outputs": []
    },
    {
      "cell_type": "code",
      "metadata": {
        "id": "vntH29CoGSFV"
      },
      "source": [
        "fh = open(filename+'_expanded.csv', 'a')\n",
        "for subnet in subnetsList:\n",
        "  for x in ipcalc.Network(subnet):\n",
        "    fh.write(str(x)+'\\n')\n",
        "fh.close()"
      ],
      "execution_count": null,
      "outputs": []
    },
    {
      "cell_type": "code",
      "metadata": {
        "id": "FLqWFL9DdJb1"
      },
      "source": [
        "!bzip2 aws_expanded.csv"
      ],
      "execution_count": null,
      "outputs": []
    }
  ]
}