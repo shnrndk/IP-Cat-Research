{
 "cells": [
  {
   "cell_type": "code",
   "execution_count": 1,
   "id": "9d690b29",
   "metadata": {},
   "outputs": [],
   "source": [
    "instance_no = '03'\n",
    "round_no = '01'"
   ]
  },
  {
   "cell_type": "code",
   "execution_count": 1,
   "id": "8ab1eef9",
   "metadata": {},
   "outputs": [],
   "source": [
    "no_of_chunks=6"
   ]
  },
  {
   "cell_type": "code",
   "execution_count": 2,
   "id": "add96fd6",
   "metadata": {
    "scrolled": true
   },
   "outputs": [
    {
     "name": "stdout",
     "output_type": "stream",
     "text": [
      "Copying gs://store_data_gh/quick_access/round_1/zgrab_result_instance-04.csv.bz2...\n",
      "==> NOTE: You are downloading one or more large file(s), which would            \n",
      "run significantly faster if you enabled sliced object downloads. This\n",
      "feature is enabled by default but requires that compiled crcmod be\n",
      "installed (see \"gsutil help crcmod\").\n",
      "\n",
      "\\ [1 files][  1.0 GiB/  1.0 GiB]                                                \n",
      "Operation completed over 1 objects/1.0 GiB.                                      \n"
     ]
    }
   ],
   "source": [
    "!gsutil cp gs://store_data_gh/quick_access/round_1/zgrab_result_instance-03.csv.bz2 $HOME/myprojectdir/Data/data.csv.bz2"
   ]
  },
  {
   "cell_type": "code",
   "execution_count": 3,
   "id": "59a5d508",
   "metadata": {},
   "outputs": [],
   "source": [
    "!bzip2 -d $HOME/myprojectdir/Data/data.csv.bz2"
   ]
  },
  {
   "cell_type": "code",
   "execution_count": 4,
   "id": "487cd4e1",
   "metadata": {},
   "outputs": [],
   "source": [
    "import pandas as pd\n",
    "import numpy as np\n",
    "import matplotlib.pyplot as plt"
   ]
  },
  {
   "cell_type": "code",
   "execution_count": 5,
   "id": "03b7d0ea",
   "metadata": {},
   "outputs": [
    {
     "name": "stderr",
     "output_type": "stream",
     "text": [
      "/home/shnrndk3/myprojectdir/myprojectenv/lib/python3.7/site-packages/IPython/core/interactiveshell.py:3361: DtypeWarning: Columns (6,7,8,9,10,12,13,15,16,17,18,19,20,24,25,27,28,29,38,41,42,44,45,46,51,52,53,54,55,56,59,61,62,72,74,75,76,77,78,79,80,81,82,83,86,87,88,89,90,91,92,121,122,144,145,167,168,169,190,191,212,213,224,225,226,227,228,229,230,231,232,233,234,235,238,239,240,241,242,243,246,247,248,249,252,253,254,255,256,257,258,259,260,261,274,278,279,280,283,284,285,298,299,301,303,304,305,306,307,310,311,312,314,315,318,327,333,336,337,341,342,353,354,355,363,364,366,370,371,373,376,380,381,382,383,384,385,386,387,388,389,390,391,392,393,394,395,396,397,398,399,400,401,402,403,404,405,406,407,408,409,410,411,412,413,414,415,422,423,424,425,426,427,428,429,458,462,463,464,465,466,467,468,472,475,476,477,478,479,506,537,538,539,562,563,564,587,588,589,610,611,623,624,626,627,629,630,633,635,739,750,761,772,783,831,832,834,836,847,856,857,865,876,885,886,893,894,895,896,897,898,899,900,901,902,903,905,916,925,926) have mixed types.Specify dtype option on import or set low_memory=False.\n",
      "  if (await self.run_code(code, result,  async_=asy)):\n",
      "/home/shnrndk3/myprojectdir/myprojectenv/lib/python3.7/site-packages/IPython/core/interactiveshell.py:3361: DtypeWarning: Columns (6,7,8,9,10,13,16,17,18,19,20,22,23,24,25,28,38,40,41,42,44,45,46,51,53,54,55,56,59,60,61,62,63,64,72,74,75,76,77,78,79,80,81,82,83,86,90,91,92,121,122,123,144,145,146,167,168,169,190,191,212,213,224,225,226,227,228,229,230,231,232,233,234,235,237,238,239,240,246,251,252,253,254,255,256,257,258,274,278,279,280,281,283,284,285,298,299,300,301,303,304,305,306,307,309,310,311,312,314,315,317,327,328,330,333,337,341,342,353,354,355,356,357,358,363,364,366,370,371,373,376,377,378,380,381,382,383,384,385,386,387,388,389,390,391,392,393,394,395,396,397,398,399,400,401,402,403,404,405,406,407,408,409,410,411,412,413,414,415,416,417,418,419,420,421,422,423,424,425,426,427,428,429,458,462,463,464,465,466,472,475,476,477,478,479,480,481,483,484,486,488,489,490,491,492,493,494,495,496,497,498,499,500,501,502,503,506,517,518,519,520,521,523,524,525,526,527,528,529,530,531,532,533,534,535,537,538,539,540,541,542,543,544,545,546,548,549,550,551,552,553,554,555,556,557,558,559,560,561,562,563,564,567,568,569,571,573,574,575,576,577,578,579,580,581,582,583,584,585,586,587,588,589,590,591,592,593,594,596,597,598,599,600,601,602,603,604,605,606,607,608,609,610,611,613,614,615,616,617,619,620,623,624,625,626,627,629,630,632,633,635,739,750,761,772,828,829,831,832,834,836,863,865,893,894,901,902,903,904,905,916) have mixed types.Specify dtype option on import or set low_memory=False.\n",
      "  if (await self.run_code(code, result,  async_=asy)):\n",
      "/home/shnrndk3/myprojectdir/myprojectenv/lib/python3.7/site-packages/IPython/core/interactiveshell.py:3361: DtypeWarning: Columns (6,7,8,9,10,12,13,14,16,17,18,19,20,22,24,25,28,29,30,31,32,40,41,42,44,45,46,47,48,51,55,56,59,60,61,62,63,64,72,74,75,76,77,78,79,80,81,82,83,84,85,86,90,91,92,93,121,122,123,144,145,146,167,168,169,190,191,212,213,224,225,226,227,228,229,230,231,232,233,235,237,238,239,240,246,252,254,256,257,258,274,278,279,280,283,284,285,298,299,300,303,304,305,306,307,309,310,311,312,314,315,317,318,319,320,321,327,330,333,337,340,341,342,353,354,355,356,357,363,364,366,370,371,373,376,377,380,381,382,383,384,385,386,387,388,389,390,391,392,393,394,395,396,397,398,399,400,401,402,403,404,405,406,407,408,409,410,411,412,413,414,415,422,423,424,425,426,427,428,429,458,462,463,464,465,466,472,483,484,537,538,539,562,563,564,587,588,589,610,611,623,624,626,627,629,630,633,635,739,750,761,772,783,794,805,828,829,830,831,832,834,836,863,865,876,885,893,894,901,903,905) have mixed types.Specify dtype option on import or set low_memory=False.\n",
      "  if (await self.run_code(code, result,  async_=asy)):\n",
      "/home/shnrndk3/myprojectdir/myprojectenv/lib/python3.7/site-packages/IPython/core/interactiveshell.py:3361: DtypeWarning: Columns (6,7,8,9,12,13,16,17,18,19,20,24,25,27,28,29,38,41,45,46,51,55,56,59,61,62,63,64,65,72,74,75,76,77,78,79,80,81,82,83,86,90,91,92,101,102,103,104,105,106,107,108,109,110,111,112,113,114,115,116,117,118,119,120,121,122,123,124,125,126,127,128,129,144,145,146,167,168,190,191,212,213,224,225,226,227,228,229,230,231,232,235,237,238,239,240,246,252,254,256,257,258,274,278,279,280,281,283,284,285,288,298,299,301,303,304,305,306,307,309,310,311,312,314,315,316,318,327,330,333,337,341,342,353,354,355,356,357,358,359,363,364,366,370,371,373,376,380,381,382,383,384,385,386,387,388,389,390,391,392,393,394,395,396,397,398,399,400,401,402,403,404,405,406,407,408,409,410,411,412,413,414,415,422,423,424,425,426,427,428,429,430,431,432,433,434,435,436,437,438,439,440,441,442,443,444,445,446,447,448,449,450,451,452,453,454,455,458,459,460,461,462,463,464,465,466,467,468,469,472,475,476,477,478,479,483,484,486,487,488,489,490,491,492,493,494,495,496,497,498,499,500,501,502,503,506,507,508,509,510,511,512,513,514,515,516,517,518,519,520,521,522,523,524,526,527,528,530,532,534,536,537,538,539,543,545,562,563,564,587,588,610,611,612,623,624,626,627,629,630,631,633,635,739,750,830,831,832,833,834,836,837,838,839,840,841,842,843,844,845,846,847,848,849,850,851,852,853,854,855,856,857,858,859,860,861,862,863,865,866,867,868,869,870,871,872,873,874,875,876,877,878,879,880,881,882,883,884,885,886,887,888,889,890,891,893,894,901,903,905,906,907,908,909,910,911,912,913,914,915,916,917,918,919,920,921,922,923,924,925,926,927,928,929,930,931) have mixed types.Specify dtype option on import or set low_memory=False.\n",
      "  if (await self.run_code(code, result,  async_=asy)):\n",
      "/home/shnrndk3/myprojectdir/myprojectenv/lib/python3.7/site-packages/IPython/core/interactiveshell.py:3361: DtypeWarning: Columns (7,8,9,12,13,14,16,17,18,19,20,24,25,28,29,30,31,32,33,34,35,36,38,41,42,45,46,47,48,51,55,56,59,60,61,62,63,64,65,66,67,68,69,70,71,72,73,74,75,76,77,78,79,80,81,82,83,84,85,86,90,91,92,93,94,95,96,97,98,99,100,101,102,103,104,105,106,107,108,109,110,111,112,113,114,115,116,117,118,119,120,121,122,123,124,125,126,127,128,129,130,131,132,133,134,135,136,137,138,139,140,141,142,143,144,145,146,147,148,149,150,151,152,153,154,155,156,157,158,159,160,161,162,163,164,165,166,167,168,169,170,171,172,173,174,175,176,177,178,179,180,181,182,183,184,185,186,187,188,189,190,191,192,193,194,195,196,197,198,199,200,201,202,203,204,205,206,207,208,209,210,211,212,213,214,215,216,217,218,219,220,221,222,223,224,225,226,227,228,229,230,231,232,233,234,235,237,238,239,240,241,244,246,247,252,254,255,256,257,258,259,278,279,280,283,284,285,298,299,300,301,303,304,305,306,307,309,310,311,312,314,315,316,318,319,320,321,322,323,324,325,327,333,337,341,342,353,363,364,366,370,371,373,376,380,381,382,383,384,385,386,387,388,389,390,391,392,393,394,395,396,397,398,399,400,401,402,403,404,405,406,407,408,409,410,411,412,413,414,415,422,423,424,425,426,427,428,429,458,462,463,464,465,466,472,475,476,477,478,479,480,481,482,483,484,486,487,488,489,490,491,492,493,494,495,496,497,498,499,500,501,502,503,506,509,510,511,512,513,514,515,517,518,519,520,521,522,523,524,525,526,527,528,529,530,531,532,533,534,535,536,537,538,539,542,543,544,545,546,547,548,549,550,551,552,553,554,555,556,557,558,559,560,561,562,563,564,567,568,569,570,571,572,573,574,575,576,577,578,579,580,581,582,583,584,585,586,587,588,589,590,591,592,593,594,595,596,597,598,599,600,601,602,603,604,605,606,607,608,609,610,611,613,614,615,616,617,618,619,620,621,622,623,624,626,627,629,630,631,633,635,739,750,761,772,830,831,832,833,834,836,847,856,857,858,859,860,861,863,865,876,885,886,887,888,889,890,893,894,895,900,901,902,903,905,916,925,926,927,928,929,930) have mixed types.Specify dtype option on import or set low_memory=False.\n",
      "  if (await self.run_code(code, result,  async_=asy)):\n",
      "/home/shnrndk3/myprojectdir/myprojectenv/lib/python3.7/site-packages/IPython/core/interactiveshell.py:3361: DtypeWarning: Columns (6,7,8,9,10,12,13,14,16,17,18,19,20,24,25,27,28,29,30,31,32,38,41,42,45,46,51,52,54,55,56,59,60,61,62,63,64,65,66,67,68,69,70,71,72,73,74,75,76,77,78,79,80,81,82,85,86,90,91,92,121,122,144,145,146,167,168,169,190,191,212,213,224,225,226,230,231,232,233,234,235,237,238,239,240,241,244,245,246,247,248,249,250,251,252,254,256,257,258,259,274,278,280,281,283,284,285,298,299,300,303,304,305,306,307,309,310,311,312,314,315,317,318,319,320,321,327,330,333,337,338,341,342,353,354,363,364,366,369,370,371,373,376,379,380,381,382,383,384,385,386,387,388,389,390,391,392,393,394,395,396,397,398,399,400,401,402,403,404,405,406,407,408,409,410,411,412,413,414,415,416,417,418,419,422,423,424,425,426,427,428,429,458,462,463,464,472,475,476,483,484,486,487,488,489,490,491,492,494,495,506,537,538,539,540,541,562,563,564,587,588,589,610,611,612,623,624,626,627,629,630,633,635,636,637,638,639,640,641,642,643,644,645,646,647,648,649,650,651,652,653,654,655,656,657,658,659,660,661,662,663,664,665,666,667,668,669,670,671,672,673,674,675,676,677,678,679,680,681,682,683,684,685,686,687,688,689,690,691,692,693,694,695,696,697,698,699,700,701,702,703,704,705,706,707,708,709,710,711,712,713,714,715,716,717,718,719,720,721,722,723,724,725,726,727,728,729,730,731,732,733,734,735,736,737,738,739,740,741,742,743,744,745,746,747,748,749,750,751,752,753,754,755,756,757,758,759,760,761,762,763,764,765,766,767,768,769,770,771,772,773,774,775,776,777,778,779,780,781,782,783,784,785,786,787,788,789,790,791,792,793,794,795,796,797,798,799,800,801,802,803,804,805,806,807,808,809,810,811,812,813,814,815,816,817,818,819,820,821,822,823,824,825,826,828,829,831,832,834,836,847,856,857,863,865,876,885,886,887,892,893,894,900,901,903,905,916,925,926) have mixed types.Specify dtype option on import or set low_memory=False.\n",
      "  if (await self.run_code(code, result,  async_=asy)):\n"
     ]
    },
    {
     "name": "stderr",
     "output_type": "stream",
     "text": [
      "/home/shnrndk3/myprojectdir/myprojectenv/lib/python3.7/site-packages/IPython/core/interactiveshell.py:3361: DtypeWarning: Columns (6,7,8,9,12,13,14,16,17,18,19,20,24,25,28,29,41,42,43,45,46,50,51,53,54,56,59,60,61,62,63,72,74,75,76,77,78,79,80,81,82,83,86,90,91,92,121,122,123,144,145,167,168,169,190,191,212,213,224,225,226,227,228,229,230,231,232,233,234,235,236,237,238,239,240,241,246,247,252,253,254,256,257,258,278,280,283,284,285,298,299,300,303,304,305,306,307,309,310,311,312,314,315,317,318,327,333,336,337,341,342,343,344,345,346,347,348,349,350,351,352,353,354,355,356,357,358,359,360,362,363,364,366,370,373,376,380,381,382,383,384,385,386,387,388,389,390,391,392,393,394,395,396,397,398,399,400,401,402,403,404,405,406,407,408,409,410,411,412,413,414,415,422,423,424,425,426,427,429,458,462,463,464,465,466,467,468,472,475,476,477,478,479,484,487,489,491,493,495,497,499,501,503,506,509,518,520,522,524,526,528,530,532,534,537,538,539,562,563,564,587,588,589,610,611,612,623,624,625,626,627,628,629,630,631,633,635,739,750,761,772,828,829,831,832,834,836,847,863,865,876,893,894,901,903,905) have mixed types.Specify dtype option on import or set low_memory=False.\n",
      "  if (await self.run_code(code, result,  async_=asy)):\n",
      "/home/shnrndk3/myprojectdir/myprojectenv/lib/python3.7/site-packages/IPython/core/interactiveshell.py:3361: DtypeWarning: Columns (6,7,8,9,10,12,13,14,16,17,18,19,20,22,24,25,28,29,38,41,44,45,46,51,54,55,56,59,61,72,74,75,76,77,78,79,81,82,83,86,87,90,91,92,101,102,103,104,105,106,107,108,121,122,123,144,145,146,167,168,169,190,191,212,213,224,225,226,227,228,229,230,231,232,233,234,235,237,238,239,240,244,246,252,253,254,256,257,258,274,278,280,283,284,285,298,299,300,303,304,305,306,307,309,310,311,312,314,315,316,318,327,330,333,334,335,336,337,341,342,353,363,364,366,367,368,369,370,371,372,373,376,380,381,382,383,384,385,386,387,388,389,390,391,392,393,394,395,396,397,398,399,400,401,402,403,404,405,406,407,408,409,410,411,412,413,414,415,422,423,424,425,426,427,429,458,459,460,462,463,464,465,466,467,468,469,472,473,474,475,476,477,478,479,480,481,482,483,484,485,486,487,488,489,490,491,492,494,495,496,497,498,499,500,501,502,503,506,509,510,517,518,519,520,521,522,523,524,525,526,527,528,529,530,531,533,534,535,536,537,538,539,540,542,543,544,546,547,548,549,550,551,552,553,554,555,556,557,558,560,561,562,563,564,565,566,567,568,569,570,571,572,573,574,575,576,577,578,579,580,581,582,583,584,585,587,588,589,590,592,593,594,595,596,597,598,600,601,602,603,604,605,606,607,608,609,610,611,613,614,615,616,617,619,620,623,624,626,627,628,629,630,633,635,739,750,761,772,828,830,831,832,834,836,863,865,876,893,894,901,903,905,944) have mixed types.Specify dtype option on import or set low_memory=False.\n",
      "  if (await self.run_code(code, result,  async_=asy)):\n",
      "/home/shnrndk3/myprojectdir/myprojectenv/lib/python3.7/site-packages/IPython/core/interactiveshell.py:3361: DtypeWarning: Columns (6,7,8,9,13,16,17,18,19,20,22,24,25,27,28,38,41,42,43,45,46,51,53,54,56,59,61,72,74,75,76,77,78,81,82,84,85,86,90,91,92,121,122,123,144,145,167,168,169,190,191,212,213,224,225,226,227,228,229,230,231,232,235,237,238,239,240,246,247,252,253,254,256,257,258,274,278,280,283,284,285,298,299,303,304,305,306,307,309,310,311,312,314,315,316,318,327,333,337,341,342,353,354,363,364,366,370,371,373,376,380,381,382,383,384,385,386,387,388,389,390,391,392,393,394,395,396,397,398,399,400,401,402,403,404,405,406,407,408,409,410,411,412,413,414,415,422,423,424,425,426,427,428,429,458,462,463,472,483,484,486,487,488,489,490,491,492,493,494,495,496,497,498,499,500,506,537,538,539,562,563,564,587,588,589,610,611,612,623,624,625,626,627,628,629,630,631,633,635,739,750,761,772,829,831,832,834,836,865,876,893,894,901,902,903,905) have mixed types.Specify dtype option on import or set low_memory=False.\n",
      "  if (await self.run_code(code, result,  async_=asy)):\n",
      "/home/shnrndk3/myprojectdir/myprojectenv/lib/python3.7/site-packages/IPython/core/interactiveshell.py:3361: DtypeWarning: Columns (6,7,8,9,10,12,13,16,17,18,19,20,22,24,25,28,29,38,41,42,43,45,46,47,48,51,53,54,55,56,59,60,61,62,63,72,74,75,76,77,78,79,80,81,82,83,86,90,91,92,121,122,123,144,145,167,168,190,191,212,213,224,225,226,227,228,229,230,231,232,233,234,235,236,237,238,239,240,244,246,251,252,253,254,255,256,257,258,278,279,280,283,284,285,288,298,299,301,303,304,305,306,307,309,310,311,312,314,315,317,318,327,333,337,341,342,353,363,364,366,370,371,372,373,376,380,381,382,383,384,385,386,387,388,389,390,391,392,393,394,395,396,397,398,399,400,401,402,403,404,405,406,407,408,409,410,411,412,413,414,415,422,423,424,425,426,427,429,458,462,472,475,483,484,506,537,538,539,562,563,564,587,588,610,611,612,623,624,626,627,629,630,633,635,739,750,761,772,828,829,831,832,834,836,863,865,876,893,894,901,902,903,905) have mixed types.Specify dtype option on import or set low_memory=False.\n",
      "  if (await self.run_code(code, result,  async_=asy)):\n",
      "/home/shnrndk3/myprojectdir/myprojectenv/lib/python3.7/site-packages/IPython/core/interactiveshell.py:3361: DtypeWarning: Columns (7,8,9,12,13,16,17,18,19,20,24,25,28,38,41,42,44,45,46,51,52,55,56,59,60,61,72,74,75,76,77,78,79,81,82,83,86,90,91,92,101,102,103,104,105,106,107,108,121,122,123,144,145,146,167,168,190,191,212,213,224,225,226,227,228,229,230,231,232,233,234,235,237,238,239,240,244,246,252,254,257,274,280,281,283,284,285,286,287,288,289,290,291,292,293,294,295,296,298,299,303,304,305,306,307,309,310,311,312,314,315,318,319,320,327,333,337,341,342,353,363,364,366,367,370,371,373,376,380,381,382,383,384,385,386,387,388,389,390,391,392,393,394,395,396,397,398,399,400,401,402,403,404,405,406,407,408,409,410,411,412,413,414,415,422,423,424,425,426,427,429,458,472,475,476,483,484,486,487,488,489,490,506,537,538,539,562,563,587,588,589,610,611,623,624,626,627,629,630,633,635,739,828,830,831,832,834,836,863,865,876,893,894,901,903,905) have mixed types.Specify dtype option on import or set low_memory=False.\n",
      "  if (await self.run_code(code, result,  async_=asy)):\n"
     ]
    }
   ],
   "source": [
    "batch_no=1\n",
    "\n",
    "for chunk in pd.read_csv('Data/data.csv',chunksize=300000):\n",
    "  chunk.to_csv('Data/100KChunks/Banner'+str(batch_no)+'.csv',index=False)\n",
    "  batch_no+=1\n",
    "    \n",
    "no_of_chunks = batch_no-1"
   ]
  },
  {
   "cell_type": "code",
   "execution_count": 6,
   "id": "ae5f6e9d",
   "metadata": {},
   "outputs": [
    {
     "data": {
      "text/plain": [
       "11"
      ]
     },
     "execution_count": 6,
     "metadata": {},
     "output_type": "execute_result"
    }
   ],
   "source": [
    "no_of_chunks"
   ]
  },
  {
   "cell_type": "code",
   "execution_count": 7,
   "id": "902f157b",
   "metadata": {},
   "outputs": [],
   "source": [
    "fields = [\n",
    "'data.http.result.response.headers.age.0',\n",
    "'data.http.result.response.headers.accept_ranges.0',\n",
    "'data.http.result.response.headers.access_control_allow_origin.0',\n",
    "'data.http.result.response.headers.allow.0',\n",
    "'data.http.result.response.headers.host.0',\n",
    "#'data.http.result.response.headers.authorization.0',\n",
    "'data.http.result.response.headers.cache_control.0',\n",
    "'data.http.result.response.headers.connection.0',\n",
    "'data.http.result.response.headers.content_disposition.0',\n",
    "'data.http.result.response.headers.content_encoding.0',\n",
    "'data.http.result.response.headers.content_language.0',\n",
    "'data.http.result.response.headers.content_length.0',\n",
    "'data.http.result.response.headers.content_location.0',\n",
    "'data.http.result.response.headers.content_type.0',\n",
    "'data.http.result.response.headers.date.0',\n",
    "'data.http.result.response.headers.etag.0',\n",
    "'data.http.result.response.headers.expires.0',\n",
    "'data.http.result.response.headers.last_modified.0',\n",
    "'data.http.result.response.headers.location.0',\n",
    "'data.http.result.response.headers.retry_after.0',\n",
    "'data.http.result.response.headers.server.0',\n",
    "'data.http.result.response.headers.set_cookie.0',\n",
    "'data.http.result.response.transfer_encoding.0',\n",
    "'data.http.result.response.headers.vary.0',\n",
    "'data.http.result.response.headers.via.0',\n",
    "'data.http.result.response.headers.www_authenticate.0',\n",
    "'data.http.result.response.headers.strict_transport_security.0',\n",
    "'data.http.result.response.headers.x_powered_by.0',\n",
    "]\n",
    "\n",
    "fieldcounts = [0] * len(fields)\n",
    "fieldpercentages = [0] * len(fields)"
   ]
  },
  {
   "cell_type": "code",
   "execution_count": null,
   "id": "807d148b",
   "metadata": {},
   "outputs": [],
   "source": [
    "c[['data.http.result.response.headers.authorization.0']]"
   ]
  },
  {
   "cell_type": "code",
   "execution_count": 8,
   "id": "7862761a",
   "metadata": {},
   "outputs": [
    {
     "name": "stdout",
     "output_type": "stream",
     "text": [
      "chunk no 1\n"
     ]
    },
    {
     "name": "stderr",
     "output_type": "stream",
     "text": [
      "/home/shnrndk3/myprojectdir/myprojectenv/lib/python3.7/site-packages/IPython/core/interactiveshell.py:3441: DtypeWarning: Columns (6,7,8,9,10,12,13,15,16,17,18,19,20,24,25,27,28,29,33,38,41,42,44,45,46,51,52,53,54,55,56,59,61,62,72,74,75,76,77,78,79,80,81,82,83,86,87,88,89,90,91,92,100,121,122,144,145,167,168,169,190,191,212,213,224,225,226,227,228,229,230,231,232,233,234,235,238,239,240,241,242,243,246,247,248,249,252,253,254,255,256,257,258,259,260,261,274,278,279,280,283,284,285,298,299,301,303,304,305,306,307,310,311,312,314,315,318,327,333,336,337,341,342,353,354,355,359,363,364,366,370,371,373,376,380,381,382,383,384,385,386,387,388,389,390,391,392,393,394,395,396,397,398,399,400,401,402,403,404,405,406,407,408,409,410,411,412,413,414,415,422,423,424,425,426,427,428,429,458,462,463,464,465,466,467,468,472,475,476,477,478,479,506,537,538,539,562,563,564,587,588,589,610,611,623,624,626,627,629,630,633,635,659,660,661,662,663,664,665,666,668,671,672,673,674,739,750,761,772,783,831,832,834,836,847,856,857,865,876,885,886,893,894,895,896,897,898,899,900,901,902,903,905,916,925,926) have mixed types.Specify dtype option on import or set low_memory=False.\n",
      "  exec(code_obj, self.user_global_ns, self.user_ns)\n"
     ]
    },
    {
     "name": "stdout",
     "output_type": "stream",
     "text": [
      "Total IP count: 299999\n",
      "data.http.result.response.headers.age.0 204\n",
      "data.http.result.response.headers.accept_ranges.0 25827\n",
      "data.http.result.response.headers.access_control_allow_origin.0 1265\n",
      "data.http.result.response.headers.allow.0 87\n",
      "data.http.result.response.headers.host.0 9\n",
      "data.http.result.response.headers.cache_control.0 59740\n",
      "data.http.result.response.headers.connection.0 172173\n",
      "data.http.result.response.headers.content_disposition.0 49\n",
      "data.http.result.response.headers.content_encoding.0 44\n",
      "data.http.result.response.headers.content_language.0 947\n",
      "data.http.result.response.headers.content_length.0 189675\n",
      "data.http.result.response.headers.content_location.0 228\n",
      "data.http.result.response.headers.content_type.0 270883\n",
      "data.http.result.response.headers.date.0 264400\n",
      "data.http.result.response.headers.etag.0 39990\n",
      "data.http.result.response.headers.expires.0 143308\n",
      "data.http.result.response.headers.last_modified.0 44441\n",
      "data.http.result.response.headers.location.0 18360\n",
      "data.http.result.response.headers.retry_after.0 160\n",
      "data.http.result.response.headers.server.0 259406\n",
      "data.http.result.response.headers.set_cookie.0 7048\n",
      "data.http.result.response.transfer_encoding.0 66878\n",
      "data.http.result.response.headers.vary.0 70290\n",
      "data.http.result.response.headers.via.0 4998\n",
      "data.http.result.response.headers.www_authenticate.0 2281\n",
      "data.http.result.response.headers.strict_transport_security.0 1741\n",
      "data.http.result.response.headers.x_powered_by.0 16071\n",
      "\n",
      "chunk no 2\n"
     ]
    },
    {
     "name": "stderr",
     "output_type": "stream",
     "text": [
      "/home/shnrndk3/myprojectdir/myprojectenv/lib/python3.7/site-packages/IPython/core/interactiveshell.py:3441: DtypeWarning: Columns (6,7,8,9,10,13,16,17,18,19,20,22,23,24,25,28,33,38,40,41,42,44,45,46,51,53,54,55,56,59,60,61,62,63,64,72,74,75,76,77,78,79,80,81,82,83,86,90,91,92,100,121,122,123,144,145,146,167,168,169,190,191,212,213,224,225,226,227,228,229,230,231,232,233,234,235,237,238,239,240,246,251,252,253,254,255,256,257,258,274,278,279,280,281,283,284,285,298,299,300,301,303,304,305,306,307,309,310,311,312,314,315,317,327,328,330,333,337,341,342,353,354,355,356,357,358,359,363,364,366,370,371,373,376,377,378,380,381,382,383,384,385,386,387,388,389,390,391,392,393,394,395,396,397,398,399,400,401,402,403,404,405,406,407,408,409,410,411,412,413,414,415,416,417,418,419,420,421,422,423,424,425,426,427,428,429,458,462,463,464,465,466,472,475,476,477,478,479,480,481,483,484,486,488,489,490,491,492,493,494,495,496,497,498,499,500,501,502,503,506,517,518,519,520,521,523,524,525,526,527,528,529,530,531,532,533,534,535,537,538,539,540,541,542,543,544,545,546,548,549,550,551,552,553,554,555,556,557,558,559,560,561,562,563,564,567,568,569,571,573,574,575,576,577,578,579,580,581,582,583,584,585,586,587,588,589,590,591,592,593,594,596,597,598,599,600,601,602,603,604,605,606,607,608,609,610,611,613,614,615,616,617,619,620,623,624,625,626,627,629,630,632,633,635,659,660,661,662,663,664,665,666,668,671,672,673,674,739,750,761,772,828,829,831,832,834,836,863,865,893,894,901,902,903,904,905,916) have mixed types.Specify dtype option on import or set low_memory=False.\n",
      "  exec(code_obj, self.user_global_ns, self.user_ns)\n"
     ]
    },
    {
     "name": "stdout",
     "output_type": "stream",
     "text": [
      "Total IP count: 599999\n",
      "data.http.result.response.headers.age.0 390\n",
      "data.http.result.response.headers.accept_ranges.0 51452\n",
      "data.http.result.response.headers.access_control_allow_origin.0 2557\n",
      "data.http.result.response.headers.allow.0 171\n",
      "data.http.result.response.headers.host.0 18\n",
      "data.http.result.response.headers.cache_control.0 118417\n",
      "data.http.result.response.headers.connection.0 343442\n",
      "data.http.result.response.headers.content_disposition.0 108\n",
      "data.http.result.response.headers.content_encoding.0 89\n",
      "data.http.result.response.headers.content_language.0 1845\n",
      "data.http.result.response.headers.content_length.0 378164\n",
      "data.http.result.response.headers.content_location.0 448\n",
      "data.http.result.response.headers.content_type.0 539760\n",
      "data.http.result.response.headers.date.0 527036\n",
      "data.http.result.response.headers.etag.0 79841\n",
      "data.http.result.response.headers.expires.0 285414\n",
      "data.http.result.response.headers.last_modified.0 88664\n",
      "data.http.result.response.headers.location.0 36831\n",
      "data.http.result.response.headers.retry_after.0 306\n",
      "data.http.result.response.headers.server.0 517159\n",
      "data.http.result.response.headers.set_cookie.0 13821\n",
      "data.http.result.response.transfer_encoding.0 132897\n",
      "data.http.result.response.headers.vary.0 139923\n",
      "data.http.result.response.headers.via.0 9750\n",
      "data.http.result.response.headers.www_authenticate.0 4570\n",
      "data.http.result.response.headers.strict_transport_security.0 3479\n",
      "data.http.result.response.headers.x_powered_by.0 31773\n",
      "\n",
      "chunk no 3\n"
     ]
    },
    {
     "name": "stderr",
     "output_type": "stream",
     "text": [
      "/home/shnrndk3/myprojectdir/myprojectenv/lib/python3.7/site-packages/IPython/core/interactiveshell.py:3441: DtypeWarning: Columns (6,7,8,9,10,12,13,14,16,17,18,19,20,22,24,25,27,28,29,30,31,32,33,40,41,42,44,45,46,47,48,51,54,55,56,57,59,60,61,62,63,64,72,74,75,76,77,78,79,80,81,82,83,84,85,86,90,91,92,93,100,104,121,122,123,144,145,146,167,168,169,181,182,190,191,195,196,212,213,224,225,226,227,228,229,230,231,232,233,235,237,238,239,240,246,252,254,256,257,258,274,278,279,280,283,284,285,298,299,300,303,304,305,306,307,309,310,311,312,314,315,317,318,319,320,321,327,330,333,337,340,341,342,353,354,355,356,357,363,364,366,370,371,373,376,377,380,381,382,383,384,385,386,387,388,389,390,391,392,393,394,395,396,397,398,399,400,401,402,403,404,405,406,407,408,409,410,411,412,413,414,415,422,423,424,425,426,427,428,429,458,462,463,464,465,466,472,483,484,537,538,539,555,562,563,564,587,588,589,610,611,623,624,626,627,629,630,633,635,659,660,661,662,663,664,665,666,668,672,673,674,739,750,761,772,783,794,805,828,829,830,831,832,834,836,863,865,876,885,893,894,901,903,905) have mixed types.Specify dtype option on import or set low_memory=False.\n",
      "  exec(code_obj, self.user_global_ns, self.user_ns)\n"
     ]
    },
    {
     "name": "stdout",
     "output_type": "stream",
     "text": [
      "Total IP count: 899998\n",
      "data.http.result.response.headers.age.0 578\n",
      "data.http.result.response.headers.accept_ranges.0 77260\n",
      "data.http.result.response.headers.access_control_allow_origin.0 3759\n",
      "data.http.result.response.headers.allow.0 274\n",
      "data.http.result.response.headers.host.0 22\n",
      "data.http.result.response.headers.cache_control.0 177148\n",
      "data.http.result.response.headers.connection.0 515026\n",
      "data.http.result.response.headers.content_disposition.0 173\n",
      "data.http.result.response.headers.content_encoding.0 132\n",
      "data.http.result.response.headers.content_language.0 2813\n",
      "data.http.result.response.headers.content_length.0 567078\n",
      "data.http.result.response.headers.content_location.0 631\n",
      "data.http.result.response.headers.content_type.0 808730\n",
      "data.http.result.response.headers.date.0 789748\n",
      "data.http.result.response.headers.etag.0 119651\n",
      "data.http.result.response.headers.expires.0 428140\n",
      "data.http.result.response.headers.last_modified.0 133061\n",
      "data.http.result.response.headers.location.0 55295\n",
      "data.http.result.response.headers.retry_after.0 454\n",
      "data.http.result.response.headers.server.0 774741\n",
      "data.http.result.response.headers.set_cookie.0 20528\n",
      "data.http.result.response.transfer_encoding.0 198877\n",
      "data.http.result.response.headers.vary.0 209024\n",
      "data.http.result.response.headers.via.0 14705\n",
      "data.http.result.response.headers.www_authenticate.0 6851\n",
      "data.http.result.response.headers.strict_transport_security.0 5276\n",
      "data.http.result.response.headers.x_powered_by.0 47456\n",
      "\n",
      "chunk no 4\n"
     ]
    },
    {
     "name": "stderr",
     "output_type": "stream",
     "text": [
      "/home/shnrndk3/myprojectdir/myprojectenv/lib/python3.7/site-packages/IPython/core/interactiveshell.py:3441: DtypeWarning: Columns (5,6,7,8,9,12,13,16,17,18,19,20,24,25,27,28,29,38,41,45,46,51,55,56,59,61,62,63,64,65,72,74,75,76,77,78,79,80,81,82,83,86,90,91,92,101,102,103,104,105,106,107,108,109,110,111,112,113,114,115,116,117,118,119,120,121,122,123,124,125,126,127,128,129,144,145,146,167,168,190,191,212,213,224,225,226,227,228,229,230,231,232,235,237,238,239,240,246,252,254,256,257,258,274,278,279,280,281,283,284,285,288,298,299,301,303,304,305,306,307,309,310,311,312,314,315,316,318,327,330,333,337,341,342,353,354,355,356,357,358,359,363,364,366,370,371,373,376,380,381,382,383,384,385,386,387,388,389,390,391,392,393,394,395,396,397,398,399,400,401,402,403,404,405,406,407,408,409,410,411,412,413,414,415,422,423,424,425,426,427,428,429,430,431,432,433,434,435,436,437,438,439,440,441,442,443,444,445,446,447,448,449,450,451,452,453,454,455,458,459,460,461,462,463,464,465,466,467,468,469,472,475,476,477,478,479,483,484,486,487,488,489,490,491,492,493,494,495,496,497,498,499,500,501,502,503,506,507,508,509,510,511,512,513,514,515,516,517,518,519,520,521,522,523,524,526,527,528,530,532,534,536,537,538,539,543,545,562,563,564,587,588,610,611,612,623,624,626,627,629,630,631,633,635,739,750,830,831,832,833,834,836,837,838,839,840,841,842,843,844,845,846,847,848,849,850,851,852,853,854,855,856,857,858,859,860,861,862,863,865,866,867,868,869,870,871,872,873,874,875,876,877,878,879,880,881,882,883,884,885,886,887,888,889,890,891,893,894,901,903,905,906,907,908,909,910,911,912,913,914,915,916,917,918,919,920,921,922,923,924,925,926,927,928,929,930,931) have mixed types.Specify dtype option on import or set low_memory=False.\n",
      "  exec(code_obj, self.user_global_ns, self.user_ns)\n"
     ]
    },
    {
     "name": "stdout",
     "output_type": "stream",
     "text": [
      "Total IP count: 1199998\n",
      "data.http.result.response.headers.age.0 776\n",
      "data.http.result.response.headers.accept_ranges.0 103320\n",
      "data.http.result.response.headers.access_control_allow_origin.0 5016\n",
      "data.http.result.response.headers.allow.0 354\n",
      "data.http.result.response.headers.host.0 29\n",
      "data.http.result.response.headers.cache_control.0 237233\n",
      "data.http.result.response.headers.connection.0 688062\n",
      "data.http.result.response.headers.content_disposition.0 227\n",
      "data.http.result.response.headers.content_encoding.0 166\n",
      "data.http.result.response.headers.content_language.0 3702\n",
      "data.http.result.response.headers.content_length.0 758176\n",
      "data.http.result.response.headers.content_location.0 860\n",
      "data.http.result.response.headers.content_type.0 1080839\n",
      "data.http.result.response.headers.date.0 1056138\n",
      "data.http.result.response.headers.etag.0 160001\n",
      "data.http.result.response.headers.expires.0 573127\n",
      "data.http.result.response.headers.last_modified.0 178011\n",
      "data.http.result.response.headers.location.0 73904\n",
      "data.http.result.response.headers.retry_after.0 591\n",
      "data.http.result.response.headers.server.0 1036118\n",
      "data.http.result.response.headers.set_cookie.0 27417\n",
      "data.http.result.response.transfer_encoding.0 266130\n",
      "data.http.result.response.headers.vary.0 279614\n",
      "data.http.result.response.headers.via.0 19640\n",
      "data.http.result.response.headers.www_authenticate.0 9132\n",
      "data.http.result.response.headers.strict_transport_security.0 7104\n",
      "data.http.result.response.headers.x_powered_by.0 63328\n",
      "\n",
      "chunk no 5\n"
     ]
    },
    {
     "name": "stderr",
     "output_type": "stream",
     "text": [
      "/home/shnrndk3/myprojectdir/myprojectenv/lib/python3.7/site-packages/IPython/core/interactiveshell.py:3441: DtypeWarning: Columns (7,8,9,12,13,14,16,17,18,19,20,24,25,28,29,30,31,32,33,34,35,36,38,41,42,45,46,47,48,51,54,55,56,57,59,60,61,62,63,64,65,66,67,68,69,70,71,72,73,74,75,76,77,78,79,80,81,82,83,84,85,86,90,91,92,93,94,95,96,97,98,99,100,101,102,103,104,105,106,107,108,109,110,111,112,113,114,115,116,117,118,119,120,121,122,123,124,125,126,127,128,129,130,131,132,133,134,135,136,137,138,139,140,141,142,143,144,145,146,147,148,149,150,151,152,153,154,155,156,157,158,159,160,161,162,163,164,165,166,167,168,169,170,171,172,173,174,175,176,177,178,179,180,181,182,183,184,185,186,187,188,189,190,191,192,193,194,195,196,197,198,199,200,201,202,203,204,205,206,207,208,209,210,211,212,213,214,215,216,217,218,219,220,221,222,223,224,225,226,227,228,229,230,231,232,233,234,235,237,238,239,240,241,244,246,247,252,254,255,256,257,258,259,278,279,280,283,284,285,298,299,300,301,303,304,305,306,307,309,310,311,312,314,315,316,318,319,320,321,322,323,324,325,327,333,337,341,342,353,363,364,366,370,371,373,376,380,381,382,383,384,385,386,387,388,389,390,391,392,393,394,395,396,397,398,399,400,401,402,403,404,405,406,407,408,409,410,411,412,413,414,415,422,423,424,425,426,427,428,429,458,462,463,464,465,466,472,475,476,477,478,479,480,481,482,483,484,486,487,488,489,490,491,492,493,494,495,496,497,498,499,500,501,502,503,506,509,510,511,512,513,514,515,517,518,519,520,521,522,523,524,525,526,527,528,529,530,531,532,533,534,535,536,537,538,539,542,543,544,545,546,547,548,549,550,551,552,553,554,555,556,557,558,559,560,561,562,563,564,567,568,569,570,571,572,573,574,575,576,577,578,579,580,581,582,583,584,585,586,587,588,589,590,591,592,593,594,595,596,597,598,599,600,601,602,603,604,605,606,607,608,609,610,611,613,614,615,616,617,618,619,620,621,622,623,624,626,627,629,630,631,633,635,659,660,661,662,663,664,665,666,671,672,673,674,739,750,761,772,830,831,832,833,834,836,847,856,857,858,859,860,861,863,865,876,885,886,887,888,889,890,893,894,895,900,901,902,903,905,916,925,926,927,928,929,930) have mixed types.Specify dtype option on import or set low_memory=False.\n",
      "  exec(code_obj, self.user_global_ns, self.user_ns)\n"
     ]
    },
    {
     "name": "stdout",
     "output_type": "stream",
     "text": [
      "Total IP count: 1499998\n",
      "data.http.result.response.headers.age.0 933\n",
      "data.http.result.response.headers.accept_ranges.0 128806\n",
      "data.http.result.response.headers.access_control_allow_origin.0 6309\n",
      "data.http.result.response.headers.allow.0 450\n",
      "data.http.result.response.headers.host.0 34\n",
      "data.http.result.response.headers.cache_control.0 295740\n",
      "data.http.result.response.headers.connection.0 857508\n",
      "data.http.result.response.headers.content_disposition.0 285\n",
      "data.http.result.response.headers.content_encoding.0 208\n",
      "data.http.result.response.headers.content_language.0 4550\n",
      "data.http.result.response.headers.content_length.0 945825\n",
      "data.http.result.response.headers.content_location.0 1066\n",
      "data.http.result.response.headers.content_type.0 1347031\n",
      "data.http.result.response.headers.date.0 1317216\n",
      "data.http.result.response.headers.etag.0 199608\n",
      "data.http.result.response.headers.expires.0 715093\n",
      "data.http.result.response.headers.last_modified.0 222067\n",
      "data.http.result.response.headers.location.0 92290\n",
      "data.http.result.response.headers.retry_after.0 741\n",
      "data.http.result.response.headers.server.0 1292456\n",
      "data.http.result.response.headers.set_cookie.0 34224\n",
      "data.http.result.response.transfer_encoding.0 331852\n",
      "data.http.result.response.headers.vary.0 348449\n",
      "data.http.result.response.headers.via.0 24431\n",
      "data.http.result.response.headers.www_authenticate.0 11404\n",
      "data.http.result.response.headers.strict_transport_security.0 8902\n",
      "data.http.result.response.headers.x_powered_by.0 79056\n",
      "\n",
      "chunk no 6\n"
     ]
    },
    {
     "name": "stderr",
     "output_type": "stream",
     "text": [
      "/home/shnrndk3/myprojectdir/myprojectenv/lib/python3.7/site-packages/IPython/core/interactiveshell.py:3441: DtypeWarning: Columns (6,7,8,9,10,12,13,14,16,17,18,19,20,24,25,27,28,29,30,31,32,38,41,42,45,46,51,52,54,55,56,57,59,60,61,62,63,64,65,66,67,68,69,70,71,72,73,74,75,76,77,78,79,80,81,82,85,86,90,91,92,100,104,121,122,144,145,146,167,168,169,190,191,212,213,224,225,226,230,231,232,233,234,235,237,238,239,240,241,244,245,246,247,248,249,250,251,252,254,256,257,258,259,274,278,280,281,283,284,285,298,299,300,303,304,305,306,307,309,310,311,312,314,315,317,318,319,320,321,327,330,333,337,338,341,342,353,354,363,364,366,369,370,371,373,376,379,380,381,382,383,384,385,386,387,388,389,390,391,392,393,394,395,396,397,398,399,400,401,402,403,404,405,406,407,408,409,410,411,412,413,414,415,416,417,418,419,422,423,424,425,426,427,428,429,458,462,463,464,472,475,476,483,484,486,487,488,489,490,491,492,494,495,506,537,538,539,540,541,562,563,564,587,588,589,610,611,612,623,624,626,627,629,630,633,635,636,637,638,639,640,641,642,643,644,645,646,647,648,649,650,651,652,653,654,655,656,657,658,659,660,661,662,663,664,665,666,667,668,669,670,671,672,673,674,675,676,677,678,679,680,681,682,683,684,685,686,687,688,689,690,691,692,693,694,695,696,697,698,699,700,701,702,703,704,705,706,707,708,709,710,711,712,713,714,715,716,717,718,719,720,721,722,723,724,725,726,727,728,729,730,731,732,733,734,735,736,737,738,739,740,741,742,743,744,745,746,747,748,749,750,751,752,753,754,755,756,757,758,759,760,761,762,763,764,765,766,767,768,769,770,771,772,773,774,775,776,777,778,779,780,781,782,783,784,785,786,787,788,789,790,791,792,793,794,795,796,797,798,799,800,801,802,803,804,805,806,807,808,809,810,811,812,813,814,815,816,817,818,819,820,821,822,823,824,825,826,828,829,831,832,834,836,847,856,857,863,865,876,885,886,887,892,893,894,900,901,903,905,916,925,926) have mixed types.Specify dtype option on import or set low_memory=False.\n",
      "  exec(code_obj, self.user_global_ns, self.user_ns)\n"
     ]
    },
    {
     "name": "stdout",
     "output_type": "stream",
     "text": [
      "Total IP count: 1799997\n",
      "data.http.result.response.headers.age.0 1100\n",
      "data.http.result.response.headers.accept_ranges.0 154400\n",
      "data.http.result.response.headers.access_control_allow_origin.0 7595\n",
      "data.http.result.response.headers.allow.0 540\n",
      "data.http.result.response.headers.host.0 38\n",
      "data.http.result.response.headers.cache_control.0 354827\n",
      "data.http.result.response.headers.connection.0 1027890\n",
      "data.http.result.response.headers.content_disposition.0 342\n",
      "data.http.result.response.headers.content_encoding.0 242\n",
      "data.http.result.response.headers.content_language.0 5474\n",
      "data.http.result.response.headers.content_length.0 1134673\n",
      "data.http.result.response.headers.content_location.0 1283\n",
      "data.http.result.response.headers.content_type.0 1615051\n",
      "data.http.result.response.headers.date.0 1579879\n",
      "data.http.result.response.headers.etag.0 239077\n",
      "data.http.result.response.headers.expires.0 857982\n",
      "data.http.result.response.headers.last_modified.0 266060\n",
      "data.http.result.response.headers.location.0 110501\n",
      "data.http.result.response.headers.retry_after.0 896\n",
      "data.http.result.response.headers.server.0 1550174\n",
      "data.http.result.response.headers.set_cookie.0 41111\n",
      "data.http.result.response.transfer_encoding.0 397881\n",
      "data.http.result.response.headers.vary.0 417844\n",
      "data.http.result.response.headers.via.0 29356\n",
      "data.http.result.response.headers.www_authenticate.0 13828\n",
      "data.http.result.response.headers.strict_transport_security.0 10675\n",
      "data.http.result.response.headers.x_powered_by.0 94807\n",
      "\n",
      "chunk no 7\n"
     ]
    },
    {
     "name": "stderr",
     "output_type": "stream",
     "text": [
      "/home/shnrndk3/myprojectdir/myprojectenv/lib/python3.7/site-packages/IPython/core/interactiveshell.py:3441: DtypeWarning: Columns (5,6,7,8,9,12,13,14,16,17,18,19,20,24,25,27,28,29,41,42,43,45,46,50,51,53,54,56,57,59,60,61,62,63,72,74,75,76,77,78,79,80,81,82,83,86,90,91,92,100,104,121,122,123,144,145,167,168,169,181,182,190,191,212,213,224,225,226,227,228,229,230,231,232,233,234,235,236,237,238,239,240,241,246,247,252,253,254,256,257,258,278,280,283,284,285,298,299,300,303,304,305,306,307,309,310,311,312,314,315,318,327,333,336,337,341,342,343,344,345,346,347,348,349,350,351,352,353,354,355,356,357,358,359,360,362,363,364,366,370,373,376,380,381,382,383,384,385,386,387,388,389,390,391,392,393,394,395,396,397,398,399,400,401,402,403,404,405,406,407,408,409,410,411,412,413,414,415,422,423,424,425,426,427,429,458,462,463,464,465,466,467,468,472,475,476,477,478,479,484,487,489,491,493,495,497,499,501,503,506,509,518,520,522,524,526,528,530,532,534,537,538,539,560,562,563,564,587,588,589,610,611,612,623,624,625,626,627,628,629,630,631,633,635,659,660,661,662,663,664,665,666,668,672,673,674,739,750,761,772,828,829,831,832,834,836,847,863,865,876,893,894,901,903,905) have mixed types.Specify dtype option on import or set low_memory=False.\n",
      "  exec(code_obj, self.user_global_ns, self.user_ns)\n"
     ]
    },
    {
     "name": "stdout",
     "output_type": "stream",
     "text": [
      "Total IP count: 2099995\n",
      "data.http.result.response.headers.age.0 1279\n",
      "data.http.result.response.headers.accept_ranges.0 180376\n",
      "data.http.result.response.headers.access_control_allow_origin.0 8855\n",
      "data.http.result.response.headers.allow.0 633\n",
      "data.http.result.response.headers.host.0 43\n",
      "data.http.result.response.headers.cache_control.0 415117\n",
      "data.http.result.response.headers.connection.0 1200374\n",
      "data.http.result.response.headers.content_disposition.0 399\n",
      "data.http.result.response.headers.content_encoding.0 282\n",
      "data.http.result.response.headers.content_language.0 6359\n",
      "data.http.result.response.headers.content_length.0 1325971\n",
      "data.http.result.response.headers.content_location.0 1479\n",
      "data.http.result.response.headers.content_type.0 1886978\n",
      "data.http.result.response.headers.date.0 1846124\n",
      "data.http.result.response.headers.etag.0 279373\n",
      "data.http.result.response.headers.expires.0 1002075\n",
      "data.http.result.response.headers.last_modified.0 310993\n",
      "data.http.result.response.headers.location.0 129272\n",
      "data.http.result.response.headers.retry_after.0 1047\n",
      "data.http.result.response.headers.server.0 1811579\n",
      "data.http.result.response.headers.set_cookie.0 48287\n",
      "data.http.result.response.transfer_encoding.0 465068\n",
      "data.http.result.response.headers.vary.0 488267\n",
      "data.http.result.response.headers.via.0 34356\n",
      "data.http.result.response.headers.www_authenticate.0 16160\n",
      "data.http.result.response.headers.strict_transport_security.0 12462\n",
      "data.http.result.response.headers.x_powered_by.0 110823\n",
      "\n",
      "chunk no 8\n"
     ]
    },
    {
     "name": "stderr",
     "output_type": "stream",
     "text": [
      "/home/shnrndk3/myprojectdir/myprojectenv/lib/python3.7/site-packages/IPython/core/interactiveshell.py:3441: DtypeWarning: Columns (6,7,8,9,10,12,13,14,16,17,18,19,20,22,24,25,28,29,38,41,44,45,46,51,54,55,56,59,61,72,74,75,76,77,78,79,81,82,83,86,87,90,91,92,101,102,103,104,105,106,107,108,121,122,123,144,145,146,167,168,169,190,191,212,213,224,225,226,227,228,229,230,231,232,233,234,235,237,238,239,240,244,246,252,253,254,256,257,258,274,278,280,283,284,285,298,299,300,303,304,305,306,307,309,310,311,312,314,315,316,318,327,330,333,334,335,336,337,341,342,353,363,364,366,367,368,369,370,371,372,373,376,380,381,382,383,384,385,386,387,388,389,390,391,392,393,394,395,396,397,398,399,400,401,402,403,404,405,406,407,408,409,410,411,412,413,414,415,422,423,424,425,426,427,429,458,459,460,462,463,464,465,466,467,468,469,472,473,474,475,476,477,478,479,480,481,482,483,484,485,486,487,488,489,490,491,492,494,495,496,497,498,499,500,501,502,503,506,509,510,517,518,519,520,521,522,523,524,525,526,527,528,529,530,531,533,534,535,536,537,538,539,540,542,543,544,546,547,548,549,550,551,552,553,554,555,556,557,558,560,561,562,563,564,565,566,567,568,569,570,571,572,573,574,575,576,577,578,579,580,581,582,583,584,585,587,588,589,590,592,593,594,595,596,597,598,600,601,602,603,604,605,606,607,608,609,610,611,613,614,615,616,617,619,620,623,624,626,627,628,629,630,633,635,739,750,761,772,828,830,831,832,834,836,863,865,876,893,894,901,903,905,944) have mixed types.Specify dtype option on import or set low_memory=False.\n",
      "  exec(code_obj, self.user_global_ns, self.user_ns)\n"
     ]
    },
    {
     "name": "stdout",
     "output_type": "stream",
     "text": [
      "Total IP count: 2399995\n",
      "data.http.result.response.headers.age.0 1476\n",
      "data.http.result.response.headers.accept_ranges.0 206428\n",
      "data.http.result.response.headers.access_control_allow_origin.0 10132\n",
      "data.http.result.response.headers.allow.0 725\n",
      "data.http.result.response.headers.host.0 56\n",
      "data.http.result.response.headers.cache_control.0 475523\n",
      "data.http.result.response.headers.connection.0 1374730\n",
      "data.http.result.response.headers.content_disposition.0 464\n",
      "data.http.result.response.headers.content_encoding.0 314\n",
      "data.http.result.response.headers.content_language.0 7286\n",
      "data.http.result.response.headers.content_length.0 1518355\n",
      "data.http.result.response.headers.content_location.0 1681\n",
      "data.http.result.response.headers.content_type.0 2161008\n",
      "data.http.result.response.headers.date.0 2114090\n",
      "data.http.result.response.headers.etag.0 319752\n",
      "data.http.result.response.headers.expires.0 1147970\n",
      "data.http.result.response.headers.last_modified.0 355858\n",
      "data.http.result.response.headers.location.0 148161\n",
      "data.http.result.response.headers.retry_after.0 1190\n",
      "data.http.result.response.headers.server.0 2074505\n",
      "data.http.result.response.headers.set_cookie.0 55368\n",
      "data.http.result.response.transfer_encoding.0 532565\n",
      "data.http.result.response.headers.vary.0 559229\n",
      "data.http.result.response.headers.via.0 39359\n",
      "data.http.result.response.headers.www_authenticate.0 18553\n",
      "data.http.result.response.headers.strict_transport_security.0 14395\n",
      "data.http.result.response.headers.x_powered_by.0 127064\n",
      "\n",
      "chunk no 9\n"
     ]
    },
    {
     "name": "stderr",
     "output_type": "stream",
     "text": [
      "/home/shnrndk3/myprojectdir/myprojectenv/lib/python3.7/site-packages/IPython/core/interactiveshell.py:3441: DtypeWarning: Columns (6,7,8,9,13,16,17,18,19,20,22,24,25,27,28,38,41,42,43,45,46,51,53,54,56,59,61,72,74,75,76,77,78,81,82,85,86,90,91,92,121,122,123,144,145,167,168,169,190,191,212,213,224,225,226,227,228,229,230,231,232,235,237,238,239,240,246,247,252,253,254,256,257,258,274,278,280,283,284,285,298,299,303,304,305,306,307,309,310,311,312,314,315,316,318,327,333,337,341,342,353,354,363,364,366,370,371,373,376,380,381,382,383,384,385,386,387,388,389,390,391,392,393,394,395,396,397,398,399,400,401,402,403,404,405,406,407,408,409,410,411,412,413,414,415,422,423,424,425,426,427,428,429,430,431,432,433,434,435,436,437,439,443,444,445,458,462,463,472,483,484,486,487,488,489,490,491,492,493,494,495,496,497,498,499,500,506,537,538,539,562,563,564,587,588,589,610,611,612,623,624,625,626,627,628,629,630,631,633,635,739,750,761,772,829,831,832,834,836,865,876,893,894,901,902,903,905) have mixed types.Specify dtype option on import or set low_memory=False.\n",
      "  exec(code_obj, self.user_global_ns, self.user_ns)\n"
     ]
    },
    {
     "name": "stdout",
     "output_type": "stream",
     "text": [
      "Total IP count: 2699995\n",
      "data.http.result.response.headers.age.0 1665\n",
      "data.http.result.response.headers.accept_ranges.0 232013\n",
      "data.http.result.response.headers.access_control_allow_origin.0 11377\n",
      "data.http.result.response.headers.allow.0 805\n",
      "data.http.result.response.headers.host.0 61\n",
      "data.http.result.response.headers.cache_control.0 534162\n",
      "data.http.result.response.headers.connection.0 1545254\n",
      "data.http.result.response.headers.content_disposition.0 521\n",
      "data.http.result.response.headers.content_encoding.0 351\n",
      "data.http.result.response.headers.content_language.0 8216\n",
      "data.http.result.response.headers.content_length.0 1706426\n",
      "data.http.result.response.headers.content_location.0 1911\n",
      "data.http.result.response.headers.content_type.0 2428505\n",
      "data.http.result.response.headers.date.0 2375921\n",
      "data.http.result.response.headers.etag.0 359462\n",
      "data.http.result.response.headers.expires.0 1290411\n",
      "data.http.result.response.headers.last_modified.0 400019\n",
      "data.http.result.response.headers.location.0 166467\n",
      "data.http.result.response.headers.retry_after.0 1346\n",
      "data.http.result.response.headers.server.0 2331366\n",
      "data.http.result.response.headers.set_cookie.0 62030\n",
      "data.http.result.response.transfer_encoding.0 598552\n",
      "data.http.result.response.headers.vary.0 628537\n",
      "data.http.result.response.headers.via.0 44271\n",
      "data.http.result.response.headers.www_authenticate.0 20787\n",
      "data.http.result.response.headers.strict_transport_security.0 16138\n",
      "data.http.result.response.headers.x_powered_by.0 142737\n",
      "\n",
      "chunk no 10\n"
     ]
    },
    {
     "name": "stderr",
     "output_type": "stream",
     "text": [
      "/home/shnrndk3/myprojectdir/myprojectenv/lib/python3.7/site-packages/IPython/core/interactiveshell.py:3441: DtypeWarning: Columns (6,7,8,9,10,12,13,16,17,18,19,20,22,24,25,27,28,29,38,41,42,43,45,46,47,48,51,53,54,55,56,57,59,60,61,62,63,72,74,75,76,77,78,79,80,81,82,83,86,90,91,92,100,104,121,122,123,144,145,167,168,190,191,212,213,224,225,226,227,228,229,230,231,232,233,234,235,236,237,238,239,240,244,246,251,252,253,254,255,256,257,258,278,279,280,283,284,285,288,298,299,301,303,304,305,306,307,309,310,311,312,314,315,317,318,327,333,337,341,342,353,363,364,366,370,371,372,373,376,380,381,382,383,384,385,386,387,388,389,390,391,392,393,394,395,396,397,398,399,400,401,402,403,404,405,406,407,408,409,410,411,412,413,414,415,422,423,424,425,426,427,429,458,462,472,475,483,484,506,537,538,539,562,563,564,587,588,610,611,612,623,624,626,627,629,630,633,635,659,660,661,662,663,664,665,666,668,672,673,674,739,750,761,772,828,829,831,832,834,836,863,865,876,893,894,901,902,903,905) have mixed types.Specify dtype option on import or set low_memory=False.\n",
      "  exec(code_obj, self.user_global_ns, self.user_ns)\n"
     ]
    },
    {
     "name": "stdout",
     "output_type": "stream",
     "text": [
      "Total IP count: 2999995\n",
      "data.http.result.response.headers.age.0 1862\n",
      "data.http.result.response.headers.accept_ranges.0 258171\n",
      "data.http.result.response.headers.access_control_allow_origin.0 12673\n",
      "data.http.result.response.headers.allow.0 895\n",
      "data.http.result.response.headers.host.0 67\n",
      "data.http.result.response.headers.cache_control.0 593587\n",
      "data.http.result.response.headers.connection.0 1718214\n",
      "data.http.result.response.headers.content_disposition.0 577\n",
      "data.http.result.response.headers.content_encoding.0 388\n",
      "data.http.result.response.headers.content_language.0 9106\n",
      "data.http.result.response.headers.content_length.0 1896819\n",
      "data.http.result.response.headers.content_location.0 2155\n",
      "data.http.result.response.headers.content_type.0 2699963\n",
      "data.http.result.response.headers.date.0 2641455\n",
      "data.http.result.response.headers.etag.0 399931\n",
      "data.http.result.response.headers.expires.0 1434230\n",
      "data.http.result.response.headers.last_modified.0 445035\n",
      "data.http.result.response.headers.location.0 185037\n",
      "data.http.result.response.headers.retry_after.0 1454\n",
      "data.http.result.response.headers.server.0 2591765\n",
      "data.http.result.response.headers.set_cookie.0 68824\n",
      "data.http.result.response.transfer_encoding.0 665634\n",
      "data.http.result.response.headers.vary.0 699021\n",
      "data.http.result.response.headers.via.0 48991\n",
      "data.http.result.response.headers.www_authenticate.0 23090\n",
      "data.http.result.response.headers.strict_transport_security.0 17846\n",
      "data.http.result.response.headers.x_powered_by.0 158390\n",
      "\n",
      "chunk no 11\n"
     ]
    },
    {
     "name": "stderr",
     "output_type": "stream",
     "text": [
      "/home/shnrndk3/myprojectdir/myprojectenv/lib/python3.7/site-packages/IPython/core/interactiveshell.py:3441: DtypeWarning: Columns (7,8,9,12,13,16,17,18,19,20,24,25,28,38,41,42,44,45,46,51,52,55,56,59,60,61,72,74,75,76,77,78,79,81,82,83,86,90,91,92,101,102,103,104,105,106,107,108,121,122,123,144,145,146,167,168,190,191,212,213,224,225,226,227,228,229,230,231,232,233,234,235,237,238,239,240,244,246,252,254,257,274,280,281,283,284,285,286,287,288,289,290,291,292,293,294,295,296,298,299,303,304,305,306,307,309,310,311,312,314,315,318,319,320,327,333,337,341,342,353,363,364,366,367,370,371,373,376,380,381,382,383,384,385,386,387,388,389,390,391,392,393,394,395,396,397,398,399,400,401,402,403,404,405,406,407,408,409,410,411,412,413,414,415,422,423,424,425,426,427,429,458,472,475,476,483,484,486,487,488,489,490,506,537,538,539,562,563,587,588,589,610,611,623,624,626,627,629,630,633,635,739,828,830,831,832,834,836,863,865,876,893,894,901,903,905) have mixed types.Specify dtype option on import or set low_memory=False.\n",
      "  exec(code_obj, self.user_global_ns, self.user_ns)\n"
     ]
    },
    {
     "name": "stdout",
     "output_type": "stream",
     "text": [
      "Total IP count: 3159469\n",
      "data.http.result.response.headers.age.0 1953\n",
      "data.http.result.response.headers.accept_ranges.0 272205\n",
      "data.http.result.response.headers.access_control_allow_origin.0 13389\n",
      "data.http.result.response.headers.allow.0 939\n",
      "data.http.result.response.headers.host.0 70\n",
      "data.http.result.response.headers.cache_control.0 625483\n",
      "data.http.result.response.headers.connection.0 1810616\n",
      "data.http.result.response.headers.content_disposition.0 604\n",
      "data.http.result.response.headers.content_encoding.0 401\n",
      "data.http.result.response.headers.content_language.0 9565\n",
      "data.http.result.response.headers.content_length.0 1999015\n",
      "data.http.result.response.headers.content_location.0 2263\n",
      "data.http.result.response.headers.content_type.0 2845183\n",
      "data.http.result.response.headers.date.0 2783504\n",
      "data.http.result.response.headers.etag.0 421519\n",
      "data.http.result.response.headers.expires.0 1511249\n",
      "data.http.result.response.headers.last_modified.0 469121\n",
      "data.http.result.response.headers.location.0 195151\n",
      "data.http.result.response.headers.retry_after.0 1532\n",
      "data.http.result.response.headers.server.0 2731214\n",
      "data.http.result.response.headers.set_cookie.0 72680\n",
      "data.http.result.response.transfer_encoding.0 701182\n",
      "data.http.result.response.headers.vary.0 736522\n",
      "data.http.result.response.headers.via.0 51557\n",
      "data.http.result.response.headers.www_authenticate.0 24309\n",
      "data.http.result.response.headers.strict_transport_security.0 18755\n",
      "data.http.result.response.headers.x_powered_by.0 166788\n",
      "\n"
     ]
    }
   ],
   "source": [
    "totalIPcount = 0\n",
    "\n",
    "for i in range(no_of_chunks):\n",
    "    print('chunk no',i+1)\n",
    "    c = pd.read_csv('Data/100KChunks/Banner'+str(i+1)+'.csv')\n",
    "    c = c.drop_duplicates(subset=['ip'])\n",
    "    totalIPcount = totalIPcount + c.shape[0]\n",
    "    print('Total IP count:',totalIPcount)\n",
    "    for j in range(len(fields)):\n",
    "        fieldcounts[j] = c.dropna(subset=[fields[j]],axis = 0).shape[0]+int(fieldcounts[j])\n",
    "        print(fields[j],fieldcounts[j])\n",
    "    print('')"
   ]
  },
  {
   "cell_type": "code",
   "execution_count": 9,
   "id": "7182d6b3",
   "metadata": {},
   "outputs": [],
   "source": [
    "df = pd.DataFrame([fieldcounts])\n",
    "df.columns =fields\n",
    "df['Round No']=round_no\n",
    "df['Instance No']=instance_no\n",
    "df['Total IP Count']=totalIPcount"
   ]
  },
  {
   "cell_type": "code",
   "execution_count": 10,
   "id": "1e41ac78",
   "metadata": {},
   "outputs": [
    {
     "data": {
      "text/html": [
       "<div>\n",
       "<style scoped>\n",
       "    .dataframe tbody tr th:only-of-type {\n",
       "        vertical-align: middle;\n",
       "    }\n",
       "\n",
       "    .dataframe tbody tr th {\n",
       "        vertical-align: top;\n",
       "    }\n",
       "\n",
       "    .dataframe thead th {\n",
       "        text-align: right;\n",
       "    }\n",
       "</style>\n",
       "<table border=\"1\" class=\"dataframe\">\n",
       "  <thead>\n",
       "    <tr style=\"text-align: right;\">\n",
       "      <th></th>\n",
       "      <th>data.http.result.response.headers.age.0</th>\n",
       "      <th>data.http.result.response.headers.accept_ranges.0</th>\n",
       "      <th>data.http.result.response.headers.access_control_allow_origin.0</th>\n",
       "      <th>data.http.result.response.headers.allow.0</th>\n",
       "      <th>data.http.result.response.headers.host.0</th>\n",
       "      <th>data.http.result.response.headers.cache_control.0</th>\n",
       "      <th>data.http.result.response.headers.connection.0</th>\n",
       "      <th>data.http.result.response.headers.content_disposition.0</th>\n",
       "      <th>data.http.result.response.headers.content_encoding.0</th>\n",
       "      <th>data.http.result.response.headers.content_language.0</th>\n",
       "      <th>...</th>\n",
       "      <th>data.http.result.response.headers.set_cookie.0</th>\n",
       "      <th>data.http.result.response.transfer_encoding.0</th>\n",
       "      <th>data.http.result.response.headers.vary.0</th>\n",
       "      <th>data.http.result.response.headers.via.0</th>\n",
       "      <th>data.http.result.response.headers.www_authenticate.0</th>\n",
       "      <th>data.http.result.response.headers.strict_transport_security.0</th>\n",
       "      <th>data.http.result.response.headers.x_powered_by.0</th>\n",
       "      <th>Round No</th>\n",
       "      <th>Instance No</th>\n",
       "      <th>Total IP Count</th>\n",
       "    </tr>\n",
       "  </thead>\n",
       "  <tbody>\n",
       "    <tr>\n",
       "      <th>0</th>\n",
       "      <td>1953</td>\n",
       "      <td>272205</td>\n",
       "      <td>13389</td>\n",
       "      <td>939</td>\n",
       "      <td>70</td>\n",
       "      <td>625483</td>\n",
       "      <td>1810616</td>\n",
       "      <td>604</td>\n",
       "      <td>401</td>\n",
       "      <td>9565</td>\n",
       "      <td>...</td>\n",
       "      <td>72680</td>\n",
       "      <td>701182</td>\n",
       "      <td>736522</td>\n",
       "      <td>51557</td>\n",
       "      <td>24309</td>\n",
       "      <td>18755</td>\n",
       "      <td>166788</td>\n",
       "      <td>01</td>\n",
       "      <td>04</td>\n",
       "      <td>3159469</td>\n",
       "    </tr>\n",
       "  </tbody>\n",
       "</table>\n",
       "<p>1 rows × 30 columns</p>\n",
       "</div>"
      ],
      "text/plain": [
       "   data.http.result.response.headers.age.0  \\\n",
       "0                                     1953   \n",
       "\n",
       "   data.http.result.response.headers.accept_ranges.0  \\\n",
       "0                                             272205   \n",
       "\n",
       "   data.http.result.response.headers.access_control_allow_origin.0  \\\n",
       "0                                              13389                 \n",
       "\n",
       "   data.http.result.response.headers.allow.0  \\\n",
       "0                                        939   \n",
       "\n",
       "   data.http.result.response.headers.host.0  \\\n",
       "0                                        70   \n",
       "\n",
       "   data.http.result.response.headers.cache_control.0  \\\n",
       "0                                             625483   \n",
       "\n",
       "   data.http.result.response.headers.connection.0  \\\n",
       "0                                         1810616   \n",
       "\n",
       "   data.http.result.response.headers.content_disposition.0  \\\n",
       "0                                                604         \n",
       "\n",
       "   data.http.result.response.headers.content_encoding.0  \\\n",
       "0                                                401      \n",
       "\n",
       "   data.http.result.response.headers.content_language.0  ...  \\\n",
       "0                                               9565     ...   \n",
       "\n",
       "   data.http.result.response.headers.set_cookie.0  \\\n",
       "0                                           72680   \n",
       "\n",
       "   data.http.result.response.transfer_encoding.0  \\\n",
       "0                                         701182   \n",
       "\n",
       "   data.http.result.response.headers.vary.0  \\\n",
       "0                                    736522   \n",
       "\n",
       "   data.http.result.response.headers.via.0  \\\n",
       "0                                    51557   \n",
       "\n",
       "   data.http.result.response.headers.www_authenticate.0  \\\n",
       "0                                              24309      \n",
       "\n",
       "   data.http.result.response.headers.strict_transport_security.0  \\\n",
       "0                                              18755               \n",
       "\n",
       "   data.http.result.response.headers.x_powered_by.0  Round No  Instance No  \\\n",
       "0                                            166788        01           04   \n",
       "\n",
       "   Total IP Count  \n",
       "0         3159469  \n",
       "\n",
       "[1 rows x 30 columns]"
      ]
     },
     "execution_count": 10,
     "metadata": {},
     "output_type": "execute_result"
    }
   ],
   "source": [
    "df"
   ]
  },
  {
   "cell_type": "code",
   "execution_count": 11,
   "id": "82e31ce2",
   "metadata": {},
   "outputs": [],
   "source": [
    "df.to_csv('FieldSummary.csv',mode='a',index=False,header=False)"
   ]
  },
  {
   "cell_type": "code",
   "execution_count": 1,
   "id": "17f73d8c",
   "metadata": {},
   "outputs": [],
   "source": [
    "!rm -r Data/100KChunks/"
   ]
  },
  {
   "cell_type": "code",
   "execution_count": 2,
   "id": "4cb778d2",
   "metadata": {},
   "outputs": [],
   "source": [
    "!mkdir Data/100KChunks/"
   ]
  },
  {
   "cell_type": "code",
   "execution_count": 3,
   "id": "60311007",
   "metadata": {},
   "outputs": [],
   "source": [
    "!rm Data/data.csv"
   ]
  },
  {
   "cell_type": "code",
   "execution_count": 4,
   "id": "7387d07f",
   "metadata": {},
   "outputs": [
    {
     "name": "stdout",
     "output_type": "stream",
     "text": [
      "rm: cannot remove 'Data/data.csv.bz2': No such file or directory\r\n"
     ]
    }
   ],
   "source": [
    "!rm -r Data/data.csv.bz2"
   ]
  }
 ],
 "metadata": {
  "kernelspec": {
   "display_name": "Python 3 (ipykernel)",
   "language": "python",
   "name": "python3"
  },
  "language_info": {
   "codemirror_mode": {
    "name": "ipython",
    "version": 3
   },
   "file_extension": ".py",
   "mimetype": "text/x-python",
   "name": "python",
   "nbconvert_exporter": "python",
   "pygments_lexer": "ipython3",
   "version": "3.7.3"
  }
 },
 "nbformat": 4,
 "nbformat_minor": 5
}
