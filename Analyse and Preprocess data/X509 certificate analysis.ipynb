{
 "cells": [
  {
   "cell_type": "code",
   "execution_count": 1,
   "id": "e6ba626c",
   "metadata": {},
   "outputs": [],
   "source": [
    "instance_no = '01'\n",
    "round_no = '01'"
   ]
  },
  {
   "cell_type": "code",
   "execution_count": 2,
   "id": "e318674d",
   "metadata": {},
   "outputs": [
    {
     "name": "stdout",
     "output_type": "stream",
     "text": [
      "Copying gs://store_data_gh/results_scan_on_port_443/round_7/zipped/tls/zgrab_result_instance-05_443_20210902.json.bz2...\n",
      "==> NOTE: You are downloading one or more large file(s), which would            \n",
      "run significantly faster if you enabled sliced object downloads. This\n",
      "feature is enabled by default but requires that compiled crcmod be\n",
      "installed (see \"gsutil help crcmod\").\n",
      "\n",
      "\\ [1 files][  4.1 GiB/  4.1 GiB]      0.0 B/s                                   \n",
      "Operation completed over 1 objects/4.1 GiB.                                      \n"
     ]
    }
   ],
   "source": [
    "!gsutil cp gs://store_data_gh/results_scan_on_port_443/round_7/zipped/tls/zgrab_result_instance-05_443_20210902.json.bz2 $HOME/myprojectdir/Data/data.csv.bz2"
   ]
  },
  {
   "cell_type": "code",
   "execution_count": 3,
   "id": "064a4c43",
   "metadata": {},
   "outputs": [],
   "source": [
    "!bzip2 -d $HOME/myprojectdir/Data/data.csv.bz2"
   ]
  },
  {
   "cell_type": "code",
   "execution_count": 4,
   "id": "b82311f5",
   "metadata": {},
   "outputs": [],
   "source": [
    "import pandas as pd\n",
    "import numpy as np\n",
    "import matplotlib.pyplot as plt"
   ]
  },
  {
   "cell_type": "code",
   "execution_count": 5,
   "id": "f34765c3",
   "metadata": {},
   "outputs": [
    {
     "name": "stdout",
     "output_type": "stream",
     "text": [
      "14G\tData/data.csv\r\n"
     ]
    }
   ],
   "source": [
    "!du -h Data/data.csv"
   ]
  },
  {
   "cell_type": "code",
   "execution_count": 1,
   "id": "8091153d",
   "metadata": {},
   "outputs": [
    {
     "name": "stdout",
     "output_type": "stream",
     "text": [
      "{\"ip\":\"152.92.207.245\",\"data\":{\"tls\":{\"status\":\"io-timeout\",\"protocol\":\"tls\",\"timestamp\":\"2021-09-02T18:29:13Z\",\"error\":\"read tcp 10.164.0.29:39226-\\u003e152.92.207.245:443: read: connection reset by peer\"}}}\r\n",
      "{\"ip\":\"154.92.173.181\",\"data\":{\"tls\":{\"status\":\"io-timeout\",\"protocol\":\"tls\",\"timestamp\":\"2021-09-02T18:29:13Z\",\"error\":\"read tcp 10.164.0.29:57092-\\u003e154.92.173.181:443: i/o timeout\"}}}\r\n",
      "{\"ip\":\"134.102.8.206\",\"data\":{\"tls\":{\"status\":\"unknown-error\",\"protocol\":\"tls\",\"result\":{\"handshake_log\":{\"server_hello\":{\"version\":{\"name\":\"SSLv3\",\"value\":768},\"random\":\"YTEX+4FLwH0SNJ1fMIiuJydRQJAPJ8FKoG79AgkxP5Q=\",\"session_id\":\"\",\"cipher_suite\":{\"hex\":\"0x0005\",\"name\":\"TLS_RSA_WITH_RC4_128_SHA\",\"value\":5},\"compression_method\":0,\"ocsp_stapling\":false,\"ticket\":false,\"secure_renegotiation\":false,\"heartbeat\":false,\"extended_master_secret\":false},\"server_certificates\":{\"certificate\":{\"raw\":\"MIICSjCCAbOgAwIBAgIBATANBgkqhkiG9w0BAQQFADAxMS8wLQYDVQQDEyZJT1MtU2VsZi1TaWduZWQtQ2VydGlmaWNhdGUtMjY0NDM3ODM2ODAeFw05MzAzMDEwMDAwNTlaFw0yMDAxMDEwMDAwMDBaMDExLzAtBgNVBAMTJklPUy1TZWxmLVNpZ25lZC1DZXJ0aWZpY2F0ZS0yNjQ0Mzc4MzY4MIGfMA0GCSqGSIb3DQEBAQUAA4GNADCBiQKBgQCiBq6/vrE2Ix5+EJpViKoKkveymuVey/39hUFGm7aQXVGqMuyYdroCy15W07qV4Hs/cOFPMNvtgfJTBaMfrVwEmojvX+LT/nfdW3qRmfnvvpLgEiPaCMFnxy5BjQ98dLik3Nf455RuGQraeXAQhdPS2eitmastaQ3YeAB4jAullwIDAQABo3IwcDAPBgNVHRMBAf8EBTADAQH/MB0GA1UdEQQWMBSCEkx1aS1IYXVzQzFfODdfMjI4LjAfBgNVHSMEGDAWgBSNb47BQ49+BTNePfAug2v8uxm4LjAdBgNVHQ4EFgQUjW+OwUOPfgUzXj3wLoNr/LsZuC4wDQYJKoZIhvcNAQEEBQADgYEAgha5V2umogneSRegdQDTm8RHUaCCK9AUJ4pxbAuG+4jrB+cw1eykfW5QMGtfvbZU9dmmVFB365u5nYS1crzRBhn/X9eDwOLizTkfAXE6L7I05UsfeRrqtHNolZCBS2bPTG8GsAqXBEN+PJmTGETNwxxlvb/kB3MdKciaQe1GqwE=\",\"parsed\":{\"version\":3,\"serial_number\":\"1\",\"signature_algorithm\":{\"name\":\"MD5-RSA\",\"oid\":\"1.2.840.113549.1.1.4\"},\"issuer\":{\"common_name\":[\"IOS-Self-Signed-Certificate-2644378368\"]},\"issuer_dn\":\"CN=IOS-Self-Signed-Certificate-2644378368\",\"validity\":{\"start\":\"1993-03-01T00:00:59Z\",\"end\":\"2020-01-01T00:00:00Z\",\"length\":846892741},\"subject\":{\"common_name\":[\"IOS-Self-Signed-Certificate-2644378368\"]},\"subject_dn\":\"CN=IOS-Self-Signed-Certificate-2644378368\",\"subject_key_info\":{\"key_algorithm\":{\"name\":\"RSA\"},\"rsa_public_key\":{\"exponent\":65537,\"modulus\":\"ogauv76xNiMefhCaVYiqCpL3sprlXsv9/YVBRpu2kF1RqjLsmHa6AsteVtO6leB7P3DhTzDb7YHyUwWjH61cBJqI71/i0/533Vt6kZn5776S4BIj2gjBZ8cuQY0PfHS4pNzX+OeUbhkK2nlwEIXT0tnorZmrLWkN2HgAeIwLpZc=\",\"length\":1024},\"fingerprint_sha256\":\"a2f433a4e04fea26620fe3e3e997392d333b85b8f517c4464de20c128911d545\"},\"extensions\":{\"basic_constraints\":{\"is_ca\":true},\"subject_alt_name\":{\"dns_names\":[\"Lui-HausC1_87_228.\"]},\"authority_key_id\":\"8d6f8ec1438f7e05335e3df02e836bfcbb19b82e\",\"subject_key_id\":\"8d6f8ec1438f7e05335e3df02e836bfcbb19b82e\"},\"signature\":{\"signature_algorithm\":{\"name\":\"MD5-RSA\",\"oid\":\"1.2.840.113549.1.1.4\"},\"value\":\"gha5V2umogneSRegdQDTm8RHUaCCK9AUJ4pxbAuG+4jrB+cw1eykfW5QMGtfvbZU9dmmVFB365u5nYS1crzRBhn/X9eDwOLizTkfAXE6L7I05UsfeRrqtHNolZCBS2bPTG8GsAqXBEN+PJmTGETNwxxlvb/kB3MdKciaQe1GqwE=\",\"valid\":true,\"self_signed\":true},\"fingerprint_md5\":\"b9d1fa3d5bab78a04fc5f6900a2c5356\",\"fingerprint_sha1\":\"4cb773d2eacf2448da765d4599195841a7d2a098\",\"fingerprint_sha256\":\"d292562d7402756faabcebe43a767e46c3f0eb102b492b1d22ea779ad36b389e\",\"tbs_noct_fingerprint\":\"5a0831b4b88702daf10d050161bb046e796376557a9b89258cd721bbc066b1a6\",\"spki_subject_fingerprint\":\"1f1eb70bf64bcb7332e444a50d4f473024b67a7c14e24fccd6a26b7fef8e532a\",\"tbs_fingerprint\":\"5a0831b4b88702daf10d050161bb046e796376557a9b89258cd721bbc066b1a6\",\"validation_level\":\"unknown\",\"names\":[\"Lui-HausC1_87_228.\"],\"redacted\":false}},\"validation\":{\"browser_trusted\":false,\"browser_error\":\"x509: failed to load system roots and no roots provided\"}}}},\"timestamp\":\"2021-09-02T18:29:11Z\",\"error\":\"context deadline exceeded\"}}}\r\n",
      "{\"ip\":\"134.220.131.123\",\"data\":{\"tls\":{\"status\":\"io-timeout\",\"protocol\":\"tls\",\"timestamp\":\"2021-09-02T18:29:12Z\",\"error\":\"read tcp 10.164.0.29:42284-\\u003e134.220.131.123:443: i/o timeout\"}}}\r\n",
      "{\"ip\":\"156.226.90.123\",\"data\":{\"tls\":{\"status\":\"io-timeout\",\"protocol\":\"tls\",\"timestamp\":\"2021-09-02T18:29:13Z\",\"error\":\"read tcp 10.164.0.29:57288-\\u003e156.226.90.123:443: i/o timeout\"}}}\r\n",
      "{\"ip\":\"128.134.115.167\",\"data\":{\"tls\":{\"status\":\"io-timeout\",\"protocol\":\"tls\",\"timestamp\":\"2021-09-02T18:29:13Z\",\"error\":\"read tcp 10.164.0.29:53152-\\u003e128.134.115.167:443: i/o timeout\"}}}\r\n",
      "{\"ip\":\"154.220.127.239\",\"data\":{\"tls\":{\"status\":\"io-timeout\",\"protocol\":\"tls\",\"timestamp\":\"2021-09-02T18:29:13Z\",\"error\":\"read tcp 10.164.0.29:34472-\\u003e154.220.127.239:443: i/o timeout\"}}}\r\n",
      "{\"ip\":\"156.239.175.13\",\"data\":{\"tls\":{\"status\":\"io-timeout\",\"protocol\":\"tls\",\"timestamp\":\"2021-09-02T18:29:13Z\",\"error\":\"read tcp 10.164.0.29:57724-\\u003e156.239.175.13:443: i/o timeout\"}}}\r\n",
      "{\"ip\":\"154.197.146.105\",\"data\":{\"tls\":{\"status\":\"io-timeout\",\"protocol\":\"tls\",\"timestamp\":\"2021-09-02T18:29:13Z\",\"error\":\"read tcp 10.164.0.29:48048-\\u003e154.197.146.105:443: i/o timeout\"}}}\r\n",
      "{\"ip\":\"154.86.25.172\",\"data\":{\"tls\":{\"status\":\"io-timeout\",\"protocol\":\"tls\",\"timestamp\":\"2021-09-02T18:29:13Z\",\"error\":\"read tcp 10.164.0.29:59600-\\u003e154.86.25.172:443: i/o timeout\"}}}\r\n"
     ]
    }
   ],
   "source": []
  }
 ],
 "metadata": {
  "kernelspec": {
   "display_name": "Python 3 (ipykernel)",
   "language": "python",
   "name": "python3"
  },
  "language_info": {
   "codemirror_mode": {
    "name": "ipython",
    "version": 3
   },
   "file_extension": ".py",
   "mimetype": "text/x-python",
   "name": "python",
   "nbconvert_exporter": "python",
   "pygments_lexer": "ipython3",
   "version": "3.7.3"
  }
 },
 "nbformat": 4,
 "nbformat_minor": 5
}
