{
  "nbformat": 4,
  "nbformat_minor": 0,
  "metadata": {
    "colab": {
      "name": "PDF and CDF Create.ipynb",
      "provenance": [],
      "collapsed_sections": [],
      "authorship_tag": "ABX9TyNUPTdZQfsFqIU7gEmA8JJw",
      "include_colab_link": true
    },
    "kernelspec": {
      "name": "python3",
      "display_name": "Python 3"
    },
    "language_info": {
      "name": "python"
    }
  },
  "cells": [
    {
      "cell_type": "markdown",
      "metadata": {
        "id": "view-in-github",
        "colab_type": "text"
      },
      "source": [
        "<a href=\"https://colab.research.google.com/github/shnrndk/IP-Cat-Research/blob/CDF-PDF/PDF_and_CDF_Create.ipynb\" target=\"_parent\"><img src=\"https://colab.research.google.com/assets/colab-badge.svg\" alt=\"Open In Colab\"/></a>"
      ]
    },
    {
      "cell_type": "code",
      "source": [
        "import pandas as pd\n",
        "import matplotlib.pyplot as plt\n",
        "import numpy as np\n",
        "from sklearn import preprocessing\n",
        "le = preprocessing.LabelEncoder()"
      ],
      "metadata": {
        "id": "KF8OnKKgBsWY"
      },
      "execution_count": null,
      "outputs": []
    },
    {
      "cell_type": "code",
      "execution_count": null,
      "metadata": {
        "colab": {
          "base_uri": "https://localhost:8080/"
        },
        "id": "tZNK3eAJAPhk",
        "outputId": "7c45660e-52b9-413f-b7ff-c34dac65a7c2"
      },
      "outputs": [
        {
          "output_type": "stream",
          "name": "stdout",
          "text": [
            "Drive already mounted at /content/drive; to attempt to forcibly remount, call drive.mount(\"/content/drive\", force_remount=True).\n"
          ]
        }
      ],
      "source": [
        "from google.colab import drive\n",
        "drive.mount('/content/drive')"
      ]
    },
    {
      "cell_type": "code",
      "source": [
        "!cp  /content/drive/MyDrive/final_dataset.zip /content/"
      ],
      "metadata": {
        "id": "zFwmXAo4AVkn"
      },
      "execution_count": null,
      "outputs": []
    },
    {
      "cell_type": "code",
      "source": [
        "!unzip  final_dataset.zip"
      ],
      "metadata": {
        "colab": {
          "base_uri": "https://localhost:8080/"
        },
        "id": "ITwBIfzKBjKO",
        "outputId": "2ab7ea95-e286-4b42-c54f-cfe05576df63"
      },
      "execution_count": null,
      "outputs": [
        {
          "output_type": "stream",
          "name": "stdout",
          "text": [
            "Archive:  final_dataset.zip\n",
            "  inflating: cdn_final_final.csv     \n",
            "  inflating: cloud_final_final.csv   \n",
            "  inflating: hosting_final_final.csv  \n",
            "  inflating: proxy_final_final.csv   \n",
            "  inflating: vpn_final_final.csv     \n"
          ]
        }
      ]
    },
    {
      "cell_type": "code",
      "source": [
        "sample_size = 30000\n",
        "df = pd.read_csv('cdn_final_final.csv')\n",
        "#df['vendor']= ['cdn' for x in range(df.shape[0])]\n",
        "df = df.sample(n = sample_size)\n",
        "df1 = pd.read_csv('cloud_final_final.csv')\n",
        "#df1['vendor']= ['cloud' for x in range(df1.shape[0])]\n",
        "df1 = df1.sample(n = sample_size)\n",
        "df2 = pd.read_csv('hosting_final_final.csv')\n",
        "#df2['vendor']= ['hosting' for x in range(df2.shape[0])]\n",
        "df2 = df2.sample(n = sample_size)\n",
        "df3 = pd.read_csv('vpn_final_final.csv')\n",
        "#df3['vendor']= ['vpn' for x in range(df3.shape[0])]\n",
        "df3 = df3.sample(n = 15000)\n",
        "df4 = pd.read_csv('proxy_final_final.csv')\n",
        "#df4['vendor']= ['vpn' for x in range(df3.shape[0])]\n",
        "df4 = df4.sample(n = 9200)"
      ],
      "metadata": {
        "colab": {
          "base_uri": "https://localhost:8080/"
        },
        "id": "8hG8V4bMAVa2",
        "outputId": "cb1527af-dd11-4837-a104-3131e2703265"
      },
      "execution_count": 134,
      "outputs": [
        {
          "output_type": "stream",
          "name": "stderr",
          "text": [
            "/usr/local/lib/python3.7/dist-packages/IPython/core/interactiveshell.py:2718: DtypeWarning: Columns (25) have mixed types.Specify dtype option on import or set low_memory=False.\n",
            "  interactivity=interactivity, compiler=compiler, result=result)\n"
          ]
        }
      ]
    },
    {
      "cell_type": "code",
      "source": [
        "df = df.append([df1,df2,df3,df4],ignore_index=True)"
      ],
      "metadata": {
        "id": "v02QcD9ZDklZ"
      },
      "execution_count": 135,
      "outputs": []
    },
    {
      "cell_type": "code",
      "source": [
        "df"
      ],
      "metadata": {
        "colab": {
          "base_uri": "https://localhost:8080/",
          "height": 887
        },
        "id": "j0rQBNJVECFZ",
        "outputId": "1aaa7282-6776-486d-a65d-8bda0e2fb76a"
      },
      "execution_count": 136,
      "outputs": [
        {
          "output_type": "execute_result",
          "data": {
            "text/html": [
              "\n",
              "  <div id=\"df-4307f6c7-1c5c-44a8-a42e-ac721029cf0e\">\n",
              "    <div class=\"colab-df-container\">\n",
              "      <div>\n",
              "<style scoped>\n",
              "    .dataframe tbody tr th:only-of-type {\n",
              "        vertical-align: middle;\n",
              "    }\n",
              "\n",
              "    .dataframe tbody tr th {\n",
              "        vertical-align: top;\n",
              "    }\n",
              "\n",
              "    .dataframe thead th {\n",
              "        text-align: right;\n",
              "    }\n",
              "</style>\n",
              "<table border=\"1\" class=\"dataframe\">\n",
              "  <thead>\n",
              "    <tr style=\"text-align: right;\">\n",
              "      <th></th>\n",
              "      <th>ip</th>\n",
              "      <th>No Of Owners</th>\n",
              "      <th>CIDR</th>\n",
              "      <th>netType</th>\n",
              "      <th>Organization</th>\n",
              "      <th>Most Recent Update</th>\n",
              "      <th>No of Who is Records</th>\n",
              "      <th>data.http.result.response.headers.server.0</th>\n",
              "      <th>data.http.result.response.status_code</th>\n",
              "      <th>data.http.result.response.headers.unknown.0.key</th>\n",
              "      <th>data.http.result.response.headers.unknown.0.value.0</th>\n",
              "      <th>data.http.result.response.headers.connection.0</th>\n",
              "      <th>data.http.result.response.headers.via.0</th>\n",
              "      <th>data.http.result.response.headers.unknown.1.key</th>\n",
              "      <th>data.http.result.response.headers.unknown.1.value.0</th>\n",
              "      <th>data.http.result.response.headers.accept_ranges.0</th>\n",
              "      <th>data.http.result.response.headers.cache_control.0</th>\n",
              "      <th>data.http.result.response.headers.retry_after.0</th>\n",
              "      <th>data.http.result.response.body</th>\n",
              "      <th>data.http.result.response.body_sha256</th>\n",
              "      <th>data.http.result.response.content_length</th>\n",
              "      <th>data.http.result.response.headers.content_type.0</th>\n",
              "      <th>data.http.result.response.headers.location.0</th>\n",
              "      <th>data.http.result.redirect_response_chain.0.status_line</th>\n",
              "      <th>data.http.result.response.headers.etag.0</th>\n",
              "      <th>data.http.result.response.headers.last_modified.0</th>\n",
              "      <th>data.http.result.response.headers.vary.0</th>\n",
              "      <th>data.http.result.response.transfer_encoding.0</th>\n",
              "      <th>data.http.result.response.headers.x_powered_by.0</th>\n",
              "      <th>data.http.result.response.headers.pragma.0</th>\n",
              "      <th>data.http.result.redirect_response_chain.0.headers.server.0</th>\n",
              "      <th>as_name</th>\n",
              "      <th>as_no</th>\n",
              "      <th>data.tls.status</th>\n",
              "      <th>data.tls.result.handshake_log.server_certificates.certificate.parsed.issuer.common_name</th>\n",
              "      <th>data.tls.result.handshake_log.server_certificates.certificate.parsed.issuer.country</th>\n",
              "      <th>data.tls.result.handshake_log.server_certificates.certificate.parsed.issuer.organization</th>\n",
              "      <th>data.tls.result.handshake_log.server_certificates.certificate.parsed.issuer_dn</th>\n",
              "      <th>data.tls.result.handshake_log.server_certificates.certificate.parsed.subject.common_name</th>\n",
              "      <th>data.tls.result.handshake_log.server_certificates.certificate.parsed.subject.country</th>\n",
              "      <th>data.tls.result.handshake_log.server_certificates.certificate.parsed.subject.locality</th>\n",
              "      <th>data.tls.result.handshake_log.server_certificates.certificate.parsed.subject.province</th>\n",
              "      <th>data.tls.result.handshake_log.server_certificates.certificate.parsed.subject.organization</th>\n",
              "      <th>data.tls.result.handshake_log.server_certificates.certificate.parsed.subject_dn</th>\n",
              "      <th>data.tls.result.handshake_log.server_certificates.certificate.parsed.extensions.subject_alt_name.dns_names</th>\n",
              "      <th>vendor</th>\n",
              "      <th>Unnamed: 0_y</th>\n",
              "    </tr>\n",
              "  </thead>\n",
              "  <tbody>\n",
              "    <tr>\n",
              "      <th>0</th>\n",
              "      <td>52.84.119.7</td>\n",
              "      <td>NaN</td>\n",
              "      <td>NaN</td>\n",
              "      <td>NaN</td>\n",
              "      <td>NaN</td>\n",
              "      <td>NaN</td>\n",
              "      <td>0.0</td>\n",
              "      <td>NaN</td>\n",
              "      <td>NaN</td>\n",
              "      <td>NaN</td>\n",
              "      <td>NaN</td>\n",
              "      <td>NaN</td>\n",
              "      <td>NaN</td>\n",
              "      <td>NaN</td>\n",
              "      <td>NaN</td>\n",
              "      <td>NaN</td>\n",
              "      <td>NaN</td>\n",
              "      <td>NaN</td>\n",
              "      <td>NaN</td>\n",
              "      <td>NaN</td>\n",
              "      <td>NaN</td>\n",
              "      <td>NaN</td>\n",
              "      <td>NaN</td>\n",
              "      <td>NaN</td>\n",
              "      <td>NaN</td>\n",
              "      <td>NaN</td>\n",
              "      <td>NaN</td>\n",
              "      <td>NaN</td>\n",
              "      <td>NaN</td>\n",
              "      <td>NaN</td>\n",
              "      <td>NaN</td>\n",
              "      <td>AMAZON-02 - Amazon.com, Inc.</td>\n",
              "      <td>16509</td>\n",
              "      <td>success</td>\n",
              "      <td>['Go Daddy Secure Certificate Authority - G2']</td>\n",
              "      <td>['US']</td>\n",
              "      <td>['GoDaddy.com, Inc.']</td>\n",
              "      <td>C=US, ST=Arizona, L=Scottsdale, O=GoDaddy.com,...</td>\n",
              "      <td>['*.memestech.co']</td>\n",
              "      <td>NaN</td>\n",
              "      <td>NaN</td>\n",
              "      <td>NaN</td>\n",
              "      <td>NaN</td>\n",
              "      <td>CN=*.memestech.co</td>\n",
              "      <td>['*.memestech.co', 'memestech.co']</td>\n",
              "      <td>cdn</td>\n",
              "      <td>NaN</td>\n",
              "    </tr>\n",
              "    <tr>\n",
              "      <th>1</th>\n",
              "      <td>13.227.246.29</td>\n",
              "      <td>0.0</td>\n",
              "      <td>NaN</td>\n",
              "      <td>NaN</td>\n",
              "      <td>NaN</td>\n",
              "      <td>NaN</td>\n",
              "      <td>1.0</td>\n",
              "      <td>CloudFront</td>\n",
              "      <td>403.0</td>\n",
              "      <td>x_cache</td>\n",
              "      <td>Error from cloudfront</td>\n",
              "      <td>keep-alive</td>\n",
              "      <td>1.1 dd96101693c9f13a5efc3b0280199939.cloudfron...</td>\n",
              "      <td>x_amz_cf_id</td>\n",
              "      <td>-PFuTwKxIdQThIHUQGvHO10CCgNtrBEAOO3HigMJQxMrkf...</td>\n",
              "      <td>NaN</td>\n",
              "      <td>NaN</td>\n",
              "      <td>NaN</td>\n",
              "      <td>&lt;!DOCTYPE HTML PUBLIC \"-//W3C//DTD HTML 4.01 T...</td>\n",
              "      <td>fb4d36449089ee0ca8ce920ac3450106972a672e12067c...</td>\n",
              "      <td>915.0</td>\n",
              "      <td>text/html</td>\n",
              "      <td>NaN</td>\n",
              "      <td>NaN</td>\n",
              "      <td>NaN</td>\n",
              "      <td>NaN</td>\n",
              "      <td>NaN</td>\n",
              "      <td>NaN</td>\n",
              "      <td>NaN</td>\n",
              "      <td>NaN</td>\n",
              "      <td>NaN</td>\n",
              "      <td>unknown</td>\n",
              "      <td>unknown</td>\n",
              "      <td>unknown-error</td>\n",
              "      <td>NaN</td>\n",
              "      <td>NaN</td>\n",
              "      <td>NaN</td>\n",
              "      <td>NaN</td>\n",
              "      <td>NaN</td>\n",
              "      <td>NaN</td>\n",
              "      <td>NaN</td>\n",
              "      <td>NaN</td>\n",
              "      <td>NaN</td>\n",
              "      <td>NaN</td>\n",
              "      <td>NaN</td>\n",
              "      <td>cdn</td>\n",
              "      <td>NaN</td>\n",
              "    </tr>\n",
              "    <tr>\n",
              "      <th>2</th>\n",
              "      <td>13.226.139.197</td>\n",
              "      <td>3.0</td>\n",
              "      <td>13.224.0.0/14</td>\n",
              "      <td>Reallocated</td>\n",
              "      <td>Amazon Technologies Inc.</td>\n",
              "      <td>1.585613e+09</td>\n",
              "      <td>3.0</td>\n",
              "      <td>CloudFront</td>\n",
              "      <td>403.0</td>\n",
              "      <td>x_amz_cf_pop</td>\n",
              "      <td>YTO50-C2</td>\n",
              "      <td>keep-alive</td>\n",
              "      <td>1.1 f7bff5f69cd52bcb4195512c22171b52.cloudfron...</td>\n",
              "      <td>x_amz_cf_id</td>\n",
              "      <td>_yWi2zPGH83eZQ_1X5dcM9PgxGoZ144D1t-25XD2rf5B8z...</td>\n",
              "      <td>NaN</td>\n",
              "      <td>NaN</td>\n",
              "      <td>NaN</td>\n",
              "      <td>&lt;!DOCTYPE HTML PUBLIC \"-//W3C//DTD HTML 4.01 T...</td>\n",
              "      <td>b6981709317d7ddde5cb0537550f450de5c3ba02e4248a...</td>\n",
              "      <td>915.0</td>\n",
              "      <td>text/html</td>\n",
              "      <td>NaN</td>\n",
              "      <td>NaN</td>\n",
              "      <td>NaN</td>\n",
              "      <td>NaN</td>\n",
              "      <td>NaN</td>\n",
              "      <td>NaN</td>\n",
              "      <td>NaN</td>\n",
              "      <td>NaN</td>\n",
              "      <td>NaN</td>\n",
              "      <td>unknown</td>\n",
              "      <td>unknown</td>\n",
              "      <td>unknown-error</td>\n",
              "      <td>NaN</td>\n",
              "      <td>NaN</td>\n",
              "      <td>NaN</td>\n",
              "      <td>NaN</td>\n",
              "      <td>NaN</td>\n",
              "      <td>NaN</td>\n",
              "      <td>NaN</td>\n",
              "      <td>NaN</td>\n",
              "      <td>NaN</td>\n",
              "      <td>NaN</td>\n",
              "      <td>NaN</td>\n",
              "      <td>cdn</td>\n",
              "      <td>NaN</td>\n",
              "    </tr>\n",
              "    <tr>\n",
              "      <th>3</th>\n",
              "      <td>13.224.37.237</td>\n",
              "      <td>NaN</td>\n",
              "      <td>NaN</td>\n",
              "      <td>NaN</td>\n",
              "      <td>NaN</td>\n",
              "      <td>NaN</td>\n",
              "      <td>0.0</td>\n",
              "      <td>CloudFront</td>\n",
              "      <td>403.0</td>\n",
              "      <td>x_amz_cf_pop</td>\n",
              "      <td>YTO50-C1</td>\n",
              "      <td>keep-alive</td>\n",
              "      <td>1.1 a76a40b05a00844b502c99a4874fc37e.cloudfron...</td>\n",
              "      <td>x_cache</td>\n",
              "      <td>Error from cloudfront</td>\n",
              "      <td>NaN</td>\n",
              "      <td>NaN</td>\n",
              "      <td>NaN</td>\n",
              "      <td>&lt;!DOCTYPE HTML PUBLIC \"-//W3C//DTD HTML 4.01 T...</td>\n",
              "      <td>538f7d4bd5b03649c79c77be8b7fb12a25e5401d043549...</td>\n",
              "      <td>915.0</td>\n",
              "      <td>text/html</td>\n",
              "      <td>NaN</td>\n",
              "      <td>NaN</td>\n",
              "      <td>NaN</td>\n",
              "      <td>NaN</td>\n",
              "      <td>NaN</td>\n",
              "      <td>NaN</td>\n",
              "      <td>NaN</td>\n",
              "      <td>NaN</td>\n",
              "      <td>NaN</td>\n",
              "      <td>AMAZON-02 - Amazon.com, Inc.</td>\n",
              "      <td>16509</td>\n",
              "      <td>success</td>\n",
              "      <td>['Amazon']</td>\n",
              "      <td>['US']</td>\n",
              "      <td>['Amazon']</td>\n",
              "      <td>C=US, O=Amazon, OU=Server CA 1B, CN=Amazon</td>\n",
              "      <td>['*.awsapps.com']</td>\n",
              "      <td>NaN</td>\n",
              "      <td>NaN</td>\n",
              "      <td>NaN</td>\n",
              "      <td>NaN</td>\n",
              "      <td>CN=*.awsapps.com</td>\n",
              "      <td>['*.awsapps.com', '*.awsapps.net']</td>\n",
              "      <td>cdn</td>\n",
              "      <td>NaN</td>\n",
              "    </tr>\n",
              "    <tr>\n",
              "      <th>4</th>\n",
              "      <td>54.230.51.197</td>\n",
              "      <td>2.0</td>\n",
              "      <td>54.230.0.0/15</td>\n",
              "      <td>Reassigned</td>\n",
              "      <td>Amazon Technologies Inc.</td>\n",
              "      <td>1.586218e+09</td>\n",
              "      <td>3.0</td>\n",
              "      <td>CloudFront</td>\n",
              "      <td>403.0</td>\n",
              "      <td>x_cache</td>\n",
              "      <td>Error from cloudfront</td>\n",
              "      <td>keep-alive</td>\n",
              "      <td>1.1 ae7bbb23871eba9dda7f1abdc6bacfa1.cloudfron...</td>\n",
              "      <td>x_amz_cf_id</td>\n",
              "      <td>dwi8aXW-ficqvcWwaORN-qon16JmHiqyiEOmmrnP0ordwi...</td>\n",
              "      <td>NaN</td>\n",
              "      <td>NaN</td>\n",
              "      <td>NaN</td>\n",
              "      <td>&lt;!DOCTYPE HTML PUBLIC \"-//W3C//DTD HTML 4.01 T...</td>\n",
              "      <td>8897a32615d866c178093de436d027ffcf7893c8f54936...</td>\n",
              "      <td>915.0</td>\n",
              "      <td>text/html</td>\n",
              "      <td>NaN</td>\n",
              "      <td>NaN</td>\n",
              "      <td>NaN</td>\n",
              "      <td>NaN</td>\n",
              "      <td>NaN</td>\n",
              "      <td>NaN</td>\n",
              "      <td>NaN</td>\n",
              "      <td>NaN</td>\n",
              "      <td>NaN</td>\n",
              "      <td>AMAZON-02 - Amazon.com, Inc.</td>\n",
              "      <td>16509</td>\n",
              "      <td>success</td>\n",
              "      <td>['Amazon']</td>\n",
              "      <td>['US']</td>\n",
              "      <td>['Amazon']</td>\n",
              "      <td>C=US, O=Amazon, OU=Server CA 1B, CN=Amazon</td>\n",
              "      <td>['*.cloudfront.net']</td>\n",
              "      <td>NaN</td>\n",
              "      <td>NaN</td>\n",
              "      <td>NaN</td>\n",
              "      <td>NaN</td>\n",
              "      <td>CN=*.cloudfront.net</td>\n",
              "      <td>['cloudfront.net', '*.cloudfront.net']</td>\n",
              "      <td>cdn</td>\n",
              "      <td>NaN</td>\n",
              "    </tr>\n",
              "    <tr>\n",
              "      <th>...</th>\n",
              "      <td>...</td>\n",
              "      <td>...</td>\n",
              "      <td>...</td>\n",
              "      <td>...</td>\n",
              "      <td>...</td>\n",
              "      <td>...</td>\n",
              "      <td>...</td>\n",
              "      <td>...</td>\n",
              "      <td>...</td>\n",
              "      <td>...</td>\n",
              "      <td>...</td>\n",
              "      <td>...</td>\n",
              "      <td>...</td>\n",
              "      <td>...</td>\n",
              "      <td>...</td>\n",
              "      <td>...</td>\n",
              "      <td>...</td>\n",
              "      <td>...</td>\n",
              "      <td>...</td>\n",
              "      <td>...</td>\n",
              "      <td>...</td>\n",
              "      <td>...</td>\n",
              "      <td>...</td>\n",
              "      <td>...</td>\n",
              "      <td>...</td>\n",
              "      <td>...</td>\n",
              "      <td>...</td>\n",
              "      <td>...</td>\n",
              "      <td>...</td>\n",
              "      <td>...</td>\n",
              "      <td>...</td>\n",
              "      <td>...</td>\n",
              "      <td>...</td>\n",
              "      <td>...</td>\n",
              "      <td>...</td>\n",
              "      <td>...</td>\n",
              "      <td>...</td>\n",
              "      <td>...</td>\n",
              "      <td>...</td>\n",
              "      <td>...</td>\n",
              "      <td>...</td>\n",
              "      <td>...</td>\n",
              "      <td>...</td>\n",
              "      <td>...</td>\n",
              "      <td>...</td>\n",
              "      <td>...</td>\n",
              "      <td>...</td>\n",
              "    </tr>\n",
              "    <tr>\n",
              "      <th>114195</th>\n",
              "      <td>82.114.70.46</td>\n",
              "      <td>1.0</td>\n",
              "      <td>82.0.0.0/8</td>\n",
              "      <td>Allocated to RIPE NCC</td>\n",
              "      <td>RIPE Network Coordination Centre</td>\n",
              "      <td>1.109418e+09</td>\n",
              "      <td>1.0</td>\n",
              "      <td>Apache/2.2.15 (CentOS)</td>\n",
              "      <td>403.0</td>\n",
              "      <td>NaN</td>\n",
              "      <td>NaN</td>\n",
              "      <td>NaN</td>\n",
              "      <td>NaN</td>\n",
              "      <td>NaN</td>\n",
              "      <td>NaN</td>\n",
              "      <td>bytes</td>\n",
              "      <td>NaN</td>\n",
              "      <td>NaN</td>\n",
              "      <td>&lt;!DOCTYPE html PUBLIC \"-//W3C//DTD XHTML 1.1//...</td>\n",
              "      <td>29a8b2a2dbac349f919923d25af4f9162bc58c29b2daac...</td>\n",
              "      <td>4961.0</td>\n",
              "      <td>text/html; charset=UTF-8</td>\n",
              "      <td>NaN</td>\n",
              "      <td>NaN</td>\n",
              "      <td>NaN</td>\n",
              "      <td>NaN</td>\n",
              "      <td>NaN</td>\n",
              "      <td>NaN</td>\n",
              "      <td>NaN</td>\n",
              "      <td>NaN</td>\n",
              "      <td>NaN</td>\n",
              "      <td>NaN</td>\n",
              "      <td>NaN</td>\n",
              "      <td>connection-timeout</td>\n",
              "      <td>NaN</td>\n",
              "      <td>NaN</td>\n",
              "      <td>NaN</td>\n",
              "      <td>NaN</td>\n",
              "      <td>NaN</td>\n",
              "      <td>NaN</td>\n",
              "      <td>NaN</td>\n",
              "      <td>NaN</td>\n",
              "      <td>NaN</td>\n",
              "      <td>NaN</td>\n",
              "      <td>NaN</td>\n",
              "      <td>proxy</td>\n",
              "      <td>5100.0</td>\n",
              "    </tr>\n",
              "    <tr>\n",
              "      <th>114196</th>\n",
              "      <td>187.237.164.37</td>\n",
              "      <td>1.0</td>\n",
              "      <td>187.0.0.0/8</td>\n",
              "      <td>Allocated to LACNIC</td>\n",
              "      <td>Latin American and Caribbean IP address Region...</td>\n",
              "      <td>1.521072e+09</td>\n",
              "      <td>2.0</td>\n",
              "      <td>NaN</td>\n",
              "      <td>NaN</td>\n",
              "      <td>NaN</td>\n",
              "      <td>NaN</td>\n",
              "      <td>NaN</td>\n",
              "      <td>NaN</td>\n",
              "      <td>NaN</td>\n",
              "      <td>NaN</td>\n",
              "      <td>NaN</td>\n",
              "      <td>NaN</td>\n",
              "      <td>NaN</td>\n",
              "      <td>NaN</td>\n",
              "      <td>NaN</td>\n",
              "      <td>NaN</td>\n",
              "      <td>NaN</td>\n",
              "      <td>NaN</td>\n",
              "      <td>NaN</td>\n",
              "      <td>NaN</td>\n",
              "      <td>NaN</td>\n",
              "      <td>NaN</td>\n",
              "      <td>NaN</td>\n",
              "      <td>NaN</td>\n",
              "      <td>NaN</td>\n",
              "      <td>NaN</td>\n",
              "      <td>NaN</td>\n",
              "      <td>NaN</td>\n",
              "      <td>connection-timeout</td>\n",
              "      <td>NaN</td>\n",
              "      <td>NaN</td>\n",
              "      <td>NaN</td>\n",
              "      <td>NaN</td>\n",
              "      <td>NaN</td>\n",
              "      <td>NaN</td>\n",
              "      <td>NaN</td>\n",
              "      <td>NaN</td>\n",
              "      <td>NaN</td>\n",
              "      <td>NaN</td>\n",
              "      <td>NaN</td>\n",
              "      <td>proxy</td>\n",
              "      <td>8797.0</td>\n",
              "    </tr>\n",
              "    <tr>\n",
              "      <th>114197</th>\n",
              "      <td>194.44.243.186</td>\n",
              "      <td>2.0</td>\n",
              "      <td>194.0.0.0/8</td>\n",
              "      <td>Allocated to RIPE NCC</td>\n",
              "      <td>RIPE Network Coordination Centre</td>\n",
              "      <td>1.033044e+09</td>\n",
              "      <td>3.0</td>\n",
              "      <td>NaN</td>\n",
              "      <td>NaN</td>\n",
              "      <td>NaN</td>\n",
              "      <td>NaN</td>\n",
              "      <td>NaN</td>\n",
              "      <td>NaN</td>\n",
              "      <td>NaN</td>\n",
              "      <td>NaN</td>\n",
              "      <td>NaN</td>\n",
              "      <td>NaN</td>\n",
              "      <td>NaN</td>\n",
              "      <td>NaN</td>\n",
              "      <td>NaN</td>\n",
              "      <td>NaN</td>\n",
              "      <td>NaN</td>\n",
              "      <td>NaN</td>\n",
              "      <td>NaN</td>\n",
              "      <td>NaN</td>\n",
              "      <td>NaN</td>\n",
              "      <td>NaN</td>\n",
              "      <td>NaN</td>\n",
              "      <td>NaN</td>\n",
              "      <td>NaN</td>\n",
              "      <td>NaN</td>\n",
              "      <td>NaN</td>\n",
              "      <td>NaN</td>\n",
              "      <td>connection-timeout</td>\n",
              "      <td>NaN</td>\n",
              "      <td>NaN</td>\n",
              "      <td>NaN</td>\n",
              "      <td>NaN</td>\n",
              "      <td>NaN</td>\n",
              "      <td>NaN</td>\n",
              "      <td>NaN</td>\n",
              "      <td>NaN</td>\n",
              "      <td>NaN</td>\n",
              "      <td>NaN</td>\n",
              "      <td>NaN</td>\n",
              "      <td>proxy</td>\n",
              "      <td>2344.0</td>\n",
              "    </tr>\n",
              "    <tr>\n",
              "      <th>114198</th>\n",
              "      <td>45.174.249.9</td>\n",
              "      <td>NaN</td>\n",
              "      <td>NaN</td>\n",
              "      <td>NaN</td>\n",
              "      <td>NaN</td>\n",
              "      <td>NaN</td>\n",
              "      <td>0.0</td>\n",
              "      <td>NaN</td>\n",
              "      <td>NaN</td>\n",
              "      <td>NaN</td>\n",
              "      <td>NaN</td>\n",
              "      <td>NaN</td>\n",
              "      <td>NaN</td>\n",
              "      <td>NaN</td>\n",
              "      <td>NaN</td>\n",
              "      <td>NaN</td>\n",
              "      <td>NaN</td>\n",
              "      <td>NaN</td>\n",
              "      <td>NaN</td>\n",
              "      <td>NaN</td>\n",
              "      <td>NaN</td>\n",
              "      <td>NaN</td>\n",
              "      <td>NaN</td>\n",
              "      <td>NaN</td>\n",
              "      <td>NaN</td>\n",
              "      <td>NaN</td>\n",
              "      <td>NaN</td>\n",
              "      <td>NaN</td>\n",
              "      <td>NaN</td>\n",
              "      <td>NaN</td>\n",
              "      <td>NaN</td>\n",
              "      <td>NaN</td>\n",
              "      <td>NaN</td>\n",
              "      <td>unknown-error</td>\n",
              "      <td>NaN</td>\n",
              "      <td>NaN</td>\n",
              "      <td>NaN</td>\n",
              "      <td>NaN</td>\n",
              "      <td>NaN</td>\n",
              "      <td>NaN</td>\n",
              "      <td>NaN</td>\n",
              "      <td>NaN</td>\n",
              "      <td>NaN</td>\n",
              "      <td>NaN</td>\n",
              "      <td>NaN</td>\n",
              "      <td>proxy</td>\n",
              "      <td>3919.0</td>\n",
              "    </tr>\n",
              "    <tr>\n",
              "      <th>114199</th>\n",
              "      <td>111.118.218.126</td>\n",
              "      <td>0.0</td>\n",
              "      <td>NaN</td>\n",
              "      <td>NaN</td>\n",
              "      <td>NaN</td>\n",
              "      <td>NaN</td>\n",
              "      <td>2.0</td>\n",
              "      <td>NaN</td>\n",
              "      <td>NaN</td>\n",
              "      <td>NaN</td>\n",
              "      <td>NaN</td>\n",
              "      <td>NaN</td>\n",
              "      <td>NaN</td>\n",
              "      <td>NaN</td>\n",
              "      <td>NaN</td>\n",
              "      <td>NaN</td>\n",
              "      <td>NaN</td>\n",
              "      <td>NaN</td>\n",
              "      <td>NaN</td>\n",
              "      <td>NaN</td>\n",
              "      <td>NaN</td>\n",
              "      <td>NaN</td>\n",
              "      <td>NaN</td>\n",
              "      <td>NaN</td>\n",
              "      <td>NaN</td>\n",
              "      <td>NaN</td>\n",
              "      <td>NaN</td>\n",
              "      <td>NaN</td>\n",
              "      <td>NaN</td>\n",
              "      <td>NaN</td>\n",
              "      <td>NaN</td>\n",
              "      <td>NaN</td>\n",
              "      <td>NaN</td>\n",
              "      <td>connection-timeout</td>\n",
              "      <td>NaN</td>\n",
              "      <td>NaN</td>\n",
              "      <td>NaN</td>\n",
              "      <td>NaN</td>\n",
              "      <td>NaN</td>\n",
              "      <td>NaN</td>\n",
              "      <td>NaN</td>\n",
              "      <td>NaN</td>\n",
              "      <td>NaN</td>\n",
              "      <td>NaN</td>\n",
              "      <td>NaN</td>\n",
              "      <td>proxy</td>\n",
              "      <td>3849.0</td>\n",
              "    </tr>\n",
              "  </tbody>\n",
              "</table>\n",
              "<p>114200 rows × 47 columns</p>\n",
              "</div>\n",
              "      <button class=\"colab-df-convert\" onclick=\"convertToInteractive('df-4307f6c7-1c5c-44a8-a42e-ac721029cf0e')\"\n",
              "              title=\"Convert this dataframe to an interactive table.\"\n",
              "              style=\"display:none;\">\n",
              "        \n",
              "  <svg xmlns=\"http://www.w3.org/2000/svg\" height=\"24px\"viewBox=\"0 0 24 24\"\n",
              "       width=\"24px\">\n",
              "    <path d=\"M0 0h24v24H0V0z\" fill=\"none\"/>\n",
              "    <path d=\"M18.56 5.44l.94 2.06.94-2.06 2.06-.94-2.06-.94-.94-2.06-.94 2.06-2.06.94zm-11 1L8.5 8.5l.94-2.06 2.06-.94-2.06-.94L8.5 2.5l-.94 2.06-2.06.94zm10 10l.94 2.06.94-2.06 2.06-.94-2.06-.94-.94-2.06-.94 2.06-2.06.94z\"/><path d=\"M17.41 7.96l-1.37-1.37c-.4-.4-.92-.59-1.43-.59-.52 0-1.04.2-1.43.59L10.3 9.45l-7.72 7.72c-.78.78-.78 2.05 0 2.83L4 21.41c.39.39.9.59 1.41.59.51 0 1.02-.2 1.41-.59l7.78-7.78 2.81-2.81c.8-.78.8-2.07 0-2.86zM5.41 20L4 18.59l7.72-7.72 1.47 1.35L5.41 20z\"/>\n",
              "  </svg>\n",
              "      </button>\n",
              "      \n",
              "  <style>\n",
              "    .colab-df-container {\n",
              "      display:flex;\n",
              "      flex-wrap:wrap;\n",
              "      gap: 12px;\n",
              "    }\n",
              "\n",
              "    .colab-df-convert {\n",
              "      background-color: #E8F0FE;\n",
              "      border: none;\n",
              "      border-radius: 50%;\n",
              "      cursor: pointer;\n",
              "      display: none;\n",
              "      fill: #1967D2;\n",
              "      height: 32px;\n",
              "      padding: 0 0 0 0;\n",
              "      width: 32px;\n",
              "    }\n",
              "\n",
              "    .colab-df-convert:hover {\n",
              "      background-color: #E2EBFA;\n",
              "      box-shadow: 0px 1px 2px rgba(60, 64, 67, 0.3), 0px 1px 3px 1px rgba(60, 64, 67, 0.15);\n",
              "      fill: #174EA6;\n",
              "    }\n",
              "\n",
              "    [theme=dark] .colab-df-convert {\n",
              "      background-color: #3B4455;\n",
              "      fill: #D2E3FC;\n",
              "    }\n",
              "\n",
              "    [theme=dark] .colab-df-convert:hover {\n",
              "      background-color: #434B5C;\n",
              "      box-shadow: 0px 1px 3px 1px rgba(0, 0, 0, 0.15);\n",
              "      filter: drop-shadow(0px 1px 2px rgba(0, 0, 0, 0.3));\n",
              "      fill: #FFFFFF;\n",
              "    }\n",
              "  </style>\n",
              "\n",
              "      <script>\n",
              "        const buttonEl =\n",
              "          document.querySelector('#df-4307f6c7-1c5c-44a8-a42e-ac721029cf0e button.colab-df-convert');\n",
              "        buttonEl.style.display =\n",
              "          google.colab.kernel.accessAllowed ? 'block' : 'none';\n",
              "\n",
              "        async function convertToInteractive(key) {\n",
              "          const element = document.querySelector('#df-4307f6c7-1c5c-44a8-a42e-ac721029cf0e');\n",
              "          const dataTable =\n",
              "            await google.colab.kernel.invokeFunction('convertToInteractive',\n",
              "                                                     [key], {});\n",
              "          if (!dataTable) return;\n",
              "\n",
              "          const docLinkHtml = 'Like what you see? Visit the ' +\n",
              "            '<a target=\"_blank\" href=https://colab.research.google.com/notebooks/data_table.ipynb>data table notebook</a>'\n",
              "            + ' to learn more about interactive tables.';\n",
              "          element.innerHTML = '';\n",
              "          dataTable['output_type'] = 'display_data';\n",
              "          await google.colab.output.renderOutput(dataTable, element);\n",
              "          const docLink = document.createElement('div');\n",
              "          docLink.innerHTML = docLinkHtml;\n",
              "          element.appendChild(docLink);\n",
              "        }\n",
              "      </script>\n",
              "    </div>\n",
              "  </div>\n",
              "  "
            ],
            "text/plain": [
              "                     ip  No Of Owners  ... vendor Unnamed: 0_y\n",
              "0           52.84.119.7           NaN  ...    cdn          NaN\n",
              "1         13.227.246.29           0.0  ...    cdn          NaN\n",
              "2        13.226.139.197           3.0  ...    cdn          NaN\n",
              "3         13.224.37.237           NaN  ...    cdn          NaN\n",
              "4         54.230.51.197           2.0  ...    cdn          NaN\n",
              "...                 ...           ...  ...    ...          ...\n",
              "114195     82.114.70.46           1.0  ...  proxy       5100.0\n",
              "114196   187.237.164.37           1.0  ...  proxy       8797.0\n",
              "114197   194.44.243.186           2.0  ...  proxy       2344.0\n",
              "114198     45.174.249.9           NaN  ...  proxy       3919.0\n",
              "114199  111.118.218.126           0.0  ...  proxy       3849.0\n",
              "\n",
              "[114200 rows x 47 columns]"
            ]
          },
          "metadata": {},
          "execution_count": 136
        }
      ]
    },
    {
      "cell_type": "code",
      "source": [
        "def getgeneralCloudfront(x):\n",
        "  if('(CloudFront)' in str(x)):\n",
        "      return 'CloudFront'\n",
        "  else:\n",
        "      return x"
      ],
      "metadata": {
        "id": "Jq9LhSzoESQt"
      },
      "execution_count": null,
      "outputs": []
    },
    {
      "cell_type": "code",
      "source": [
        "def getgeneralServerNames(x):\n",
        "  if('nginx' in str(x)):\n",
        "      return 'nginx'\n",
        "  elif('Apache' in str(x)):\n",
        "      return 'Apache'\n",
        "  else:\n",
        "      return x"
      ],
      "metadata": {
        "id": "VR3iH9LWETpf"
      },
      "execution_count": null,
      "outputs": []
    },
    {
      "cell_type": "code",
      "source": [
        "def getgeneralphp(x):\n",
        "  if (pd.isna(x)):\n",
        "    return \"0\"\n",
        "  else:\n",
        "    if('PHP' in x):\n",
        "      return 'PHP'"
      ],
      "metadata": {
        "id": "3b8fs8fAEU8k"
      },
      "execution_count": null,
      "outputs": []
    },
    {
      "cell_type": "code",
      "source": [
        "def changenullaszero(x):\n",
        "  if (pd.isna(x)): \n",
        "    return \"0\"\n",
        "  else:\n",
        "    return \"1\""
      ],
      "metadata": {
        "id": "2U7uc9EMEWJ9"
      },
      "execution_count": null,
      "outputs": []
    },
    {
      "cell_type": "code",
      "source": [
        "def getCIDRBlockLength(ipadd):\n",
        "   if(pd.isna(ipadd)):\n",
        "     return 0\n",
        "   else:\n",
        "      if(len(ipadd.split(','))==1):\n",
        "        return (2**(32-int(ipadd.split('/')[1])))\n",
        "      else:\n",
        "        sum=0\n",
        "        for i in ipadd.split(','):\n",
        "          sum=sum + (2**(32-int(i.split('/')[1])))\n",
        "        return sum "
      ],
      "metadata": {
        "id": "anpAGoo0LaaB"
      },
      "execution_count": null,
      "outputs": []
    },
    {
      "cell_type": "code",
      "source": [
        "df['data.http.result.response.headers.via.0']  = df[\"data.http.result.response.headers.via.0\"].apply(getgeneralCloudfront)"
      ],
      "metadata": {
        "id": "j03O8IzBOF8V"
      },
      "execution_count": 137,
      "outputs": []
    },
    {
      "cell_type": "code",
      "source": [
        "df['data.http.result.response.status_code'].fillna(-1, inplace=True)\n",
        "df['data.http.result.response.headers.pragma.0'].fillna(-1, inplace=True)\n",
        "df['data.http.result.response.headers.connection.0'].fillna(-1, inplace=True)\n",
        "df['data.http.result.response.headers.via.0']  = df[\"data.http.result.response.headers.via.0\"].apply(getgeneralCloudfront)\n",
        "df['data.http.result.response.headers.via.0'].fillna(-1, inplace=True)\n",
        "df['data.http.result.response.headers.accept_ranges.0'].fillna(-1, inplace=True)\n",
        "df['data.http.result.response.headers.cache_control.0'].fillna(-1, inplace=True)\n",
        "df['data.http.result.response.headers.retry_after.0'].fillna(-1, inplace=True)\n",
        "df['data.http.result.response.body']  = df[\"data.http.result.response.body\"].apply(changenullaszero)\n",
        "df['data.http.result.response.body_sha256']  = df['data.http.result.response.body_sha256'].apply(changenullaszero)\n",
        "df['data.http.result.response.content_length'].fillna(0, inplace=True)\n",
        "df['data.http.result.response.headers.content_type.0'].fillna(-1, inplace=True)\n",
        "df['data.http.result.response.headers.location.0'] = df['data.http.result.response.headers.location.0'].apply(changenullaszero)\n",
        "df['data.http.result.redirect_response_chain.0.status_line'].fillna(-1, inplace=True)\n",
        "df['data.http.result.response.headers.etag.0'] = df['data.http.result.response.headers.etag.0'].apply(changenullaszero)\n",
        "df['data.http.result.response.headers.last_modified.0']  = df['data.http.result.response.headers.last_modified.0'].apply(changenullaszero)\n",
        "df['data.http.result.response.headers.vary.0'].fillna(-1, inplace=True)\n",
        "df['data.http.result.response.transfer_encoding.0'].fillna(-1, inplace=True)\n",
        "df['data.http.result.response.headers.x_powered_by.0'].fillna(-1, inplace=True)\n",
        "df['data.http.result.redirect_response_chain.0.headers.server.0'].fillna(-1, inplace=True)\n",
        "df = df.drop(['data.http.result.redirect_response_chain.0.headers.server.0'],axis=1)\n",
        "df['data.http.result.response.headers.server.0']  = df['data.http.result.response.headers.server.0'].apply(getgeneralServerNames)\n",
        "df['data.http.result.response.headers.server.0'].fillna(-1, inplace=True)"
      ],
      "metadata": {
        "id": "6bu1DoaXEXd7"
      },
      "execution_count": 138,
      "outputs": []
    },
    {
      "cell_type": "code",
      "source": [
        "df['data.http.result.response.headers.server.0'] = le.fit_transform(df['data.http.result.response.headers.server.0'].astype(str))\n",
        "df['data.http.result.response.status_code'] = le.fit_transform(df['data.http.result.response.status_code'].astype(str))\n",
        "df['data.http.result.response.headers.connection.0'] = le.fit_transform(df['data.http.result.response.headers.connection.0'].astype(str))\n",
        "df['data.http.result.response.headers.via.0'] = le.fit_transform(df['data.http.result.response.headers.via.0'].astype(str))\n",
        "df['data.http.result.response.headers.accept_ranges.0'] = le.fit_transform(df['data.http.result.response.headers.accept_ranges.0'].astype(str))\n",
        "df['data.http.result.response.headers.cache_control.0'] = le.fit_transform(df['data.http.result.response.headers.cache_control.0'].astype(str))\n",
        "df['data.http.result.response.headers.retry_after.0'] = le.fit_transform(df['data.http.result.response.headers.retry_after.0'].astype(str))\n",
        "df['data.http.result.response.body'] = le.fit_transform(df['data.http.result.response.body'].astype(str))\n",
        "df['data.http.result.response.body_sha256'] = le.fit_transform(df['data.http.result.response.body_sha256'].astype(str))\n",
        "df['data.http.result.response.headers.content_type.0'] = le.fit_transform(df['data.http.result.response.headers.content_type.0'].astype(str))\n",
        "\n",
        "df['data.http.result.response.headers.location.0'] = le.fit_transform(df['data.http.result.response.headers.location.0'].astype(str))\n",
        "df['data.http.result.redirect_response_chain.0.status_line'] = le.fit_transform(df['data.http.result.redirect_response_chain.0.status_line'].astype(str))\n",
        "df['data.http.result.response.headers.etag.0'] = le.fit_transform(df['data.http.result.response.headers.etag.0'].astype(str))\n",
        "df['data.http.result.response.headers.last_modified.0'] = le.fit_transform(df['data.http.result.response.headers.last_modified.0'].astype(str))\n",
        "df['data.http.result.response.headers.vary.0'] = le.fit_transform(df['data.http.result.response.headers.vary.0'].astype(str))\n",
        "df['data.http.result.response.transfer_encoding.0'] = le.fit_transform(df['data.http.result.response.transfer_encoding.0'].astype(str))\n",
        "\n",
        "df['data.http.result.response.headers.x_powered_by.0'] = le.fit_transform(df['data.http.result.response.headers.x_powered_by.0'].astype(str))\n",
        "df['data.http.result.response.headers.pragma.0'] = le.fit_transform(df['data.http.result.response.headers.pragma.0'].astype(str))\n",
        "df['as_name'] = le.fit_transform(df['as_name'].astype(str))\n",
        "\n",
        "df['as_no'] = le.fit_transform(df['as_no'].astype(str))\n",
        "df['vendor'] = le.fit_transform(df['vendor'].astype(str))\n",
        "\n"
      ],
      "metadata": {
        "id": "EkmFf38qFIPJ"
      },
      "execution_count": 139,
      "outputs": []
    },
    {
      "cell_type": "code",
      "source": [
        "df"
      ],
      "metadata": {
        "colab": {
          "base_uri": "https://localhost:8080/",
          "height": 765
        },
        "id": "GobGihmBFLsP",
        "outputId": "51b9b62e-7432-4164-8740-5397b7dbdbd3"
      },
      "execution_count": 140,
      "outputs": [
        {
          "output_type": "execute_result",
          "data": {
            "text/html": [
              "\n",
              "  <div id=\"df-2be4f05c-39b6-4398-b822-2d0623f476ae\">\n",
              "    <div class=\"colab-df-container\">\n",
              "      <div>\n",
              "<style scoped>\n",
              "    .dataframe tbody tr th:only-of-type {\n",
              "        vertical-align: middle;\n",
              "    }\n",
              "\n",
              "    .dataframe tbody tr th {\n",
              "        vertical-align: top;\n",
              "    }\n",
              "\n",
              "    .dataframe thead th {\n",
              "        text-align: right;\n",
              "    }\n",
              "</style>\n",
              "<table border=\"1\" class=\"dataframe\">\n",
              "  <thead>\n",
              "    <tr style=\"text-align: right;\">\n",
              "      <th></th>\n",
              "      <th>ip</th>\n",
              "      <th>No Of Owners</th>\n",
              "      <th>CIDR</th>\n",
              "      <th>netType</th>\n",
              "      <th>Organization</th>\n",
              "      <th>Most Recent Update</th>\n",
              "      <th>No of Who is Records</th>\n",
              "      <th>data.http.result.response.headers.server.0</th>\n",
              "      <th>data.http.result.response.status_code</th>\n",
              "      <th>data.http.result.response.headers.unknown.0.key</th>\n",
              "      <th>data.http.result.response.headers.unknown.0.value.0</th>\n",
              "      <th>data.http.result.response.headers.connection.0</th>\n",
              "      <th>data.http.result.response.headers.via.0</th>\n",
              "      <th>data.http.result.response.headers.unknown.1.key</th>\n",
              "      <th>data.http.result.response.headers.unknown.1.value.0</th>\n",
              "      <th>data.http.result.response.headers.accept_ranges.0</th>\n",
              "      <th>data.http.result.response.headers.cache_control.0</th>\n",
              "      <th>data.http.result.response.headers.retry_after.0</th>\n",
              "      <th>data.http.result.response.body</th>\n",
              "      <th>data.http.result.response.body_sha256</th>\n",
              "      <th>data.http.result.response.content_length</th>\n",
              "      <th>data.http.result.response.headers.content_type.0</th>\n",
              "      <th>data.http.result.response.headers.location.0</th>\n",
              "      <th>data.http.result.redirect_response_chain.0.status_line</th>\n",
              "      <th>data.http.result.response.headers.etag.0</th>\n",
              "      <th>data.http.result.response.headers.last_modified.0</th>\n",
              "      <th>data.http.result.response.headers.vary.0</th>\n",
              "      <th>data.http.result.response.transfer_encoding.0</th>\n",
              "      <th>data.http.result.response.headers.x_powered_by.0</th>\n",
              "      <th>data.http.result.response.headers.pragma.0</th>\n",
              "      <th>as_name</th>\n",
              "      <th>as_no</th>\n",
              "      <th>data.tls.status</th>\n",
              "      <th>data.tls.result.handshake_log.server_certificates.certificate.parsed.issuer.common_name</th>\n",
              "      <th>data.tls.result.handshake_log.server_certificates.certificate.parsed.issuer.country</th>\n",
              "      <th>data.tls.result.handshake_log.server_certificates.certificate.parsed.issuer.organization</th>\n",
              "      <th>data.tls.result.handshake_log.server_certificates.certificate.parsed.issuer_dn</th>\n",
              "      <th>data.tls.result.handshake_log.server_certificates.certificate.parsed.subject.common_name</th>\n",
              "      <th>data.tls.result.handshake_log.server_certificates.certificate.parsed.subject.country</th>\n",
              "      <th>data.tls.result.handshake_log.server_certificates.certificate.parsed.subject.locality</th>\n",
              "      <th>data.tls.result.handshake_log.server_certificates.certificate.parsed.subject.province</th>\n",
              "      <th>data.tls.result.handshake_log.server_certificates.certificate.parsed.subject.organization</th>\n",
              "      <th>data.tls.result.handshake_log.server_certificates.certificate.parsed.subject_dn</th>\n",
              "      <th>data.tls.result.handshake_log.server_certificates.certificate.parsed.extensions.subject_alt_name.dns_names</th>\n",
              "      <th>vendor</th>\n",
              "      <th>Unnamed: 0_y</th>\n",
              "    </tr>\n",
              "  </thead>\n",
              "  <tbody>\n",
              "    <tr>\n",
              "      <th>0</th>\n",
              "      <td>52.84.119.7</td>\n",
              "      <td>NaN</td>\n",
              "      <td>NaN</td>\n",
              "      <td>NaN</td>\n",
              "      <td>NaN</td>\n",
              "      <td>NaN</td>\n",
              "      <td>0.0</td>\n",
              "      <td>1</td>\n",
              "      <td>0</td>\n",
              "      <td>NaN</td>\n",
              "      <td>NaN</td>\n",
              "      <td>0</td>\n",
              "      <td>0</td>\n",
              "      <td>NaN</td>\n",
              "      <td>NaN</td>\n",
              "      <td>0</td>\n",
              "      <td>0</td>\n",
              "      <td>0</td>\n",
              "      <td>0</td>\n",
              "      <td>0</td>\n",
              "      <td>0.0</td>\n",
              "      <td>2</td>\n",
              "      <td>0</td>\n",
              "      <td>0</td>\n",
              "      <td>0</td>\n",
              "      <td>0</td>\n",
              "      <td>2</td>\n",
              "      <td>0</td>\n",
              "      <td>0</td>\n",
              "      <td>0</td>\n",
              "      <td>5</td>\n",
              "      <td>17</td>\n",
              "      <td>success</td>\n",
              "      <td>['Go Daddy Secure Certificate Authority - G2']</td>\n",
              "      <td>['US']</td>\n",
              "      <td>['GoDaddy.com, Inc.']</td>\n",
              "      <td>C=US, ST=Arizona, L=Scottsdale, O=GoDaddy.com,...</td>\n",
              "      <td>['*.memestech.co']</td>\n",
              "      <td>NaN</td>\n",
              "      <td>NaN</td>\n",
              "      <td>NaN</td>\n",
              "      <td>NaN</td>\n",
              "      <td>CN=*.memestech.co</td>\n",
              "      <td>['*.memestech.co', 'memestech.co']</td>\n",
              "      <td>0</td>\n",
              "      <td>NaN</td>\n",
              "    </tr>\n",
              "    <tr>\n",
              "      <th>1</th>\n",
              "      <td>13.227.246.29</td>\n",
              "      <td>0.0</td>\n",
              "      <td>NaN</td>\n",
              "      <td>NaN</td>\n",
              "      <td>NaN</td>\n",
              "      <td>NaN</td>\n",
              "      <td>1.0</td>\n",
              "      <td>55</td>\n",
              "      <td>14</td>\n",
              "      <td>x_cache</td>\n",
              "      <td>Error from cloudfront</td>\n",
              "      <td>6</td>\n",
              "      <td>52</td>\n",
              "      <td>x_amz_cf_id</td>\n",
              "      <td>-PFuTwKxIdQThIHUQGvHO10CCgNtrBEAOO3HigMJQxMrkf...</td>\n",
              "      <td>0</td>\n",
              "      <td>0</td>\n",
              "      <td>0</td>\n",
              "      <td>1</td>\n",
              "      <td>1</td>\n",
              "      <td>915.0</td>\n",
              "      <td>47</td>\n",
              "      <td>0</td>\n",
              "      <td>0</td>\n",
              "      <td>0</td>\n",
              "      <td>0</td>\n",
              "      <td>2</td>\n",
              "      <td>0</td>\n",
              "      <td>0</td>\n",
              "      <td>0</td>\n",
              "      <td>105</td>\n",
              "      <td>106</td>\n",
              "      <td>unknown-error</td>\n",
              "      <td>NaN</td>\n",
              "      <td>NaN</td>\n",
              "      <td>NaN</td>\n",
              "      <td>NaN</td>\n",
              "      <td>NaN</td>\n",
              "      <td>NaN</td>\n",
              "      <td>NaN</td>\n",
              "      <td>NaN</td>\n",
              "      <td>NaN</td>\n",
              "      <td>NaN</td>\n",
              "      <td>NaN</td>\n",
              "      <td>0</td>\n",
              "      <td>NaN</td>\n",
              "    </tr>\n",
              "    <tr>\n",
              "      <th>2</th>\n",
              "      <td>13.226.139.197</td>\n",
              "      <td>3.0</td>\n",
              "      <td>13.224.0.0/14</td>\n",
              "      <td>Reallocated</td>\n",
              "      <td>Amazon Technologies Inc.</td>\n",
              "      <td>1.585613e+09</td>\n",
              "      <td>3.0</td>\n",
              "      <td>55</td>\n",
              "      <td>14</td>\n",
              "      <td>x_amz_cf_pop</td>\n",
              "      <td>YTO50-C2</td>\n",
              "      <td>6</td>\n",
              "      <td>52</td>\n",
              "      <td>x_amz_cf_id</td>\n",
              "      <td>_yWi2zPGH83eZQ_1X5dcM9PgxGoZ144D1t-25XD2rf5B8z...</td>\n",
              "      <td>0</td>\n",
              "      <td>0</td>\n",
              "      <td>0</td>\n",
              "      <td>1</td>\n",
              "      <td>1</td>\n",
              "      <td>915.0</td>\n",
              "      <td>47</td>\n",
              "      <td>0</td>\n",
              "      <td>0</td>\n",
              "      <td>0</td>\n",
              "      <td>0</td>\n",
              "      <td>2</td>\n",
              "      <td>0</td>\n",
              "      <td>0</td>\n",
              "      <td>0</td>\n",
              "      <td>105</td>\n",
              "      <td>106</td>\n",
              "      <td>unknown-error</td>\n",
              "      <td>NaN</td>\n",
              "      <td>NaN</td>\n",
              "      <td>NaN</td>\n",
              "      <td>NaN</td>\n",
              "      <td>NaN</td>\n",
              "      <td>NaN</td>\n",
              "      <td>NaN</td>\n",
              "      <td>NaN</td>\n",
              "      <td>NaN</td>\n",
              "      <td>NaN</td>\n",
              "      <td>NaN</td>\n",
              "      <td>0</td>\n",
              "      <td>NaN</td>\n",
              "    </tr>\n",
              "    <tr>\n",
              "      <th>3</th>\n",
              "      <td>13.224.37.237</td>\n",
              "      <td>NaN</td>\n",
              "      <td>NaN</td>\n",
              "      <td>NaN</td>\n",
              "      <td>NaN</td>\n",
              "      <td>NaN</td>\n",
              "      <td>0.0</td>\n",
              "      <td>55</td>\n",
              "      <td>14</td>\n",
              "      <td>x_amz_cf_pop</td>\n",
              "      <td>YTO50-C1</td>\n",
              "      <td>6</td>\n",
              "      <td>52</td>\n",
              "      <td>x_cache</td>\n",
              "      <td>Error from cloudfront</td>\n",
              "      <td>0</td>\n",
              "      <td>0</td>\n",
              "      <td>0</td>\n",
              "      <td>1</td>\n",
              "      <td>1</td>\n",
              "      <td>915.0</td>\n",
              "      <td>47</td>\n",
              "      <td>0</td>\n",
              "      <td>0</td>\n",
              "      <td>0</td>\n",
              "      <td>0</td>\n",
              "      <td>2</td>\n",
              "      <td>0</td>\n",
              "      <td>0</td>\n",
              "      <td>0</td>\n",
              "      <td>5</td>\n",
              "      <td>17</td>\n",
              "      <td>success</td>\n",
              "      <td>['Amazon']</td>\n",
              "      <td>['US']</td>\n",
              "      <td>['Amazon']</td>\n",
              "      <td>C=US, O=Amazon, OU=Server CA 1B, CN=Amazon</td>\n",
              "      <td>['*.awsapps.com']</td>\n",
              "      <td>NaN</td>\n",
              "      <td>NaN</td>\n",
              "      <td>NaN</td>\n",
              "      <td>NaN</td>\n",
              "      <td>CN=*.awsapps.com</td>\n",
              "      <td>['*.awsapps.com', '*.awsapps.net']</td>\n",
              "      <td>0</td>\n",
              "      <td>NaN</td>\n",
              "    </tr>\n",
              "    <tr>\n",
              "      <th>4</th>\n",
              "      <td>54.230.51.197</td>\n",
              "      <td>2.0</td>\n",
              "      <td>54.230.0.0/15</td>\n",
              "      <td>Reassigned</td>\n",
              "      <td>Amazon Technologies Inc.</td>\n",
              "      <td>1.586218e+09</td>\n",
              "      <td>3.0</td>\n",
              "      <td>55</td>\n",
              "      <td>14</td>\n",
              "      <td>x_cache</td>\n",
              "      <td>Error from cloudfront</td>\n",
              "      <td>6</td>\n",
              "      <td>52</td>\n",
              "      <td>x_amz_cf_id</td>\n",
              "      <td>dwi8aXW-ficqvcWwaORN-qon16JmHiqyiEOmmrnP0ordwi...</td>\n",
              "      <td>0</td>\n",
              "      <td>0</td>\n",
              "      <td>0</td>\n",
              "      <td>1</td>\n",
              "      <td>1</td>\n",
              "      <td>915.0</td>\n",
              "      <td>47</td>\n",
              "      <td>0</td>\n",
              "      <td>0</td>\n",
              "      <td>0</td>\n",
              "      <td>0</td>\n",
              "      <td>2</td>\n",
              "      <td>0</td>\n",
              "      <td>0</td>\n",
              "      <td>0</td>\n",
              "      <td>5</td>\n",
              "      <td>17</td>\n",
              "      <td>success</td>\n",
              "      <td>['Amazon']</td>\n",
              "      <td>['US']</td>\n",
              "      <td>['Amazon']</td>\n",
              "      <td>C=US, O=Amazon, OU=Server CA 1B, CN=Amazon</td>\n",
              "      <td>['*.cloudfront.net']</td>\n",
              "      <td>NaN</td>\n",
              "      <td>NaN</td>\n",
              "      <td>NaN</td>\n",
              "      <td>NaN</td>\n",
              "      <td>CN=*.cloudfront.net</td>\n",
              "      <td>['cloudfront.net', '*.cloudfront.net']</td>\n",
              "      <td>0</td>\n",
              "      <td>NaN</td>\n",
              "    </tr>\n",
              "    <tr>\n",
              "      <th>...</th>\n",
              "      <td>...</td>\n",
              "      <td>...</td>\n",
              "      <td>...</td>\n",
              "      <td>...</td>\n",
              "      <td>...</td>\n",
              "      <td>...</td>\n",
              "      <td>...</td>\n",
              "      <td>...</td>\n",
              "      <td>...</td>\n",
              "      <td>...</td>\n",
              "      <td>...</td>\n",
              "      <td>...</td>\n",
              "      <td>...</td>\n",
              "      <td>...</td>\n",
              "      <td>...</td>\n",
              "      <td>...</td>\n",
              "      <td>...</td>\n",
              "      <td>...</td>\n",
              "      <td>...</td>\n",
              "      <td>...</td>\n",
              "      <td>...</td>\n",
              "      <td>...</td>\n",
              "      <td>...</td>\n",
              "      <td>...</td>\n",
              "      <td>...</td>\n",
              "      <td>...</td>\n",
              "      <td>...</td>\n",
              "      <td>...</td>\n",
              "      <td>...</td>\n",
              "      <td>...</td>\n",
              "      <td>...</td>\n",
              "      <td>...</td>\n",
              "      <td>...</td>\n",
              "      <td>...</td>\n",
              "      <td>...</td>\n",
              "      <td>...</td>\n",
              "      <td>...</td>\n",
              "      <td>...</td>\n",
              "      <td>...</td>\n",
              "      <td>...</td>\n",
              "      <td>...</td>\n",
              "      <td>...</td>\n",
              "      <td>...</td>\n",
              "      <td>...</td>\n",
              "      <td>...</td>\n",
              "      <td>...</td>\n",
              "    </tr>\n",
              "    <tr>\n",
              "      <th>114195</th>\n",
              "      <td>82.114.70.46</td>\n",
              "      <td>1.0</td>\n",
              "      <td>82.0.0.0/8</td>\n",
              "      <td>Allocated to RIPE NCC</td>\n",
              "      <td>RIPE Network Coordination Centre</td>\n",
              "      <td>1.109418e+09</td>\n",
              "      <td>1.0</td>\n",
              "      <td>28</td>\n",
              "      <td>14</td>\n",
              "      <td>NaN</td>\n",
              "      <td>NaN</td>\n",
              "      <td>0</td>\n",
              "      <td>0</td>\n",
              "      <td>NaN</td>\n",
              "      <td>NaN</td>\n",
              "      <td>1</td>\n",
              "      <td>0</td>\n",
              "      <td>0</td>\n",
              "      <td>1</td>\n",
              "      <td>1</td>\n",
              "      <td>4961.0</td>\n",
              "      <td>58</td>\n",
              "      <td>0</td>\n",
              "      <td>0</td>\n",
              "      <td>0</td>\n",
              "      <td>0</td>\n",
              "      <td>2</td>\n",
              "      <td>0</td>\n",
              "      <td>0</td>\n",
              "      <td>0</td>\n",
              "      <td>104</td>\n",
              "      <td>105</td>\n",
              "      <td>connection-timeout</td>\n",
              "      <td>NaN</td>\n",
              "      <td>NaN</td>\n",
              "      <td>NaN</td>\n",
              "      <td>NaN</td>\n",
              "      <td>NaN</td>\n",
              "      <td>NaN</td>\n",
              "      <td>NaN</td>\n",
              "      <td>NaN</td>\n",
              "      <td>NaN</td>\n",
              "      <td>NaN</td>\n",
              "      <td>NaN</td>\n",
              "      <td>3</td>\n",
              "      <td>5100.0</td>\n",
              "    </tr>\n",
              "    <tr>\n",
              "      <th>114196</th>\n",
              "      <td>187.237.164.37</td>\n",
              "      <td>1.0</td>\n",
              "      <td>187.0.0.0/8</td>\n",
              "      <td>Allocated to LACNIC</td>\n",
              "      <td>Latin American and Caribbean IP address Region...</td>\n",
              "      <td>1.521072e+09</td>\n",
              "      <td>2.0</td>\n",
              "      <td>1</td>\n",
              "      <td>0</td>\n",
              "      <td>NaN</td>\n",
              "      <td>NaN</td>\n",
              "      <td>0</td>\n",
              "      <td>0</td>\n",
              "      <td>NaN</td>\n",
              "      <td>NaN</td>\n",
              "      <td>0</td>\n",
              "      <td>0</td>\n",
              "      <td>0</td>\n",
              "      <td>0</td>\n",
              "      <td>0</td>\n",
              "      <td>0.0</td>\n",
              "      <td>2</td>\n",
              "      <td>0</td>\n",
              "      <td>0</td>\n",
              "      <td>0</td>\n",
              "      <td>0</td>\n",
              "      <td>2</td>\n",
              "      <td>0</td>\n",
              "      <td>0</td>\n",
              "      <td>0</td>\n",
              "      <td>104</td>\n",
              "      <td>105</td>\n",
              "      <td>connection-timeout</td>\n",
              "      <td>NaN</td>\n",
              "      <td>NaN</td>\n",
              "      <td>NaN</td>\n",
              "      <td>NaN</td>\n",
              "      <td>NaN</td>\n",
              "      <td>NaN</td>\n",
              "      <td>NaN</td>\n",
              "      <td>NaN</td>\n",
              "      <td>NaN</td>\n",
              "      <td>NaN</td>\n",
              "      <td>NaN</td>\n",
              "      <td>3</td>\n",
              "      <td>8797.0</td>\n",
              "    </tr>\n",
              "    <tr>\n",
              "      <th>114197</th>\n",
              "      <td>194.44.243.186</td>\n",
              "      <td>2.0</td>\n",
              "      <td>194.0.0.0/8</td>\n",
              "      <td>Allocated to RIPE NCC</td>\n",
              "      <td>RIPE Network Coordination Centre</td>\n",
              "      <td>1.033044e+09</td>\n",
              "      <td>3.0</td>\n",
              "      <td>1</td>\n",
              "      <td>0</td>\n",
              "      <td>NaN</td>\n",
              "      <td>NaN</td>\n",
              "      <td>0</td>\n",
              "      <td>0</td>\n",
              "      <td>NaN</td>\n",
              "      <td>NaN</td>\n",
              "      <td>0</td>\n",
              "      <td>0</td>\n",
              "      <td>0</td>\n",
              "      <td>0</td>\n",
              "      <td>0</td>\n",
              "      <td>0.0</td>\n",
              "      <td>2</td>\n",
              "      <td>0</td>\n",
              "      <td>0</td>\n",
              "      <td>0</td>\n",
              "      <td>0</td>\n",
              "      <td>2</td>\n",
              "      <td>0</td>\n",
              "      <td>0</td>\n",
              "      <td>0</td>\n",
              "      <td>104</td>\n",
              "      <td>105</td>\n",
              "      <td>connection-timeout</td>\n",
              "      <td>NaN</td>\n",
              "      <td>NaN</td>\n",
              "      <td>NaN</td>\n",
              "      <td>NaN</td>\n",
              "      <td>NaN</td>\n",
              "      <td>NaN</td>\n",
              "      <td>NaN</td>\n",
              "      <td>NaN</td>\n",
              "      <td>NaN</td>\n",
              "      <td>NaN</td>\n",
              "      <td>NaN</td>\n",
              "      <td>3</td>\n",
              "      <td>2344.0</td>\n",
              "    </tr>\n",
              "    <tr>\n",
              "      <th>114198</th>\n",
              "      <td>45.174.249.9</td>\n",
              "      <td>NaN</td>\n",
              "      <td>NaN</td>\n",
              "      <td>NaN</td>\n",
              "      <td>NaN</td>\n",
              "      <td>NaN</td>\n",
              "      <td>0.0</td>\n",
              "      <td>1</td>\n",
              "      <td>0</td>\n",
              "      <td>NaN</td>\n",
              "      <td>NaN</td>\n",
              "      <td>0</td>\n",
              "      <td>0</td>\n",
              "      <td>NaN</td>\n",
              "      <td>NaN</td>\n",
              "      <td>0</td>\n",
              "      <td>0</td>\n",
              "      <td>0</td>\n",
              "      <td>0</td>\n",
              "      <td>0</td>\n",
              "      <td>0.0</td>\n",
              "      <td>2</td>\n",
              "      <td>0</td>\n",
              "      <td>0</td>\n",
              "      <td>0</td>\n",
              "      <td>0</td>\n",
              "      <td>2</td>\n",
              "      <td>0</td>\n",
              "      <td>0</td>\n",
              "      <td>0</td>\n",
              "      <td>104</td>\n",
              "      <td>105</td>\n",
              "      <td>unknown-error</td>\n",
              "      <td>NaN</td>\n",
              "      <td>NaN</td>\n",
              "      <td>NaN</td>\n",
              "      <td>NaN</td>\n",
              "      <td>NaN</td>\n",
              "      <td>NaN</td>\n",
              "      <td>NaN</td>\n",
              "      <td>NaN</td>\n",
              "      <td>NaN</td>\n",
              "      <td>NaN</td>\n",
              "      <td>NaN</td>\n",
              "      <td>3</td>\n",
              "      <td>3919.0</td>\n",
              "    </tr>\n",
              "    <tr>\n",
              "      <th>114199</th>\n",
              "      <td>111.118.218.126</td>\n",
              "      <td>0.0</td>\n",
              "      <td>NaN</td>\n",
              "      <td>NaN</td>\n",
              "      <td>NaN</td>\n",
              "      <td>NaN</td>\n",
              "      <td>2.0</td>\n",
              "      <td>1</td>\n",
              "      <td>0</td>\n",
              "      <td>NaN</td>\n",
              "      <td>NaN</td>\n",
              "      <td>0</td>\n",
              "      <td>0</td>\n",
              "      <td>NaN</td>\n",
              "      <td>NaN</td>\n",
              "      <td>0</td>\n",
              "      <td>0</td>\n",
              "      <td>0</td>\n",
              "      <td>0</td>\n",
              "      <td>0</td>\n",
              "      <td>0.0</td>\n",
              "      <td>2</td>\n",
              "      <td>0</td>\n",
              "      <td>0</td>\n",
              "      <td>0</td>\n",
              "      <td>0</td>\n",
              "      <td>2</td>\n",
              "      <td>0</td>\n",
              "      <td>0</td>\n",
              "      <td>0</td>\n",
              "      <td>104</td>\n",
              "      <td>105</td>\n",
              "      <td>connection-timeout</td>\n",
              "      <td>NaN</td>\n",
              "      <td>NaN</td>\n",
              "      <td>NaN</td>\n",
              "      <td>NaN</td>\n",
              "      <td>NaN</td>\n",
              "      <td>NaN</td>\n",
              "      <td>NaN</td>\n",
              "      <td>NaN</td>\n",
              "      <td>NaN</td>\n",
              "      <td>NaN</td>\n",
              "      <td>NaN</td>\n",
              "      <td>3</td>\n",
              "      <td>3849.0</td>\n",
              "    </tr>\n",
              "  </tbody>\n",
              "</table>\n",
              "<p>114200 rows × 46 columns</p>\n",
              "</div>\n",
              "      <button class=\"colab-df-convert\" onclick=\"convertToInteractive('df-2be4f05c-39b6-4398-b822-2d0623f476ae')\"\n",
              "              title=\"Convert this dataframe to an interactive table.\"\n",
              "              style=\"display:none;\">\n",
              "        \n",
              "  <svg xmlns=\"http://www.w3.org/2000/svg\" height=\"24px\"viewBox=\"0 0 24 24\"\n",
              "       width=\"24px\">\n",
              "    <path d=\"M0 0h24v24H0V0z\" fill=\"none\"/>\n",
              "    <path d=\"M18.56 5.44l.94 2.06.94-2.06 2.06-.94-2.06-.94-.94-2.06-.94 2.06-2.06.94zm-11 1L8.5 8.5l.94-2.06 2.06-.94-2.06-.94L8.5 2.5l-.94 2.06-2.06.94zm10 10l.94 2.06.94-2.06 2.06-.94-2.06-.94-.94-2.06-.94 2.06-2.06.94z\"/><path d=\"M17.41 7.96l-1.37-1.37c-.4-.4-.92-.59-1.43-.59-.52 0-1.04.2-1.43.59L10.3 9.45l-7.72 7.72c-.78.78-.78 2.05 0 2.83L4 21.41c.39.39.9.59 1.41.59.51 0 1.02-.2 1.41-.59l7.78-7.78 2.81-2.81c.8-.78.8-2.07 0-2.86zM5.41 20L4 18.59l7.72-7.72 1.47 1.35L5.41 20z\"/>\n",
              "  </svg>\n",
              "      </button>\n",
              "      \n",
              "  <style>\n",
              "    .colab-df-container {\n",
              "      display:flex;\n",
              "      flex-wrap:wrap;\n",
              "      gap: 12px;\n",
              "    }\n",
              "\n",
              "    .colab-df-convert {\n",
              "      background-color: #E8F0FE;\n",
              "      border: none;\n",
              "      border-radius: 50%;\n",
              "      cursor: pointer;\n",
              "      display: none;\n",
              "      fill: #1967D2;\n",
              "      height: 32px;\n",
              "      padding: 0 0 0 0;\n",
              "      width: 32px;\n",
              "    }\n",
              "\n",
              "    .colab-df-convert:hover {\n",
              "      background-color: #E2EBFA;\n",
              "      box-shadow: 0px 1px 2px rgba(60, 64, 67, 0.3), 0px 1px 3px 1px rgba(60, 64, 67, 0.15);\n",
              "      fill: #174EA6;\n",
              "    }\n",
              "\n",
              "    [theme=dark] .colab-df-convert {\n",
              "      background-color: #3B4455;\n",
              "      fill: #D2E3FC;\n",
              "    }\n",
              "\n",
              "    [theme=dark] .colab-df-convert:hover {\n",
              "      background-color: #434B5C;\n",
              "      box-shadow: 0px 1px 3px 1px rgba(0, 0, 0, 0.15);\n",
              "      filter: drop-shadow(0px 1px 2px rgba(0, 0, 0, 0.3));\n",
              "      fill: #FFFFFF;\n",
              "    }\n",
              "  </style>\n",
              "\n",
              "      <script>\n",
              "        const buttonEl =\n",
              "          document.querySelector('#df-2be4f05c-39b6-4398-b822-2d0623f476ae button.colab-df-convert');\n",
              "        buttonEl.style.display =\n",
              "          google.colab.kernel.accessAllowed ? 'block' : 'none';\n",
              "\n",
              "        async function convertToInteractive(key) {\n",
              "          const element = document.querySelector('#df-2be4f05c-39b6-4398-b822-2d0623f476ae');\n",
              "          const dataTable =\n",
              "            await google.colab.kernel.invokeFunction('convertToInteractive',\n",
              "                                                     [key], {});\n",
              "          if (!dataTable) return;\n",
              "\n",
              "          const docLinkHtml = 'Like what you see? Visit the ' +\n",
              "            '<a target=\"_blank\" href=https://colab.research.google.com/notebooks/data_table.ipynb>data table notebook</a>'\n",
              "            + ' to learn more about interactive tables.';\n",
              "          element.innerHTML = '';\n",
              "          dataTable['output_type'] = 'display_data';\n",
              "          await google.colab.output.renderOutput(dataTable, element);\n",
              "          const docLink = document.createElement('div');\n",
              "          docLink.innerHTML = docLinkHtml;\n",
              "          element.appendChild(docLink);\n",
              "        }\n",
              "      </script>\n",
              "    </div>\n",
              "  </div>\n",
              "  "
            ],
            "text/plain": [
              "                     ip  No Of Owners  ... vendor Unnamed: 0_y\n",
              "0           52.84.119.7           NaN  ...      0          NaN\n",
              "1         13.227.246.29           0.0  ...      0          NaN\n",
              "2        13.226.139.197           3.0  ...      0          NaN\n",
              "3         13.224.37.237           NaN  ...      0          NaN\n",
              "4         54.230.51.197           2.0  ...      0          NaN\n",
              "...                 ...           ...  ...    ...          ...\n",
              "114195     82.114.70.46           1.0  ...      3       5100.0\n",
              "114196   187.237.164.37           1.0  ...      3       8797.0\n",
              "114197   194.44.243.186           2.0  ...      3       2344.0\n",
              "114198     45.174.249.9           NaN  ...      3       3919.0\n",
              "114199  111.118.218.126           0.0  ...      3       3849.0\n",
              "\n",
              "[114200 rows x 46 columns]"
            ]
          },
          "metadata": {},
          "execution_count": 140
        }
      ]
    },
    {
      "cell_type": "code",
      "source": [
        "df.columns"
      ],
      "metadata": {
        "colab": {
          "base_uri": "https://localhost:8080/"
        },
        "id": "cZPrFYl2Jzut",
        "outputId": "3705fcc2-b365-4f6e-91eb-3fcc1074cc59"
      },
      "execution_count": 141,
      "outputs": [
        {
          "output_type": "execute_result",
          "data": {
            "text/plain": [
              "Index(['ip', 'No Of Owners', 'CIDR', 'netType', 'Organization',\n",
              "       'Most Recent Update', 'No of Who is Records',\n",
              "       'data.http.result.response.headers.server.0',\n",
              "       'data.http.result.response.status_code',\n",
              "       'data.http.result.response.headers.unknown.0.key',\n",
              "       'data.http.result.response.headers.unknown.0.value.0',\n",
              "       'data.http.result.response.headers.connection.0',\n",
              "       'data.http.result.response.headers.via.0',\n",
              "       'data.http.result.response.headers.unknown.1.key',\n",
              "       'data.http.result.response.headers.unknown.1.value.0',\n",
              "       'data.http.result.response.headers.accept_ranges.0',\n",
              "       'data.http.result.response.headers.cache_control.0',\n",
              "       'data.http.result.response.headers.retry_after.0',\n",
              "       'data.http.result.response.body',\n",
              "       'data.http.result.response.body_sha256',\n",
              "       'data.http.result.response.content_length',\n",
              "       'data.http.result.response.headers.content_type.0',\n",
              "       'data.http.result.response.headers.location.0',\n",
              "       'data.http.result.redirect_response_chain.0.status_line',\n",
              "       'data.http.result.response.headers.etag.0',\n",
              "       'data.http.result.response.headers.last_modified.0',\n",
              "       'data.http.result.response.headers.vary.0',\n",
              "       'data.http.result.response.transfer_encoding.0',\n",
              "       'data.http.result.response.headers.x_powered_by.0',\n",
              "       'data.http.result.response.headers.pragma.0', 'as_name', 'as_no',\n",
              "       'data.tls.status',\n",
              "       'data.tls.result.handshake_log.server_certificates.certificate.parsed.issuer.common_name',\n",
              "       'data.tls.result.handshake_log.server_certificates.certificate.parsed.issuer.country',\n",
              "       'data.tls.result.handshake_log.server_certificates.certificate.parsed.issuer.organization',\n",
              "       'data.tls.result.handshake_log.server_certificates.certificate.parsed.issuer_dn',\n",
              "       'data.tls.result.handshake_log.server_certificates.certificate.parsed.subject.common_name',\n",
              "       'data.tls.result.handshake_log.server_certificates.certificate.parsed.subject.country',\n",
              "       'data.tls.result.handshake_log.server_certificates.certificate.parsed.subject.locality',\n",
              "       'data.tls.result.handshake_log.server_certificates.certificate.parsed.subject.province',\n",
              "       'data.tls.result.handshake_log.server_certificates.certificate.parsed.subject.organization',\n",
              "       'data.tls.result.handshake_log.server_certificates.certificate.parsed.subject_dn',\n",
              "       'data.tls.result.handshake_log.server_certificates.certificate.parsed.extensions.subject_alt_name.dns_names',\n",
              "       'vendor', 'Unnamed: 0_y'],\n",
              "      dtype='object')"
            ]
          },
          "metadata": {},
          "execution_count": 141
        }
      ]
    },
    {
      "cell_type": "code",
      "source": [
        "df = df.drop(['data.http.result.response.headers.unknown.0.key'],axis=1)\n",
        "df = df.drop(['data.http.result.response.headers.unknown.0.value.0'],axis=1)\n",
        "df = df.drop(['data.http.result.response.headers.unknown.1.key'],axis=1)\n",
        "df = df.drop(['data.http.result.response.headers.unknown.1.value.0'],axis=1)"
      ],
      "metadata": {
        "id": "HNYGwmG7FTnH"
      },
      "execution_count": 142,
      "outputs": []
    },
    {
      "cell_type": "code",
      "source": [
        "df['No of Who is Records'].count()"
      ],
      "metadata": {
        "colab": {
          "base_uri": "https://localhost:8080/"
        },
        "id": "Fff0sOlix3Lz",
        "outputId": "ee16c09b-b0a3-478f-85ac-81d1a2722c63"
      },
      "execution_count": 143,
      "outputs": [
        {
          "output_type": "execute_result",
          "data": {
            "text/plain": [
              "114060"
            ]
          },
          "metadata": {},
          "execution_count": 143
        }
      ]
    },
    {
      "cell_type": "code",
      "source": [
        "df = df.dropna(subset=['No of Who is Records'])"
      ],
      "metadata": {
        "id": "ZofLE2mt37k3"
      },
      "execution_count": 144,
      "outputs": []
    },
    {
      "cell_type": "code",
      "source": [
        "df[\"Net Size\"] = df[\"CIDR\"].apply(getCIDRBlockLength)"
      ],
      "metadata": {
        "id": "eveMKlXLM527"
      },
      "execution_count": null,
      "outputs": []
    },
    {
      "cell_type": "code",
      "source": [
        "df['CIDR']"
      ],
      "metadata": {
        "colab": {
          "base_uri": "https://localhost:8080/"
        },
        "id": "I95sePk3Iahq",
        "outputId": "3faeba02-5b34-4707-d3ce-a7fb0f6a5ba2"
      },
      "execution_count": null,
      "outputs": [
        {
          "output_type": "execute_result",
          "data": {
            "text/plain": [
              "3         151.101.0.0/16\n",
              "5           13.35.0.0/16\n",
              "7          54.224.0.0/12\n",
              "8           52.84.0.0/15\n",
              "9          13.249.0.0/16\n",
              "               ...      \n",
              "114189       103.0.0.0/8\n",
              "114192       112.0.0.0/8\n",
              "114195       116.0.0.0/8\n",
              "114196     98.162.0.0/17\n",
              "114198        46.0.0.0/8\n",
              "Name: CIDR, Length: 77040, dtype: object"
            ]
          },
          "metadata": {},
          "execution_count": 116
        }
      ]
    },
    {
      "cell_type": "code",
      "source": [
        "df['No Of Owners'].count()"
      ],
      "metadata": {
        "colab": {
          "base_uri": "https://localhost:8080/"
        },
        "id": "72MYdkWsHDC3",
        "outputId": "8ce20231-5aa1-473a-f43c-9b5d0c043cc7"
      },
      "execution_count": null,
      "outputs": [
        {
          "output_type": "execute_result",
          "data": {
            "text/plain": [
              "77040"
            ]
          },
          "metadata": {},
          "execution_count": 117
        }
      ]
    },
    {
      "cell_type": "code",
      "source": [
        "df['No of Who is Records'].plot.kde(title='PDF - Whois CIDR Block Size')"
      ],
      "metadata": {
        "colab": {
          "base_uri": "https://localhost:8080/",
          "height": 298
        },
        "id": "nvuaMA9AZOkM",
        "outputId": "79c4da31-deb2-4726-bc87-1bed062503a9"
      },
      "execution_count": 145,
      "outputs": [
        {
          "output_type": "execute_result",
          "data": {
            "text/plain": [
              "<matplotlib.axes._subplots.AxesSubplot at 0x7f2058158410>"
            ]
          },
          "metadata": {},
          "execution_count": 145
        },
        {
          "output_type": "display_data",
          "data": {
            "image/png": "[encoded data removed]",
            "text/plain": [
              "<Figure size 432x288 with 1 Axes>"
            ]
          },
          "metadata": {
            "needs_background": "light"
          }
        }
      ]
    },
    {
      "cell_type": "code",
      "source": [
        "df.columns"
      ],
      "metadata": {
        "colab": {
          "base_uri": "https://localhost:8080/"
        },
        "id": "uSZQX2XxFW8n",
        "outputId": "72b97ef6-ec07-47bb-a939-1ba01a185d15"
      },
      "execution_count": null,
      "outputs": [
        {
          "output_type": "execute_result",
          "data": {
            "text/plain": [
              "Index(['ip', 'No Of Owners', 'CIDR', 'netType', 'Organization',\n",
              "       'Most Recent Update', 'No of Who is Records',\n",
              "       'data.http.result.response.headers.server.0',\n",
              "       'data.http.result.response.status_code',\n",
              "       'data.http.result.response.headers.connection.0',\n",
              "       'data.http.result.response.headers.via.0',\n",
              "       'data.http.result.response.headers.accept_ranges.0',\n",
              "       'data.http.result.response.headers.cache_control.0',\n",
              "       'data.http.result.response.headers.retry_after.0',\n",
              "       'data.http.result.response.body',\n",
              "       'data.http.result.response.body_sha256',\n",
              "       'data.http.result.response.content_length',\n",
              "       'data.http.result.response.headers.content_type.0',\n",
              "       'data.http.result.response.headers.location.0',\n",
              "       'data.http.result.redirect_response_chain.0.status_line',\n",
              "       'data.http.result.response.headers.etag.0',\n",
              "       'data.http.result.response.headers.last_modified.0',\n",
              "       'data.http.result.response.headers.vary.0',\n",
              "       'data.http.result.response.transfer_encoding.0',\n",
              "       'data.http.result.response.headers.x_powered_by.0',\n",
              "       'data.http.result.response.headers.pragma.0', 'as_name', 'as_no',\n",
              "       'data.tls.status',\n",
              "       'data.tls.result.handshake_log.server_certificates.certificate.parsed.issuer.common_name',\n",
              "       'data.tls.result.handshake_log.server_certificates.certificate.parsed.issuer.country',\n",
              "       'data.tls.result.handshake_log.server_certificates.certificate.parsed.issuer.organization',\n",
              "       'data.tls.result.handshake_log.server_certificates.certificate.parsed.issuer_dn',\n",
              "       'data.tls.result.handshake_log.server_certificates.certificate.parsed.subject.common_name',\n",
              "       'data.tls.result.handshake_log.server_certificates.certificate.parsed.subject.country',\n",
              "       'data.tls.result.handshake_log.server_certificates.certificate.parsed.subject.locality',\n",
              "       'data.tls.result.handshake_log.server_certificates.certificate.parsed.subject.province',\n",
              "       'data.tls.result.handshake_log.server_certificates.certificate.parsed.subject.organization',\n",
              "       'data.tls.result.handshake_log.server_certificates.certificate.parsed.subject_dn',\n",
              "       'data.tls.result.handshake_log.server_certificates.certificate.parsed.extensions.subject_alt_name.dns_names',\n",
              "       'vendor', 'Unnamed: 0_y', 'Net Size'],\n",
              "      dtype='object')"
            ]
          },
          "metadata": {},
          "execution_count": 119
        }
      ]
    },
    {
      "cell_type": "code",
      "source": [
        "df['Net Size'].plot.kde(title='PDF - HTTP Server header')"
      ],
      "metadata": {
        "colab": {
          "base_uri": "https://localhost:8080/",
          "height": 311
        },
        "id": "hfq6y_Qn4aY2",
        "outputId": "eca51a2d-58fc-4bf7-e42a-f88a459345c6"
      },
      "execution_count": null,
      "outputs": [
        {
          "output_type": "execute_result",
          "data": {
            "text/plain": [
              "<matplotlib.axes._subplots.AxesSubplot at 0x7f2048b8cfd0>"
            ]
          },
          "metadata": {},
          "execution_count": 120
        },
        {
          "output_type": "display_data",
          "data": {
            "image/png": "[encoded data removed]",
            "text/plain": [
              "<Figure size 432x288 with 1 Axes>"
            ]
          },
          "metadata": {
            "needs_background": "light"
          }
        }
      ]
    },
    {
      "cell_type": "code",
      "source": [
        "df[df[\"vendor\"] == 0]['Net Size'].plot.kde(title='PDF - Whois CIDR Block Size'+le.classes_[0])"
      ],
      "metadata": {
        "colab": {
          "base_uri": "https://localhost:8080/",
          "height": 311
        },
        "id": "V5LOMal2i-aU",
        "outputId": "74be0c4d-81d3-4fa8-d75c-eca6c3753c0c"
      },
      "execution_count": null,
      "outputs": [
        {
          "output_type": "execute_result",
          "data": {
            "text/plain": [
              "<matplotlib.axes._subplots.AxesSubplot at 0x7f204869b1d0>"
            ]
          },
          "metadata": {},
          "execution_count": 121
        },
        {
          "output_type": "display_data",
          "data": {
            "image/png": "[encoded data removed]",
            "text/plain": [
              "<Figure size 432x288 with 1 Axes>"
            ]
          },
          "metadata": {
            "needs_background": "light"
          }
        }
      ]
    },
    {
      "cell_type": "code",
      "source": [
        "df[df[\"vendor\"] == 1]['Net Size'].plot.kde(title='PDF - Whois CIDR Block Size'+le.classes_[1])"
      ],
      "metadata": {
        "colab": {
          "base_uri": "https://localhost:8080/",
          "height": 311
        },
        "id": "1PgB8jEX4zg4",
        "outputId": "62c64631-9e70-4270-b139-d4d3c1cbf8fc"
      },
      "execution_count": null,
      "outputs": [
        {
          "output_type": "execute_result",
          "data": {
            "text/plain": [
              "<matplotlib.axes._subplots.AxesSubplot at 0x7f20464eea10>"
            ]
          },
          "metadata": {},
          "execution_count": 122
        },
        {
          "output_type": "display_data",
          "data": {
            "image/png": "[encoded data removed]",
            "text/plain": [
              "<Figure size 432x288 with 1 Axes>"
            ]
          },
          "metadata": {
            "needs_background": "light"
          }
        }
      ]
    },
    {
      "cell_type": "code",
      "source": [
        "df[df[\"vendor\"] == 2]['Net Size'].plot.kde(title='PDF - Whois CIDR Block Size '+le.classes_[2])"
      ],
      "metadata": {
        "colab": {
          "base_uri": "https://localhost:8080/",
          "height": 311
        },
        "id": "3aFofxhv5TYL",
        "outputId": "8703bf2e-7f77-4e66-f6f7-5d4b2d59e8d5"
      },
      "execution_count": null,
      "outputs": [
        {
          "output_type": "execute_result",
          "data": {
            "text/plain": [
              "<matplotlib.axes._subplots.AxesSubplot at 0x7f204651bcd0>"
            ]
          },
          "metadata": {},
          "execution_count": 123
        },
        {
          "output_type": "display_data",
          "data": {
            "image/png": "[encoded data removed]",
            "text/plain": [
              "<Figure size 432x288 with 1 Axes>"
            ]
          },
          "metadata": {
            "needs_background": "light"
          }
        }
      ]
    },
    {
      "cell_type": "code",
      "source": [
        "count, bins_count  = np.histogram(df[df[\"vendor\"] == 4]['Net Size'].values, bins=100000)"
      ],
      "metadata": {
        "id": "Hos20oh9dVqq"
      },
      "execution_count": null,
      "outputs": []
    },
    {
      "cell_type": "code",
      "source": [
        "pdf = count / sum(count)"
      ],
      "metadata": {
        "id": "zzJsp40rddt1"
      },
      "execution_count": null,
      "outputs": []
    },
    {
      "cell_type": "code",
      "source": [
        "cdf = np.cumsum(pdf)"
      ],
      "metadata": {
        "id": "DYZyU4zXdmzd"
      },
      "execution_count": null,
      "outputs": []
    },
    {
      "cell_type": "code",
      "source": [
        "plt.plot(bins_count[1:], cdf, label=\"CDF\")\n",
        "plt.legend()"
      ],
      "metadata": {
        "colab": {
          "base_uri": "https://localhost:8080/",
          "height": 295
        },
        "id": "eXdJyiD6dpp1",
        "outputId": "4ee9c8aa-2430-40c5-d57b-7597666c8968"
      },
      "execution_count": null,
      "outputs": [
        {
          "output_type": "execute_result",
          "data": {
            "text/plain": [
              "<matplotlib.legend.Legend at 0x7f2048d3fc90>"
            ]
          },
          "metadata": {},
          "execution_count": 96
        },
        {
          "output_type": "display_data",
          "data": {
            "image/png": "[encoded data removed]",
            "text/plain": [
              "<Figure size 432x288 with 1 Axes>"
            ]
          },
          "metadata": {
            "needs_background": "light"
          }
        }
      ]
    },
    {
      "cell_type": "code",
      "source": [
        "count, bins_count  = np.histogram(df[df[\"vendor\"] == 4]['No of Who is Records'].values, bins=10000)\n",
        "pdf = count / sum(count)\n",
        "cdf = np.cumsum(pdf)\n",
        "plt.plot(bins_count[1:], cdf, label=le.classes_[4])\n",
        "plt.legend()\n",
        "\n",
        "count, bins_count  = np.histogram(df[df[\"vendor\"] == 3]['No of Who is Records'].values, bins=10000)\n",
        "pdf = count / sum(count)\n",
        "cdf = np.cumsum(pdf)\n",
        "plt.plot(bins_count[1:], cdf, label=le.classes_[3])\n",
        "plt.legend()\n",
        "\n",
        "count, bins_count  = np.histogram(df[df[\"vendor\"] == 2]['No of Who is Records'].values, bins=10000)\n",
        "pdf = count / sum(count)\n",
        "cdf = np.cumsum(pdf)\n",
        "plt.plot(bins_count[1:], cdf, label=le.classes_[2])\n",
        "plt.legend()\n",
        "\n",
        "count, bins_count  = np.histogram(df[df[\"vendor\"] == 1]['No of Who is Records'].values, bins=10000)\n",
        "pdf = count / sum(count)\n",
        "cdf = np.cumsum(pdf)\n",
        "plt.plot(bins_count[1:], cdf, label=le.classes_[1])\n",
        "plt.legend()\n",
        "\n",
        "count, bins_count  = np.histogram(df[df[\"vendor\"] == 0]['No of Who is Records'].values, bins=10000)\n",
        "pdf = count / sum(count)\n",
        "cdf = np.cumsum(pdf)\n",
        "plt.plot(bins_count[1:], cdf, label=le.classes_[0])\n",
        "plt.legend()\n",
        "plt.title('CDF of No of Whois Records Per Vendor')\n",
        "plt.ylabel('CDF')\n",
        "plt.xlabel('# of Whois Records')\n",
        "plt.savefig('No Of Whois Records Per Vendor.png')"
      ],
      "metadata": {
        "colab": {
          "base_uri": "https://localhost:8080/",
          "height": 295
        },
        "id": "haySBZULeqVs",
        "outputId": "7abaece3-c0bc-4fa8-9400-2f4d9439a241"
      },
      "execution_count": 156,
      "outputs": [
        {
          "output_type": "display_data",
          "data": {
            "image/png": "[encoded data removed]",
            "text/plain": [
              "<Figure size 432x288 with 1 Axes>"
            ]
          },
          "metadata": {
            "needs_background": "light"
          }
        }
      ]
    },
    {
      "cell_type": "code",
      "source": [
        "count, bins_count  = np.histogram(df['No of Who is Records'].values, bins=1000)\n",
        "pdf = count / sum(count)\n",
        "cdf = np.cumsum(pdf)\n",
        "plt.plot(bins_count[1:], cdf)\n",
        "plt.legend()\n",
        "plt.title('CDF of No of Whois Records For the Whole Data')\n",
        "plt.ylabel('CDF')\n",
        "plt.xlabel('# of Whois Records')\n",
        "plt.savefig('No Of Whois Records Whole.png')"
      ],
      "metadata": {
        "colab": {
          "base_uri": "https://localhost:8080/",
          "height": 312
        },
        "id": "-2WjdQ6uhawG",
        "outputId": "e82b4fe1-616a-451f-cf0c-d1bbb823d776"
      },
      "execution_count": 158,
      "outputs": [
        {
          "output_type": "stream",
          "name": "stderr",
          "text": [
            "No handles with labels found to put in legend.\n"
          ]
        },
        {
          "output_type": "display_data",
          "data": {
            "image/png": "[encoded data removed]",
            "text/plain": [
              "<Figure size 432x288 with 1 Axes>"
            ]
          },
          "metadata": {
            "needs_background": "light"
          }
        }
      ]
    },
    {
      "cell_type": "code",
      "source": [
        "count, bins_count  = np.histogram(df[df[\"vendor\"] == 4]['No of Who is Records'].values, bins=10000)\n",
        "pdf = count / sum(count)\n",
        "cdf = np.cumsum(pdf)\n",
        "plt.plot(bins_count[1:], cdf, label=le.classes_[4])\n",
        "plt.legend()\n",
        "\n",
        "count, bins_count  = np.histogram(df[df[\"vendor\"] == 3]['No of Who is Records'].values, bins=10000)\n",
        "pdf = count / sum(count)\n",
        "cdf = np.cumsum(pdf)\n",
        "plt.plot(bins_count[1:], cdf, label=le.classes_[3])\n",
        "plt.legend()\n",
        "\n",
        "count, bins_count  = np.histogram(df[df[\"vendor\"] == 2]['No of Who is Records'].values, bins=10000)\n",
        "pdf = count / sum(count)\n",
        "cdf = np.cumsum(pdf)\n",
        "plt.plot(bins_count[1:], cdf, label=le.classes_[2])\n",
        "plt.legend()\n",
        "\n",
        "count, bins_count  = np.histogram(df[df[\"vendor\"] == 1]['No of Who is Records'].values, bins=10000)\n",
        "pdf = count / sum(count)\n",
        "cdf = np.cumsum(pdf)\n",
        "plt.plot(bins_count[1:], cdf, label=le.classes_[1])\n",
        "plt.legend()\n",
        "\n",
        "count, bins_count  = np.histogram(df[df[\"vendor\"] == 0]['No of Who is Records'].values, bins=10000)\n",
        "pdf = count / sum(count)\n",
        "cdf = np.cumsum(pdf)\n",
        "plt.plot(bins_count[1:], cdf, label=le.classes_[0])\n",
        "plt.legend()\n",
        "plt.title('CDF of No of Whois Records Per Vendor')\n",
        "plt.ylabel('CDF')\n",
        "plt.xlabel('# of Whois Records')\n",
        "\n",
        "count, bins_count  = np.histogram(df['No of Who is Records'].values, bins=1000)\n",
        "pdf = count / sum(count)\n",
        "cdf = np.cumsum(pdf)\n",
        "plt.plot(bins_count[1:], cdf, label = \"Whole Dataset\")\n",
        "plt.legend()\n",
        "plt.title('CDF of No of Whois Records For the Whole Data')\n",
        "plt.ylabel('CDF')\n",
        "plt.xlabel('# of Whois Records')\n",
        "plt.savefig('No Of Whois Records Merged.png')"
      ],
      "metadata": {
        "colab": {
          "base_uri": "https://localhost:8080/",
          "height": 295
        },
        "id": "rF-mPh0U3gJY",
        "outputId": "1e514491-7bf6-439a-8700-18fdb550c9ff"
      },
      "execution_count": 159,
      "outputs": [
        {
          "output_type": "display_data",
          "data": {
            "image/png": "[encoded data removed]",
            "text/plain": [
              "<Figure size 432x288 with 1 Axes>"
            ]
          },
          "metadata": {
            "needs_background": "light"
          }
        }
      ]
    },
    {
      "cell_type": "code",
      "source": [
        "df[df[\"vendor\"] == 0]['Net Size'].plot.kde(title='PDF - Whois CIDR Block Size'+le.classes_[0])\n",
        "df[df[\"vendor\"] == 1]['Net Size'].plot.kde(title='PDF - Whois CIDR Block Size'+le.classes_[1])\n",
        "df[df[\"vendor\"] == 2]['Net Size'].plot.kde(title='PDF - Whois CIDR Block Size '+le.classes_[2])\n"
      ],
      "metadata": {
        "colab": {
          "base_uri": "https://localhost:8080/",
          "height": 311
        },
        "id": "0HdHU96E5xfO",
        "outputId": "f03e4f58-82d0-4cde-f923-433a52baf1eb"
      },
      "execution_count": null,
      "outputs": [
        {
          "output_type": "execute_result",
          "data": {
            "text/plain": [
              "<matplotlib.axes._subplots.AxesSubplot at 0x7f20465c4e10>"
            ]
          },
          "metadata": {},
          "execution_count": 129
        },
        {
          "output_type": "display_data",
          "data": {
            "image/png": "[encoded data removed]",
            "text/plain": [
              "<Figure size 432x288 with 1 Axes>"
            ]
          },
          "metadata": {
            "needs_background": "light"
          }
        }
      ]
    },
    {
      "cell_type": "code",
      "source": [
        "df[df[\"vendor\"] == 3]['Net Size'].plot.kde(title='PDF - Whois CIDR Block Size'+le.classes_[3])\n",
        "df[df[\"vendor\"] == 4]['Net Size'].plot.kde(title='PDF - Whois CIDR Block Size'+le.classes_[4])"
      ],
      "metadata": {
        "colab": {
          "base_uri": "https://localhost:8080/",
          "height": 183
        },
        "id": "vdzv4rPWH3bN",
        "outputId": "1c32b38f-fd8e-4870-f07d-9bdee6b3a95c"
      },
      "execution_count": null,
      "outputs": [
        {
          "output_type": "error",
          "ename": "AttributeError",
          "evalue": "ignored",
          "traceback": [
            "\u001b[0;31m---------------------------------------------------------------------------\u001b[0m",
            "\u001b[0;31mAttributeError\u001b[0m                            Traceback (most recent call last)",
            "\u001b[0;32m<ipython-input-101-9b32e8bd8de3>\u001b[0m in \u001b[0;36m<module>\u001b[0;34m()\u001b[0m\n\u001b[0;32m----> 1\u001b[0;31m \u001b[0mdf\u001b[0m\u001b[0;34m[\u001b[0m\u001b[0mdf\u001b[0m\u001b[0;34m[\u001b[0m\u001b[0;34m\"vendor\"\u001b[0m\u001b[0;34m]\u001b[0m \u001b[0;34m==\u001b[0m \u001b[0;36m3\u001b[0m\u001b[0;34m]\u001b[0m\u001b[0;34m[\u001b[0m\u001b[0;34m'Net Size'\u001b[0m\u001b[0;34m]\u001b[0m\u001b[0;34m.\u001b[0m\u001b[0mplot\u001b[0m\u001b[0;34m.\u001b[0m\u001b[0mkde\u001b[0m\u001b[0;34m(\u001b[0m\u001b[0mtitle\u001b[0m\u001b[0;34m=\u001b[0m\u001b[0;34m'PDF - Whois CIDR Block Size'\u001b[0m\u001b[0;34m+\u001b[0m\u001b[0mle\u001b[0m\u001b[0;34m.\u001b[0m\u001b[0mclasses_\u001b[0m\u001b[0;34m[\u001b[0m\u001b[0;36m3\u001b[0m\u001b[0;34m]\u001b[0m\u001b[0;34m)\u001b[0m\u001b[0;34m\u001b[0m\u001b[0;34m\u001b[0m\u001b[0m\n\u001b[0m\u001b[1;32m      2\u001b[0m \u001b[0mdf\u001b[0m\u001b[0;34m[\u001b[0m\u001b[0mdf\u001b[0m\u001b[0;34m[\u001b[0m\u001b[0;34m\"vendor\"\u001b[0m\u001b[0;34m]\u001b[0m \u001b[0;34m==\u001b[0m \u001b[0;36m4\u001b[0m\u001b[0;34m]\u001b[0m\u001b[0;34m[\u001b[0m\u001b[0;34m'Net Size'\u001b[0m\u001b[0;34m]\u001b[0m\u001b[0;34m.\u001b[0m\u001b[0mplot\u001b[0m\u001b[0;34m.\u001b[0m\u001b[0mkde\u001b[0m\u001b[0;34m(\u001b[0m\u001b[0mtitle\u001b[0m\u001b[0;34m=\u001b[0m\u001b[0;34m'PDF - Whois CIDR Block Size'\u001b[0m\u001b[0;34m+\u001b[0m\u001b[0mle\u001b[0m\u001b[0;34m.\u001b[0m\u001b[0mclasses_\u001b[0m\u001b[0;34m[\u001b[0m\u001b[0;36m4\u001b[0m\u001b[0;34m]\u001b[0m\u001b[0;34m)\u001b[0m\u001b[0;34m\u001b[0m\u001b[0;34m\u001b[0m\u001b[0m\n",
            "\u001b[0;31mAttributeError\u001b[0m: 'LabelEncoder' object has no attribute 'classes_'"
          ]
        }
      ]
    },
    {
      "cell_type": "code",
      "source": [
        "df[df[\"vendor\"] == 0][\"data.http.result.response.headers.server.0\"].plot.kde(title='PDF - HTTP Server header - '+le.classes_[0])"
      ],
      "metadata": {
        "colab": {
          "base_uri": "https://localhost:8080/",
          "height": 298
        },
        "id": "usSDKbmZ8kh0",
        "outputId": "6457000c-548a-4943-c24f-52974bc8f1ef"
      },
      "execution_count": null,
      "outputs": [
        {
          "output_type": "execute_result",
          "data": {
            "text/plain": [
              "<matplotlib.axes._subplots.AxesSubplot at 0x7f5d1e61d4d0>"
            ]
          },
          "metadata": {},
          "execution_count": 21
        },
        {
          "output_type": "display_data",
          "data": {
            "image/png": "[encoded data removed]",
            "text/plain": [
              "<Figure size 432x288 with 1 Axes>"
            ]
          },
          "metadata": {
            "needs_background": "light"
          }
        }
      ]
    },
    {
      "cell_type": "code",
      "source": [
        "df[df[\"vendor\"] == 1][\"data.http.result.response.headers.server.0\"].plot.kde(title='PDF - HTTP Server header - '+le.classes_[1])"
      ],
      "metadata": {
        "colab": {
          "base_uri": "https://localhost:8080/",
          "height": 298
        },
        "id": "7odKoHfZNg_u",
        "outputId": "3b202440-640e-4317-b809-54c475c07d1c"
      },
      "execution_count": null,
      "outputs": [
        {
          "output_type": "execute_result",
          "data": {
            "text/plain": [
              "<matplotlib.axes._subplots.AxesSubplot at 0x7f5d1e606f90>"
            ]
          },
          "metadata": {},
          "execution_count": 22
        },
        {
          "output_type": "display_data",
          "data": {
            "image/png": "[encoded data removed]",
            "text/plain": [
              "<Figure size 432x288 with 1 Axes>"
            ]
          },
          "metadata": {
            "needs_background": "light"
          }
        }
      ]
    },
    {
      "cell_type": "code",
      "source": [
        "df[df[\"vendor\"] == 2][\"data.http.result.response.headers.server.0\"].plot.kde(title='PDF - HTTP Server header - '+le.classes_[2])"
      ],
      "metadata": {
        "colab": {
          "base_uri": "https://localhost:8080/",
          "height": 298
        },
        "id": "XYuULvP3-MkP",
        "outputId": "f08c9b54-93ce-489c-f581-ca19eb1175d6"
      },
      "execution_count": null,
      "outputs": [
        {
          "output_type": "execute_result",
          "data": {
            "text/plain": [
              "<matplotlib.axes._subplots.AxesSubplot at 0x7f5d1e5c7650>"
            ]
          },
          "metadata": {},
          "execution_count": 23
        },
        {
          "output_type": "display_data",
          "data": {
            "image/png": "[encoded data removed]",
            "text/plain": [
              "<Figure size 432x288 with 1 Axes>"
            ]
          },
          "metadata": {
            "needs_background": "light"
          }
        }
      ]
    },
    {
      "cell_type": "code",
      "source": [
        "df[df[\"vendor\"] == 3][\"data.http.result.response.headers.server.0\"].plot.kde(title='PDF - HTTP Server header - '+le.classes_[3])"
      ],
      "metadata": {
        "colab": {
          "base_uri": "https://localhost:8080/",
          "height": 298
        },
        "id": "ExtDZFmv-QS0",
        "outputId": "52d7597c-e17c-4891-e07a-fc96bd02f271"
      },
      "execution_count": null,
      "outputs": [
        {
          "output_type": "execute_result",
          "data": {
            "text/plain": [
              "<matplotlib.axes._subplots.AxesSubplot at 0x7f5d1e461c10>"
            ]
          },
          "metadata": {},
          "execution_count": 24
        },
        {
          "output_type": "display_data",
          "data": {
            "image/png": "[encoded data removed]",
            "text/plain": [
              "<Figure size 432x288 with 1 Axes>"
            ]
          },
          "metadata": {
            "needs_background": "light"
          }
        }
      ]
    },
    {
      "cell_type": "code",
      "source": [
        "df[df[\"vendor\"] == 4][\"data.http.result.response.headers.server.0\"].plot.kde(title='PDF - HTTP Server header - '+le.classes_[4])"
      ],
      "metadata": {
        "colab": {
          "base_uri": "https://localhost:8080/",
          "height": 298
        },
        "id": "KL5KL3_C-Tmo",
        "outputId": "17b98bd2-93c6-42ac-ada6-2e9f58816739"
      },
      "execution_count": null,
      "outputs": [
        {
          "output_type": "execute_result",
          "data": {
            "text/plain": [
              "<matplotlib.axes._subplots.AxesSubplot at 0x7f5d222c5450>"
            ]
          },
          "metadata": {},
          "execution_count": 25
        },
        {
          "output_type": "display_data",
          "data": {
            "image/png": "[encoded data removed]",
            "text/plain": [
              "<Figure size 432x288 with 1 Axes>"
            ]
          },
          "metadata": {
            "needs_background": "light"
          }
        }
      ]
    },
    {
      "cell_type": "code",
      "source": [
        ""
      ],
      "metadata": {
        "id": "6w6hLaqFbnMn"
      },
      "execution_count": null,
      "outputs": []
    }
  ]
}