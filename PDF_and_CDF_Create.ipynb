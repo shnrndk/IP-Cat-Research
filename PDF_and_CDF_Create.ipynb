{
  "nbformat": 4,
  "nbformat_minor": 0,
  "metadata": {
    "colab": {
      "name": "PDF and CDF Create.ipynb",
      "provenance": [],
      "collapsed_sections": [],
      "authorship_tag": "ABX9TyNjb6LKKz4WiOqyGUezyKYe",
      "include_colab_link": true
    },
    "kernelspec": {
      "name": "python3",
      "display_name": "Python 3"
    },
    "language_info": {
      "name": "python"
    }
  },
  "cells": [
    {
      "cell_type": "markdown",
      "metadata": {
        "id": "view-in-github",
        "colab_type": "text"
      },
      "source": [
        "<a href=\"https://colab.research.google.com/github/shnrndk/IP-Cat-Research/blob/CDF-PDF/PDF_and_CDF_Create.ipynb\" target=\"_parent\"><img src=\"https://colab.research.google.com/assets/colab-badge.svg\" alt=\"Open In Colab\"/></a>"
      ]
    },
    {
      "cell_type": "code",
      "source": [
        "import pandas as pd\n",
        "import matplotlib.pyplot as plt\n",
        "import numpy as np\n",
        "from sklearn import preprocessing\n",
        "le = preprocessing.LabelEncoder()\n",
        "from ast import literal_eval"
      ],
      "metadata": {
        "id": "KF8OnKKgBsWY"
      },
      "execution_count": 26,
      "outputs": []
    },
    {
      "cell_type": "code",
      "execution_count": 27,
      "metadata": {
        "colab": {
          "base_uri": "https://localhost:8080/"
        },
        "id": "tZNK3eAJAPhk",
        "outputId": "4ac585f2-ace9-45a8-e05a-a160f14cd188"
      },
      "outputs": [
        {
          "output_type": "stream",
          "name": "stdout",
          "text": [
            "Drive already mounted at /content/drive; to attempt to forcibly remount, call drive.mount(\"/content/drive\", force_remount=True).\n"
          ]
        }
      ],
      "source": [
        "from google.colab import drive\n",
        "drive.mount('/content/drive')"
      ]
    },
    {
      "cell_type": "code",
      "source": [
        "!cp  /content/drive/MyDrive/final_dataset_updated.zip /content/"
      ],
      "metadata": {
        "id": "zFwmXAo4AVkn"
      },
      "execution_count": 28,
      "outputs": []
    },
    {
      "cell_type": "code",
      "source": [
        "!unzip  final_dataset_updated.zip"
      ],
      "metadata": {
        "colab": {
          "base_uri": "https://localhost:8080/"
        },
        "id": "ITwBIfzKBjKO",
        "outputId": "d5fe7124-6497-4493-ada5-3564e1393d4a"
      },
      "execution_count": 29,
      "outputs": [
        {
          "output_type": "stream",
          "name": "stdout",
          "text": [
            "Archive:  final_dataset_updated.zip\n",
            "replace cdn_final_final.csv? [y]es, [n]o, [A]ll, [N]one, [r]ename: N\n"
          ]
        }
      ]
    },
    {
      "cell_type": "code",
      "source": [
        "sample_size = 30000\n",
        "df = pd.read_csv('cdn_final_final.csv')\n",
        "#df['vendor']= ['cdn' for x in range(df.shape[0])]\n",
        "df = df.sample(n = sample_size)\n",
        "df1 = pd.read_csv('cloud_final_final.csv')\n",
        "#df1['vendor']= ['cloud' for x in range(df1.shape[0])]\n",
        "df1 = df1.sample(n = sample_size)\n",
        "df2 = pd.read_csv('hosting_final_final.csv')\n",
        "#df2['vendor']= ['hosting' for x in range(df2.shape[0])]\n",
        "df2 = df2.sample(n = sample_size)\n",
        "df3 = pd.read_csv('vpn_final_final.csv')\n",
        "#df3['vendor']= ['vpn' for x in range(df3.shape[0])]\n",
        "df3 = df3.sample(n = 15000)\n",
        "df4 = pd.read_csv('proxy_final_final.csv')\n",
        "#df4['vendor']= ['vpn' for x in range(df3.shape[0])]\n",
        "df4 = df4.sample(n = 9200)\n",
        "\n",
        "df = df.append([df1,df2,df3,df4],ignore_index=True)"
      ],
      "metadata": {
        "colab": {
          "base_uri": "https://localhost:8080/"
        },
        "id": "8hG8V4bMAVa2",
        "outputId": "fe43c72d-b4d3-433d-9452-2ce07744d7b1"
      },
      "execution_count": 215,
      "outputs": [
        {
          "output_type": "stream",
          "name": "stderr",
          "text": [
            "/usr/local/lib/python3.7/dist-packages/IPython/core/interactiveshell.py:2718: DtypeWarning: Columns (25) have mixed types.Specify dtype option on import or set low_memory=False.\n",
            "  interactivity=interactivity, compiler=compiler, result=result)\n"
          ]
        }
      ]
    },
    {
      "cell_type": "code",
      "source": [
        "def getgeneralCloudfront(x):\n",
        "  if('(CloudFront)' in str(x)):\n",
        "      return 'CloudFront'\n",
        "  else:\n",
        "      return x"
      ],
      "metadata": {
        "id": "Jq9LhSzoESQt"
      },
      "execution_count": 31,
      "outputs": []
    },
    {
      "cell_type": "code",
      "source": [
        "def getgeneralServerNames(x):\n",
        "  if('nginx' in str(x)):\n",
        "      return 'nginx'\n",
        "  elif('Apache' in str(x)):\n",
        "      return 'Apache'\n",
        "  else:\n",
        "      return x"
      ],
      "metadata": {
        "id": "VR3iH9LWETpf"
      },
      "execution_count": 32,
      "outputs": []
    },
    {
      "cell_type": "code",
      "source": [
        "def getgeneralphp(x):\n",
        "  if (pd.isna(x)):\n",
        "    return \"0\"\n",
        "  else:\n",
        "    if('PHP' in x):\n",
        "      return 'PHP'"
      ],
      "metadata": {
        "id": "3b8fs8fAEU8k"
      },
      "execution_count": 33,
      "outputs": []
    },
    {
      "cell_type": "code",
      "source": [
        "def changenullaszero(x):\n",
        "  if (pd.isna(x)): \n",
        "    return \"0\"\n",
        "  else:\n",
        "    return \"1\""
      ],
      "metadata": {
        "id": "2U7uc9EMEWJ9"
      },
      "execution_count": 34,
      "outputs": []
    },
    {
      "cell_type": "code",
      "source": [
        "def getCIDRBlockLength(ipadd):\n",
        "   if(pd.isna(ipadd)):\n",
        "     return 0\n",
        "   else:\n",
        "      if(len(ipadd.split(','))==1):\n",
        "        return (2**(32-int(ipadd.split('/')[1])))\n",
        "      else:\n",
        "        sum=0\n",
        "        for i in ipadd.split(','):\n",
        "          sum=sum + (2**(32-int(i.split('/')[1])))\n",
        "        return sum "
      ],
      "metadata": {
        "id": "anpAGoo0LaaB"
      },
      "execution_count": 35,
      "outputs": []
    },
    {
      "cell_type": "code",
      "source": [
        "def arrayLiteral(stringarray):\n",
        "  return len(literal_eval(stringarray))"
      ],
      "metadata": {
        "id": "-dbHR3zIgxRw"
      },
      "execution_count": 36,
      "outputs": []
    },
    {
      "cell_type": "code",
      "source": [
        "def removeSquareBrackets(text):\n",
        "  return literal_eval(text)[0];"
      ],
      "metadata": {
        "id": "Fb4Lvv2e79DT"
      },
      "execution_count": 37,
      "outputs": []
    },
    {
      "cell_type": "code",
      "source": [
        "df['data.http.result.response.headers.via.0']  = df[\"data.http.result.response.headers.via.0\"].apply(getgeneralCloudfront)\n",
        "df['data.http.result.response.status_code'].fillna(-1, inplace=True)\n",
        "df['data.http.result.response.headers.pragma.0'].fillna(-1, inplace=True)\n",
        "df['data.http.result.response.headers.connection.0'].fillna(-1, inplace=True)\n",
        "df['data.http.result.response.headers.via.0']  = df[\"data.http.result.response.headers.via.0\"].apply(getgeneralCloudfront)\n",
        "df['data.http.result.response.headers.via.0'].fillna(-1, inplace=True)\n",
        "df['data.http.result.response.headers.accept_ranges.0'].fillna(-1, inplace=True)\n",
        "df['data.http.result.response.headers.cache_control.0'].fillna(-1, inplace=True)\n",
        "df['data.http.result.response.headers.retry_after.0'].fillna(-1, inplace=True)\n",
        "df['data.http.result.response.body']  = df[\"data.http.result.response.body\"].apply(changenullaszero)\n",
        "df['data.http.result.response.body_sha256']  = df['data.http.result.response.body_sha256'].apply(changenullaszero)\n",
        "df['data.http.result.response.content_length'].fillna(0, inplace=True)\n",
        "df['data.http.result.response.headers.content_type.0'].fillna(-1, inplace=True)\n",
        "df['data.http.result.response.headers.location.0'] = df['data.http.result.response.headers.location.0'].apply(changenullaszero)\n",
        "df['data.http.result.redirect_response_chain.0.status_line'].fillna(-1, inplace=True)\n",
        "df['data.http.result.response.headers.etag.0'] = df['data.http.result.response.headers.etag.0'].apply(changenullaszero)\n",
        "df['data.http.result.response.headers.last_modified.0']  = df['data.http.result.response.headers.last_modified.0'].apply(changenullaszero)\n",
        "df['data.http.result.response.headers.vary.0'].fillna(-1, inplace=True)\n",
        "df['data.http.result.response.transfer_encoding.0'].fillna(-1, inplace=True)\n",
        "df['data.http.result.response.headers.x_powered_by.0'].fillna(-1, inplace=True)\n",
        "df['data.http.result.redirect_response_chain.0.headers.server.0'].fillna(-1, inplace=True)\n",
        "df = df.drop(['data.http.result.redirect_response_chain.0.headers.server.0'],axis=1)\n",
        "df['data.http.result.response.headers.server.0']  = df['data.http.result.response.headers.server.0'].apply(getgeneralServerNames)\n",
        "df['data.http.result.response.headers.server.0'].fillna(-1, inplace=True)"
      ],
      "metadata": {
        "id": "6bu1DoaXEXd7"
      },
      "execution_count": 207,
      "outputs": []
    },
    {
      "cell_type": "code",
      "source": [
        "df['data.http.result.response.headers.server.0'] = le.fit_transform(df['data.http.result.response.headers.server.0'].astype(str))\n",
        "df['data.http.result.response.status_code'] = le.fit_transform(df['data.http.result.response.status_code'].astype(str))\n",
        "df['data.http.result.response.headers.connection.0'] = le.fit_transform(df['data.http.result.response.headers.connection.0'].astype(str))\n",
        "df['data.http.result.response.headers.via.0'] = le.fit_transform(df['data.http.result.response.headers.via.0'].astype(str))\n",
        "df['data.http.result.response.headers.accept_ranges.0'] = le.fit_transform(df['data.http.result.response.headers.accept_ranges.0'].astype(str))\n",
        "df['data.http.result.response.headers.cache_control.0'] = le.fit_transform(df['data.http.result.response.headers.cache_control.0'].astype(str))\n",
        "df['data.http.result.response.headers.retry_after.0'] = le.fit_transform(df['data.http.result.response.headers.retry_after.0'].astype(str))\n",
        "df['data.http.result.response.body'] = le.fit_transform(df['data.http.result.response.body'].astype(str))\n",
        "df['data.http.result.response.body_sha256'] = le.fit_transform(df['data.http.result.response.body_sha256'].astype(str))\n",
        "df['data.http.result.response.headers.content_type.0'] = le.fit_transform(df['data.http.result.response.headers.content_type.0'].astype(str))\n",
        "\n",
        "df['data.http.result.response.headers.location.0'] = le.fit_transform(df['data.http.result.response.headers.location.0'].astype(str))\n",
        "df['data.http.result.redirect_response_chain.0.status_line'] = le.fit_transform(df['data.http.result.redirect_response_chain.0.status_line'].astype(str))\n",
        "df['data.http.result.response.headers.etag.0'] = le.fit_transform(df['data.http.result.response.headers.etag.0'].astype(str))\n",
        "df['data.http.result.response.headers.last_modified.0'] = le.fit_transform(df['data.http.result.response.headers.last_modified.0'].astype(str))\n",
        "df['data.http.result.response.headers.vary.0'] = le.fit_transform(df['data.http.result.response.headers.vary.0'].astype(str))\n",
        "df['data.http.result.response.transfer_encoding.0'] = le.fit_transform(df['data.http.result.response.transfer_encoding.0'].astype(str))\n",
        "\n",
        "df['data.http.result.response.headers.x_powered_by.0'] = le.fit_transform(df['data.http.result.response.headers.x_powered_by.0'].astype(str))\n",
        "df['data.http.result.response.headers.pragma.0'] = le.fit_transform(df['data.http.result.response.headers.pragma.0'].astype(str))\n",
        "df['as_name'] = le.fit_transform(df['as_name'].astype(str))\n",
        "\n",
        "df['as_no'] = le.fit_transform(df['as_no'].astype(str))\n",
        "df['vendor'] = le.fit_transform(df['vendor'].astype(str))\n",
        "vendorEncodings = le.classes_\n"
      ],
      "metadata": {
        "id": "EkmFf38qFIPJ"
      },
      "execution_count": 216,
      "outputs": []
    },
    {
      "cell_type": "code",
      "source": [
        "df = df.drop(['data.http.result.response.headers.unknown.0.key'],axis=1)\n",
        "df = df.drop(['data.http.result.response.headers.unknown.0.value.0'],axis=1)\n",
        "df = df.drop(['data.http.result.response.headers.unknown.1.key'],axis=1)\n",
        "df = df.drop(['data.http.result.response.headers.unknown.1.value.0'],axis=1)"
      ],
      "metadata": {
        "id": "HNYGwmG7FTnH"
      },
      "execution_count": 167,
      "outputs": []
    },
    {
      "cell_type": "code",
      "source": [
        "df['data.http.result.response.headers.last_modified.0']"
      ],
      "metadata": {
        "colab": {
          "base_uri": "https://localhost:8080/"
        },
        "id": "Fff0sOlix3Lz",
        "outputId": "c2973fe6-1b66-49ac-b909-c1183a7063ca"
      },
      "execution_count": 217,
      "outputs": [
        {
          "output_type": "execute_result",
          "data": {
            "text/plain": [
              "0         6614\n",
              "1         6614\n",
              "2         6614\n",
              "3         6614\n",
              "4         6614\n",
              "          ... \n",
              "114195    6614\n",
              "114196    6614\n",
              "114197    6614\n",
              "114198    6614\n",
              "114199    6614\n",
              "Name: data.http.result.response.headers.last_modified.0, Length: 114200, dtype: int64"
            ]
          },
          "metadata": {},
          "execution_count": 217
        }
      ]
    },
    {
      "cell_type": "code",
      "source": [
        "df[\"data.http.result.response.headers.last_modified.0\"].value_counts()"
      ],
      "metadata": {
        "colab": {
          "base_uri": "https://localhost:8080/"
        },
        "id": "6sJk9aj08YlA",
        "outputId": "0854f9e4-d34a-4d4b-bdf4-5f256f9ea437"
      },
      "execution_count": 218,
      "outputs": [
        {
          "output_type": "execute_result",
          "data": {
            "text/plain": [
              "6614    99036\n",
              "5845     3114\n",
              "6126      541\n",
              "5843      458\n",
              "5472      266\n",
              "        ...  \n",
              "3048        1\n",
              "1001        1\n",
              "5099        1\n",
              "3112        1\n",
              "0           1\n",
              "Name: data.http.result.response.headers.last_modified.0, Length: 6615, dtype: int64"
            ]
          },
          "metadata": {},
          "execution_count": 218
        }
      ]
    },
    {
      "cell_type": "code",
      "source": [
        "df[\"data.tls.result.handshake_log.server_certificates.certificate.parsed.issuer.organization\"] = df[\"data.tls.result.handshake_log.server_certificates.certificate.parsed.issuer.organization\"].apply(removeSquareBrackets)"
      ],
      "metadata": {
        "id": "PYCAumTqWViQ"
      },
      "execution_count": null,
      "outputs": []
    },
    {
      "cell_type": "code",
      "source": [
        "df = df.dropna(subset=['data.http.result.response.headers.etag.0'])"
      ],
      "metadata": {
        "id": "2JLfynDFCeef"
      },
      "execution_count": 150,
      "outputs": []
    },
    {
      "cell_type": "code",
      "source": [
        "df[\"data.tls.result.handshake_log.server_certificates.certificate.parsed.subject.organization\"] = df[\"data.tls.result.handshake_log.server_certificates.certificate.parsed.subject.organization\"].apply(removeSquareBrackets)"
      ],
      "metadata": {
        "id": "eveMKlXLM527"
      },
      "execution_count": null,
      "outputs": []
    },
    {
      "cell_type": "code",
      "source": [
        "df[\"data.tls.result.handshake_log.server_certificates.certificate.parsed.subject.province\"]"
      ],
      "metadata": {
        "colab": {
          "base_uri": "https://localhost:8080/"
        },
        "id": "ml2aFmG7DolS",
        "outputId": "c5173e83-b15a-4957-eec3-69d113ded4c5"
      },
      "execution_count": null,
      "outputs": [
        {
          "output_type": "execute_result",
          "data": {
            "text/plain": [
              "3                 California\n",
              "10                California\n",
              "26        Edinburgh, City of\n",
              "38                California\n",
              "39                California\n",
              "                 ...        \n",
              "113321            Jawa Barat\n",
              "113719              New York\n",
              "113757                 Sindh\n",
              "114024        Andhra Pradesh\n",
              "114066            California\n",
              "Name: data.tls.result.handshake_log.server_certificates.certificate.parsed.subject.province, Length: 13318, dtype: object"
            ]
          },
          "metadata": {},
          "execution_count": 35
        }
      ]
    },
    {
      "cell_type": "code",
      "source": [
        "df['data.tls.result.handshake_log.server_certificates.certificate.parsed.issuer.country'].value_counts()"
      ],
      "metadata": {
        "colab": {
          "base_uri": "https://localhost:8080/"
        },
        "id": "tsbdgWOclEfN",
        "outputId": "b6d7d29c-e956-4b09-d86b-a13262d197e5"
      },
      "execution_count": null,
      "outputs": [
        {
          "output_type": "execute_result",
          "data": {
            "text/plain": [
              "['US']    67694\n",
              "['GB']     7280\n",
              "['BE']     5426\n",
              "['--']      541\n",
              "['JP']      388\n",
              "          ...  \n",
              "['jp']        1\n",
              "['HU']        1\n",
              "['VN']        1\n",
              "['UY']        1\n",
              "['mx']        1\n",
              "Name: data.tls.result.handshake_log.server_certificates.certificate.parsed.issuer.country, Length: 83, dtype: int64"
            ]
          },
          "metadata": {},
          "execution_count": 94
        }
      ]
    },
    {
      "cell_type": "code",
      "source": [
        "#df['netType'] = le.fit_transform(df['netType'].astype(str))\n",
        "df['data.tls.result.handshake_log.server_certificates.certificate.parsed.issuer.common_name'] = le.fit_transform(df['data.tls.result.handshake_log.server_certificates.certificate.parsed.issuer.common_name'].astype(str))"
      ],
      "metadata": {
        "id": "AigqkofFtDlV"
      },
      "execution_count": null,
      "outputs": []
    },
    {
      "cell_type": "code",
      "source": [
        "df['data.tls.result.handshake_log.server_certificates.certificate.parsed.issuer.country'] = le.fit_transform(df['data.tls.result.handshake_log.server_certificates.certificate.parsed.issuer.country'].astype(str))"
      ],
      "metadata": {
        "id": "5ZUwwVgD9ckP"
      },
      "execution_count": null,
      "outputs": []
    },
    {
      "cell_type": "code",
      "source": [
        "df['data.tls.status'] = le.fit_transform(df['data.tls.status'].astype(str))"
      ],
      "metadata": {
        "id": "ez80dwkJWwLy"
      },
      "execution_count": 205,
      "outputs": []
    },
    {
      "cell_type": "code",
      "source": [
        "df['data.tls.result.handshake_log.server_certificates.certificate.parsed.subject.province']"
      ],
      "metadata": {
        "id": "Ml7QvfPmYzQ0",
        "colab": {
          "base_uri": "https://localhost:8080/"
        },
        "outputId": "73be55c1-dd08-4939-e32c-43182319fe35"
      },
      "execution_count": null,
      "outputs": [
        {
          "output_type": "execute_result",
          "data": {
            "text/plain": [
              "3          62\n",
              "10         62\n",
              "26         97\n",
              "38         62\n",
              "39         62\n",
              "         ... \n",
              "113321    171\n",
              "113719    268\n",
              "113757    359\n",
              "114024     19\n",
              "114066     62\n",
              "Name: data.tls.result.handshake_log.server_certificates.certificate.parsed.subject.province, Length: 13318, dtype: int64"
            ]
          },
          "metadata": {},
          "execution_count": 37
        }
      ]
    },
    {
      "cell_type": "code",
      "source": [
        "df['as_name']"
      ],
      "metadata": {
        "colab": {
          "base_uri": "https://localhost:8080/"
        },
        "id": "I95sePk3Iahq",
        "outputId": "51f8c9a3-6ea2-461f-d672-56da07e763cd"
      },
      "execution_count": null,
      "outputs": [
        {
          "output_type": "execute_result",
          "data": {
            "text/plain": [
              "0          5\n",
              "1          5\n",
              "2         24\n",
              "3         43\n",
              "4          5\n",
              "          ..\n",
              "104995     6\n",
              "104996     6\n",
              "104997     5\n",
              "104998     6\n",
              "104999     6\n",
              "Name: as_name, Length: 105000, dtype: int64"
            ]
          },
          "metadata": {},
          "execution_count": 171
        }
      ]
    },
    {
      "cell_type": "code",
      "source": [
        "df.columns"
      ],
      "metadata": {
        "colab": {
          "base_uri": "https://localhost:8080/"
        },
        "id": "uSZQX2XxFW8n",
        "outputId": "72b97ef6-ec07-47bb-a939-1ba01a185d15"
      },
      "execution_count": null,
      "outputs": [
        {
          "output_type": "execute_result",
          "data": {
            "text/plain": [
              "Index(['ip', 'No Of Owners', 'CIDR', 'netType', 'Organization',\n",
              "       'Most Recent Update', 'No of Who is Records',\n",
              "       'data.http.result.response.headers.server.0',\n",
              "       'data.http.result.response.status_code',\n",
              "       'data.http.result.response.headers.connection.0',\n",
              "       'data.http.result.response.headers.via.0',\n",
              "       'data.http.result.response.headers.accept_ranges.0',\n",
              "       'data.http.result.response.headers.cache_control.0',\n",
              "       'data.http.result.response.headers.retry_after.0',\n",
              "       'data.http.result.response.body',\n",
              "       'data.http.result.response.body_sha256',\n",
              "       'data.http.result.response.content_length',\n",
              "       'data.http.result.response.headers.content_type.0',\n",
              "       'data.http.result.response.headers.location.0',\n",
              "       'data.http.result.redirect_response_chain.0.status_line',\n",
              "       'data.http.result.response.headers.etag.0',\n",
              "       'data.http.result.response.headers.last_modified.0',\n",
              "       'data.http.result.response.headers.vary.0',\n",
              "       'data.http.result.response.transfer_encoding.0',\n",
              "       'data.http.result.response.headers.x_powered_by.0',\n",
              "       'data.http.result.response.headers.pragma.0', 'as_name', 'as_no',\n",
              "       'data.tls.status',\n",
              "       'data.tls.result.handshake_log.server_certificates.certificate.parsed.issuer.common_name',\n",
              "       'data.tls.result.handshake_log.server_certificates.certificate.parsed.issuer.country',\n",
              "       'data.tls.result.handshake_log.server_certificates.certificate.parsed.issuer.organization',\n",
              "       'data.tls.result.handshake_log.server_certificates.certificate.parsed.issuer_dn',\n",
              "       'data.tls.result.handshake_log.server_certificates.certificate.parsed.subject.common_name',\n",
              "       'data.tls.result.handshake_log.server_certificates.certificate.parsed.subject.country',\n",
              "       'data.tls.result.handshake_log.server_certificates.certificate.parsed.subject.locality',\n",
              "       'data.tls.result.handshake_log.server_certificates.certificate.parsed.subject.province',\n",
              "       'data.tls.result.handshake_log.server_certificates.certificate.parsed.subject.organization',\n",
              "       'data.tls.result.handshake_log.server_certificates.certificate.parsed.subject_dn',\n",
              "       'data.tls.result.handshake_log.server_certificates.certificate.parsed.extensions.subject_alt_name.dns_names',\n",
              "       'vendor', 'Unnamed: 0_y', 'Net Size'],\n",
              "      dtype='object')"
            ]
          },
          "metadata": {},
          "execution_count": 119
        }
      ]
    },
    {
      "cell_type": "code",
      "source": [
        "count, bins_count  = np.histogram(df[df[\"vendor\"] == 4]['data.http.result.response.headers.last_modified.0'].values, bins=1000)\n",
        "pdf = count / sum(count)\n",
        "cdf = np.cumsum(pdf)\n",
        "plt.plot(bins_count[1:], cdf, label=le.classes_[4])\n",
        "plt.legend()\n",
        "\n",
        "count, bins_count  = np.histogram(df[df[\"vendor\"] == 3]['data.http.result.response.headers.last_modified.0'].values, bins=1000)\n",
        "pdf = count / sum(count)\n",
        "cdf = np.cumsum(pdf)\n",
        "plt.plot(bins_count[1:], cdf, label=le.classes_[3])\n",
        "plt.legend()\n",
        "\n",
        "count, bins_count  = np.histogram(df[df[\"vendor\"] == 2]['data.http.result.response.headers.last_modified.0'].values, bins=1000)\n",
        "pdf = count / sum(count)\n",
        "cdf = np.cumsum(pdf)\n",
        "plt.plot(bins_count[1:], cdf, label=le.classes_[2])\n",
        "plt.legend()\n",
        "\n",
        "count, bins_count  = np.histogram(df[df[\"vendor\"] == 1]['data.http.result.response.headers.last_modified.0'].values, bins=1000)\n",
        "pdf = count / sum(count)\n",
        "cdf = np.cumsum(pdf)\n",
        "plt.plot(bins_count[1:], cdf, label=le.classes_[1])\n",
        "plt.legend()\n",
        "\n",
        "count, bins_count  = np.histogram(df[df[\"vendor\"] == 0]['data.http.result.response.headers.last_modified.0'].values, bins=1000)\n",
        "pdf = count / sum(count)\n",
        "cdf = np.cumsum(pdf)\n",
        "plt.plot(bins_count[1:], cdf, label=le.classes_[0])\n",
        "plt.legend()\n",
        "plt.title('HTTP Header Last Modified Per Vendor')\n",
        "plt.ylabel('CDF')\n",
        "plt.xlabel('Last Modified')\n",
        "plt.savefig('HTTP Header Last Modified Per Vendor.png')"
      ],
      "metadata": {
        "colab": {
          "base_uri": "https://localhost:8080/",
          "height": 295
        },
        "id": "haySBZULeqVs",
        "outputId": "12c639da-3e8e-4546-c4b3-57dec73ebf23"
      },
      "execution_count": 228,
      "outputs": [
        {
          "output_type": "display_data",
          "data": {
            "image/png": "[encoded data removed]",
            "text/plain": [
              "<Figure size 432x288 with 1 Axes>"
            ]
          },
          "metadata": {
            "needs_background": "light"
          }
        }
      ]
    },
    {
      "cell_type": "code",
      "source": [
        "count, bins_count  = np.histogram(df['data.http.result.response.headers.last_modified.0'].values, bins=1000)\n",
        "pdf = count / sum(count)\n",
        "cdf = np.cumsum(pdf)\n",
        "plt.plot(bins_count[1:], cdf)\n",
        "plt.legend()\n",
        "plt.title('HTTP Header Last Modified For the Whole Data')\n",
        "plt.ylabel('CDF')\n",
        "plt.xlabel('HTTP Header Last Modified')\n",
        "plt.xlim(0,50000)\n",
        "plt.savefig('HTTP Header Last Modified Whole.png')"
      ],
      "metadata": {
        "colab": {
          "base_uri": "https://localhost:8080/",
          "height": 312
        },
        "id": "-2WjdQ6uhawG",
        "outputId": "5f4b5a8f-972b-4a5e-ed65-0b707cc06331"
      },
      "execution_count": 227,
      "outputs": [
        {
          "output_type": "stream",
          "name": "stderr",
          "text": [
            "No handles with labels found to put in legend.\n"
          ]
        },
        {
          "output_type": "display_data",
          "data": {
            "image/png": "[encoded data removed]",
            "text/plain": [
              "<Figure size 432x288 with 1 Axes>"
            ]
          },
          "metadata": {
            "needs_background": "light"
          }
        }
      ]
    },
    {
      "cell_type": "code",
      "source": [
        "count, bins_count  = np.histogram(df[df[\"vendor\"] == 4]['data.http.result.response.content_length'].values, bins=10000)\n",
        "pdf = count / sum(count)\n",
        "cdf = np.cumsum(pdf)\n",
        "plt.plot(bins_count[1:], cdf, label=le.classes_[4])\n",
        "plt.legend()\n",
        "\n",
        "count, bins_count  = np.histogram(df[df[\"vendor\"] == 3]['data.http.result.response.content_length'].values, bins=10000)\n",
        "pdf = count / sum(count)\n",
        "cdf = np.cumsum(pdf)\n",
        "plt.plot(bins_count[1:], cdf, label=le.classes_[3])\n",
        "plt.legend()\n",
        "\n",
        "count, bins_count  = np.histogram(df[df[\"vendor\"] == 2]['data.http.result.response.content_length'].values, bins=10000)\n",
        "pdf = count / sum(count)\n",
        "cdf = np.cumsum(pdf)\n",
        "plt.plot(bins_count[1:], cdf, label=le.classes_[2])\n",
        "plt.legend()\n",
        "\n",
        "count, bins_count  = np.histogram(df[df[\"vendor\"] == 1]['data.http.result.response.content_length'].values, bins=10000)\n",
        "pdf = count / sum(count)\n",
        "cdf = np.cumsum(pdf)\n",
        "plt.plot(bins_count[1:], cdf, label=le.classes_[1])\n",
        "plt.legend()\n",
        "\n",
        "count, bins_count  = np.histogram(df[df[\"vendor\"] == 0]['data.http.result.response.content_length'].values, bins=10000)\n",
        "pdf = count / sum(count)\n",
        "cdf = np.cumsum(pdf)\n",
        "plt.plot(bins_count[1:], cdf, label=le.classes_[0])\n",
        "plt.legend()\n",
        "plt.title('CDF of No of Whois Records Per Vendor')\n",
        "plt.ylabel('CDF')\n",
        "plt.xlabel('# of Whois Records')\n",
        "\n",
        "count, bins_count  = np.histogram(df['data.http.result.response.content_length'].values, bins=1000)\n",
        "pdf = count / sum(count)\n",
        "cdf = np.cumsum(pdf)\n",
        "plt.plot(bins_count[1:], cdf, label = \"Whole Dataset\")\n",
        "plt.legend()\n",
        "plt.title('HTTP Header Content Length For the Whole Data')\n",
        "plt.ylabel('CDF')\n",
        "plt.xlabel('Content Length')\n",
        "plt.xlim(0,10000)\n",
        "plt.savefig('HTTP Content Length Merged.png')"
      ],
      "metadata": {
        "colab": {
          "base_uri": "https://localhost:8080/",
          "height": 295
        },
        "id": "rF-mPh0U3gJY",
        "outputId": "e099f15a-bb1b-4216-eeda-73bee1d514b3"
      },
      "execution_count": 113,
      "outputs": [
        {
          "output_type": "display_data",
          "data": {
            "image/png": "[encoded data removed]",
            "text/plain": [
              "<Figure size 432x288 with 1 Axes>"
            ]
          },
          "metadata": {
            "needs_background": "light"
          }
        }
      ]
    },
    {
      "cell_type": "code",
      "source": [
        "le.classes_"
      ],
      "metadata": {
        "colab": {
          "base_uri": "https://localhost:8080/"
        },
        "id": "CneDYpKotyIb",
        "outputId": "ec8c0f10-525e-4225-b910-34d75af67c01"
      },
      "execution_count": null,
      "outputs": [
        {
          "output_type": "execute_result",
          "data": {
            "text/plain": [
              "array(['Allocated to APNIC', 'Allocated to AfriNIC',\n",
              "       'Allocated to LACNIC', 'Allocated to RIPE NCC',\n",
              "       'Direct Allocation', 'Direct Assignment',\n",
              "       'Early Registrations, Maintained by APNIC',\n",
              "       'Early Registrations, Maintained by RIPE NCC',\n",
              "       'Early Registrations, Transferred to APNIC',\n",
              "       'Early Registrations, Transferred to RIPE NCC', 'Reallocated',\n",
              "       'Reassigned', 'Transferred to AfriNIC', 'Transferred to LACNIC'],\n",
              "      dtype=object)"
            ]
          },
          "metadata": {},
          "execution_count": 42
        }
      ]
    },
    {
      "cell_type": "code",
      "source": [
        "vendorEncodings"
      ],
      "metadata": {
        "colab": {
          "base_uri": "https://localhost:8080/"
        },
        "id": "hsjxTzZWulIV",
        "outputId": "40df2b81-7581-43d2-b508-12a7eec57f48"
      },
      "execution_count": null,
      "outputs": [
        {
          "output_type": "execute_result",
          "data": {
            "text/plain": [
              "array(['cdn', 'cloud', 'hosting', 'proxy', 'vpn'], dtype=object)"
            ]
          },
          "metadata": {},
          "execution_count": 57
        }
      ]
    },
    {
      "cell_type": "code",
      "source": [
        "le.classes_"
      ],
      "metadata": {
        "colab": {
          "base_uri": "https://localhost:8080/"
        },
        "id": "34QtrreVu1Od",
        "outputId": "170f3f1b-fa71-4767-9bd8-d4e18fba562a"
      },
      "execution_count": null,
      "outputs": [
        {
          "output_type": "execute_result",
          "data": {
            "text/plain": [
              "array(['Allocated to APNIC', 'Allocated to AfriNIC',\n",
              "       'Allocated to LACNIC', 'Allocated to RIPE NCC',\n",
              "       'Direct Allocation', 'Direct Assignment',\n",
              "       'Early Registrations, Maintained by APNIC',\n",
              "       'Early Registrations, Maintained by RIPE NCC',\n",
              "       'Early Registrations, Transferred to APNIC',\n",
              "       'Early Registrations, Transferred to RIPE NCC', 'Reallocated',\n",
              "       'Reassigned', 'Transferred to AfriNIC', 'Transferred to LACNIC'],\n",
              "      dtype=object)"
            ]
          },
          "metadata": {},
          "execution_count": 60
        }
      ]
    },
    {
      "cell_type": "code",
      "source": [
        "x = []\n",
        "i=0\n",
        "while(i<len(le.classes_)):\n",
        "  x.append(i)\n",
        "  i=i+1"
      ],
      "metadata": {
        "id": "oThneZR9wjIw"
      },
      "execution_count": null,
      "outputs": []
    },
    {
      "cell_type": "code",
      "source": [
        "x"
      ],
      "metadata": {
        "id": "CJP6yQgrxEF5"
      },
      "execution_count": null,
      "outputs": []
    },
    {
      "cell_type": "code",
      "source": [
        "df[df[\"vendor\"] == 0]['data.tls.status'].plot.kde(title='PDF - Whois CIDR Block Size',label=vendorEncodings[0])\n",
        "df[df[\"vendor\"] == 1]['data.tls.status'].plot.kde(title='PDF - Whois CIDR Block Size',label=vendorEncodings[1])\n",
        "df[df[\"vendor\"] == 2]['data.tls.status'].plot.kde(title='PDF - Whois CIDR Block Size ',label=vendorEncodings[2])\n",
        "df[df[\"vendor\"] == 3]['data.tls.status'].plot.kde(title='PDF - Whois CIDR Block Size',label=vendorEncodings[3])\n",
        "df[df[\"vendor\"] == 4]['data.tls.status'].plot.kde(title='PDF - TLS Scan Status per vendor',label=vendorEncodings[4])\n",
        "plt.legend(vendorEncodings)\n",
        "# plt.xticks(x, le.classes_)\n",
        "# plt.xticks(rotation=90)\n",
        "plt.xlabel('TLS Scan Status Encodings')\n",
        "plt.savefig('TLS Scan Status Vendor.png')"
      ],
      "metadata": {
        "colab": {
          "base_uri": "https://localhost:8080/",
          "height": 295
        },
        "id": "0HdHU96E5xfO",
        "outputId": "39aaf631-df3c-4267-fe1a-01edefa81466"
      },
      "execution_count": 212,
      "outputs": [
        {
          "output_type": "display_data",
          "data": {
            "image/png": "[encoded data removed]",
            "text/plain": [
              "<Figure size 432x288 with 1 Axes>"
            ]
          },
          "metadata": {
            "needs_background": "light"
          }
        }
      ]
    },
    {
      "cell_type": "code",
      "source": [
        "df[df[\"vendor\"] == 0]['data.tls.status'].plot.kde(title='PDF - Whois CIDR Block Size',label=vendorEncodings[0])\n",
        "df[df[\"vendor\"] == 1]['data.tls.status'].plot.kde(title='PDF - Whois CIDR Block Size',label=vendorEncodings[1])\n",
        "df[df[\"vendor\"] == 2]['data.tls.status'].plot.kde(title='PDF - Whois CIDR Block Size ',label=vendorEncodings[2])\n",
        "df[df[\"vendor\"] == 3]['data.tls.status'].plot.kde(title='PDF - Whois CIDR Block Size',label=vendorEncodings[3])\n",
        "df[df[\"vendor\"] == 4]['data.tls.status'].plot.kde(title='PDF - Certificate Issuer Organisation For Whole Data',label=vendorEncodings[4])\n",
        "df['data.tls.status'].plot.kde(title='PDF - TLS Scan Status For Whole Data')\n",
        "plt.legend(np.append(vendorEncodings,(\"Whole Dataset\")))\n",
        "# plt.xticks(x, le.classes_)\n",
        "# plt.xticks(rotation=90)\n",
        "plt.xlabel('TLS Scan Status Encodings')\n",
        "plt.savefig('TLS Scan Status Merged.png')"
      ],
      "metadata": {
        "colab": {
          "base_uri": "https://localhost:8080/",
          "height": 295
        },
        "id": "DpDa-gvhycXN",
        "outputId": "96630cc9-1983-473c-dc8e-d756fbd3f669"
      },
      "execution_count": 213,
      "outputs": [
        {
          "output_type": "display_data",
          "data": {
            "image/png": "[encoded data removed]",
            "text/plain": [
              "<Figure size 432x288 with 1 Axes>"
            ]
          },
          "metadata": {
            "needs_background": "light"
          }
        }
      ]
    },
    {
      "cell_type": "code",
      "source": [
        "df['data.tls.status'].plot.kde(title='PDF - TLS Scan Status For Whole Data')\n",
        "plt.legend([\"Whole Dataset\"])\n",
        "#plt.xticks(x, le.classes_)\n",
        "#plt.xticks(rotation=90)\n",
        "#plt.xlim(-3,12)\n",
        "plt.xlabel('TLS Scan Status Encodings')\n",
        "plt.savefig('TLS Scan Status Whole.png')"
      ],
      "metadata": {
        "colab": {
          "base_uri": "https://localhost:8080/",
          "height": 295
        },
        "id": "HyFJhM2hAu4e",
        "outputId": "f221fdbb-3efd-449e-9af9-181ff14ffd66"
      },
      "execution_count": 214,
      "outputs": [
        {
          "output_type": "display_data",
          "data": {
            "image/png": "[encoded data removed]",
            "text/plain": [
              "<Figure size 432x288 with 1 Axes>"
            ]
          },
          "metadata": {
            "needs_background": "light"
          }
        }
      ]
    },
    {
      "cell_type": "code",
      "source": [
        "print(le.classes_[0])\n",
        "df[df[\"vendor\"] == 0]['CNAME Count'].describe()"
      ],
      "metadata": {
        "colab": {
          "base_uri": "https://localhost:8080/"
        },
        "id": "a2OXRxNW8Avr",
        "outputId": "2781148e-9a80-4623-cfad-c9cda8638722"
      },
      "execution_count": null,
      "outputs": [
        {
          "output_type": "stream",
          "name": "stdout",
          "text": [
            "cdn\n"
          ]
        },
        {
          "output_type": "execute_result",
          "data": {
            "text/plain": [
              "count    18810.000000\n",
              "mean         6.219351\n",
              "std         17.350154\n",
              "min          1.000000\n",
              "25%          1.000000\n",
              "50%          2.000000\n",
              "75%          5.000000\n",
              "max        406.000000\n",
              "Name: CNAME Count, dtype: float64"
            ]
          },
          "metadata": {},
          "execution_count": 90
        }
      ]
    },
    {
      "cell_type": "code",
      "source": [
        "print(le.classes_[1])\n",
        "df[df[\"vendor\"] == 1]['CNAME Count'].describe()"
      ],
      "metadata": {
        "colab": {
          "base_uri": "https://localhost:8080/"
        },
        "id": "DsQK5xnu8RJO",
        "outputId": "e170d770-5bf6-49c7-cf6b-ead1c808f3e6"
      },
      "execution_count": null,
      "outputs": [
        {
          "output_type": "stream",
          "name": "stdout",
          "text": [
            "cloud\n"
          ]
        },
        {
          "output_type": "execute_result",
          "data": {
            "text/plain": [
              "count    22623.000000\n",
              "mean         2.332582\n",
              "std          4.407728\n",
              "min          1.000000\n",
              "25%          1.000000\n",
              "50%          2.000000\n",
              "75%          2.000000\n",
              "max        246.000000\n",
              "Name: CNAME Count, dtype: float64"
            ]
          },
          "metadata": {},
          "execution_count": 91
        }
      ]
    },
    {
      "cell_type": "code",
      "source": [
        "print(le.classes_[2])\n",
        "df[df[\"vendor\"] == 2]['CNAME Count'].describe()"
      ],
      "metadata": {
        "colab": {
          "base_uri": "https://localhost:8080/"
        },
        "id": "G2aKCo_78T3a",
        "outputId": "55b7724a-c37f-433e-85f2-8ec47e185752"
      },
      "execution_count": null,
      "outputs": [
        {
          "output_type": "stream",
          "name": "stdout",
          "text": [
            "hosting\n"
          ]
        },
        {
          "output_type": "execute_result",
          "data": {
            "text/plain": [
              "count    25889.000000\n",
              "mean         6.013944\n",
              "std         14.357315\n",
              "min          1.000000\n",
              "25%          2.000000\n",
              "50%          2.000000\n",
              "75%          8.000000\n",
              "max       2073.000000\n",
              "Name: CNAME Count, dtype: float64"
            ]
          },
          "metadata": {},
          "execution_count": 92
        }
      ]
    },
    {
      "cell_type": "code",
      "source": [
        "print(le.classes_[3])\n",
        "df[df[\"vendor\"] == 3]['CNAME Count'].describe()"
      ],
      "metadata": {
        "colab": {
          "base_uri": "https://localhost:8080/"
        },
        "id": "E4jBfqEH8W-E",
        "outputId": "4f2b9101-3cb9-43e4-bc74-76ab7f5d7ce6"
      },
      "execution_count": null,
      "outputs": [
        {
          "output_type": "stream",
          "name": "stdout",
          "text": [
            "proxy\n"
          ]
        },
        {
          "output_type": "execute_result",
          "data": {
            "text/plain": [
              "count    227.000000\n",
              "mean       1.947137\n",
              "std        2.068908\n",
              "min        1.000000\n",
              "25%        1.000000\n",
              "50%        2.000000\n",
              "75%        2.000000\n",
              "max       23.000000\n",
              "Name: CNAME Count, dtype: float64"
            ]
          },
          "metadata": {},
          "execution_count": 93
        }
      ]
    },
    {
      "cell_type": "code",
      "source": [
        "print(le.classes_[4])\n",
        "df[df[\"vendor\"] == 4]['CNAME Count'].describe()"
      ],
      "metadata": {
        "colab": {
          "base_uri": "https://localhost:8080/"
        },
        "id": "9WCit2Z48aW6",
        "outputId": "5b7e63e5-bc63-4113-bb80-e028460db3e1"
      },
      "execution_count": null,
      "outputs": [
        {
          "output_type": "stream",
          "name": "stdout",
          "text": [
            "vpn\n"
          ]
        },
        {
          "output_type": "execute_result",
          "data": {
            "text/plain": [
              "count    13106.000000\n",
              "mean         2.598199\n",
              "std          7.267821\n",
              "min          1.000000\n",
              "25%          1.000000\n",
              "50%          2.000000\n",
              "75%          2.000000\n",
              "max        246.000000\n",
              "Name: CNAME Count, dtype: float64"
            ]
          },
          "metadata": {},
          "execution_count": 94
        }
      ]
    },
    {
      "cell_type": "code",
      "source": [
        "print(\"Whole\")\n",
        "df['CNAME Count'].describe()"
      ],
      "metadata": {
        "colab": {
          "base_uri": "https://localhost:8080/"
        },
        "id": "dDNtxQuUYoYs",
        "outputId": "2b6d8493-85de-4abe-8c85-40c5960f0f84"
      },
      "execution_count": null,
      "outputs": [
        {
          "output_type": "stream",
          "name": "stdout",
          "text": [
            "Whole\n"
          ]
        },
        {
          "output_type": "execute_result",
          "data": {
            "text/plain": [
              "count    80655.000000\n",
              "mean         4.462774\n",
              "std         12.399856\n",
              "min          1.000000\n",
              "25%          1.000000\n",
              "50%          2.000000\n",
              "75%          3.000000\n",
              "max       2073.000000\n",
              "Name: CNAME Count, dtype: float64"
            ]
          },
          "metadata": {},
          "execution_count": 95
        }
      ]
    }
  ]
}