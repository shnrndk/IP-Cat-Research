{
  "nbformat": 4,
  "nbformat_minor": 0,
  "metadata": {
    "colab": {
      "name": "PDF and CDF Create.ipynb",
      "provenance": [],
      "collapsed_sections": [],
      "authorship_tag": "ABX9TyMuPBg6ygzJkpOaoztigZp4",
      "include_colab_link": true
    },
    "kernelspec": {
      "name": "python3",
      "display_name": "Python 3"
    },
    "language_info": {
      "name": "python"
    }
  },
  "cells": [
    {
      "cell_type": "markdown",
      "metadata": {
        "id": "view-in-github",
        "colab_type": "text"
      },
      "source": [
        "<a href=\"https://colab.research.google.com/github/shnrndk/IP-Cat-Research/blob/CDF-PDF/PDF_and_CDF_Create.ipynb\" target=\"_parent\"><img src=\"https://colab.research.google.com/assets/colab-badge.svg\" alt=\"Open In Colab\"/></a>"
      ]
    },
    {
      "cell_type": "code",
      "source": [
        "import pandas as pd\n",
        "import matplotlib.pyplot as plt\n",
        "import numpy as np\n",
        "from sklearn import preprocessing\n",
        "le = preprocessing.LabelEncoder()\n",
        "from ast import literal_eval"
      ],
      "metadata": {
        "id": "KF8OnKKgBsWY"
      },
      "execution_count": 1,
      "outputs": []
    },
    {
      "cell_type": "code",
      "execution_count": 2,
      "metadata": {
        "colab": {
          "base_uri": "https://localhost:8080/"
        },
        "id": "tZNK3eAJAPhk",
        "outputId": "60f0fd54-07fc-4885-869e-75c5e4ca01cb"
      },
      "outputs": [
        {
          "output_type": "stream",
          "name": "stdout",
          "text": [
            "Mounted at /content/drive\n"
          ]
        }
      ],
      "source": [
        "from google.colab import drive\n",
        "drive.mount('/content/drive')"
      ]
    },
    {
      "cell_type": "code",
      "source": [
        "!cp  /content/drive/MyDrive/final_dataset.zip /content/"
      ],
      "metadata": {
        "id": "zFwmXAo4AVkn"
      },
      "execution_count": 3,
      "outputs": []
    },
    {
      "cell_type": "code",
      "source": [
        "!unzip  final_dataset.zip"
      ],
      "metadata": {
        "colab": {
          "base_uri": "https://localhost:8080/"
        },
        "id": "ITwBIfzKBjKO",
        "outputId": "092214cc-fe35-4f3a-d584-c0d8474e7b53"
      },
      "execution_count": 4,
      "outputs": [
        {
          "output_type": "stream",
          "name": "stdout",
          "text": [
            "Archive:  final_dataset.zip\n",
            "  inflating: cdn_final_final.csv     \n",
            "  inflating: cloud_final_final.csv   \n",
            "  inflating: hosting_final_final.csv  \n",
            "  inflating: proxy_final_final.csv   \n",
            "  inflating: vpn_final_final.csv     \n"
          ]
        }
      ]
    },
    {
      "cell_type": "code",
      "source": [
        "sample_size = 30000\n",
        "df = pd.read_csv('cdn_final_final.csv')\n",
        "#df['vendor']= ['cdn' for x in range(df.shape[0])]\n",
        "df = df.sample(n = sample_size)\n",
        "df1 = pd.read_csv('cloud_final_final.csv')\n",
        "#df1['vendor']= ['cloud' for x in range(df1.shape[0])]\n",
        "df1 = df1.sample(n = sample_size)\n",
        "df2 = pd.read_csv('hosting_final_final.csv')\n",
        "#df2['vendor']= ['hosting' for x in range(df2.shape[0])]\n",
        "df2 = df2.sample(n = sample_size)\n",
        "df3 = pd.read_csv('vpn_final_final.csv')\n",
        "#df3['vendor']= ['vpn' for x in range(df3.shape[0])]\n",
        "df3 = df3.sample(n = 15000)\n",
        "df4 = pd.read_csv('proxy_final_final.csv')\n",
        "#df4['vendor']= ['vpn' for x in range(df3.shape[0])]\n",
        "df4 = df4.sample(n = 9200)"
      ],
      "metadata": {
        "colab": {
          "base_uri": "https://localhost:8080/"
        },
        "id": "8hG8V4bMAVa2",
        "outputId": "132cdbb7-cf29-4159-ec84-12ba5885948d"
      },
      "execution_count": 56,
      "outputs": [
        {
          "output_type": "stream",
          "name": "stderr",
          "text": [
            "/usr/local/lib/python3.7/dist-packages/IPython/core/interactiveshell.py:2718: DtypeWarning: Columns (25) have mixed types.Specify dtype option on import or set low_memory=False.\n",
            "  interactivity=interactivity, compiler=compiler, result=result)\n"
          ]
        }
      ]
    },
    {
      "cell_type": "code",
      "source": [
        "df = df.append([df1,df2,df3,df4],ignore_index=True)"
      ],
      "metadata": {
        "id": "v02QcD9ZDklZ"
      },
      "execution_count": 57,
      "outputs": []
    },
    {
      "cell_type": "code",
      "source": [
        "df"
      ],
      "metadata": {
        "colab": {
          "base_uri": "https://localhost:8080/",
          "height": 886
        },
        "id": "j0rQBNJVECFZ",
        "outputId": "99a95221-fe60-418a-c5d9-00d2902be1a3"
      },
      "execution_count": 58,
      "outputs": [
        {
          "output_type": "execute_result",
          "data": {
            "text/html": [
              "\n",
              "  <div id=\"df-66891e68-fad5-4b65-a2cc-9e3f263cda56\">\n",
              "    <div class=\"colab-df-container\">\n",
              "      <div>\n",
              "<style scoped>\n",
              "    .dataframe tbody tr th:only-of-type {\n",
              "        vertical-align: middle;\n",
              "    }\n",
              "\n",
              "    .dataframe tbody tr th {\n",
              "        vertical-align: top;\n",
              "    }\n",
              "\n",
              "    .dataframe thead th {\n",
              "        text-align: right;\n",
              "    }\n",
              "</style>\n",
              "<table border=\"1\" class=\"dataframe\">\n",
              "  <thead>\n",
              "    <tr style=\"text-align: right;\">\n",
              "      <th></th>\n",
              "      <th>ip</th>\n",
              "      <th>No Of Owners</th>\n",
              "      <th>CIDR</th>\n",
              "      <th>netType</th>\n",
              "      <th>Organization</th>\n",
              "      <th>Most Recent Update</th>\n",
              "      <th>No of Who is Records</th>\n",
              "      <th>data.http.result.response.headers.server.0</th>\n",
              "      <th>data.http.result.response.status_code</th>\n",
              "      <th>data.http.result.response.headers.unknown.0.key</th>\n",
              "      <th>data.http.result.response.headers.unknown.0.value.0</th>\n",
              "      <th>data.http.result.response.headers.connection.0</th>\n",
              "      <th>data.http.result.response.headers.via.0</th>\n",
              "      <th>data.http.result.response.headers.unknown.1.key</th>\n",
              "      <th>data.http.result.response.headers.unknown.1.value.0</th>\n",
              "      <th>data.http.result.response.headers.accept_ranges.0</th>\n",
              "      <th>data.http.result.response.headers.cache_control.0</th>\n",
              "      <th>data.http.result.response.headers.retry_after.0</th>\n",
              "      <th>data.http.result.response.body</th>\n",
              "      <th>data.http.result.response.body_sha256</th>\n",
              "      <th>data.http.result.response.content_length</th>\n",
              "      <th>data.http.result.response.headers.content_type.0</th>\n",
              "      <th>data.http.result.response.headers.location.0</th>\n",
              "      <th>data.http.result.redirect_response_chain.0.status_line</th>\n",
              "      <th>data.http.result.response.headers.etag.0</th>\n",
              "      <th>data.http.result.response.headers.last_modified.0</th>\n",
              "      <th>data.http.result.response.headers.vary.0</th>\n",
              "      <th>data.http.result.response.transfer_encoding.0</th>\n",
              "      <th>data.http.result.response.headers.x_powered_by.0</th>\n",
              "      <th>data.http.result.response.headers.pragma.0</th>\n",
              "      <th>data.http.result.redirect_response_chain.0.headers.server.0</th>\n",
              "      <th>as_name</th>\n",
              "      <th>as_no</th>\n",
              "      <th>data.tls.status</th>\n",
              "      <th>data.tls.result.handshake_log.server_certificates.certificate.parsed.issuer.common_name</th>\n",
              "      <th>data.tls.result.handshake_log.server_certificates.certificate.parsed.issuer.country</th>\n",
              "      <th>data.tls.result.handshake_log.server_certificates.certificate.parsed.issuer.organization</th>\n",
              "      <th>data.tls.result.handshake_log.server_certificates.certificate.parsed.issuer_dn</th>\n",
              "      <th>data.tls.result.handshake_log.server_certificates.certificate.parsed.subject.common_name</th>\n",
              "      <th>data.tls.result.handshake_log.server_certificates.certificate.parsed.subject.country</th>\n",
              "      <th>data.tls.result.handshake_log.server_certificates.certificate.parsed.subject.locality</th>\n",
              "      <th>data.tls.result.handshake_log.server_certificates.certificate.parsed.subject.province</th>\n",
              "      <th>data.tls.result.handshake_log.server_certificates.certificate.parsed.subject.organization</th>\n",
              "      <th>data.tls.result.handshake_log.server_certificates.certificate.parsed.subject_dn</th>\n",
              "      <th>data.tls.result.handshake_log.server_certificates.certificate.parsed.extensions.subject_alt_name.dns_names</th>\n",
              "      <th>vendor</th>\n",
              "      <th>Unnamed: 0_y</th>\n",
              "    </tr>\n",
              "  </thead>\n",
              "  <tbody>\n",
              "    <tr>\n",
              "      <th>0</th>\n",
              "      <td>13.227.38.158</td>\n",
              "      <td>1.0</td>\n",
              "      <td>13.224.0.0/14</td>\n",
              "      <td>Direct Allocation</td>\n",
              "      <td>Amazon Technologies Inc.</td>\n",
              "      <td>1.585613e+09</td>\n",
              "      <td>1.0</td>\n",
              "      <td>CloudFront</td>\n",
              "      <td>403.0</td>\n",
              "      <td>x_amz_cf_id</td>\n",
              "      <td>yhrBya7YYmB6eUMNe6KLvxwjmxhDJmU7IA4M2xJNrtc2jQ...</td>\n",
              "      <td>keep-alive</td>\n",
              "      <td>1.1 1fdf83f6faeffdd74bddbfdba34c8703.cloudfron...</td>\n",
              "      <td>x_amz_cf_pop</td>\n",
              "      <td>MSP50-C1</td>\n",
              "      <td>NaN</td>\n",
              "      <td>NaN</td>\n",
              "      <td>NaN</td>\n",
              "      <td>&lt;!DOCTYPE HTML PUBLIC \"-//W3C//DTD HTML 4.01 T...</td>\n",
              "      <td>0260c3d27120af5c0a9b4ed6ce504155158e6371a47340...</td>\n",
              "      <td>915.0</td>\n",
              "      <td>text/html</td>\n",
              "      <td>NaN</td>\n",
              "      <td>NaN</td>\n",
              "      <td>NaN</td>\n",
              "      <td>NaN</td>\n",
              "      <td>NaN</td>\n",
              "      <td>NaN</td>\n",
              "      <td>NaN</td>\n",
              "      <td>NaN</td>\n",
              "      <td>NaN</td>\n",
              "      <td>AMAZON-02 - Amazon.com, Inc.</td>\n",
              "      <td>16509</td>\n",
              "      <td>success</td>\n",
              "      <td>['DigiCert SHA2 Secure Server CA']</td>\n",
              "      <td>['US']</td>\n",
              "      <td>['DigiCert Inc']</td>\n",
              "      <td>C=US, O=DigiCert Inc, CN=DigiCert SHA2 Secure ...</td>\n",
              "      <td>['*.adbephotos.com']</td>\n",
              "      <td>['US']</td>\n",
              "      <td>['San Jose']</td>\n",
              "      <td>['California']</td>\n",
              "      <td>['Adobe Systems Incorporated']</td>\n",
              "      <td>C=US, ST=California, L=San Jose, O=Adobe Syste...</td>\n",
              "      <td>['*.adbephotos.com']</td>\n",
              "      <td>cdn</td>\n",
              "      <td>NaN</td>\n",
              "    </tr>\n",
              "    <tr>\n",
              "      <th>1</th>\n",
              "      <td>54.192.198.16</td>\n",
              "      <td>NaN</td>\n",
              "      <td>NaN</td>\n",
              "      <td>NaN</td>\n",
              "      <td>NaN</td>\n",
              "      <td>NaN</td>\n",
              "      <td>0.0</td>\n",
              "      <td>CloudFront</td>\n",
              "      <td>403.0</td>\n",
              "      <td>x_cache</td>\n",
              "      <td>Error from cloudfront</td>\n",
              "      <td>keep-alive</td>\n",
              "      <td>1.1 b8d8693cc4ac05b6a9cebe2651a2c8b9.cloudfron...</td>\n",
              "      <td>x_amz_cf_pop</td>\n",
              "      <td>EWR53-P1</td>\n",
              "      <td>NaN</td>\n",
              "      <td>NaN</td>\n",
              "      <td>NaN</td>\n",
              "      <td>&lt;!DOCTYPE HTML PUBLIC \"-//W3C//DTD HTML 4.01 T...</td>\n",
              "      <td>579e7d034aed2f39ed6efa74d727ba1d74d704bcd1aa78...</td>\n",
              "      <td>915.0</td>\n",
              "      <td>text/html</td>\n",
              "      <td>NaN</td>\n",
              "      <td>NaN</td>\n",
              "      <td>NaN</td>\n",
              "      <td>NaN</td>\n",
              "      <td>NaN</td>\n",
              "      <td>NaN</td>\n",
              "      <td>NaN</td>\n",
              "      <td>NaN</td>\n",
              "      <td>NaN</td>\n",
              "      <td>unknown</td>\n",
              "      <td>unknown</td>\n",
              "      <td>unknown-error</td>\n",
              "      <td>NaN</td>\n",
              "      <td>NaN</td>\n",
              "      <td>NaN</td>\n",
              "      <td>NaN</td>\n",
              "      <td>NaN</td>\n",
              "      <td>NaN</td>\n",
              "      <td>NaN</td>\n",
              "      <td>NaN</td>\n",
              "      <td>NaN</td>\n",
              "      <td>NaN</td>\n",
              "      <td>NaN</td>\n",
              "      <td>cdn</td>\n",
              "      <td>NaN</td>\n",
              "    </tr>\n",
              "    <tr>\n",
              "      <th>2</th>\n",
              "      <td>13.224.36.68</td>\n",
              "      <td>1.0</td>\n",
              "      <td>13.224.0.0/14</td>\n",
              "      <td>Reallocated</td>\n",
              "      <td>Amazon.com, Inc.</td>\n",
              "      <td>1.585613e+09</td>\n",
              "      <td>1.0</td>\n",
              "      <td>CloudFront</td>\n",
              "      <td>403.0</td>\n",
              "      <td>x_amz_cf_pop</td>\n",
              "      <td>YTO50-C1</td>\n",
              "      <td>keep-alive</td>\n",
              "      <td>1.1 62ba7bce3b9fe4b9628be93f733bf2e4.cloudfron...</td>\n",
              "      <td>x_amz_cf_id</td>\n",
              "      <td>7f4WYX3xuqXWWoHKjWoqsjsHfH0Ey32vfODiLjCKbKxU6T...</td>\n",
              "      <td>NaN</td>\n",
              "      <td>NaN</td>\n",
              "      <td>NaN</td>\n",
              "      <td>&lt;!DOCTYPE HTML PUBLIC \"-//W3C//DTD HTML 4.01 T...</td>\n",
              "      <td>e4711d6783ed52aca346e8b5a540b0abebf735610e3b68...</td>\n",
              "      <td>915.0</td>\n",
              "      <td>text/html</td>\n",
              "      <td>NaN</td>\n",
              "      <td>NaN</td>\n",
              "      <td>NaN</td>\n",
              "      <td>NaN</td>\n",
              "      <td>NaN</td>\n",
              "      <td>NaN</td>\n",
              "      <td>NaN</td>\n",
              "      <td>NaN</td>\n",
              "      <td>NaN</td>\n",
              "      <td>AMAZON-02 - Amazon.com, Inc.</td>\n",
              "      <td>16509</td>\n",
              "      <td>success</td>\n",
              "      <td>['Amazon']</td>\n",
              "      <td>['US']</td>\n",
              "      <td>['Amazon']</td>\n",
              "      <td>C=US, O=Amazon, OU=Server CA 1B, CN=Amazon</td>\n",
              "      <td>['artistanne.cdn929.com']</td>\n",
              "      <td>NaN</td>\n",
              "      <td>NaN</td>\n",
              "      <td>NaN</td>\n",
              "      <td>NaN</td>\n",
              "      <td>CN=artistanne.cdn929.com</td>\n",
              "      <td>['artistanne.cdn929.com', 'images.artistanne.c...</td>\n",
              "      <td>cdn</td>\n",
              "      <td>NaN</td>\n",
              "    </tr>\n",
              "    <tr>\n",
              "      <th>3</th>\n",
              "      <td>152.195.14.91</td>\n",
              "      <td>1.0</td>\n",
              "      <td>152.192.0.0/13, 152.176.0.0/12</td>\n",
              "      <td>Direct Allocation</td>\n",
              "      <td>ANS Communications, Inc</td>\n",
              "      <td>1.260144e+09</td>\n",
              "      <td>1.0</td>\n",
              "      <td>ECS (nyb/1D0B)</td>\n",
              "      <td>404.0</td>\n",
              "      <td>NaN</td>\n",
              "      <td>NaN</td>\n",
              "      <td>NaN</td>\n",
              "      <td>NaN</td>\n",
              "      <td>NaN</td>\n",
              "      <td>NaN</td>\n",
              "      <td>NaN</td>\n",
              "      <td>NaN</td>\n",
              "      <td>NaN</td>\n",
              "      <td>&lt;?xml version=\"1.0\" encoding=\"iso-8859-1\"?&gt;\\n&lt;...</td>\n",
              "      <td>17b3914195ad4aae3f4486a351fe9172aada062dad7fcc...</td>\n",
              "      <td>345.0</td>\n",
              "      <td>text/html</td>\n",
              "      <td>NaN</td>\n",
              "      <td>NaN</td>\n",
              "      <td>NaN</td>\n",
              "      <td>NaN</td>\n",
              "      <td>NaN</td>\n",
              "      <td>NaN</td>\n",
              "      <td>NaN</td>\n",
              "      <td>NaN</td>\n",
              "      <td>NaN</td>\n",
              "      <td>EDGECAST - MCI Communications Services, Inc. d...</td>\n",
              "      <td>15133</td>\n",
              "      <td>success</td>\n",
              "      <td>['DigiCert SHA2 Secure Server CA']</td>\n",
              "      <td>['US']</td>\n",
              "      <td>['DigiCert Inc']</td>\n",
              "      <td>C=US, O=DigiCert Inc, CN=DigiCert SHA2 Secure ...</td>\n",
              "      <td>['www.volkswagen-comerciais.pt']</td>\n",
              "      <td>['DE']</td>\n",
              "      <td>['Wolfsburg']</td>\n",
              "      <td>NaN</td>\n",
              "      <td>['Volkswagen AG']</td>\n",
              "      <td>C=DE, L=Wolfsburg, O=Volkswagen AG, OU=K-SIPV/...</td>\n",
              "      <td>['www.volkswagen-comerciais.pt', 'volkswagen-c...</td>\n",
              "      <td>cdn</td>\n",
              "      <td>NaN</td>\n",
              "    </tr>\n",
              "    <tr>\n",
              "      <th>4</th>\n",
              "      <td>13.33.66.115</td>\n",
              "      <td>1.0</td>\n",
              "      <td>13.32.0.0/15</td>\n",
              "      <td>Reallocated</td>\n",
              "      <td>Amazon.com, Inc.</td>\n",
              "      <td>1.585613e+09</td>\n",
              "      <td>1.0</td>\n",
              "      <td>CloudFront</td>\n",
              "      <td>403.0</td>\n",
              "      <td>x_cache</td>\n",
              "      <td>Error from cloudfront</td>\n",
              "      <td>keep-alive</td>\n",
              "      <td>1.1 32c386750218a25bee899f5c2a6d5b33.cloudfron...</td>\n",
              "      <td>x_amz_cf_id</td>\n",
              "      <td>4xHpXSU9r6J6srxqu--Kdi2nE1ILiiKKcb8ZqnH9McHc0K...</td>\n",
              "      <td>NaN</td>\n",
              "      <td>NaN</td>\n",
              "      <td>NaN</td>\n",
              "      <td>&lt;!DOCTYPE HTML PUBLIC \"-//W3C//DTD HTML 4.01 T...</td>\n",
              "      <td>e2b7188b4735dd8168ac6f19f34db1587217c3c713ae1f...</td>\n",
              "      <td>915.0</td>\n",
              "      <td>text/html</td>\n",
              "      <td>NaN</td>\n",
              "      <td>NaN</td>\n",
              "      <td>NaN</td>\n",
              "      <td>NaN</td>\n",
              "      <td>NaN</td>\n",
              "      <td>NaN</td>\n",
              "      <td>NaN</td>\n",
              "      <td>NaN</td>\n",
              "      <td>NaN</td>\n",
              "      <td>AMAZON-02 - Amazon.com, Inc.</td>\n",
              "      <td>16509</td>\n",
              "      <td>unknown-error</td>\n",
              "      <td>NaN</td>\n",
              "      <td>NaN</td>\n",
              "      <td>NaN</td>\n",
              "      <td>NaN</td>\n",
              "      <td>NaN</td>\n",
              "      <td>NaN</td>\n",
              "      <td>NaN</td>\n",
              "      <td>NaN</td>\n",
              "      <td>NaN</td>\n",
              "      <td>NaN</td>\n",
              "      <td>NaN</td>\n",
              "      <td>cdn</td>\n",
              "      <td>NaN</td>\n",
              "    </tr>\n",
              "    <tr>\n",
              "      <th>...</th>\n",
              "      <td>...</td>\n",
              "      <td>...</td>\n",
              "      <td>...</td>\n",
              "      <td>...</td>\n",
              "      <td>...</td>\n",
              "      <td>...</td>\n",
              "      <td>...</td>\n",
              "      <td>...</td>\n",
              "      <td>...</td>\n",
              "      <td>...</td>\n",
              "      <td>...</td>\n",
              "      <td>...</td>\n",
              "      <td>...</td>\n",
              "      <td>...</td>\n",
              "      <td>...</td>\n",
              "      <td>...</td>\n",
              "      <td>...</td>\n",
              "      <td>...</td>\n",
              "      <td>...</td>\n",
              "      <td>...</td>\n",
              "      <td>...</td>\n",
              "      <td>...</td>\n",
              "      <td>...</td>\n",
              "      <td>...</td>\n",
              "      <td>...</td>\n",
              "      <td>...</td>\n",
              "      <td>...</td>\n",
              "      <td>...</td>\n",
              "      <td>...</td>\n",
              "      <td>...</td>\n",
              "      <td>...</td>\n",
              "      <td>...</td>\n",
              "      <td>...</td>\n",
              "      <td>...</td>\n",
              "      <td>...</td>\n",
              "      <td>...</td>\n",
              "      <td>...</td>\n",
              "      <td>...</td>\n",
              "      <td>...</td>\n",
              "      <td>...</td>\n",
              "      <td>...</td>\n",
              "      <td>...</td>\n",
              "      <td>...</td>\n",
              "      <td>...</td>\n",
              "      <td>...</td>\n",
              "      <td>...</td>\n",
              "      <td>...</td>\n",
              "    </tr>\n",
              "    <tr>\n",
              "      <th>114195</th>\n",
              "      <td>200.229.147.2</td>\n",
              "      <td>NaN</td>\n",
              "      <td>NaN</td>\n",
              "      <td>NaN</td>\n",
              "      <td>NaN</td>\n",
              "      <td>NaN</td>\n",
              "      <td>0.0</td>\n",
              "      <td>NaN</td>\n",
              "      <td>NaN</td>\n",
              "      <td>NaN</td>\n",
              "      <td>NaN</td>\n",
              "      <td>NaN</td>\n",
              "      <td>NaN</td>\n",
              "      <td>NaN</td>\n",
              "      <td>NaN</td>\n",
              "      <td>NaN</td>\n",
              "      <td>NaN</td>\n",
              "      <td>NaN</td>\n",
              "      <td>NaN</td>\n",
              "      <td>NaN</td>\n",
              "      <td>NaN</td>\n",
              "      <td>NaN</td>\n",
              "      <td>NaN</td>\n",
              "      <td>NaN</td>\n",
              "      <td>NaN</td>\n",
              "      <td>NaN</td>\n",
              "      <td>NaN</td>\n",
              "      <td>NaN</td>\n",
              "      <td>NaN</td>\n",
              "      <td>NaN</td>\n",
              "      <td>NaN</td>\n",
              "      <td>NaN</td>\n",
              "      <td>NaN</td>\n",
              "      <td>connection-timeout</td>\n",
              "      <td>NaN</td>\n",
              "      <td>NaN</td>\n",
              "      <td>NaN</td>\n",
              "      <td>NaN</td>\n",
              "      <td>NaN</td>\n",
              "      <td>NaN</td>\n",
              "      <td>NaN</td>\n",
              "      <td>NaN</td>\n",
              "      <td>NaN</td>\n",
              "      <td>NaN</td>\n",
              "      <td>NaN</td>\n",
              "      <td>proxy</td>\n",
              "      <td>4448.0</td>\n",
              "    </tr>\n",
              "    <tr>\n",
              "      <th>114196</th>\n",
              "      <td>103.251.221.77</td>\n",
              "      <td>1.0</td>\n",
              "      <td>103.0.0.0/8</td>\n",
              "      <td>Allocated to APNIC</td>\n",
              "      <td>Asia Pacific Network Information Centre</td>\n",
              "      <td>1.428303e+09</td>\n",
              "      <td>2.0</td>\n",
              "      <td>NaN</td>\n",
              "      <td>NaN</td>\n",
              "      <td>NaN</td>\n",
              "      <td>NaN</td>\n",
              "      <td>NaN</td>\n",
              "      <td>NaN</td>\n",
              "      <td>NaN</td>\n",
              "      <td>NaN</td>\n",
              "      <td>NaN</td>\n",
              "      <td>NaN</td>\n",
              "      <td>NaN</td>\n",
              "      <td>NaN</td>\n",
              "      <td>NaN</td>\n",
              "      <td>NaN</td>\n",
              "      <td>NaN</td>\n",
              "      <td>NaN</td>\n",
              "      <td>NaN</td>\n",
              "      <td>NaN</td>\n",
              "      <td>NaN</td>\n",
              "      <td>NaN</td>\n",
              "      <td>NaN</td>\n",
              "      <td>NaN</td>\n",
              "      <td>NaN</td>\n",
              "      <td>NaN</td>\n",
              "      <td>NaN</td>\n",
              "      <td>NaN</td>\n",
              "      <td>connection-timeout</td>\n",
              "      <td>NaN</td>\n",
              "      <td>NaN</td>\n",
              "      <td>NaN</td>\n",
              "      <td>NaN</td>\n",
              "      <td>NaN</td>\n",
              "      <td>NaN</td>\n",
              "      <td>NaN</td>\n",
              "      <td>NaN</td>\n",
              "      <td>NaN</td>\n",
              "      <td>NaN</td>\n",
              "      <td>NaN</td>\n",
              "      <td>proxy</td>\n",
              "      <td>783.0</td>\n",
              "    </tr>\n",
              "    <tr>\n",
              "      <th>114197</th>\n",
              "      <td>187.216.81.185</td>\n",
              "      <td>1.0</td>\n",
              "      <td>187.0.0.0/8</td>\n",
              "      <td>Allocated to LACNIC</td>\n",
              "      <td>Latin American and Caribbean IP address Region...</td>\n",
              "      <td>1.521072e+09</td>\n",
              "      <td>1.0</td>\n",
              "      <td>NaN</td>\n",
              "      <td>NaN</td>\n",
              "      <td>NaN</td>\n",
              "      <td>NaN</td>\n",
              "      <td>NaN</td>\n",
              "      <td>NaN</td>\n",
              "      <td>NaN</td>\n",
              "      <td>NaN</td>\n",
              "      <td>NaN</td>\n",
              "      <td>NaN</td>\n",
              "      <td>NaN</td>\n",
              "      <td>NaN</td>\n",
              "      <td>NaN</td>\n",
              "      <td>NaN</td>\n",
              "      <td>NaN</td>\n",
              "      <td>NaN</td>\n",
              "      <td>NaN</td>\n",
              "      <td>NaN</td>\n",
              "      <td>NaN</td>\n",
              "      <td>NaN</td>\n",
              "      <td>NaN</td>\n",
              "      <td>NaN</td>\n",
              "      <td>NaN</td>\n",
              "      <td>NaN</td>\n",
              "      <td>NaN</td>\n",
              "      <td>NaN</td>\n",
              "      <td>connection-timeout</td>\n",
              "      <td>NaN</td>\n",
              "      <td>NaN</td>\n",
              "      <td>NaN</td>\n",
              "      <td>NaN</td>\n",
              "      <td>NaN</td>\n",
              "      <td>NaN</td>\n",
              "      <td>NaN</td>\n",
              "      <td>NaN</td>\n",
              "      <td>NaN</td>\n",
              "      <td>NaN</td>\n",
              "      <td>NaN</td>\n",
              "      <td>proxy</td>\n",
              "      <td>8912.0</td>\n",
              "    </tr>\n",
              "    <tr>\n",
              "      <th>114198</th>\n",
              "      <td>185.141.233.47</td>\n",
              "      <td>1.0</td>\n",
              "      <td>185.0.0.0/8</td>\n",
              "      <td>Allocated to RIPE NCC</td>\n",
              "      <td>RIPE Network Coordination Centre</td>\n",
              "      <td>1.559571e+09</td>\n",
              "      <td>2.0</td>\n",
              "      <td>nginx</td>\n",
              "      <td>301.0</td>\n",
              "      <td>keep_alive</td>\n",
              "      <td>timeout=300</td>\n",
              "      <td>keep-alive</td>\n",
              "      <td>NaN</td>\n",
              "      <td>NaN</td>\n",
              "      <td>NaN</td>\n",
              "      <td>NaN</td>\n",
              "      <td>NaN</td>\n",
              "      <td>NaN</td>\n",
              "      <td>&lt;html&gt;\\r\\n&lt;head&gt;&lt;title&gt;301 Moved Permanently&lt;/...</td>\n",
              "      <td>9e17cb15dd75bbbd5dbb984eda674863c3b10ab72613cf...</td>\n",
              "      <td>162.0</td>\n",
              "      <td>text/html</td>\n",
              "      <td>https://1c.ntzh.ru/</td>\n",
              "      <td>301 Moved Permanently</td>\n",
              "      <td>NaN</td>\n",
              "      <td>NaN</td>\n",
              "      <td>NaN</td>\n",
              "      <td>NaN</td>\n",
              "      <td>NaN</td>\n",
              "      <td>NaN</td>\n",
              "      <td>nginx</td>\n",
              "      <td>NaN</td>\n",
              "      <td>NaN</td>\n",
              "      <td>success</td>\n",
              "      <td>['R3']</td>\n",
              "      <td>['US']</td>\n",
              "      <td>[\"Let's Encrypt\"]</td>\n",
              "      <td>C=US, O=Let's Encrypt, CN=R3</td>\n",
              "      <td>['1c.ntzh.ru']</td>\n",
              "      <td>NaN</td>\n",
              "      <td>NaN</td>\n",
              "      <td>NaN</td>\n",
              "      <td>NaN</td>\n",
              "      <td>CN=1c.ntzh.ru</td>\n",
              "      <td>['1c.ntzh.ru']</td>\n",
              "      <td>proxy</td>\n",
              "      <td>4229.0</td>\n",
              "    </tr>\n",
              "    <tr>\n",
              "      <th>114199</th>\n",
              "      <td>201.236.248.53</td>\n",
              "      <td>NaN</td>\n",
              "      <td>NaN</td>\n",
              "      <td>NaN</td>\n",
              "      <td>NaN</td>\n",
              "      <td>NaN</td>\n",
              "      <td>0.0</td>\n",
              "      <td>NaN</td>\n",
              "      <td>NaN</td>\n",
              "      <td>NaN</td>\n",
              "      <td>NaN</td>\n",
              "      <td>NaN</td>\n",
              "      <td>NaN</td>\n",
              "      <td>NaN</td>\n",
              "      <td>NaN</td>\n",
              "      <td>NaN</td>\n",
              "      <td>NaN</td>\n",
              "      <td>NaN</td>\n",
              "      <td>NaN</td>\n",
              "      <td>NaN</td>\n",
              "      <td>NaN</td>\n",
              "      <td>NaN</td>\n",
              "      <td>NaN</td>\n",
              "      <td>NaN</td>\n",
              "      <td>NaN</td>\n",
              "      <td>NaN</td>\n",
              "      <td>NaN</td>\n",
              "      <td>NaN</td>\n",
              "      <td>NaN</td>\n",
              "      <td>NaN</td>\n",
              "      <td>NaN</td>\n",
              "      <td>NaN</td>\n",
              "      <td>NaN</td>\n",
              "      <td>connection-timeout</td>\n",
              "      <td>NaN</td>\n",
              "      <td>NaN</td>\n",
              "      <td>NaN</td>\n",
              "      <td>NaN</td>\n",
              "      <td>NaN</td>\n",
              "      <td>NaN</td>\n",
              "      <td>NaN</td>\n",
              "      <td>NaN</td>\n",
              "      <td>NaN</td>\n",
              "      <td>NaN</td>\n",
              "      <td>NaN</td>\n",
              "      <td>proxy</td>\n",
              "      <td>6081.0</td>\n",
              "    </tr>\n",
              "  </tbody>\n",
              "</table>\n",
              "<p>114200 rows × 47 columns</p>\n",
              "</div>\n",
              "      <button class=\"colab-df-convert\" onclick=\"convertToInteractive('df-66891e68-fad5-4b65-a2cc-9e3f263cda56')\"\n",
              "              title=\"Convert this dataframe to an interactive table.\"\n",
              "              style=\"display:none;\">\n",
              "        \n",
              "  <svg xmlns=\"http://www.w3.org/2000/svg\" height=\"24px\"viewBox=\"0 0 24 24\"\n",
              "       width=\"24px\">\n",
              "    <path d=\"M0 0h24v24H0V0z\" fill=\"none\"/>\n",
              "    <path d=\"M18.56 5.44l.94 2.06.94-2.06 2.06-.94-2.06-.94-.94-2.06-.94 2.06-2.06.94zm-11 1L8.5 8.5l.94-2.06 2.06-.94-2.06-.94L8.5 2.5l-.94 2.06-2.06.94zm10 10l.94 2.06.94-2.06 2.06-.94-2.06-.94-.94-2.06-.94 2.06-2.06.94z\"/><path d=\"M17.41 7.96l-1.37-1.37c-.4-.4-.92-.59-1.43-.59-.52 0-1.04.2-1.43.59L10.3 9.45l-7.72 7.72c-.78.78-.78 2.05 0 2.83L4 21.41c.39.39.9.59 1.41.59.51 0 1.02-.2 1.41-.59l7.78-7.78 2.81-2.81c.8-.78.8-2.07 0-2.86zM5.41 20L4 18.59l7.72-7.72 1.47 1.35L5.41 20z\"/>\n",
              "  </svg>\n",
              "      </button>\n",
              "      \n",
              "  <style>\n",
              "    .colab-df-container {\n",
              "      display:flex;\n",
              "      flex-wrap:wrap;\n",
              "      gap: 12px;\n",
              "    }\n",
              "\n",
              "    .colab-df-convert {\n",
              "      background-color: #E8F0FE;\n",
              "      border: none;\n",
              "      border-radius: 50%;\n",
              "      cursor: pointer;\n",
              "      display: none;\n",
              "      fill: #1967D2;\n",
              "      height: 32px;\n",
              "      padding: 0 0 0 0;\n",
              "      width: 32px;\n",
              "    }\n",
              "\n",
              "    .colab-df-convert:hover {\n",
              "      background-color: #E2EBFA;\n",
              "      box-shadow: 0px 1px 2px rgba(60, 64, 67, 0.3), 0px 1px 3px 1px rgba(60, 64, 67, 0.15);\n",
              "      fill: #174EA6;\n",
              "    }\n",
              "\n",
              "    [theme=dark] .colab-df-convert {\n",
              "      background-color: #3B4455;\n",
              "      fill: #D2E3FC;\n",
              "    }\n",
              "\n",
              "    [theme=dark] .colab-df-convert:hover {\n",
              "      background-color: #434B5C;\n",
              "      box-shadow: 0px 1px 3px 1px rgba(0, 0, 0, 0.15);\n",
              "      filter: drop-shadow(0px 1px 2px rgba(0, 0, 0, 0.3));\n",
              "      fill: #FFFFFF;\n",
              "    }\n",
              "  </style>\n",
              "\n",
              "      <script>\n",
              "        const buttonEl =\n",
              "          document.querySelector('#df-66891e68-fad5-4b65-a2cc-9e3f263cda56 button.colab-df-convert');\n",
              "        buttonEl.style.display =\n",
              "          google.colab.kernel.accessAllowed ? 'block' : 'none';\n",
              "\n",
              "        async function convertToInteractive(key) {\n",
              "          const element = document.querySelector('#df-66891e68-fad5-4b65-a2cc-9e3f263cda56');\n",
              "          const dataTable =\n",
              "            await google.colab.kernel.invokeFunction('convertToInteractive',\n",
              "                                                     [key], {});\n",
              "          if (!dataTable) return;\n",
              "\n",
              "          const docLinkHtml = 'Like what you see? Visit the ' +\n",
              "            '<a target=\"_blank\" href=https://colab.research.google.com/notebooks/data_table.ipynb>data table notebook</a>'\n",
              "            + ' to learn more about interactive tables.';\n",
              "          element.innerHTML = '';\n",
              "          dataTable['output_type'] = 'display_data';\n",
              "          await google.colab.output.renderOutput(dataTable, element);\n",
              "          const docLink = document.createElement('div');\n",
              "          docLink.innerHTML = docLinkHtml;\n",
              "          element.appendChild(docLink);\n",
              "        }\n",
              "      </script>\n",
              "    </div>\n",
              "  </div>\n",
              "  "
            ],
            "text/plain": [
              "                    ip  No Of Owners  ... vendor Unnamed: 0_y\n",
              "0        13.227.38.158           1.0  ...    cdn          NaN\n",
              "1        54.192.198.16           NaN  ...    cdn          NaN\n",
              "2         13.224.36.68           1.0  ...    cdn          NaN\n",
              "3        152.195.14.91           1.0  ...    cdn          NaN\n",
              "4         13.33.66.115           1.0  ...    cdn          NaN\n",
              "...                ...           ...  ...    ...          ...\n",
              "114195   200.229.147.2           NaN  ...  proxy       4448.0\n",
              "114196  103.251.221.77           1.0  ...  proxy        783.0\n",
              "114197  187.216.81.185           1.0  ...  proxy       8912.0\n",
              "114198  185.141.233.47           1.0  ...  proxy       4229.0\n",
              "114199  201.236.248.53           NaN  ...  proxy       6081.0\n",
              "\n",
              "[114200 rows x 47 columns]"
            ]
          },
          "metadata": {},
          "execution_count": 58
        }
      ]
    },
    {
      "cell_type": "code",
      "source": [
        "def getgeneralCloudfront(x):\n",
        "  if('(CloudFront)' in str(x)):\n",
        "      return 'CloudFront'\n",
        "  else:\n",
        "      return x"
      ],
      "metadata": {
        "id": "Jq9LhSzoESQt"
      },
      "execution_count": 8,
      "outputs": []
    },
    {
      "cell_type": "code",
      "source": [
        "def getgeneralServerNames(x):\n",
        "  if('nginx' in str(x)):\n",
        "      return 'nginx'\n",
        "  elif('Apache' in str(x)):\n",
        "      return 'Apache'\n",
        "  else:\n",
        "      return x"
      ],
      "metadata": {
        "id": "VR3iH9LWETpf"
      },
      "execution_count": 9,
      "outputs": []
    },
    {
      "cell_type": "code",
      "source": [
        "def getgeneralphp(x):\n",
        "  if (pd.isna(x)):\n",
        "    return \"0\"\n",
        "  else:\n",
        "    if('PHP' in x):\n",
        "      return 'PHP'"
      ],
      "metadata": {
        "id": "3b8fs8fAEU8k"
      },
      "execution_count": 10,
      "outputs": []
    },
    {
      "cell_type": "code",
      "source": [
        "def changenullaszero(x):\n",
        "  if (pd.isna(x)): \n",
        "    return \"0\"\n",
        "  else:\n",
        "    return \"1\""
      ],
      "metadata": {
        "id": "2U7uc9EMEWJ9"
      },
      "execution_count": 11,
      "outputs": []
    },
    {
      "cell_type": "code",
      "source": [
        "def getCIDRBlockLength(ipadd):\n",
        "   if(pd.isna(ipadd)):\n",
        "     return 0\n",
        "   else:\n",
        "      if(len(ipadd.split(','))==1):\n",
        "        return (2**(32-int(ipadd.split('/')[1])))\n",
        "      else:\n",
        "        sum=0\n",
        "        for i in ipadd.split(','):\n",
        "          sum=sum + (2**(32-int(i.split('/')[1])))\n",
        "        return sum "
      ],
      "metadata": {
        "id": "anpAGoo0LaaB"
      },
      "execution_count": 12,
      "outputs": []
    },
    {
      "cell_type": "code",
      "source": [
        "def arrayLiteral(stringarray):\n",
        "  return len(literal_eval(stringarray))"
      ],
      "metadata": {
        "id": "-dbHR3zIgxRw"
      },
      "execution_count": 29,
      "outputs": []
    },
    {
      "cell_type": "code",
      "source": [
        "df['data.http.result.response.headers.via.0']  = df[\"data.http.result.response.headers.via.0\"].apply(getgeneralCloudfront)"
      ],
      "metadata": {
        "id": "j03O8IzBOF8V"
      },
      "execution_count": 59,
      "outputs": []
    },
    {
      "cell_type": "code",
      "source": [
        "df['data.http.result.response.status_code'].fillna(-1, inplace=True)\n",
        "df['data.http.result.response.headers.pragma.0'].fillna(-1, inplace=True)\n",
        "df['data.http.result.response.headers.connection.0'].fillna(-1, inplace=True)\n",
        "df['data.http.result.response.headers.via.0']  = df[\"data.http.result.response.headers.via.0\"].apply(getgeneralCloudfront)\n",
        "df['data.http.result.response.headers.via.0'].fillna(-1, inplace=True)\n",
        "df['data.http.result.response.headers.accept_ranges.0'].fillna(-1, inplace=True)\n",
        "df['data.http.result.response.headers.cache_control.0'].fillna(-1, inplace=True)\n",
        "df['data.http.result.response.headers.retry_after.0'].fillna(-1, inplace=True)\n",
        "df['data.http.result.response.body']  = df[\"data.http.result.response.body\"].apply(changenullaszero)\n",
        "df['data.http.result.response.body_sha256']  = df['data.http.result.response.body_sha256'].apply(changenullaszero)\n",
        "df['data.http.result.response.content_length'].fillna(0, inplace=True)\n",
        "df['data.http.result.response.headers.content_type.0'].fillna(-1, inplace=True)\n",
        "df['data.http.result.response.headers.location.0'] = df['data.http.result.response.headers.location.0'].apply(changenullaszero)\n",
        "df['data.http.result.redirect_response_chain.0.status_line'].fillna(-1, inplace=True)\n",
        "df['data.http.result.response.headers.etag.0'] = df['data.http.result.response.headers.etag.0'].apply(changenullaszero)\n",
        "df['data.http.result.response.headers.last_modified.0']  = df['data.http.result.response.headers.last_modified.0'].apply(changenullaszero)\n",
        "df['data.http.result.response.headers.vary.0'].fillna(-1, inplace=True)\n",
        "df['data.http.result.response.transfer_encoding.0'].fillna(-1, inplace=True)\n",
        "df['data.http.result.response.headers.x_powered_by.0'].fillna(-1, inplace=True)\n",
        "df['data.http.result.redirect_response_chain.0.headers.server.0'].fillna(-1, inplace=True)\n",
        "df = df.drop(['data.http.result.redirect_response_chain.0.headers.server.0'],axis=1)\n",
        "df['data.http.result.response.headers.server.0']  = df['data.http.result.response.headers.server.0'].apply(getgeneralServerNames)\n",
        "df['data.http.result.response.headers.server.0'].fillna(-1, inplace=True)"
      ],
      "metadata": {
        "id": "6bu1DoaXEXd7"
      },
      "execution_count": 60,
      "outputs": []
    },
    {
      "cell_type": "code",
      "source": [
        "df['data.http.result.response.headers.server.0'] = le.fit_transform(df['data.http.result.response.headers.server.0'].astype(str))\n",
        "df['data.http.result.response.status_code'] = le.fit_transform(df['data.http.result.response.status_code'].astype(str))\n",
        "df['data.http.result.response.headers.connection.0'] = le.fit_transform(df['data.http.result.response.headers.connection.0'].astype(str))\n",
        "df['data.http.result.response.headers.via.0'] = le.fit_transform(df['data.http.result.response.headers.via.0'].astype(str))\n",
        "df['data.http.result.response.headers.accept_ranges.0'] = le.fit_transform(df['data.http.result.response.headers.accept_ranges.0'].astype(str))\n",
        "df['data.http.result.response.headers.cache_control.0'] = le.fit_transform(df['data.http.result.response.headers.cache_control.0'].astype(str))\n",
        "df['data.http.result.response.headers.retry_after.0'] = le.fit_transform(df['data.http.result.response.headers.retry_after.0'].astype(str))\n",
        "df['data.http.result.response.body'] = le.fit_transform(df['data.http.result.response.body'].astype(str))\n",
        "df['data.http.result.response.body_sha256'] = le.fit_transform(df['data.http.result.response.body_sha256'].astype(str))\n",
        "df['data.http.result.response.headers.content_type.0'] = le.fit_transform(df['data.http.result.response.headers.content_type.0'].astype(str))\n",
        "\n",
        "df['data.http.result.response.headers.location.0'] = le.fit_transform(df['data.http.result.response.headers.location.0'].astype(str))\n",
        "df['data.http.result.redirect_response_chain.0.status_line'] = le.fit_transform(df['data.http.result.redirect_response_chain.0.status_line'].astype(str))\n",
        "df['data.http.result.response.headers.etag.0'] = le.fit_transform(df['data.http.result.response.headers.etag.0'].astype(str))\n",
        "df['data.http.result.response.headers.last_modified.0'] = le.fit_transform(df['data.http.result.response.headers.last_modified.0'].astype(str))\n",
        "df['data.http.result.response.headers.vary.0'] = le.fit_transform(df['data.http.result.response.headers.vary.0'].astype(str))\n",
        "df['data.http.result.response.transfer_encoding.0'] = le.fit_transform(df['data.http.result.response.transfer_encoding.0'].astype(str))\n",
        "\n",
        "df['data.http.result.response.headers.x_powered_by.0'] = le.fit_transform(df['data.http.result.response.headers.x_powered_by.0'].astype(str))\n",
        "df['data.http.result.response.headers.pragma.0'] = le.fit_transform(df['data.http.result.response.headers.pragma.0'].astype(str))\n",
        "df['as_name'] = le.fit_transform(df['as_name'].astype(str))\n",
        "\n",
        "df['as_no'] = le.fit_transform(df['as_no'].astype(str))\n",
        "df['vendor'] = le.fit_transform(df['vendor'].astype(str))\n",
        "\n"
      ],
      "metadata": {
        "id": "EkmFf38qFIPJ"
      },
      "execution_count": 61,
      "outputs": []
    },
    {
      "cell_type": "code",
      "source": [
        "df = df.drop(['data.http.result.response.headers.unknown.0.key'],axis=1)\n",
        "df = df.drop(['data.http.result.response.headers.unknown.0.value.0'],axis=1)\n",
        "df = df.drop(['data.http.result.response.headers.unknown.1.key'],axis=1)\n",
        "df = df.drop(['data.http.result.response.headers.unknown.1.value.0'],axis=1)"
      ],
      "metadata": {
        "id": "HNYGwmG7FTnH"
      },
      "execution_count": 62,
      "outputs": []
    },
    {
      "cell_type": "code",
      "source": [
        "df['No of Who is Records'].count()"
      ],
      "metadata": {
        "colab": {
          "base_uri": "https://localhost:8080/"
        },
        "id": "Fff0sOlix3Lz",
        "outputId": "79b4a3aa-a2d5-4d01-b255-8aa435de1acc"
      },
      "execution_count": 49,
      "outputs": [
        {
          "output_type": "execute_result",
          "data": {
            "text/plain": [
              "30000"
            ]
          },
          "metadata": {},
          "execution_count": 49
        }
      ]
    },
    {
      "cell_type": "code",
      "source": [
        "df = df.dropna(subset=['data.tls.result.handshake_log.server_certificates.certificate.parsed.extensions.subject_alt_name.dns_names'])"
      ],
      "metadata": {
        "id": "ZofLE2mt37k3"
      },
      "execution_count": 66,
      "outputs": []
    },
    {
      "cell_type": "code",
      "source": [
        "df[\"CNAME Count\"] = df[\"data.tls.result.handshake_log.server_certificates.certificate.parsed.extensions.subject_alt_name.dns_names\"].apply(arrayLiteral)"
      ],
      "metadata": {
        "id": "eveMKlXLM527"
      },
      "execution_count": 68,
      "outputs": []
    },
    {
      "cell_type": "code",
      "source": [
        "df[\"data.tls.result.handshake_log.server_certificates.certificate.parsed.extensions.subject_alt_name.dns_names\"].count()"
      ],
      "metadata": {
        "colab": {
          "base_uri": "https://localhost:8080/"
        },
        "id": "6TewIS0Pmcir",
        "outputId": "99045b63-f048-4706-9924-cf90cb776e9c"
      },
      "execution_count": 67,
      "outputs": [
        {
          "output_type": "execute_result",
          "data": {
            "text/plain": [
              "80655"
            ]
          },
          "metadata": {},
          "execution_count": 67
        }
      ]
    },
    {
      "cell_type": "code",
      "source": [
        "df[\"CNAME Count\"]"
      ],
      "metadata": {
        "colab": {
          "base_uri": "https://localhost:8080/"
        },
        "id": "tsbdgWOclEfN",
        "outputId": "81e2fed4-18f2-4254-f673-5889baec0d42"
      },
      "execution_count": 70,
      "outputs": [
        {
          "output_type": "execute_result",
          "data": {
            "text/plain": [
              "0          1\n",
              "2          2\n",
              "3          2\n",
              "6          2\n",
              "7          2\n",
              "          ..\n",
              "114059     2\n",
              "114069     1\n",
              "114094     1\n",
              "114139    11\n",
              "114198     1\n",
              "Name: CNAME Count, Length: 80655, dtype: int64"
            ]
          },
          "metadata": {},
          "execution_count": 70
        }
      ]
    },
    {
      "cell_type": "code",
      "source": [
        "df['CIDR']"
      ],
      "metadata": {
        "colab": {
          "base_uri": "https://localhost:8080/"
        },
        "id": "I95sePk3Iahq",
        "outputId": "3faeba02-5b34-4707-d3ce-a7fb0f6a5ba2"
      },
      "execution_count": null,
      "outputs": [
        {
          "output_type": "execute_result",
          "data": {
            "text/plain": [
              "3         151.101.0.0/16\n",
              "5           13.35.0.0/16\n",
              "7          54.224.0.0/12\n",
              "8           52.84.0.0/15\n",
              "9          13.249.0.0/16\n",
              "               ...      \n",
              "114189       103.0.0.0/8\n",
              "114192       112.0.0.0/8\n",
              "114195       116.0.0.0/8\n",
              "114196     98.162.0.0/17\n",
              "114198        46.0.0.0/8\n",
              "Name: CIDR, Length: 77040, dtype: object"
            ]
          },
          "metadata": {},
          "execution_count": 116
        }
      ]
    },
    {
      "cell_type": "code",
      "source": [
        "df['data.tls.result.handshake_log.server_certificates.certificate.parsed.extensions.subject_alt_name.dns_names'][4]"
      ],
      "metadata": {
        "colab": {
          "base_uri": "https://localhost:8080/",
          "height": 35
        },
        "id": "72MYdkWsHDC3",
        "outputId": "f11f3584-ef79-4978-fa74-4fe005cd4583"
      },
      "execution_count": null,
      "outputs": [
        {
          "output_type": "execute_result",
          "data": {
            "application/vnd.google.colaboratory.intrinsic+json": {
              "type": "string"
            },
            "text/plain": [
              "\"['cloudfront.net', '*.cloudfront.net']\""
            ]
          },
          "metadata": {},
          "execution_count": 39
        }
      ]
    },
    {
      "cell_type": "code",
      "source": [
        "df['Most Recent Update'].plot.kde(title='PDF - Whois CIDR Block Size')"
      ],
      "metadata": {
        "colab": {
          "base_uri": "https://localhost:8080/",
          "height": 311
        },
        "id": "nvuaMA9AZOkM",
        "outputId": "7479d3a4-4fd5-4f4d-86b1-a13fa57d968d"
      },
      "execution_count": null,
      "outputs": [
        {
          "output_type": "execute_result",
          "data": {
            "text/plain": [
              "<matplotlib.axes._subplots.AxesSubplot at 0x7f20422ec950>"
            ]
          },
          "metadata": {},
          "execution_count": 213
        },
        {
          "output_type": "display_data",
          "data": {
            "image/png": "[encoded data removed]",
            "text/plain": [
              "<Figure size 432x288 with 1 Axes>"
            ]
          },
          "metadata": {
            "needs_background": "light"
          }
        }
      ]
    },
    {
      "cell_type": "code",
      "source": [
        "df.columns"
      ],
      "metadata": {
        "colab": {
          "base_uri": "https://localhost:8080/"
        },
        "id": "uSZQX2XxFW8n",
        "outputId": "72b97ef6-ec07-47bb-a939-1ba01a185d15"
      },
      "execution_count": null,
      "outputs": [
        {
          "output_type": "execute_result",
          "data": {
            "text/plain": [
              "Index(['ip', 'No Of Owners', 'CIDR', 'netType', 'Organization',\n",
              "       'Most Recent Update', 'No of Who is Records',\n",
              "       'data.http.result.response.headers.server.0',\n",
              "       'data.http.result.response.status_code',\n",
              "       'data.http.result.response.headers.connection.0',\n",
              "       'data.http.result.response.headers.via.0',\n",
              "       'data.http.result.response.headers.accept_ranges.0',\n",
              "       'data.http.result.response.headers.cache_control.0',\n",
              "       'data.http.result.response.headers.retry_after.0',\n",
              "       'data.http.result.response.body',\n",
              "       'data.http.result.response.body_sha256',\n",
              "       'data.http.result.response.content_length',\n",
              "       'data.http.result.response.headers.content_type.0',\n",
              "       'data.http.result.response.headers.location.0',\n",
              "       'data.http.result.redirect_response_chain.0.status_line',\n",
              "       'data.http.result.response.headers.etag.0',\n",
              "       'data.http.result.response.headers.last_modified.0',\n",
              "       'data.http.result.response.headers.vary.0',\n",
              "       'data.http.result.response.transfer_encoding.0',\n",
              "       'data.http.result.response.headers.x_powered_by.0',\n",
              "       'data.http.result.response.headers.pragma.0', 'as_name', 'as_no',\n",
              "       'data.tls.status',\n",
              "       'data.tls.result.handshake_log.server_certificates.certificate.parsed.issuer.common_name',\n",
              "       'data.tls.result.handshake_log.server_certificates.certificate.parsed.issuer.country',\n",
              "       'data.tls.result.handshake_log.server_certificates.certificate.parsed.issuer.organization',\n",
              "       'data.tls.result.handshake_log.server_certificates.certificate.parsed.issuer_dn',\n",
              "       'data.tls.result.handshake_log.server_certificates.certificate.parsed.subject.common_name',\n",
              "       'data.tls.result.handshake_log.server_certificates.certificate.parsed.subject.country',\n",
              "       'data.tls.result.handshake_log.server_certificates.certificate.parsed.subject.locality',\n",
              "       'data.tls.result.handshake_log.server_certificates.certificate.parsed.subject.province',\n",
              "       'data.tls.result.handshake_log.server_certificates.certificate.parsed.subject.organization',\n",
              "       'data.tls.result.handshake_log.server_certificates.certificate.parsed.subject_dn',\n",
              "       'data.tls.result.handshake_log.server_certificates.certificate.parsed.extensions.subject_alt_name.dns_names',\n",
              "       'vendor', 'Unnamed: 0_y', 'Net Size'],\n",
              "      dtype='object')"
            ]
          },
          "metadata": {},
          "execution_count": 119
        }
      ]
    },
    {
      "cell_type": "code",
      "source": [
        "cdf = np.cumsum(pdf)"
      ],
      "metadata": {
        "id": "DYZyU4zXdmzd"
      },
      "execution_count": null,
      "outputs": []
    },
    {
      "cell_type": "code",
      "source": [
        "plt.plot(bins_count[1:], cdf, label=\"CDF\")\n",
        "plt.legend()"
      ],
      "metadata": {
        "colab": {
          "base_uri": "https://localhost:8080/",
          "height": 295
        },
        "id": "eXdJyiD6dpp1",
        "outputId": "4ee9c8aa-2430-40c5-d57b-7597666c8968"
      },
      "execution_count": null,
      "outputs": [
        {
          "output_type": "execute_result",
          "data": {
            "text/plain": [
              "<matplotlib.legend.Legend at 0x7f2048d3fc90>"
            ]
          },
          "metadata": {},
          "execution_count": 96
        },
        {
          "output_type": "display_data",
          "data": {
            "image/png": "[encoded data removed]",
            "text/plain": [
              "<Figure size 432x288 with 1 Axes>"
            ]
          },
          "metadata": {
            "needs_background": "light"
          }
        }
      ]
    },
    {
      "cell_type": "code",
      "source": [
        "len(df['CNAME Count'].values)"
      ],
      "metadata": {
        "colab": {
          "base_uri": "https://localhost:8080/"
        },
        "id": "N-Vf14xQljJi",
        "outputId": "7a7620c3-6a39-4438-bfee-ed7346295ad3"
      },
      "execution_count": 54,
      "outputs": [
        {
          "output_type": "execute_result",
          "data": {
            "text/plain": [
              "18860"
            ]
          },
          "metadata": {},
          "execution_count": 54
        }
      ]
    },
    {
      "cell_type": "code",
      "source": [
        "count, bins_count  = np.histogram(df[df[\"vendor\"] == 4]['CNAME Count'].values, bins=1000)\n",
        "pdf = count / sum(count)\n",
        "cdf = np.cumsum(pdf)\n",
        "plt.plot(bins_count[1:], cdf, label=le.classes_[4])\n",
        "plt.legend()\n",
        "\n",
        "count, bins_count  = np.histogram(df[df[\"vendor\"] == 3]['CNAME Count'].values, bins=1000)\n",
        "pdf = count / sum(count)\n",
        "cdf = np.cumsum(pdf)\n",
        "plt.plot(bins_count[1:], cdf, label=le.classes_[3])\n",
        "plt.legend()\n",
        "\n",
        "count, bins_count  = np.histogram(df[df[\"vendor\"] == 2]['CNAME Count'].values, bins=1000)\n",
        "pdf = count / sum(count)\n",
        "cdf = np.cumsum(pdf)\n",
        "plt.plot(bins_count[1:], cdf, label=le.classes_[2])\n",
        "plt.legend()\n",
        "\n",
        "count, bins_count  = np.histogram(df[df[\"vendor\"] == 1]['CNAME Count'].values, bins=1000)\n",
        "pdf = count / sum(count)\n",
        "cdf = np.cumsum(pdf)\n",
        "plt.plot(bins_count[1:], cdf, label=le.classes_[1])\n",
        "plt.legend()\n",
        "\n",
        "count, bins_count  = np.histogram(df[df[\"vendor\"] == 0]['CNAME Count'].values, bins=1000)\n",
        "pdf = count / sum(count)\n",
        "cdf = np.cumsum(pdf)\n",
        "plt.plot(bins_count[1:], cdf, label=le.classes_[0])\n",
        "plt.legend()\n",
        "plt.title('CNAME Count Per Vendor')\n",
        "plt.ylabel('CDF')\n",
        "plt.xlabel('# of CNAMES')\n",
        "plt.xlim(0,20)\n",
        "plt.savefig('CNAME Count Per Vendor.png')"
      ],
      "metadata": {
        "colab": {
          "base_uri": "https://localhost:8080/",
          "height": 295
        },
        "id": "haySBZULeqVs",
        "outputId": "72929eba-928f-4372-c971-b42b5534d056"
      },
      "execution_count": 78,
      "outputs": [
        {
          "output_type": "display_data",
          "data": {
            "image/png": "[encoded data removed]",
            "text/plain": [
              "<Figure size 432x288 with 1 Axes>"
            ]
          },
          "metadata": {
            "needs_background": "light"
          }
        }
      ]
    },
    {
      "cell_type": "code",
      "source": [
        "count, bins_count  = np.histogram(df['CNAME Count'].values, bins=1000)\n",
        "pdf = count / sum(count)\n",
        "cdf = np.cumsum(pdf)\n",
        "plt.plot(bins_count[1:], cdf)\n",
        "plt.legend()\n",
        "plt.title('CNAME Count For the Whole Data')\n",
        "plt.ylabel('CDF')\n",
        "plt.xlabel('# of CNAMES')\n",
        "plt.xlim(0,80)\n",
        "plt.savefig('Cname Count Whole.png')"
      ],
      "metadata": {
        "colab": {
          "base_uri": "https://localhost:8080/",
          "height": 312
        },
        "id": "-2WjdQ6uhawG",
        "outputId": "3214af72-7b41-45b9-88bb-14b63cfcd755"
      },
      "execution_count": 83,
      "outputs": [
        {
          "output_type": "stream",
          "name": "stderr",
          "text": [
            "No handles with labels found to put in legend.\n"
          ]
        },
        {
          "output_type": "display_data",
          "data": {
            "image/png": "[encoded data removed]",
            "text/plain": [
              "<Figure size 432x288 with 1 Axes>"
            ]
          },
          "metadata": {
            "needs_background": "light"
          }
        }
      ]
    },
    {
      "cell_type": "code",
      "source": [
        "count, bins_count  = np.histogram(df[df[\"vendor\"] == 4]['CNAME Count'].values, bins=10000)\n",
        "pdf = count / sum(count)\n",
        "cdf = np.cumsum(pdf)\n",
        "plt.plot(bins_count[1:], cdf, label=le.classes_[4])\n",
        "plt.legend()\n",
        "\n",
        "count, bins_count  = np.histogram(df[df[\"vendor\"] == 3]['CNAME Count'].values, bins=10000)\n",
        "pdf = count / sum(count)\n",
        "cdf = np.cumsum(pdf)\n",
        "plt.plot(bins_count[1:], cdf, label=le.classes_[3])\n",
        "plt.legend()\n",
        "\n",
        "count, bins_count  = np.histogram(df[df[\"vendor\"] == 2]['CNAME Count'].values, bins=10000)\n",
        "pdf = count / sum(count)\n",
        "cdf = np.cumsum(pdf)\n",
        "plt.plot(bins_count[1:], cdf, label=le.classes_[2])\n",
        "plt.legend()\n",
        "\n",
        "count, bins_count  = np.histogram(df[df[\"vendor\"] == 1]['CNAME Count'].values, bins=10000)\n",
        "pdf = count / sum(count)\n",
        "cdf = np.cumsum(pdf)\n",
        "plt.plot(bins_count[1:], cdf, label=le.classes_[1])\n",
        "plt.legend()\n",
        "\n",
        "count, bins_count  = np.histogram(df[df[\"vendor\"] == 0]['CNAME Count'].values, bins=10000)\n",
        "pdf = count / sum(count)\n",
        "cdf = np.cumsum(pdf)\n",
        "plt.plot(bins_count[1:], cdf, label=le.classes_[0])\n",
        "plt.legend()\n",
        "plt.title('CDF of No of Whois Records Per Vendor')\n",
        "plt.ylabel('CDF')\n",
        "plt.xlabel('# of Whois Records')\n",
        "\n",
        "count, bins_count  = np.histogram(df['CNAME Count'].values, bins=1000)\n",
        "pdf = count / sum(count)\n",
        "cdf = np.cumsum(pdf)\n",
        "plt.plot(bins_count[1:], cdf, label = \"Whole Dataset\")\n",
        "plt.legend()\n",
        "plt.title('CDF of Cname Count For the Whole Data')\n",
        "plt.ylabel('CDF')\n",
        "plt.xlabel('# of CNAMES')\n",
        "plt.xlim(0,20)\n",
        "plt.savefig('CName Count Merged.png')"
      ],
      "metadata": {
        "colab": {
          "base_uri": "https://localhost:8080/",
          "height": 295
        },
        "id": "rF-mPh0U3gJY",
        "outputId": "ac0e516a-7814-4d03-c646-872a3ee0ca89"
      },
      "execution_count": 89,
      "outputs": [
        {
          "output_type": "display_data",
          "data": {
            "image/png": "[encoded data removed]",
            "text/plain": [
              "<Figure size 432x288 with 1 Axes>"
            ]
          },
          "metadata": {
            "needs_background": "light"
          }
        }
      ]
    },
    {
      "cell_type": "code",
      "source": [
        "df[df[\"vendor\"] == 0]['Most Recent Update'].plot.kde(title='PDF - Whois CIDR Block Size',label=le.classes_[0])\n",
        "df[df[\"vendor\"] == 1]['Most Recent Update'].plot.kde(title='PDF - Whois CIDR Block Size',label=le.classes_[1])\n",
        "df[df[\"vendor\"] == 2]['Most Recent Update'].plot.kde(title='PDF - Whois CIDR Block Size ',label=le.classes_[2])\n",
        "df[df[\"vendor\"] == 3]['Most Recent Update'].plot.kde(title='PDF - Whois CIDR Block Size',label=le.classes_[3])\n",
        "df[df[\"vendor\"] == 4]['Most Recent Update'].plot.kde(title='PDF - # of Whois Records',label=le.classes_[4])\n",
        "plt.legend(le.classes_)\n",
        "plt.xlabel('# of Whois Records')\n",
        "plt.savefig('No Of Whois Records PDF.png')"
      ],
      "metadata": {
        "colab": {
          "base_uri": "https://localhost:8080/",
          "height": 295
        },
        "id": "0HdHU96E5xfO",
        "outputId": "60e9b3ff-32b1-42e6-8cbc-4f2286fac59b"
      },
      "execution_count": null,
      "outputs": [
        {
          "output_type": "display_data",
          "data": {
            "image/png": "[encoded data removed]",
            "text/plain": [
              "<Figure size 432x288 with 1 Axes>"
            ]
          },
          "metadata": {
            "needs_background": "light"
          }
        }
      ]
    },
    {
      "cell_type": "code",
      "source": [
        "print(le.classes_[0])\n",
        "df[df[\"vendor\"] == 0]['Most Recent Update'].describe()"
      ],
      "metadata": {
        "colab": {
          "base_uri": "https://localhost:8080/"
        },
        "id": "a2OXRxNW8Avr",
        "outputId": "c93c6df4-46e7-43d5-8c56-b7fd35444670"
      },
      "execution_count": null,
      "outputs": [
        {
          "output_type": "stream",
          "name": "stdout",
          "text": [
            "cdn\n"
          ]
        },
        {
          "output_type": "execute_result",
          "data": {
            "text/plain": [
              "count    1.575200e+04\n",
              "mean     1.552620e+09\n",
              "std      1.128359e+08\n",
              "min      1.001151e+09\n",
              "25%      1.585613e+09\n",
              "50%      1.585613e+09\n",
              "75%      1.585613e+09\n",
              "max      1.632096e+09\n",
              "Name: Most Recent Update, dtype: float64"
            ]
          },
          "metadata": {},
          "execution_count": 26
        }
      ]
    },
    {
      "cell_type": "code",
      "source": [
        "print(le.classes_[1])\n",
        "df[df[\"vendor\"] == 1]['Most Recent Update'].describe()"
      ],
      "metadata": {
        "colab": {
          "base_uri": "https://localhost:8080/"
        },
        "id": "DsQK5xnu8RJO",
        "outputId": "c2b80b41-98b6-43d6-c02e-dfaeec041d3e"
      },
      "execution_count": null,
      "outputs": [
        {
          "output_type": "stream",
          "name": "stdout",
          "text": [
            "cloud\n"
          ]
        },
        {
          "output_type": "execute_result",
          "data": {
            "text/plain": [
              "count    2.353300e+04\n",
              "mean     1.562142e+09\n",
              "std      1.140714e+08\n",
              "min      1.001030e+09\n",
              "25%      1.564704e+09\n",
              "50%      1.585613e+09\n",
              "75%      1.602841e+09\n",
              "max      1.705277e+09\n",
              "Name: Most Recent Update, dtype: float64"
            ]
          },
          "metadata": {},
          "execution_count": 27
        }
      ]
    },
    {
      "cell_type": "code",
      "source": [
        "print(le.classes_[2])\n",
        "df[df[\"vendor\"] == 2]['Most Recent Update'].describe()"
      ],
      "metadata": {
        "colab": {
          "base_uri": "https://localhost:8080/"
        },
        "id": "G2aKCo_78T3a",
        "outputId": "e375b3de-acd7-4e36-e661-7d2968599cf2"
      },
      "execution_count": null,
      "outputs": [
        {
          "output_type": "stream",
          "name": "stdout",
          "text": [
            "hosting\n"
          ]
        },
        {
          "output_type": "execute_result",
          "data": {
            "text/plain": [
              "count    2.699100e+04\n",
              "mean     1.586451e+09\n",
              "std      3.419309e+07\n",
              "min      1.274705e+09\n",
              "25%      1.580316e+09\n",
              "50%      1.588118e+09\n",
              "75%      1.609510e+09\n",
              "max      1.632355e+09\n",
              "Name: Most Recent Update, dtype: float64"
            ]
          },
          "metadata": {},
          "execution_count": 28
        }
      ]
    },
    {
      "cell_type": "code",
      "source": [
        "print(le.classes_[3])\n",
        "df[df[\"vendor\"] == 3]['Most Recent Update'].describe()"
      ],
      "metadata": {
        "colab": {
          "base_uri": "https://localhost:8080/"
        },
        "id": "E4jBfqEH8W-E",
        "outputId": "0788df4a-428e-4523-9031-5be7bdeb71e5"
      },
      "execution_count": null,
      "outputs": [
        {
          "output_type": "stream",
          "name": "stdout",
          "text": [
            "proxy\n"
          ]
        },
        {
          "output_type": "execute_result",
          "data": {
            "text/plain": [
              "count    7.096000e+03\n",
              "mean     1.486429e+09\n",
              "std      1.251826e+08\n",
              "min      9.428112e+08\n",
              "25%      1.430698e+09\n",
              "50%      1.521072e+09\n",
              "75%      1.585729e+09\n",
              "max      1.638518e+09\n",
              "Name: Most Recent Update, dtype: float64"
            ]
          },
          "metadata": {},
          "execution_count": 29
        }
      ]
    },
    {
      "cell_type": "code",
      "source": [
        "print(le.classes_[4])\n",
        "df[df[\"vendor\"] == 4]['Most Recent Update'].describe()"
      ],
      "metadata": {
        "colab": {
          "base_uri": "https://localhost:8080/"
        },
        "id": "9WCit2Z48aW6",
        "outputId": "800d1768-1385-4793-b538-4cc575656370"
      },
      "execution_count": null,
      "outputs": [
        {
          "output_type": "stream",
          "name": "stdout",
          "text": [
            "vpn\n"
          ]
        },
        {
          "output_type": "execute_result",
          "data": {
            "text/plain": [
              "count    1.216100e+04\n",
              "mean     1.577256e+09\n",
              "std      4.142987e+07\n",
              "min      1.001151e+09\n",
              "25%      1.564013e+09\n",
              "50%      1.566822e+09\n",
              "75%      1.595430e+09\n",
              "max      1.631492e+09\n",
              "Name: Most Recent Update, dtype: float64"
            ]
          },
          "metadata": {},
          "execution_count": 30
        }
      ]
    },
    {
      "cell_type": "code",
      "source": [
        "print(\"Whole\")\n",
        "df['Most Recent Update'].describe()"
      ],
      "metadata": {
        "colab": {
          "base_uri": "https://localhost:8080/"
        },
        "id": "dDNtxQuUYoYs",
        "outputId": "35ee121f-0b89-4dbb-f1af-b822774e86d5"
      },
      "execution_count": null,
      "outputs": [
        {
          "output_type": "stream",
          "name": "stdout",
          "text": [
            "Whole\n"
          ]
        },
        {
          "output_type": "execute_result",
          "data": {
            "text/plain": [
              "count    8.553300e+04\n",
              "mean     1.563927e+09\n",
              "std      9.244211e+07\n",
              "min      9.428112e+08\n",
              "25%      1.566822e+09\n",
              "50%      1.585613e+09\n",
              "75%      1.599696e+09\n",
              "max      1.705277e+09\n",
              "Name: Most Recent Update, dtype: float64"
            ]
          },
          "metadata": {},
          "execution_count": 32
        }
      ]
    }
  ]
}