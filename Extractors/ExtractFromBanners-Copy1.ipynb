{
 "cells": [
  {
   "cell_type": "code",
   "execution_count": 17,
   "metadata": {},
   "outputs": [],
   "source": [
    "instance_no = '06'\n",
    "round_no = '01'"
   ]
  },
  {
   "cell_type": "code",
   "execution_count": 18,
   "metadata": {},
   "outputs": [
    {
     "name": "stdout",
     "output_type": "stream",
     "text": [
      "Copying gs://store_data_gh/results_scan_on_port_443/round_7/zipped/tls/zgrab_result_instance-06_443_20210902.json.bz2...\n",
      "==> NOTE: You are downloading one or more large file(s), which would            \n",
      "run significantly faster if you enabled sliced object downloads. This\n",
      "feature is enabled by default but requires that compiled crcmod be\n",
      "installed (see \"gsutil help crcmod\").\n",
      "\n",
      "/ [1 files][  4.7 GiB/  4.7 GiB]      0.0 B/s                                   \n",
      "Operation completed over 1 objects/4.7 GiB.                                      \n"
     ]
    }
   ],
   "source": [
    "!gsutil cp gs://store_data_gh/results_scan_on_port_443/round_7/zipped/tls/zgrab_result_instance-06_443_20210902.json.bz2 $HOME/myprojectdir/Data/banners1.json.bz2"
   ]
  },
  {
   "cell_type": "code",
   "execution_count": 19,
   "metadata": {},
   "outputs": [],
   "source": [
    "!bzip2 -d $HOME/myprojectdir/Data/banners1.json.bz2"
   ]
  },
  {
   "cell_type": "code",
   "execution_count": 20,
   "metadata": {},
   "outputs": [
    {
     "name": "stdout",
     "output_type": "stream",
     "text": [
      "16G\tData/banners1.json\r\n"
     ]
    }
   ],
   "source": [
    "!du -h Data/banners1.json"
   ]
  },
  {
   "cell_type": "code",
   "execution_count": 21,
   "metadata": {
    "id": "vDYvTy4bo9I6"
   },
   "outputs": [],
   "source": [
    "jsonData = []"
   ]
  },
  {
   "cell_type": "code",
   "execution_count": 22,
   "metadata": {
    "id": "g8TIJfW-plFj"
   },
   "outputs": [],
   "source": [
    "import json\n",
    "import pandas as pd\n",
    "import numpy as np"
   ]
  },
  {
   "cell_type": "code",
   "execution_count": 23,
   "metadata": {
    "id": "KtpdxzseIqHp"
   },
   "outputs": [],
   "source": [
    "columnlist = [\n",
    "  'ip',\n",
    "  'data.tls.status',\n",
    "  'data.tls.result.handshake_log.server_certificates.certificate.parsed.issuer.common_name',\n",
    "  'data.tls.result.handshake_log.server_certificates.certificate.parsed.issuer.country',\n",
    "  'data.tls.result.handshake_log.server_certificates.certificate.parsed.issuer.organization',\n",
    "  'data.tls.result.handshake_log.server_certificates.certificate.parsed.issuer_dn',\n",
    "  'data.tls.result.handshake_log.server_certificates.certificate.parsed.subject.common_name',\n",
    "  'data.tls.result.handshake_log.server_certificates.certificate.parsed.subject.country',\n",
    "  'data.tls.result.handshake_log.server_certificates.certificate.parsed.subject.locality',\n",
    "  'data.tls.result.handshake_log.server_certificates.certificate.parsed.subject.province',\n",
    "  'data.tls.result.handshake_log.server_certificates.certificate.parsed.subject.organization',\n",
    "  'data.tls.result.handshake_log.server_certificates.certificate.parsed.subject_dn',\n",
    "  'data.tls.result.handshake_log.server_certificates.certificate.parsed.extensions.subject_alt_name.dns_names'\n",
    "]"
   ]
  },
  {
   "cell_type": "code",
   "execution_count": 24,
   "metadata": {
    "id": "-qDdIibXN3Fe"
   },
   "outputs": [
    {
     "name": "stdout",
     "output_type": "stream",
     "text": [
      "50000\n",
      "100000\n",
      "150000\n",
      "200000\n",
      "250000\n",
      "300000\n",
      "350000\n",
      "400000\n",
      "450000\n",
      "500000\n",
      "550000\n",
      "600000\n",
      "650000\n",
      "700000\n",
      "750000\n",
      "800000\n",
      "850000\n",
      "900000\n",
      "950000\n",
      "1000000\n",
      "1050000\n",
      "1100000\n",
      "1150000\n",
      "1200000\n",
      "1250000\n",
      "1350000\n",
      "1400000\n",
      "1450000\n",
      "1500000\n",
      "1550000\n",
      "1600000\n",
      "1700000\n"
     ]
    }
   ],
   "source": [
    "finallist = []\n",
    "count = 0\n",
    "\n",
    "with open('Data/banners1.json') as file:\n",
    "    for line in file:\n",
    "        count=count+1\n",
    "        row = json.loads(line.rstrip())\n",
    "        df = pd.json_normalize(row)\n",
    "        templist = []\n",
    "        for column in columnlist:\n",
    "          if column in df.columns:\n",
    "            templist.append(df[column].values[0])\n",
    "          else:\n",
    "            templist.append(np.nan)\n",
    "        finallist.append(templist)\n",
    "        if(count%50000==0):\n",
    "          print(count)"
   ]
  },
  {
   "cell_type": "code",
   "execution_count": 25,
   "metadata": {
    "id": "cNx0fqFr-46U"
   },
   "outputs": [],
   "source": [
    "finallist = pd.DataFrame(finallist, columns =columnlist)"
   ]
  },
  {
   "cell_type": "code",
   "execution_count": 26,
   "metadata": {},
   "outputs": [
    {
     "data": {
      "text/html": [
       "<div>\n",
       "<style scoped>\n",
       "    .dataframe tbody tr th:only-of-type {\n",
       "        vertical-align: middle;\n",
       "    }\n",
       "\n",
       "    .dataframe tbody tr th {\n",
       "        vertical-align: top;\n",
       "    }\n",
       "\n",
       "    .dataframe thead th {\n",
       "        text-align: right;\n",
       "    }\n",
       "</style>\n",
       "<table border=\"1\" class=\"dataframe\">\n",
       "  <thead>\n",
       "    <tr style=\"text-align: right;\">\n",
       "      <th></th>\n",
       "      <th>ip</th>\n",
       "      <th>data.tls.status</th>\n",
       "      <th>data.tls.result.handshake_log.server_certificates.certificate.parsed.issuer.common_name</th>\n",
       "      <th>data.tls.result.handshake_log.server_certificates.certificate.parsed.issuer.country</th>\n",
       "      <th>data.tls.result.handshake_log.server_certificates.certificate.parsed.issuer.organization</th>\n",
       "      <th>data.tls.result.handshake_log.server_certificates.certificate.parsed.issuer_dn</th>\n",
       "      <th>data.tls.result.handshake_log.server_certificates.certificate.parsed.subject.common_name</th>\n",
       "      <th>data.tls.result.handshake_log.server_certificates.certificate.parsed.subject.country</th>\n",
       "      <th>data.tls.result.handshake_log.server_certificates.certificate.parsed.subject.locality</th>\n",
       "      <th>data.tls.result.handshake_log.server_certificates.certificate.parsed.subject.province</th>\n",
       "      <th>data.tls.result.handshake_log.server_certificates.certificate.parsed.subject.organization</th>\n",
       "      <th>data.tls.result.handshake_log.server_certificates.certificate.parsed.subject_dn</th>\n",
       "      <th>data.tls.result.handshake_log.server_certificates.certificate.parsed.extensions.subject_alt_name.dns_names</th>\n",
       "    </tr>\n",
       "  </thead>\n",
       "  <tbody>\n",
       "    <tr>\n",
       "      <th>0</th>\n",
       "      <td>172.65.215.137</td>\n",
       "      <td>connection-timeout</td>\n",
       "      <td>NaN</td>\n",
       "      <td>NaN</td>\n",
       "      <td>NaN</td>\n",
       "      <td>NaN</td>\n",
       "      <td>NaN</td>\n",
       "      <td>NaN</td>\n",
       "      <td>NaN</td>\n",
       "      <td>NaN</td>\n",
       "      <td>NaN</td>\n",
       "      <td>NaN</td>\n",
       "      <td>NaN</td>\n",
       "    </tr>\n",
       "    <tr>\n",
       "      <th>1</th>\n",
       "      <td>172.65.78.237</td>\n",
       "      <td>connection-timeout</td>\n",
       "      <td>NaN</td>\n",
       "      <td>NaN</td>\n",
       "      <td>NaN</td>\n",
       "      <td>NaN</td>\n",
       "      <td>NaN</td>\n",
       "      <td>NaN</td>\n",
       "      <td>NaN</td>\n",
       "      <td>NaN</td>\n",
       "      <td>NaN</td>\n",
       "      <td>NaN</td>\n",
       "      <td>NaN</td>\n",
       "    </tr>\n",
       "    <tr>\n",
       "      <th>2</th>\n",
       "      <td>172.65.155.35</td>\n",
       "      <td>connection-timeout</td>\n",
       "      <td>NaN</td>\n",
       "      <td>NaN</td>\n",
       "      <td>NaN</td>\n",
       "      <td>NaN</td>\n",
       "      <td>NaN</td>\n",
       "      <td>NaN</td>\n",
       "      <td>NaN</td>\n",
       "      <td>NaN</td>\n",
       "      <td>NaN</td>\n",
       "      <td>NaN</td>\n",
       "      <td>NaN</td>\n",
       "    </tr>\n",
       "    <tr>\n",
       "      <th>3</th>\n",
       "      <td>172.65.213.176</td>\n",
       "      <td>connection-timeout</td>\n",
       "      <td>NaN</td>\n",
       "      <td>NaN</td>\n",
       "      <td>NaN</td>\n",
       "      <td>NaN</td>\n",
       "      <td>NaN</td>\n",
       "      <td>NaN</td>\n",
       "      <td>NaN</td>\n",
       "      <td>NaN</td>\n",
       "      <td>NaN</td>\n",
       "      <td>NaN</td>\n",
       "      <td>NaN</td>\n",
       "    </tr>\n",
       "    <tr>\n",
       "      <th>4</th>\n",
       "      <td>172.65.189.166</td>\n",
       "      <td>connection-timeout</td>\n",
       "      <td>NaN</td>\n",
       "      <td>NaN</td>\n",
       "      <td>NaN</td>\n",
       "      <td>NaN</td>\n",
       "      <td>NaN</td>\n",
       "      <td>NaN</td>\n",
       "      <td>NaN</td>\n",
       "      <td>NaN</td>\n",
       "      <td>NaN</td>\n",
       "      <td>NaN</td>\n",
       "      <td>NaN</td>\n",
       "    </tr>\n",
       "    <tr>\n",
       "      <th>...</th>\n",
       "      <td>...</td>\n",
       "      <td>...</td>\n",
       "      <td>...</td>\n",
       "      <td>...</td>\n",
       "      <td>...</td>\n",
       "      <td>...</td>\n",
       "      <td>...</td>\n",
       "      <td>...</td>\n",
       "      <td>...</td>\n",
       "      <td>...</td>\n",
       "      <td>...</td>\n",
       "      <td>...</td>\n",
       "      <td>...</td>\n",
       "    </tr>\n",
       "    <tr>\n",
       "      <th>1720251</th>\n",
       "      <td>186.10.206.48</td>\n",
       "      <td>io-timeout</td>\n",
       "      <td>NaN</td>\n",
       "      <td>NaN</td>\n",
       "      <td>NaN</td>\n",
       "      <td>NaN</td>\n",
       "      <td>NaN</td>\n",
       "      <td>NaN</td>\n",
       "      <td>NaN</td>\n",
       "      <td>NaN</td>\n",
       "      <td>NaN</td>\n",
       "      <td>NaN</td>\n",
       "      <td>NaN</td>\n",
       "    </tr>\n",
       "    <tr>\n",
       "      <th>1720252</th>\n",
       "      <td>178.167.93.169</td>\n",
       "      <td>io-timeout</td>\n",
       "      <td>NaN</td>\n",
       "      <td>NaN</td>\n",
       "      <td>NaN</td>\n",
       "      <td>NaN</td>\n",
       "      <td>NaN</td>\n",
       "      <td>NaN</td>\n",
       "      <td>NaN</td>\n",
       "      <td>NaN</td>\n",
       "      <td>NaN</td>\n",
       "      <td>NaN</td>\n",
       "      <td>NaN</td>\n",
       "    </tr>\n",
       "    <tr>\n",
       "      <th>1720253</th>\n",
       "      <td>165.3.101.251</td>\n",
       "      <td>io-timeout</td>\n",
       "      <td>NaN</td>\n",
       "      <td>NaN</td>\n",
       "      <td>NaN</td>\n",
       "      <td>NaN</td>\n",
       "      <td>NaN</td>\n",
       "      <td>NaN</td>\n",
       "      <td>NaN</td>\n",
       "      <td>NaN</td>\n",
       "      <td>NaN</td>\n",
       "      <td>NaN</td>\n",
       "      <td>NaN</td>\n",
       "    </tr>\n",
       "    <tr>\n",
       "      <th>1720254</th>\n",
       "      <td>181.200.81.107</td>\n",
       "      <td>io-timeout</td>\n",
       "      <td>NaN</td>\n",
       "      <td>NaN</td>\n",
       "      <td>NaN</td>\n",
       "      <td>NaN</td>\n",
       "      <td>NaN</td>\n",
       "      <td>NaN</td>\n",
       "      <td>NaN</td>\n",
       "      <td>NaN</td>\n",
       "      <td>NaN</td>\n",
       "      <td>NaN</td>\n",
       "      <td>NaN</td>\n",
       "    </tr>\n",
       "    <tr>\n",
       "      <th>1720255</th>\n",
       "      <td>181.200.73.194</td>\n",
       "      <td>io-timeout</td>\n",
       "      <td>NaN</td>\n",
       "      <td>NaN</td>\n",
       "      <td>NaN</td>\n",
       "      <td>NaN</td>\n",
       "      <td>NaN</td>\n",
       "      <td>NaN</td>\n",
       "      <td>NaN</td>\n",
       "      <td>NaN</td>\n",
       "      <td>NaN</td>\n",
       "      <td>NaN</td>\n",
       "      <td>NaN</td>\n",
       "    </tr>\n",
       "  </tbody>\n",
       "</table>\n",
       "<p>1720256 rows × 13 columns</p>\n",
       "</div>"
      ],
      "text/plain": [
       "                     ip     data.tls.status  \\\n",
       "0        172.65.215.137  connection-timeout   \n",
       "1         172.65.78.237  connection-timeout   \n",
       "2         172.65.155.35  connection-timeout   \n",
       "3        172.65.213.176  connection-timeout   \n",
       "4        172.65.189.166  connection-timeout   \n",
       "...                 ...                 ...   \n",
       "1720251   186.10.206.48          io-timeout   \n",
       "1720252  178.167.93.169          io-timeout   \n",
       "1720253   165.3.101.251          io-timeout   \n",
       "1720254  181.200.81.107          io-timeout   \n",
       "1720255  181.200.73.194          io-timeout   \n",
       "\n",
       "        data.tls.result.handshake_log.server_certificates.certificate.parsed.issuer.common_name  \\\n",
       "0                                                      NaN                                        \n",
       "1                                                      NaN                                        \n",
       "2                                                      NaN                                        \n",
       "3                                                      NaN                                        \n",
       "4                                                      NaN                                        \n",
       "...                                                    ...                                        \n",
       "1720251                                                NaN                                        \n",
       "1720252                                                NaN                                        \n",
       "1720253                                                NaN                                        \n",
       "1720254                                                NaN                                        \n",
       "1720255                                                NaN                                        \n",
       "\n",
       "        data.tls.result.handshake_log.server_certificates.certificate.parsed.issuer.country  \\\n",
       "0                                                      NaN                                    \n",
       "1                                                      NaN                                    \n",
       "2                                                      NaN                                    \n",
       "3                                                      NaN                                    \n",
       "4                                                      NaN                                    \n",
       "...                                                    ...                                    \n",
       "1720251                                                NaN                                    \n",
       "1720252                                                NaN                                    \n",
       "1720253                                                NaN                                    \n",
       "1720254                                                NaN                                    \n",
       "1720255                                                NaN                                    \n",
       "\n",
       "        data.tls.result.handshake_log.server_certificates.certificate.parsed.issuer.organization  \\\n",
       "0                                                      NaN                                         \n",
       "1                                                      NaN                                         \n",
       "2                                                      NaN                                         \n",
       "3                                                      NaN                                         \n",
       "4                                                      NaN                                         \n",
       "...                                                    ...                                         \n",
       "1720251                                                NaN                                         \n",
       "1720252                                                NaN                                         \n",
       "1720253                                                NaN                                         \n",
       "1720254                                                NaN                                         \n",
       "1720255                                                NaN                                         \n",
       "\n",
       "        data.tls.result.handshake_log.server_certificates.certificate.parsed.issuer_dn  \\\n",
       "0                                                      NaN                               \n",
       "1                                                      NaN                               \n",
       "2                                                      NaN                               \n",
       "3                                                      NaN                               \n",
       "4                                                      NaN                               \n",
       "...                                                    ...                               \n",
       "1720251                                                NaN                               \n",
       "1720252                                                NaN                               \n",
       "1720253                                                NaN                               \n",
       "1720254                                                NaN                               \n",
       "1720255                                                NaN                               \n",
       "\n",
       "        data.tls.result.handshake_log.server_certificates.certificate.parsed.subject.common_name  \\\n",
       "0                                                      NaN                                         \n",
       "1                                                      NaN                                         \n",
       "2                                                      NaN                                         \n",
       "3                                                      NaN                                         \n",
       "4                                                      NaN                                         \n",
       "...                                                    ...                                         \n",
       "1720251                                                NaN                                         \n",
       "1720252                                                NaN                                         \n",
       "1720253                                                NaN                                         \n",
       "1720254                                                NaN                                         \n",
       "1720255                                                NaN                                         \n",
       "\n",
       "        data.tls.result.handshake_log.server_certificates.certificate.parsed.subject.country  \\\n",
       "0                                                      NaN                                     \n",
       "1                                                      NaN                                     \n",
       "2                                                      NaN                                     \n",
       "3                                                      NaN                                     \n",
       "4                                                      NaN                                     \n",
       "...                                                    ...                                     \n",
       "1720251                                                NaN                                     \n",
       "1720252                                                NaN                                     \n",
       "1720253                                                NaN                                     \n",
       "1720254                                                NaN                                     \n",
       "1720255                                                NaN                                     \n",
       "\n",
       "        data.tls.result.handshake_log.server_certificates.certificate.parsed.subject.locality  \\\n",
       "0                                                      NaN                                      \n",
       "1                                                      NaN                                      \n",
       "2                                                      NaN                                      \n",
       "3                                                      NaN                                      \n",
       "4                                                      NaN                                      \n",
       "...                                                    ...                                      \n",
       "1720251                                                NaN                                      \n",
       "1720252                                                NaN                                      \n",
       "1720253                                                NaN                                      \n",
       "1720254                                                NaN                                      \n",
       "1720255                                                NaN                                      \n",
       "\n",
       "        data.tls.result.handshake_log.server_certificates.certificate.parsed.subject.province  \\\n",
       "0                                                      NaN                                      \n",
       "1                                                      NaN                                      \n",
       "2                                                      NaN                                      \n",
       "3                                                      NaN                                      \n",
       "4                                                      NaN                                      \n",
       "...                                                    ...                                      \n",
       "1720251                                                NaN                                      \n",
       "1720252                                                NaN                                      \n",
       "1720253                                                NaN                                      \n",
       "1720254                                                NaN                                      \n",
       "1720255                                                NaN                                      \n",
       "\n",
       "        data.tls.result.handshake_log.server_certificates.certificate.parsed.subject.organization  \\\n",
       "0                                                      NaN                                          \n",
       "1                                                      NaN                                          \n",
       "2                                                      NaN                                          \n",
       "3                                                      NaN                                          \n",
       "4                                                      NaN                                          \n",
       "...                                                    ...                                          \n",
       "1720251                                                NaN                                          \n",
       "1720252                                                NaN                                          \n",
       "1720253                                                NaN                                          \n",
       "1720254                                                NaN                                          \n",
       "1720255                                                NaN                                          \n",
       "\n",
       "        data.tls.result.handshake_log.server_certificates.certificate.parsed.subject_dn  \\\n",
       "0                                                      NaN                                \n",
       "1                                                      NaN                                \n",
       "2                                                      NaN                                \n",
       "3                                                      NaN                                \n",
       "4                                                      NaN                                \n",
       "...                                                    ...                                \n",
       "1720251                                                NaN                                \n",
       "1720252                                                NaN                                \n",
       "1720253                                                NaN                                \n",
       "1720254                                                NaN                                \n",
       "1720255                                                NaN                                \n",
       "\n",
       "        data.tls.result.handshake_log.server_certificates.certificate.parsed.extensions.subject_alt_name.dns_names  \n",
       "0                                                      NaN                                                          \n",
       "1                                                      NaN                                                          \n",
       "2                                                      NaN                                                          \n",
       "3                                                      NaN                                                          \n",
       "4                                                      NaN                                                          \n",
       "...                                                    ...                                                          \n",
       "1720251                                                NaN                                                          \n",
       "1720252                                                NaN                                                          \n",
       "1720253                                                NaN                                                          \n",
       "1720254                                                NaN                                                          \n",
       "1720255                                                NaN                                                          \n",
       "\n",
       "[1720256 rows x 13 columns]"
      ]
     },
     "execution_count": 26,
     "metadata": {},
     "output_type": "execute_result"
    }
   ],
   "source": [
    "finallist"
   ]
  },
  {
   "cell_type": "code",
   "execution_count": 27,
   "metadata": {
    "colab": {
     "base_uri": "https://localhost:8080/",
     "height": 130
    },
    "id": "Vcuu37dVPBqS",
    "outputId": "a0b44c7a-e0f5-4977-93f1-8388123b98cb"
   },
   "outputs": [
    {
     "data": {
      "text/plain": [
       "1009401"
      ]
     },
     "execution_count": 27,
     "metadata": {},
     "output_type": "execute_result"
    }
   ],
   "source": [
    "finallist['data.tls.result.handshake_log.server_certificates.certificate.parsed.extensions.subject_alt_name.dns_names'].count()"
   ]
  },
  {
   "cell_type": "code",
   "execution_count": 28,
   "metadata": {},
   "outputs": [
    {
     "data": {
      "text/plain": [
       "1720256"
      ]
     },
     "execution_count": 28,
     "metadata": {},
     "output_type": "execute_result"
    }
   ],
   "source": [
    "finallist['ip'].count()"
   ]
  },
  {
   "cell_type": "code",
   "execution_count": 29,
   "metadata": {},
   "outputs": [],
   "source": [
    "finallist.to_csv('tls_certificate_'+instance_no+'.csv')"
   ]
  },
  {
   "cell_type": "code",
   "execution_count": null,
   "metadata": {},
   "outputs": [],
   "source": [
    "!rm -r Data/100KChunks/"
   ]
  },
  {
   "cell_type": "code",
   "execution_count": null,
   "metadata": {},
   "outputs": [],
   "source": [
    "!rm  Data/100KChunks/*Temp*"
   ]
  },
  {
   "cell_type": "code",
   "execution_count": null,
   "metadata": {},
   "outputs": [],
   "source": [
    "!mkdir Data/100KChunks/"
   ]
  },
  {
   "cell_type": "code",
   "execution_count": 30,
   "metadata": {},
   "outputs": [],
   "source": [
    "!rm Data/banners1.json"
   ]
  },
  {
   "cell_type": "code",
   "execution_count": 31,
   "metadata": {},
   "outputs": [
    {
     "name": "stdout",
     "output_type": "stream",
     "text": [
      "rm: cannot remove 'Data/banners1.json.bz2': No such file or directory\r\n"
     ]
    }
   ],
   "source": [
    "!rm -r Data/banners1.json.bz2"
   ]
  },
  {
   "cell_type": "code",
   "execution_count": null,
   "metadata": {},
   "outputs": [],
   "source": [
    "sudo "
   ]
  }
 ],
 "metadata": {
  "colab": {
   "collapsed_sections": [],
   "name": "ExtractFromBanners.ipynb",
   "provenance": []
  },
  "kernelspec": {
   "display_name": "Python 3 (ipykernel)",
   "language": "python",
   "name": "python3"
  },
  "language_info": {
   "codemirror_mode": {
    "name": "ipython",
    "version": 3
   },
   "file_extension": ".py",
   "mimetype": "text/x-python",
   "name": "python",
   "nbconvert_exporter": "python",
   "pygments_lexer": "ipython3",
   "version": "3.7.3"
  }
 },
 "nbformat": 4,
 "nbformat_minor": 1
}
