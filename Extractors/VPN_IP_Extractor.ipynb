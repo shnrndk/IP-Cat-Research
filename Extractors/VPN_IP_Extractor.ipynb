{
  "nbformat": 4,
  "nbformat_minor": 0,
  "metadata": {
    "colab": {
      "name": "VPN IP Extractor.ipynb",
      "provenance": []
    },
    "kernelspec": {
      "name": "python3",
      "display_name": "Python 3"
    },
    "language_info": {
      "name": "python"
    }
  },
  "cells": [
    {
      "cell_type": "code",
      "source": [
        "import pandas as pd"
      ],
      "metadata": {
        "id": "7jcce4RXASpt"
      },
      "execution_count": null,
      "outputs": []
    },
    {
      "cell_type": "code",
      "source": [
        "urlist = [\n",
        "          'https://gist.githubusercontent.com/triggex/c6bc554410a84ea1b3ef1c19c5a92d49/raw/1d5a60401f631356d156c21b32471d15dff2e0e1/NordVPN-Server-IP-List-2020.txt',\n",
        "          'https://gist.githubusercontent.com/JamoCA/eedaf4f7cce1cb0aeb5c1039af35f0b7/raw/01faaa9ffa025a66be0abfd674bf111090d9ebb9/NordVPN-Server-IP-List.txt',\n",
        "          'https://raw.githubusercontent.com/X4BNet/lists_vpn/main/input/ips/protonvpn.txt'\n",
        "         ]\n",
        "\n",
        "temp = []\n",
        "\n",
        "for url in urlist:\n",
        "  vpnips = pd.read_csv(url,names=['ip'])\n",
        "  for ip in vpnips.values:\n",
        "    ip = ip[0].split('.')[0]+\".\"+ip[0].split('.')[1]+\".\"+ip[0].split('.')[2]+\".0/24\"\n",
        "    temp.append(ip)"
      ],
      "metadata": {
        "id": "vLq0wziBIF79"
      },
      "execution_count": null,
      "outputs": []
    },
    {
      "cell_type": "code",
      "source": [
        "subnetlist = list(dict.fromkeys(temp))"
      ],
      "metadata": {
        "id": "BvHIGs_AKy8j"
      },
      "execution_count": null,
      "outputs": []
    },
    {
      "cell_type": "code",
      "source": [
        "a = pd.DataFrame(subnetlist)"
      ],
      "metadata": {
        "id": "DjhPIoHcUjNt"
      },
      "execution_count": null,
      "outputs": []
    },
    {
      "cell_type": "code",
      "source": [
        "a.to_csv('vpntempiplist.csv',header=False,index=False)"
      ],
      "metadata": {
        "id": "v7-LbUPON91x"
      },
      "execution_count": null,
      "outputs": []
    }
  ]
}