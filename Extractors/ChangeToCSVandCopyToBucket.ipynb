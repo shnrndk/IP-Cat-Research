{
 "cells": [
  {
   "cell_type": "code",
   "execution_count": 1,
   "id": "fbc7ddb5",
   "metadata": {},
   "outputs": [],
   "source": [
    "instance_no = '04'"
   ]
  },
  {
   "cell_type": "code",
   "execution_count": 2,
   "id": "e5e11189",
   "metadata": {},
   "outputs": [
    {
     "name": "stdout",
     "output_type": "stream",
     "text": [
      "Copying gs://store_data_gh/results_scan_on_port_80/round_7/zipped/zgrab_result_instance-04_7_443_20210903.json.bz2...\n",
      "==> NOTE: You are downloading one or more large file(s), which would            \n",
      "run significantly faster if you enabled sliced object downloads. This\n",
      "feature is enabled by default but requires that compiled crcmod be\n",
      "installed (see \"gsutil help crcmod\").\n",
      "\n",
      "- [1 files][  1.1 GiB/  1.1 GiB]                                                \n",
      "Operation completed over 1 objects/1.1 GiB.                                      \n"
     ]
    }
   ],
   "source": [
    "!gsutil cp gs://store_data_gh/results_scan_on_port_80/round_7/zipped/zgrab_result_instance-04_7_443_20210903.json.bz2 $HOME/myprojectdir/Data/data.json.bz2"
   ]
  },
  {
   "cell_type": "code",
   "execution_count": 3,
   "id": "18f76fb0",
   "metadata": {},
   "outputs": [],
   "source": [
    "!bzip2 -d $HOME/myprojectdir/Data/data.json.bz2"
   ]
  },
  {
   "cell_type": "code",
   "execution_count": 4,
   "id": "2e8dc345",
   "metadata": {},
   "outputs": [],
   "source": [
    "!cat $HOME/myprojectdir/Data/data.json | jsoncsv | mkexcel > $HOME/myprojectdir/Data/data.csv"
   ]
  },
  {
   "cell_type": "code",
   "execution_count": 5,
   "id": "86caf806",
   "metadata": {},
   "outputs": [],
   "source": [
    "!rm $HOME/myprojectdir/Data/data.json"
   ]
  },
  {
   "cell_type": "code",
   "execution_count": 6,
   "id": "42a4d96c",
   "metadata": {},
   "outputs": [],
   "source": [
    "!bzip2 $HOME/myprojectdir/Data/data.csv"
   ]
  },
  {
   "cell_type": "code",
   "execution_count": 7,
   "id": "b7a66e75",
   "metadata": {},
   "outputs": [
    {
     "name": "stdout",
     "output_type": "stream",
     "text": [
      "Copying file:///home/shnrndk3/myprojectdir/Data/data.csv.bz2 [Content-Type=text/csv]...\n",
      "==> NOTE: You are uploading one or more large file(s), which would run          \n",
      "significantly faster if you enable parallel composite uploads. This\n",
      "feature can be enabled by editing the\n",
      "\"parallel_composite_upload_threshold\" value in your .boto\n",
      "configuration file. However, note that if you do this large files will\n",
      "be uploaded as `composite objects\n",
      "<https://cloud.google.com/storage/docs/composite-objects>`_,which\n",
      "means that any user who downloads such objects will need to have a\n",
      "compiled crcmod installed (see \"gsutil help crcmod\"). This is because\n",
      "without a compiled crcmod, computing checksums on composite objects is\n",
      "so slow that gsutil disables downloads of composite objects.\n",
      "\n",
      "\\ [1 files][  1.0 GiB/  1.0 GiB]                                                \n",
      "Operation completed over 1 objects/1.0 GiB.                                      \n"
     ]
    }
   ],
   "source": [
    "!gsutil cp $HOME/myprojectdir/Data/data.csv.bz2  gs://store_data_gh/quick_access/round_1/zgrab_result_instance-04.csv.bz2"
   ]
  },
  {
   "cell_type": "code",
   "execution_count": 8,
   "id": "cf666536",
   "metadata": {},
   "outputs": [],
   "source": [
    "!rm $HOME/myprojectdir/Data/data.csv.bz2"
   ]
  }
 ],
 "metadata": {
  "kernelspec": {
   "display_name": "Python 3 (ipykernel)",
   "language": "python",
   "name": "python3"
  },
  "language_info": {
   "codemirror_mode": {
    "name": "ipython",
    "version": 3
   },
   "file_extension": ".py",
   "mimetype": "text/x-python",
   "name": "python",
   "nbconvert_exporter": "python",
   "pygments_lexer": "ipython3",
   "version": "3.7.3"
  }
 },
 "nbformat": 4,
 "nbformat_minor": 5
}
