{
  "cells": [
    {
      "cell_type": "code",
      "execution_count": null,
      "metadata": {
        "id": "fgw7T-4hX8AR"
      },
      "outputs": [],
      "source": [
        "import pandas as pd\n",
        "import matplotlib.pyplot as plt\n",
        "import numpy as np\n",
        "from sklearn import preprocessing\n",
        "le = preprocessing.LabelEncoder()\n",
        "import math \n",
        "from ast import literal_eval\n",
        "import pickle"
      ]
    },
    {
      "cell_type": "code",
      "execution_count": null,
      "metadata": {
        "colab": {
          "base_uri": "https://localhost:8080/"
        },
        "id": "CxfA0b8DY_h9",
        "outputId": "42f996a0-4a29-44ce-cf13-83bd97693ffe"
      },
      "outputs": [
        {
          "name": "stdout",
          "output_type": "stream",
          "text": [
            "Mounted at /content/drive\n"
          ]
        }
      ],
      "source": [
        "from google.colab import drive\n",
        "drive.mount('/content/drive')"
      ]
    },
    {
      "cell_type": "code",
      "execution_count": null,
      "metadata": {
        "id": "iesv91TgZC27"
      },
      "outputs": [],
      "source": [
        "!cp  /content/drive/MyDrive/Updated_Dateset_v5.zip /content/"
      ]
    },
    {
      "cell_type": "code",
      "execution_count": null,
      "metadata": {
        "colab": {
          "base_uri": "https://localhost:8080/"
        },
        "id": "-oPfaWAKaTho",
        "outputId": "dbf099f0-bd17-4142-8c51-c3f49ae89dcb"
      },
      "outputs": [
        {
          "name": "stdout",
          "output_type": "stream",
          "text": [
            "Archive:  Updated_Dateset_v5.zip\n",
            "  inflating: cdn_final_final.csv     \n",
            "  inflating: cloud_final_final.csv   \n",
            "  inflating: hosting_final_final.csv  \n",
            "  inflating: proxy_final_final.csv   \n",
            "  inflating: vpn_final_final.csv     \n"
          ]
        }
      ],
      "source": [
        "!unzip  Updated_Dateset_v5.zip"
      ]
    },
    {
      "cell_type": "code",
      "execution_count": null,
      "metadata": {
        "colab": {
          "base_uri": "https://localhost:8080/"
        },
        "id": "O_EYS5ZkZEfH",
        "outputId": "8396d740-05d1-4e24-e054-d50e4115479a"
      },
      "outputs": [
        {
          "name": "stderr",
          "output_type": "stream",
          "text": [
            "/usr/local/lib/python3.7/dist-packages/IPython/core/interactiveshell.py:2882: DtypeWarning: Columns (25) have mixed types.Specify dtype option on import or set low_memory=False.\n",
            "  exec(code_obj, self.user_global_ns, self.user_ns)\n",
            "/usr/local/lib/python3.7/dist-packages/IPython/core/interactiveshell.py:2882: DtypeWarning: Columns (31) have mixed types.Specify dtype option on import or set low_memory=False.\n",
            "  exec(code_obj, self.user_global_ns, self.user_ns)\n"
          ]
        }
      ],
      "source": [
        "sample_size = 30000\n",
        "df = pd.read_csv('cdn_final_final.csv')\n",
        "#df['vendor']= ['cdn' for x in range(df.shape[0])]\n",
        "df = df.sample(n = sample_size)\n",
        "df1 = pd.read_csv('cloud_final_final.csv')\n",
        "#df1['vendor']= ['cloud' for x in range(df1.shape[0])]\n",
        "df1 = df1.sample(n = sample_size)\n",
        "df2 = pd.read_csv('hosting_final_final.csv')\n",
        "#df2['vendor']= ['hosting' for x in range(df2.shape[0])]\n",
        "df2 = df2.sample(n = sample_size)\n",
        "df3 = pd.read_csv('vpn_final_final.csv')\n",
        "#df3['vendor']= ['vpn' for x in range(df3.shape[0])]\n",
        "#df3 = df3.sample(n = 15000)\n",
        "df4 = pd.read_csv('proxy_final_final.csv')\n",
        "#df4 = df4.sample(n = 9200)\n",
        "\n",
        "df = df.append([df1,df2,df3,df4],ignore_index=True)"
      ]
    },
    {
      "cell_type": "code",
      "execution_count": null,
      "metadata": {
        "colab": {
          "base_uri": "https://localhost:8080/"
        },
        "id": "QyUE8peM-qcJ",
        "outputId": "c180f8af-439f-463a-ca29-74786e0dd3d4"
      },
      "outputs": [
        {
          "data": {
            "text/plain": [
              "Index(['ip', 'No Of Owners', 'CIDR', 'netType', 'Organization',\n",
              "       'Most Recent Update', 'No of Who is Records',\n",
              "       'data.http.result.response.headers.server.0',\n",
              "       'data.http.result.response.status_code',\n",
              "       'data.http.result.response.headers.unknown.0.key',\n",
              "       'data.http.result.response.headers.unknown.0.value.0',\n",
              "       'data.http.result.response.headers.connection.0',\n",
              "       'data.http.result.response.headers.via.0',\n",
              "       'data.http.result.response.headers.unknown.1.key',\n",
              "       'data.http.result.response.headers.unknown.1.value.0',\n",
              "       'data.http.result.response.headers.accept_ranges.0',\n",
              "       'data.http.result.response.headers.cache_control.0',\n",
              "       'data.http.result.response.headers.retry_after.0',\n",
              "       'data.http.result.response.body',\n",
              "       'data.http.result.response.body_sha256',\n",
              "       'data.http.result.response.content_length',\n",
              "       'data.http.result.response.headers.content_type.0',\n",
              "       'data.http.result.response.headers.location.0',\n",
              "       'data.http.result.redirect_response_chain.0.status_line',\n",
              "       'data.http.result.response.headers.etag.0',\n",
              "       'data.http.result.response.headers.last_modified.0',\n",
              "       'data.http.result.response.headers.vary.0',\n",
              "       'data.http.result.response.transfer_encoding.0',\n",
              "       'data.http.result.response.headers.x_powered_by.0',\n",
              "       'data.http.result.response.headers.pragma.0',\n",
              "       'data.http.result.redirect_response_chain.0.headers.server.0',\n",
              "       'as_name', 'as_no', 'data.tls.status',\n",
              "       'data.tls.result.handshake_log.server_certificates.certificate.parsed.issuer.common_name',\n",
              "       'data.tls.result.handshake_log.server_certificates.certificate.parsed.issuer.country',\n",
              "       'data.tls.result.handshake_log.server_certificates.certificate.parsed.issuer.organization',\n",
              "       'data.tls.result.handshake_log.server_certificates.certificate.parsed.issuer_dn',\n",
              "       'data.tls.result.handshake_log.server_certificates.certificate.parsed.subject.common_name',\n",
              "       'data.tls.result.handshake_log.server_certificates.certificate.parsed.subject.country',\n",
              "       'data.tls.result.handshake_log.server_certificates.certificate.parsed.subject.locality',\n",
              "       'data.tls.result.handshake_log.server_certificates.certificate.parsed.subject.province',\n",
              "       'data.tls.result.handshake_log.server_certificates.certificate.parsed.subject.organization',\n",
              "       'data.tls.result.handshake_log.server_certificates.certificate.parsed.subject_dn',\n",
              "       'data.tls.result.handshake_log.server_certificates.certificate.parsed.extensions.subject_alt_name.dns_names',\n",
              "       'vendor', 'Unnamed: 0_y'],\n",
              "      dtype='object')"
            ]
          },
          "execution_count": 6,
          "metadata": {},
          "output_type": "execute_result"
        }
      ],
      "source": [
        "df.columns"
      ]
    },
    {
      "cell_type": "code",
      "execution_count": null,
      "metadata": {
        "id": "P44b1L2Vkzu2"
      },
      "outputs": [],
      "source": [
        "renameDict = {\n",
        "       'data.http.result.response.headers.server.0':'data.http.result.response.headers.server',\n",
        "       'data.http.result.response.headers.connection.0':'data.http.result.response.headers.connection',\n",
        "       'data.http.result.response.headers.via.0':'data.http.result.response.headers.via',\n",
        "       'data.http.result.response.headers.accept_ranges.0': 'data.http.result.response.headers.accept_ranges',\n",
        "       'data.http.result.response.headers.cache_control.0':'data.http.result.response.headers.cache_control',\n",
        "       'data.http.result.response.headers.retry_after.0':'data.http.result.response.headers.retry_after',\n",
        "       'data.http.result.response.headers.content_type.0':'data.http.result.response.headers.content_type',\n",
        "       'data.http.result.response.headers.location.0': 'data.http.result.response.headers.location',\n",
        "       'data.http.result.redirect_response_chain.0.status_line':'data.http.result.redirect_response_chain.status_line',\n",
        "       'data.http.result.response.headers.etag.0':'data.http.result.response.headers.etag',\n",
        "       'data.http.result.response.headers.last_modified.0':'data.http.result.response.headers.last_modified',\n",
        "       'data.http.result.response.headers.vary.0':'data.http.result.response.headers.vary',\n",
        "       'data.http.result.response.transfer_encoding.0': 'data.http.result.response.transfer_encoding',\n",
        "       'data.http.result.response.headers.x_powered_by.0':'data.http.result.response.headers.x_powered_by',\n",
        "       'data.http.result.response.headers.pragma.0':'data.http.result.response.headers.pragma',\n",
        "       'data.http.result.redirect_response_chain.0.headers.server.0':'data.http.result.redirect_response_chain.headers.server'\n",
        "}"
      ]
    },
    {
      "cell_type": "code",
      "execution_count": null,
      "metadata": {
        "id": "JGOk6eh1krLy"
      },
      "outputs": [],
      "source": [
        "df.rename(columns=renameDict, errors=\"raise\",inplace=True)"
      ]
    },
    {
      "cell_type": "code",
      "execution_count": null,
      "metadata": {
        "id": "oAnji2jLQb5P"
      },
      "outputs": [],
      "source": [
        "catfields = [ 'netType', \n",
        "              #'Organization',\n",
        "              'data.http.result.response.headers.server',\n",
        "               'data.http.result.response.status_code',\n",
        "              'data.http.result.response.headers.connection',\n",
        "              'data.http.result.response.headers.via',\n",
        "              'data.http.result.response.headers.accept_ranges',\n",
        "              'data.http.result.response.headers.cache_control',\n",
        "              'data.http.result.response.headers.retry_after',\n",
        "             # 'data.http.result.response.body',\n",
        "             # 'data.http.result.response.body_sha256',\n",
        "              'data.http.result.response.headers.content_type',\n",
        "              'data.http.result.response.headers.location',\n",
        "             # 'data.http.result.redirect_response_chain.status_line',\n",
        "              'data.http.result.response.headers.etag',\n",
        "              #'data.http.result.response.headers.vary',\n",
        "              #'data.http.result.response.transfer_encoding',\n",
        "             # 'data.http.result.response.headers.x_powered_by',\n",
        "              #'data.http.result.response.headers.pragma',\n",
        "              'as_name', 'as_no',\n",
        "              'data.tls.status',\n",
        "              'data.tls.result.handshake_log.server_certificates.certificate.parsed.issuer.country',\n",
        "              'data.tls.result.handshake_log.server_certificates.certificate.parsed.issuer.organization',\n",
        "              #'data.tls.result.handshake_log.server_certificates.certificate.parsed.subject.common_name',\n",
        "              #'data.tls.result.handshake_log.server_certificates.certificate.parsed.subject.country',\n",
        "              'data.tls.result.handshake_log.server_certificates.certificate.parsed.subject.locality',\n",
        "              #'data.tls.result.handshake_log.server_certificates.certificate.parsed.subject.province',\n",
        "              'data.tls.result.handshake_log.server_certificates.certificate.parsed.subject.organization',\n",
        "              'vendor'\n",
        "       ]"
      ]
    },
    {
      "cell_type": "code",
      "execution_count": null,
      "metadata": {
        "id": "oa7wrfDjZM6T"
      },
      "outputs": [],
      "source": [
        "def getgeneralCloudfront(x):\n",
        "  if('(CloudFront)' in str(x)):\n",
        "      return 'CloudFront'\n",
        "  else:\n",
        "      return x\n",
        "\n",
        "def getgeneralServerNames(x):\n",
        "  if('nginx' in str(x)):\n",
        "      return 'nginx'\n",
        "  elif('Apache' in str(x)):\n",
        "      return 'Apache'\n",
        "  else:\n",
        "      return x\n",
        "\n",
        "def getgeneralphp(x):\n",
        "  if (pd.isna(x)):\n",
        "    return -1\n",
        "  else:\n",
        "    if('PHP' in x):\n",
        "      return 'PHP'\n",
        "\n",
        "def changenullaszero(x):\n",
        "  if (pd.isna(x)): \n",
        "    return -1\n",
        "  else:\n",
        "    return 1\n",
        "\n",
        "def getCIDRBlockLength(ipadd):\n",
        "   if(pd.isna(ipadd)):\n",
        "     return 0\n",
        "   else:\n",
        "      if(len(ipadd.split(','))==1):\n",
        "        return (2**(32-int(ipadd.split('/')[1])))\n",
        "      else:\n",
        "        sum=0\n",
        "        for i in ipadd.split(','):\n",
        "          sum=sum + (2**(32-int(i.split('/')[1])))\n",
        "        return sum \n",
        "\n",
        "def arrayLiteral(stringarray):\n",
        "  if(pd.isna(stringarray)):\n",
        "     return 0\n",
        "  return len(literal_eval(stringarray))\n",
        "\n",
        "def removeSquareBrackets(text):\n",
        "  if(pd.isna(text)):\n",
        "     return -1\n",
        "  return literal_eval(text)[0];\n",
        "\n",
        "def featureImportance(clf):\n",
        "  importance = clf.feature_importances_\n",
        "  importancelist = []\n",
        "  for i,v in enumerate(importance):\n",
        "    importancelist.append([df.columns[i],v])\n",
        "  importantdf = pd.DataFrame(importancelist)\n",
        "  importantdf.columns = ['Feature','Importance']\n",
        "  ax = importantdf.plot.barh(x='Feature', y='Importance', rot=0,figsize=(10,20))"
      ]
    },
    {
      "cell_type": "code",
      "execution_count": null,
      "metadata": {
        "colab": {
          "base_uri": "https://localhost:8080/"
        },
        "id": "1GdtwqjZbPF_",
        "outputId": "1e11ec2b-1b76-4d2e-a86c-5aae402d6b98"
      },
      "outputs": [
        {
          "data": {
            "text/plain": [
              "0.0        5081\n",
              "86400.0      16\n",
              "3600.0       12\n",
              "5.0          10\n",
              "300.0         5\n",
              "600.0         1\n",
              "84600.0       1\n",
              "900.0         1\n",
              "Name: data.http.result.response.headers.retry_after, dtype: int64"
            ]
          },
          "execution_count": 11,
          "metadata": {},
          "output_type": "execute_result"
        }
      ],
      "source": [
        "df['data.http.result.response.headers.retry_after'].value_counts()"
      ]
    },
    {
      "cell_type": "code",
      "execution_count": null,
      "metadata": {
        "id": "V-k_-3CAZbNN"
      },
      "outputs": [],
      "source": [
        "#df['data.http.result.response.headers.via']  = df[\"data.http.result.response.headers.via\"].apply(getgeneralCloudfront)\n",
        "df['data.http.result.response.status_code'].fillna(-1, inplace=True)\n",
        "df['data.http.result.response.headers.pragma'].fillna(-1, inplace=True)\n",
        "df['data.http.result.response.headers.connection'].fillna(-1, inplace=True)\n",
        "df['data.http.result.response.headers.via']  = df[\"data.http.result.response.headers.via\"].apply(changenullaszero)\n",
        "df['data.http.result.response.headers.via'].fillna(-1, inplace=True)\n",
        "df['data.http.result.response.headers.accept_ranges'].fillna(-1, inplace=True)\n",
        "df['data.http.result.response.headers.cache_control'].fillna(-1, inplace=True)\n",
        "df['data.http.result.response.headers.retry_after'].fillna(-1, inplace=True)\n",
        "df['data.http.result.response.body']  = df[\"data.http.result.response.body\"].apply(changenullaszero)\n",
        "df['data.http.result.response.body_sha256']  = df['data.http.result.response.body_sha256'].apply(changenullaszero)\n",
        "df['data.http.result.response.content_length'].fillna(0, inplace=True)\n",
        "df['data.http.result.response.headers.content_type'].fillna(-1, inplace=True)\n",
        "df['data.http.result.response.headers.location'] = df['data.http.result.response.headers.location'].apply(changenullaszero)\n",
        "df['data.http.result.redirect_response_chain.status_line'].fillna(-1, inplace=True)\n",
        "df['data.http.result.response.headers.etag'] = df['data.http.result.response.headers.etag'].apply(changenullaszero)\n",
        "df['data.http.result.response.headers.last_modified']  = df['data.http.result.response.headers.last_modified'].apply(changenullaszero)\n",
        "df['data.http.result.response.headers.vary'].fillna(-1, inplace=True)\n",
        "df['data.http.result.response.transfer_encoding'].fillna(-1, inplace=True)\n",
        "df['data.http.result.response.headers.x_powered_by']  = df['data.http.result.response.headers.x_powered_by'].apply(getgeneralphp)\n",
        "#df['data.http.result.response.headers.x_powered_by'].fillna(-1, inplace=True)\n",
        "\n",
        "df['data.http.result.response.headers.server']  = df['data.http.result.response.headers.server'].apply(getgeneralServerNames)\n",
        "df['data.http.result.response.headers.server'].fillna(-1, inplace=True)"
      ]
    },
    {
      "cell_type": "code",
      "execution_count": null,
      "metadata": {
        "id": "HDt9GIfbZc3r"
      },
      "outputs": [],
      "source": [
        "# df['data.http.result.response.headers.server'] = le.fit_transform(df['data.http.result.response.headers.server'].astype(str))\n",
        "# df['data.http.result.response.status_code'] = le.fit_transform(df['data.http.result.response.status_code'].astype(str))\n",
        "# df['data.http.result.response.headers.connection'] = le.fit_transform(df['data.http.result.response.headers.connection'].astype(str))\n",
        "# df['data.http.result.response.headers.via'] = le.fit_transform(df['data.http.result.response.headers.via'].astype(str))\n",
        "# df['data.http.result.response.headers.accept_ranges'] = le.fit_transform(df['data.http.result.response.headers.accept_ranges'].astype(str))\n",
        "# df['data.http.result.response.headers.cache_control'] = le.fit_transform(df['data.http.result.response.headers.cache_control'].astype(str))\n",
        "# df['data.http.result.response.headers.retry_after'] = le.fit_transform(df['data.http.result.response.headers.retry_after'].astype(str))\n",
        "# df['data.http.result.response.body'] = le.fit_transform(df['data.http.result.response.body'].astype(str))\n",
        "# df['data.http.result.response.body_sha256'] = le.fit_transform(df['data.http.result.response.body_sha256'].astype(str))\n",
        "# df['data.http.result.response.headers.content_type'] = le.fit_transform(df['data.http.result.response.headers.content_type'].astype(str))\n",
        "\n",
        "# df['data.http.result.response.headers.location'] = le.fit_transform(df['data.http.result.response.headers.location'].astype(str))\n",
        "# df['data.http.result.redirect_response_chain.status_line'] = le.fit_transform(df['data.http.result.redirect_response_chain.status_line'].astype(str))\n",
        "# df['data.http.result.response.headers.etag'] = le.fit_transform(df['data.http.result.response.headers.etag'].astype(str))\n",
        "# df['data.http.result.response.headers.last_modified'] = le.fit_transform(df['data.http.result.response.headers.last_modified'].astype(str))\n",
        "# df['data.http.result.response.headers.vary'] = le.fit_transform(df['data.http.result.response.headers.vary'].astype(str))\n",
        "# df['data.http.result.response.transfer_encoding'] = le.fit_transform(df['data.http.result.response.transfer_encoding'].astype(str))\n",
        "\n",
        "# df['data.http.result.response.headers.x_powered_by'] = le.fit_transform(df['data.http.result.response.headers.x_powered_by'].astype(str))\n",
        "# df['data.http.result.response.headers.pragma'] = le.fit_transform(df['data.http.result.response.headers.pragma'].astype(str))\n",
        "# df['as_name'] = le.fit_transform(df['as_name'].astype(str))\n",
        "\n",
        "# df['as_no'] = le.fit_transform(df['as_no'].astype(str))\n",
        "# df['vendor'] = le.fit_transform(df['vendor'].astype(str))\n",
        "# vendorEncodings = le.classes_"
      ]
    },
    {
      "cell_type": "code",
      "execution_count": null,
      "metadata": {
        "id": "oPo1n3l6UnNO"
      },
      "outputs": [],
      "source": [
        "#df['data.tls.result.handshake_log.server_certificates.certificate.parsed.subject.common_name']  =  df['data.tls.result.handshake_log.server_certificates.certificate.parsed.subject.common_name'].apply(changenullaszero)"
      ]
    },
    {
      "cell_type": "code",
      "execution_count": null,
      "metadata": {
        "id": "i__Rjbdmjwnr"
      },
      "outputs": [],
      "source": [
        "df['netSize']  = df[\"CIDR\"].apply(getCIDRBlockLength)\n",
        "df['data.tls.result.handshake_log.server_certificates.certificate.parsed.issuer.common_name']  =  df['data.tls.result.handshake_log.server_certificates.certificate.parsed.issuer.common_name'].apply(removeSquareBrackets)\n",
        "df['data.tls.result.handshake_log.server_certificates.certificate.parsed.issuer.country']  =  df['data.tls.result.handshake_log.server_certificates.certificate.parsed.issuer.country'].apply(removeSquareBrackets)\n",
        "df['data.tls.result.handshake_log.server_certificates.certificate.parsed.issuer.organization']  =  df['data.tls.result.handshake_log.server_certificates.certificate.parsed.issuer.organization'].apply(removeSquareBrackets)\n",
        "df['data.tls.result.handshake_log.server_certificates.certificate.parsed.subject.common_name']  =  df['data.tls.result.handshake_log.server_certificates.certificate.parsed.subject.common_name'].apply(removeSquareBrackets)\n",
        "df['data.tls.result.handshake_log.server_certificates.certificate.parsed.subject.country']  =  df['data.tls.result.handshake_log.server_certificates.certificate.parsed.subject.country'].apply(removeSquareBrackets)\n",
        "df['data.tls.result.handshake_log.server_certificates.certificate.parsed.subject.province']  =  df['data.tls.result.handshake_log.server_certificates.certificate.parsed.subject.province'].apply(removeSquareBrackets)\n",
        "df['data.tls.result.handshake_log.server_certificates.certificate.parsed.subject.locality']  =  df['data.tls.result.handshake_log.server_certificates.certificate.parsed.subject.locality'].apply(removeSquareBrackets)\n",
        "df['data.tls.result.handshake_log.server_certificates.certificate.parsed.subject.organization']  =  df['data.tls.result.handshake_log.server_certificates.certificate.parsed.subject.organization'].apply(removeSquareBrackets)\n",
        "df['SAN Count']  =  df['data.tls.result.handshake_log.server_certificates.certificate.parsed.extensions.subject_alt_name.dns_names'].apply(arrayLiteral)"
      ]
    },
    {
      "cell_type": "code",
      "execution_count": null,
      "metadata": {
        "id": "lr35q976jrhw"
      },
      "outputs": [],
      "source": [
        "df['Organization'].fillna(-1, inplace=True)\n",
        "df['netType'].fillna(-1, inplace=True)\n",
        "df['No of Who is Records'].fillna(0, inplace=True)\n",
        "df['Most Recent Update'].fillna(0, inplace=True)"
      ]
    },
    {
      "cell_type": "code",
      "execution_count": null,
      "metadata": {
        "id": "Y5KySBSLjjCQ"
      },
      "outputs": [],
      "source": [
        "# df['Organization'] = le.fit_transform(df['Organization'].astype(str))\n",
        "# df['netType'] = le.fit_transform(df['netType'].astype(str))\n",
        "\n",
        "# df['data.tls.result.handshake_log.server_certificates.certificate.parsed.issuer.common_name'] = le.fit_transform(df['data.tls.result.handshake_log.server_certificates.certificate.parsed.issuer.common_name'].astype(str))\n",
        "# df['data.tls.result.handshake_log.server_certificates.certificate.parsed.issuer.country'] = le.fit_transform(df['data.tls.result.handshake_log.server_certificates.certificate.parsed.issuer.country'].astype(str))\n",
        "# df['data.tls.result.handshake_log.server_certificates.certificate.parsed.issuer.organization'] = le.fit_transform(df['data.tls.result.handshake_log.server_certificates.certificate.parsed.issuer.organization'].astype(str))\n",
        "# df['data.tls.result.handshake_log.server_certificates.certificate.parsed.subject.common_name'] = le.fit_transform(df['data.tls.result.handshake_log.server_certificates.certificate.parsed.subject.common_name'].astype(str))\n",
        "# df['data.tls.result.handshake_log.server_certificates.certificate.parsed.subject.country'] = le.fit_transform(df['data.tls.result.handshake_log.server_certificates.certificate.parsed.subject.country'].astype(str))\n",
        "# df['data.tls.result.handshake_log.server_certificates.certificate.parsed.subject.province'] = le.fit_transform(df['data.tls.result.handshake_log.server_certificates.certificate.parsed.subject.province'].astype(str))\n",
        "# df['data.tls.result.handshake_log.server_certificates.certificate.parsed.subject.locality'] = le.fit_transform(df['data.tls.result.handshake_log.server_certificates.certificate.parsed.subject.locality'].astype(str))\n",
        "# df['data.tls.result.handshake_log.server_certificates.certificate.parsed.subject.organization'] = le.fit_transform(df['data.tls.result.handshake_log.server_certificates.certificate.parsed.subject.organization'].astype(str))\n",
        "# df['data.tls.status'] = le.fit_transform(df['data.tls.status'].astype(str))"
      ]
    },
    {
      "cell_type": "code",
      "execution_count": null,
      "metadata": {
        "id": "-zIWNIXcn_EV"
      },
      "outputs": [],
      "source": [
        "df = df.drop(['data.tls.result.handshake_log.server_certificates.certificate.parsed.issuer_dn'],axis=1)\n",
        "df = df.drop(['data.tls.result.handshake_log.server_certificates.certificate.parsed.subject_dn'],axis=1)\n",
        "df = df.drop(['data.tls.result.handshake_log.server_certificates.certificate.parsed.extensions.subject_alt_name.dns_names'],axis=1)\n",
        "df = df.drop(['No Of Owners'],axis=1)\n",
        "df = df.drop(['CIDR'],axis=1)\n",
        "df = df.drop(['data.http.result.response.headers.unknown.0.key'],axis=1)\n",
        "df = df.drop(['data.http.result.response.headers.unknown.0.value.0'],axis=1)\n",
        "df = df.drop(['data.http.result.response.headers.unknown.1.key'],axis=1)\n",
        "df = df.drop(['data.http.result.response.headers.unknown.1.value.0'],axis=1)\n",
        "df = df.drop(['ip'],axis=1)\n",
        "df = df.drop(['Unnamed: 0_y'],axis=1)\n",
        "df = df.drop(['data.tls.result.handshake_log.server_certificates.certificate.parsed.issuer.common_name'],axis=1)\n",
        "\n",
        "\n",
        "#Reducing the Insignificant Features\n",
        "df = df.drop(['data.http.result.response.transfer_encoding'],axis=1)\n",
        "df = df.drop(['data.http.result.response.headers.x_powered_by'],axis=1)\n",
        "df = df.drop(['data.http.result.response.headers.pragma'],axis=1)\n",
        "df = df.drop(['data.http.result.redirect_response_chain.headers.server'],axis=1)\n",
        "df = df.drop(['data.http.result.redirect_response_chain.status_line'],axis=1)\n",
        "df = df.drop(['data.http.result.response.headers.last_modified'],axis=1)\n",
        "df = df.drop(['data.http.result.response.body_sha256'],axis=1)\n",
        "df = df.drop(['data.http.result.response.headers.vary'],axis=1)\n",
        "df = df.drop(['data.http.result.response.body'],axis=1)\n",
        "\n",
        "df = df.drop(['data.tls.result.handshake_log.server_certificates.certificate.parsed.subject.country'],axis=1)\n",
        "df = df.drop(['data.tls.result.handshake_log.server_certificates.certificate.parsed.subject.province'],axis=1)\n",
        "df = df.drop(['data.tls.result.handshake_log.server_certificates.certificate.parsed.subject.common_name'],axis=1)\n",
        "\n",
        "#Unsure Significant Features\n",
        "df = df.drop(['Organization'],axis=1)"
      ]
    },
    {
      "cell_type": "code",
      "execution_count": null,
      "metadata": {
        "colab": {
          "base_uri": "https://localhost:8080/"
        },
        "id": "rJhcinAPY2ok",
        "outputId": "95430a24-e729-4e42-ed7c-b2d50349ddc6"
      },
      "outputs": [
        {
          "data": {
            "text/plain": [
              "Index(['netType', 'Most Recent Update', 'No of Who is Records',\n",
              "       'data.http.result.response.headers.server',\n",
              "       'data.http.result.response.status_code',\n",
              "       'data.http.result.response.headers.connection',\n",
              "       'data.http.result.response.headers.via',\n",
              "       'data.http.result.response.headers.accept_ranges',\n",
              "       'data.http.result.response.headers.cache_control',\n",
              "       'data.http.result.response.headers.retry_after',\n",
              "       'data.http.result.response.content_length',\n",
              "       'data.http.result.response.headers.content_type',\n",
              "       'data.http.result.response.headers.location',\n",
              "       'data.http.result.response.headers.etag', 'as_name', 'as_no',\n",
              "       'data.tls.status',\n",
              "       'data.tls.result.handshake_log.server_certificates.certificate.parsed.issuer.country',\n",
              "       'data.tls.result.handshake_log.server_certificates.certificate.parsed.issuer.organization',\n",
              "       'data.tls.result.handshake_log.server_certificates.certificate.parsed.subject.locality',\n",
              "       'data.tls.result.handshake_log.server_certificates.certificate.parsed.subject.organization',\n",
              "       'vendor', 'netSize', 'SAN Count'],\n",
              "      dtype='object')"
            ]
          },
          "execution_count": 19,
          "metadata": {},
          "output_type": "execute_result"
        }
      ],
      "source": [
        "df.columns"
      ]
    },
    {
      "cell_type": "code",
      "execution_count": null,
      "metadata": {
        "id": "wTeFzZULgcBg"
      },
      "outputs": [],
      "source": [
        "# import datetime"
      ]
    },
    {
      "cell_type": "code",
      "execution_count": null,
      "metadata": {
        "id": "ONMJoG2Hhvcf"
      },
      "outputs": [],
      "source": [
        ""
      ]
    },
    {
      "cell_type": "code",
      "execution_count": null,
      "metadata": {
        "colab": {
          "base_uri": "https://localhost:8080/"
        },
        "id": "yhAt6zxv3Xvv",
        "outputId": "53a6d6f4-1d8f-4f63-be4b-85ee25b62316"
      },
      "outputs": [
        {
          "data": {
            "text/plain": [
              "-1    9113\n",
              " 1      87\n",
              "Name: data.http.result.response.headers.location, dtype: int64"
            ]
          },
          "execution_count": 21,
          "metadata": {},
          "output_type": "execute_result"
        }
      ],
      "source": [
        "df[df[\"vendor\"] == \"proxy\"]['data.http.result.response.headers.location'].value_counts()"
      ]
    },
    {
      "cell_type": "code",
      "execution_count": null,
      "metadata": {
        "id": "vNGomzCNE-oI"
      },
      "outputs": [],
      "source": [
        "# val = 7.794858e+08\n",
        "# value = datetime.datetime.fromtimestamp(val)\n",
        "# print(f\"{value:%Y-%m-%d}\")"
      ]
    },
    {
      "cell_type": "code",
      "execution_count": null,
      "metadata": {
        "colab": {
          "base_uri": "https://localhost:8080/",
          "height": 423
        },
        "id": "mC-nGuFoTPnd",
        "outputId": "96980251-8cc5-491d-a175-b40aa81d8f56"
      },
      "outputs": [
        {
          "data": {
            "text/html": [
              "\n",
              "  <div id=\"df-6e928de4-3573-48dc-969f-d69ee07efb56\">\n",
              "    <div class=\"colab-df-container\">\n",
              "      <div>\n",
              "<style scoped>\n",
              "    .dataframe tbody tr th:only-of-type {\n",
              "        vertical-align: middle;\n",
              "    }\n",
              "\n",
              "    .dataframe tbody tr th {\n",
              "        vertical-align: top;\n",
              "    }\n",
              "\n",
              "    .dataframe thead th {\n",
              "        text-align: right;\n",
              "    }\n",
              "</style>\n",
              "<table border=\"1\" class=\"dataframe\">\n",
              "  <thead>\n",
              "    <tr style=\"text-align: right;\">\n",
              "      <th></th>\n",
              "      <th>Most Recent Update</th>\n",
              "      <th>No of Who is Records</th>\n",
              "      <th>data.http.result.response.content_length</th>\n",
              "      <th>netSize</th>\n",
              "      <th>SAN Count</th>\n",
              "    </tr>\n",
              "  </thead>\n",
              "  <tbody>\n",
              "    <tr>\n",
              "      <th>0</th>\n",
              "      <td>0.000000e+00</td>\n",
              "      <td>0.0</td>\n",
              "      <td>915.0</td>\n",
              "      <td>0</td>\n",
              "      <td>2</td>\n",
              "    </tr>\n",
              "    <tr>\n",
              "      <th>1</th>\n",
              "      <td>1.586390e+09</td>\n",
              "      <td>2.0</td>\n",
              "      <td>244.0</td>\n",
              "      <td>65536</td>\n",
              "      <td>2</td>\n",
              "    </tr>\n",
              "    <tr>\n",
              "      <th>2</th>\n",
              "      <td>0.000000e+00</td>\n",
              "      <td>0.0</td>\n",
              "      <td>915.0</td>\n",
              "      <td>0</td>\n",
              "      <td>0</td>\n",
              "    </tr>\n",
              "    <tr>\n",
              "      <th>3</th>\n",
              "      <td>0.000000e+00</td>\n",
              "      <td>0.0</td>\n",
              "      <td>915.0</td>\n",
              "      <td>0</td>\n",
              "      <td>0</td>\n",
              "    </tr>\n",
              "    <tr>\n",
              "      <th>4</th>\n",
              "      <td>0.000000e+00</td>\n",
              "      <td>0.0</td>\n",
              "      <td>915.0</td>\n",
              "      <td>0</td>\n",
              "      <td>2</td>\n",
              "    </tr>\n",
              "    <tr>\n",
              "      <th>...</th>\n",
              "      <td>...</td>\n",
              "      <td>...</td>\n",
              "      <td>...</td>\n",
              "      <td>...</td>\n",
              "      <td>...</td>\n",
              "    </tr>\n",
              "    <tr>\n",
              "      <th>121048</th>\n",
              "      <td>1.472602e+09</td>\n",
              "      <td>1.0</td>\n",
              "      <td>0.0</td>\n",
              "      <td>16</td>\n",
              "      <td>0</td>\n",
              "    </tr>\n",
              "    <tr>\n",
              "      <th>121049</th>\n",
              "      <td>1.488331e+09</td>\n",
              "      <td>2.0</td>\n",
              "      <td>0.0</td>\n",
              "      <td>16777216</td>\n",
              "      <td>0</td>\n",
              "    </tr>\n",
              "    <tr>\n",
              "      <th>121050</th>\n",
              "      <td>1.521072e+09</td>\n",
              "      <td>1.0</td>\n",
              "      <td>0.0</td>\n",
              "      <td>16777216</td>\n",
              "      <td>0</td>\n",
              "    </tr>\n",
              "    <tr>\n",
              "      <th>121051</th>\n",
              "      <td>1.363599e+09</td>\n",
              "      <td>2.0</td>\n",
              "      <td>0.0</td>\n",
              "      <td>16777216</td>\n",
              "      <td>0</td>\n",
              "    </tr>\n",
              "    <tr>\n",
              "      <th>121052</th>\n",
              "      <td>1.521072e+09</td>\n",
              "      <td>1.0</td>\n",
              "      <td>0.0</td>\n",
              "      <td>2097152</td>\n",
              "      <td>0</td>\n",
              "    </tr>\n",
              "  </tbody>\n",
              "</table>\n",
              "<p>121053 rows × 5 columns</p>\n",
              "</div>\n",
              "      <button class=\"colab-df-convert\" onclick=\"convertToInteractive('df-6e928de4-3573-48dc-969f-d69ee07efb56')\"\n",
              "              title=\"Convert this dataframe to an interactive table.\"\n",
              "              style=\"display:none;\">\n",
              "        \n",
              "  <svg xmlns=\"http://www.w3.org/2000/svg\" height=\"24px\"viewBox=\"0 0 24 24\"\n",
              "       width=\"24px\">\n",
              "    <path d=\"M0 0h24v24H0V0z\" fill=\"none\"/>\n",
              "    <path d=\"M18.56 5.44l.94 2.06.94-2.06 2.06-.94-2.06-.94-.94-2.06-.94 2.06-2.06.94zm-11 1L8.5 8.5l.94-2.06 2.06-.94-2.06-.94L8.5 2.5l-.94 2.06-2.06.94zm10 10l.94 2.06.94-2.06 2.06-.94-2.06-.94-.94-2.06-.94 2.06-2.06.94z\"/><path d=\"M17.41 7.96l-1.37-1.37c-.4-.4-.92-.59-1.43-.59-.52 0-1.04.2-1.43.59L10.3 9.45l-7.72 7.72c-.78.78-.78 2.05 0 2.83L4 21.41c.39.39.9.59 1.41.59.51 0 1.02-.2 1.41-.59l7.78-7.78 2.81-2.81c.8-.78.8-2.07 0-2.86zM5.41 20L4 18.59l7.72-7.72 1.47 1.35L5.41 20z\"/>\n",
              "  </svg>\n",
              "      </button>\n",
              "      \n",
              "  <style>\n",
              "    .colab-df-container {\n",
              "      display:flex;\n",
              "      flex-wrap:wrap;\n",
              "      gap: 12px;\n",
              "    }\n",
              "\n",
              "    .colab-df-convert {\n",
              "      background-color: #E8F0FE;\n",
              "      border: none;\n",
              "      border-radius: 50%;\n",
              "      cursor: pointer;\n",
              "      display: none;\n",
              "      fill: #1967D2;\n",
              "      height: 32px;\n",
              "      padding: 0 0 0 0;\n",
              "      width: 32px;\n",
              "    }\n",
              "\n",
              "    .colab-df-convert:hover {\n",
              "      background-color: #E2EBFA;\n",
              "      box-shadow: 0px 1px 2px rgba(60, 64, 67, 0.3), 0px 1px 3px 1px rgba(60, 64, 67, 0.15);\n",
              "      fill: #174EA6;\n",
              "    }\n",
              "\n",
              "    [theme=dark] .colab-df-convert {\n",
              "      background-color: #3B4455;\n",
              "      fill: #D2E3FC;\n",
              "    }\n",
              "\n",
              "    [theme=dark] .colab-df-convert:hover {\n",
              "      background-color: #434B5C;\n",
              "      box-shadow: 0px 1px 3px 1px rgba(0, 0, 0, 0.15);\n",
              "      filter: drop-shadow(0px 1px 2px rgba(0, 0, 0, 0.3));\n",
              "      fill: #FFFFFF;\n",
              "    }\n",
              "  </style>\n",
              "\n",
              "      <script>\n",
              "        const buttonEl =\n",
              "          document.querySelector('#df-6e928de4-3573-48dc-969f-d69ee07efb56 button.colab-df-convert');\n",
              "        buttonEl.style.display =\n",
              "          google.colab.kernel.accessAllowed ? 'block' : 'none';\n",
              "\n",
              "        async function convertToInteractive(key) {\n",
              "          const element = document.querySelector('#df-6e928de4-3573-48dc-969f-d69ee07efb56');\n",
              "          const dataTable =\n",
              "            await google.colab.kernel.invokeFunction('convertToInteractive',\n",
              "                                                     [key], {});\n",
              "          if (!dataTable) return;\n",
              "\n",
              "          const docLinkHtml = 'Like what you see? Visit the ' +\n",
              "            '<a target=\"_blank\" href=https://colab.research.google.com/notebooks/data_table.ipynb>data table notebook</a>'\n",
              "            + ' to learn more about interactive tables.';\n",
              "          element.innerHTML = '';\n",
              "          dataTable['output_type'] = 'display_data';\n",
              "          await google.colab.output.renderOutput(dataTable, element);\n",
              "          const docLink = document.createElement('div');\n",
              "          docLink.innerHTML = docLinkHtml;\n",
              "          element.appendChild(docLink);\n",
              "        }\n",
              "      </script>\n",
              "    </div>\n",
              "  </div>\n",
              "  "
            ],
            "text/plain": [
              "        Most Recent Update  No of Who is Records  \\\n",
              "0             0.000000e+00                   0.0   \n",
              "1             1.586390e+09                   2.0   \n",
              "2             0.000000e+00                   0.0   \n",
              "3             0.000000e+00                   0.0   \n",
              "4             0.000000e+00                   0.0   \n",
              "...                    ...                   ...   \n",
              "121048        1.472602e+09                   1.0   \n",
              "121049        1.488331e+09                   2.0   \n",
              "121050        1.521072e+09                   1.0   \n",
              "121051        1.363599e+09                   2.0   \n",
              "121052        1.521072e+09                   1.0   \n",
              "\n",
              "        data.http.result.response.content_length   netSize  SAN Count  \n",
              "0                                          915.0         0          2  \n",
              "1                                          244.0     65536          2  \n",
              "2                                          915.0         0          0  \n",
              "3                                          915.0         0          0  \n",
              "4                                          915.0         0          2  \n",
              "...                                          ...       ...        ...  \n",
              "121048                                       0.0        16          0  \n",
              "121049                                       0.0  16777216          0  \n",
              "121050                                       0.0  16777216          0  \n",
              "121051                                       0.0  16777216          0  \n",
              "121052                                       0.0   2097152          0  \n",
              "\n",
              "[121053 rows x 5 columns]"
            ]
          },
          "execution_count": 23,
          "metadata": {},
          "output_type": "execute_result"
        }
      ],
      "source": [
        "categoricalDf = df[catfields]\n",
        "df.drop(catfields, axis=1, inplace=True)\n",
        "df"
      ]
    },
    {
      "cell_type": "code",
      "execution_count": null,
      "metadata": {
        "id": "6jA1d4Txk_7G"
      },
      "outputs": [],
      "source": [
        "from sklearn.preprocessing import LabelEncoder\n",
        "import collections\n",
        "#df = df.astype(str).apply(LabelEncoder().fit_transform)"
      ]
    },
    {
      "cell_type": "code",
      "execution_count": null,
      "metadata": {
        "id": "pUCcmKkEmN3Z"
      },
      "outputs": [],
      "source": [
        "encoder_dict = collections.defaultdict(LabelEncoder)\n",
        "categoricalDfEncoded = categoricalDf.astype(str).apply(lambda x: encoder_dict[x.name].fit_transform(x))"
      ]
    },
    {
      "cell_type": "code",
      "execution_count": null,
      "metadata": {
        "id": "V8irsbSwe94U"
      },
      "outputs": [],
      "source": [
        ""
      ]
    },
    {
      "cell_type": "code",
      "execution_count": null,
      "metadata": {
        "id": "pQ415Sm5fOdw"
      },
      "outputs": [],
      "source": [
        "with open('label_encodings','wb') as f:\n",
        "  pickle.dump(encoder_dict,f)"
      ]
    },
    {
      "cell_type": "code",
      "execution_count": null,
      "metadata": {
        "id": "VqwHVNSmfvFS"
      },
      "outputs": [],
      "source": [
        "vendorEncodings = encoder_dict['vendor'].classes_"
      ]
    },
    {
      "cell_type": "code",
      "execution_count": null,
      "metadata": {
        "colab": {
          "base_uri": "https://localhost:8080/",
          "height": 487
        },
        "id": "nWRKXZqSTseX",
        "outputId": "88eade56-f13a-481b-bade-14c1e0bd1427"
      },
      "outputs": [
        {
          "data": {
            "text/html": [
              "\n",
              "  <div id=\"df-0a109f1c-2716-4529-810b-9009728fbefc\">\n",
              "    <div class=\"colab-df-container\">\n",
              "      <div>\n",
              "<style scoped>\n",
              "    .dataframe tbody tr th:only-of-type {\n",
              "        vertical-align: middle;\n",
              "    }\n",
              "\n",
              "    .dataframe tbody tr th {\n",
              "        vertical-align: top;\n",
              "    }\n",
              "\n",
              "    .dataframe thead th {\n",
              "        text-align: right;\n",
              "    }\n",
              "</style>\n",
              "<table border=\"1\" class=\"dataframe\">\n",
              "  <thead>\n",
              "    <tr style=\"text-align: right;\">\n",
              "      <th></th>\n",
              "      <th>netType</th>\n",
              "      <th>data.http.result.response.headers.server</th>\n",
              "      <th>data.http.result.response.status_code</th>\n",
              "      <th>data.http.result.response.headers.connection</th>\n",
              "      <th>data.http.result.response.headers.via</th>\n",
              "      <th>data.http.result.response.headers.accept_ranges</th>\n",
              "      <th>data.http.result.response.headers.cache_control</th>\n",
              "      <th>data.http.result.response.headers.retry_after</th>\n",
              "      <th>data.http.result.response.headers.content_type</th>\n",
              "      <th>data.http.result.response.headers.location</th>\n",
              "      <th>data.http.result.response.headers.etag</th>\n",
              "      <th>as_name</th>\n",
              "      <th>as_no</th>\n",
              "      <th>data.tls.status</th>\n",
              "      <th>data.tls.result.handshake_log.server_certificates.certificate.parsed.issuer.country</th>\n",
              "      <th>data.tls.result.handshake_log.server_certificates.certificate.parsed.issuer.organization</th>\n",
              "      <th>data.tls.result.handshake_log.server_certificates.certificate.parsed.subject.locality</th>\n",
              "      <th>data.tls.result.handshake_log.server_certificates.certificate.parsed.subject.organization</th>\n",
              "      <th>vendor</th>\n",
              "    </tr>\n",
              "  </thead>\n",
              "  <tbody>\n",
              "    <tr>\n",
              "      <th>0</th>\n",
              "      <td>0</td>\n",
              "      <td>65</td>\n",
              "      <td>14</td>\n",
              "      <td>6</td>\n",
              "      <td>1</td>\n",
              "      <td>0</td>\n",
              "      <td>0</td>\n",
              "      <td>0</td>\n",
              "      <td>45</td>\n",
              "      <td>0</td>\n",
              "      <td>0</td>\n",
              "      <td>91</td>\n",
              "      <td>567</td>\n",
              "      <td>2</td>\n",
              "      <td>74</td>\n",
              "      <td>197</td>\n",
              "      <td>221</td>\n",
              "      <td>1531</td>\n",
              "      <td>0</td>\n",
              "    </tr>\n",
              "    <tr>\n",
              "      <th>1</th>\n",
              "      <td>6</td>\n",
              "      <td>358</td>\n",
              "      <td>28</td>\n",
              "      <td>6</td>\n",
              "      <td>1</td>\n",
              "      <td>1</td>\n",
              "      <td>218</td>\n",
              "      <td>1</td>\n",
              "      <td>45</td>\n",
              "      <td>0</td>\n",
              "      <td>0</td>\n",
              "      <td>995</td>\n",
              "      <td>2481</td>\n",
              "      <td>2</td>\n",
              "      <td>30</td>\n",
              "      <td>574</td>\n",
              "      <td>2</td>\n",
              "      <td>9</td>\n",
              "      <td>0</td>\n",
              "    </tr>\n",
              "    <tr>\n",
              "      <th>2</th>\n",
              "      <td>0</td>\n",
              "      <td>65</td>\n",
              "      <td>14</td>\n",
              "      <td>6</td>\n",
              "      <td>1</td>\n",
              "      <td>0</td>\n",
              "      <td>0</td>\n",
              "      <td>0</td>\n",
              "      <td>45</td>\n",
              "      <td>0</td>\n",
              "      <td>0</td>\n",
              "      <td>91</td>\n",
              "      <td>567</td>\n",
              "      <td>3</td>\n",
              "      <td>1</td>\n",
              "      <td>4</td>\n",
              "      <td>2</td>\n",
              "      <td>9</td>\n",
              "      <td>0</td>\n",
              "    </tr>\n",
              "    <tr>\n",
              "      <th>3</th>\n",
              "      <td>0</td>\n",
              "      <td>65</td>\n",
              "      <td>14</td>\n",
              "      <td>6</td>\n",
              "      <td>1</td>\n",
              "      <td>0</td>\n",
              "      <td>0</td>\n",
              "      <td>0</td>\n",
              "      <td>45</td>\n",
              "      <td>0</td>\n",
              "      <td>0</td>\n",
              "      <td>91</td>\n",
              "      <td>567</td>\n",
              "      <td>3</td>\n",
              "      <td>1</td>\n",
              "      <td>4</td>\n",
              "      <td>2</td>\n",
              "      <td>9</td>\n",
              "      <td>0</td>\n",
              "    </tr>\n",
              "    <tr>\n",
              "      <th>4</th>\n",
              "      <td>0</td>\n",
              "      <td>65</td>\n",
              "      <td>14</td>\n",
              "      <td>6</td>\n",
              "      <td>1</td>\n",
              "      <td>0</td>\n",
              "      <td>0</td>\n",
              "      <td>0</td>\n",
              "      <td>45</td>\n",
              "      <td>0</td>\n",
              "      <td>0</td>\n",
              "      <td>91</td>\n",
              "      <td>567</td>\n",
              "      <td>2</td>\n",
              "      <td>74</td>\n",
              "      <td>49</td>\n",
              "      <td>2</td>\n",
              "      <td>9</td>\n",
              "      <td>0</td>\n",
              "    </tr>\n",
              "    <tr>\n",
              "      <th>...</th>\n",
              "      <td>...</td>\n",
              "      <td>...</td>\n",
              "      <td>...</td>\n",
              "      <td>...</td>\n",
              "      <td>...</td>\n",
              "      <td>...</td>\n",
              "      <td>...</td>\n",
              "      <td>...</td>\n",
              "      <td>...</td>\n",
              "      <td>...</td>\n",
              "      <td>...</td>\n",
              "      <td>...</td>\n",
              "      <td>...</td>\n",
              "      <td>...</td>\n",
              "      <td>...</td>\n",
              "      <td>...</td>\n",
              "      <td>...</td>\n",
              "      <td>...</td>\n",
              "      <td>...</td>\n",
              "    </tr>\n",
              "    <tr>\n",
              "      <th>121048</th>\n",
              "      <td>12</td>\n",
              "      <td>1</td>\n",
              "      <td>0</td>\n",
              "      <td>0</td>\n",
              "      <td>0</td>\n",
              "      <td>0</td>\n",
              "      <td>0</td>\n",
              "      <td>0</td>\n",
              "      <td>2</td>\n",
              "      <td>0</td>\n",
              "      <td>0</td>\n",
              "      <td>666</td>\n",
              "      <td>2783</td>\n",
              "      <td>0</td>\n",
              "      <td>1</td>\n",
              "      <td>4</td>\n",
              "      <td>2</td>\n",
              "      <td>9</td>\n",
              "      <td>3</td>\n",
              "    </tr>\n",
              "    <tr>\n",
              "      <th>121049</th>\n",
              "      <td>1</td>\n",
              "      <td>1</td>\n",
              "      <td>0</td>\n",
              "      <td>0</td>\n",
              "      <td>0</td>\n",
              "      <td>0</td>\n",
              "      <td>0</td>\n",
              "      <td>0</td>\n",
              "      <td>2</td>\n",
              "      <td>0</td>\n",
              "      <td>0</td>\n",
              "      <td>470</td>\n",
              "      <td>308</td>\n",
              "      <td>0</td>\n",
              "      <td>1</td>\n",
              "      <td>4</td>\n",
              "      <td>2</td>\n",
              "      <td>9</td>\n",
              "      <td>3</td>\n",
              "    </tr>\n",
              "    <tr>\n",
              "      <th>121050</th>\n",
              "      <td>3</td>\n",
              "      <td>1</td>\n",
              "      <td>0</td>\n",
              "      <td>0</td>\n",
              "      <td>0</td>\n",
              "      <td>0</td>\n",
              "      <td>0</td>\n",
              "      <td>0</td>\n",
              "      <td>2</td>\n",
              "      <td>0</td>\n",
              "      <td>0</td>\n",
              "      <td>712</td>\n",
              "      <td>1496</td>\n",
              "      <td>0</td>\n",
              "      <td>1</td>\n",
              "      <td>4</td>\n",
              "      <td>2</td>\n",
              "      <td>9</td>\n",
              "      <td>3</td>\n",
              "    </tr>\n",
              "    <tr>\n",
              "      <th>121051</th>\n",
              "      <td>1</td>\n",
              "      <td>1</td>\n",
              "      <td>0</td>\n",
              "      <td>0</td>\n",
              "      <td>0</td>\n",
              "      <td>0</td>\n",
              "      <td>0</td>\n",
              "      <td>0</td>\n",
              "      <td>2</td>\n",
              "      <td>0</td>\n",
              "      <td>0</td>\n",
              "      <td>2223</td>\n",
              "      <td>2146</td>\n",
              "      <td>0</td>\n",
              "      <td>1</td>\n",
              "      <td>4</td>\n",
              "      <td>2</td>\n",
              "      <td>9</td>\n",
              "      <td>3</td>\n",
              "    </tr>\n",
              "    <tr>\n",
              "      <th>121052</th>\n",
              "      <td>14</td>\n",
              "      <td>1</td>\n",
              "      <td>0</td>\n",
              "      <td>0</td>\n",
              "      <td>0</td>\n",
              "      <td>0</td>\n",
              "      <td>0</td>\n",
              "      <td>0</td>\n",
              "      <td>2</td>\n",
              "      <td>0</td>\n",
              "      <td>0</td>\n",
              "      <td>2541</td>\n",
              "      <td>1372</td>\n",
              "      <td>0</td>\n",
              "      <td>1</td>\n",
              "      <td>4</td>\n",
              "      <td>2</td>\n",
              "      <td>9</td>\n",
              "      <td>3</td>\n",
              "    </tr>\n",
              "  </tbody>\n",
              "</table>\n",
              "<p>121053 rows × 19 columns</p>\n",
              "</div>\n",
              "      <button class=\"colab-df-convert\" onclick=\"convertToInteractive('df-0a109f1c-2716-4529-810b-9009728fbefc')\"\n",
              "              title=\"Convert this dataframe to an interactive table.\"\n",
              "              style=\"display:none;\">\n",
              "        \n",
              "  <svg xmlns=\"http://www.w3.org/2000/svg\" height=\"24px\"viewBox=\"0 0 24 24\"\n",
              "       width=\"24px\">\n",
              "    <path d=\"M0 0h24v24H0V0z\" fill=\"none\"/>\n",
              "    <path d=\"M18.56 5.44l.94 2.06.94-2.06 2.06-.94-2.06-.94-.94-2.06-.94 2.06-2.06.94zm-11 1L8.5 8.5l.94-2.06 2.06-.94-2.06-.94L8.5 2.5l-.94 2.06-2.06.94zm10 10l.94 2.06.94-2.06 2.06-.94-2.06-.94-.94-2.06-.94 2.06-2.06.94z\"/><path d=\"M17.41 7.96l-1.37-1.37c-.4-.4-.92-.59-1.43-.59-.52 0-1.04.2-1.43.59L10.3 9.45l-7.72 7.72c-.78.78-.78 2.05 0 2.83L4 21.41c.39.39.9.59 1.41.59.51 0 1.02-.2 1.41-.59l7.78-7.78 2.81-2.81c.8-.78.8-2.07 0-2.86zM5.41 20L4 18.59l7.72-7.72 1.47 1.35L5.41 20z\"/>\n",
              "  </svg>\n",
              "      </button>\n",
              "      \n",
              "  <style>\n",
              "    .colab-df-container {\n",
              "      display:flex;\n",
              "      flex-wrap:wrap;\n",
              "      gap: 12px;\n",
              "    }\n",
              "\n",
              "    .colab-df-convert {\n",
              "      background-color: #E8F0FE;\n",
              "      border: none;\n",
              "      border-radius: 50%;\n",
              "      cursor: pointer;\n",
              "      display: none;\n",
              "      fill: #1967D2;\n",
              "      height: 32px;\n",
              "      padding: 0 0 0 0;\n",
              "      width: 32px;\n",
              "    }\n",
              "\n",
              "    .colab-df-convert:hover {\n",
              "      background-color: #E2EBFA;\n",
              "      box-shadow: 0px 1px 2px rgba(60, 64, 67, 0.3), 0px 1px 3px 1px rgba(60, 64, 67, 0.15);\n",
              "      fill: #174EA6;\n",
              "    }\n",
              "\n",
              "    [theme=dark] .colab-df-convert {\n",
              "      background-color: #3B4455;\n",
              "      fill: #D2E3FC;\n",
              "    }\n",
              "\n",
              "    [theme=dark] .colab-df-convert:hover {\n",
              "      background-color: #434B5C;\n",
              "      box-shadow: 0px 1px 3px 1px rgba(0, 0, 0, 0.15);\n",
              "      filter: drop-shadow(0px 1px 2px rgba(0, 0, 0, 0.3));\n",
              "      fill: #FFFFFF;\n",
              "    }\n",
              "  </style>\n",
              "\n",
              "      <script>\n",
              "        const buttonEl =\n",
              "          document.querySelector('#df-0a109f1c-2716-4529-810b-9009728fbefc button.colab-df-convert');\n",
              "        buttonEl.style.display =\n",
              "          google.colab.kernel.accessAllowed ? 'block' : 'none';\n",
              "\n",
              "        async function convertToInteractive(key) {\n",
              "          const element = document.querySelector('#df-0a109f1c-2716-4529-810b-9009728fbefc');\n",
              "          const dataTable =\n",
              "            await google.colab.kernel.invokeFunction('convertToInteractive',\n",
              "                                                     [key], {});\n",
              "          if (!dataTable) return;\n",
              "\n",
              "          const docLinkHtml = 'Like what you see? Visit the ' +\n",
              "            '<a target=\"_blank\" href=https://colab.research.google.com/notebooks/data_table.ipynb>data table notebook</a>'\n",
              "            + ' to learn more about interactive tables.';\n",
              "          element.innerHTML = '';\n",
              "          dataTable['output_type'] = 'display_data';\n",
              "          await google.colab.output.renderOutput(dataTable, element);\n",
              "          const docLink = document.createElement('div');\n",
              "          docLink.innerHTML = docLinkHtml;\n",
              "          element.appendChild(docLink);\n",
              "        }\n",
              "      </script>\n",
              "    </div>\n",
              "  </div>\n",
              "  "
            ],
            "text/plain": [
              "        netType  data.http.result.response.headers.server  \\\n",
              "0             0                                        65   \n",
              "1             6                                       358   \n",
              "2             0                                        65   \n",
              "3             0                                        65   \n",
              "4             0                                        65   \n",
              "...         ...                                       ...   \n",
              "121048       12                                         1   \n",
              "121049        1                                         1   \n",
              "121050        3                                         1   \n",
              "121051        1                                         1   \n",
              "121052       14                                         1   \n",
              "\n",
              "        data.http.result.response.status_code  \\\n",
              "0                                          14   \n",
              "1                                          28   \n",
              "2                                          14   \n",
              "3                                          14   \n",
              "4                                          14   \n",
              "...                                       ...   \n",
              "121048                                      0   \n",
              "121049                                      0   \n",
              "121050                                      0   \n",
              "121051                                      0   \n",
              "121052                                      0   \n",
              "\n",
              "        data.http.result.response.headers.connection  \\\n",
              "0                                                  6   \n",
              "1                                                  6   \n",
              "2                                                  6   \n",
              "3                                                  6   \n",
              "4                                                  6   \n",
              "...                                              ...   \n",
              "121048                                             0   \n",
              "121049                                             0   \n",
              "121050                                             0   \n",
              "121051                                             0   \n",
              "121052                                             0   \n",
              "\n",
              "        data.http.result.response.headers.via  \\\n",
              "0                                           1   \n",
              "1                                           1   \n",
              "2                                           1   \n",
              "3                                           1   \n",
              "4                                           1   \n",
              "...                                       ...   \n",
              "121048                                      0   \n",
              "121049                                      0   \n",
              "121050                                      0   \n",
              "121051                                      0   \n",
              "121052                                      0   \n",
              "\n",
              "        data.http.result.response.headers.accept_ranges  \\\n",
              "0                                                     0   \n",
              "1                                                     1   \n",
              "2                                                     0   \n",
              "3                                                     0   \n",
              "4                                                     0   \n",
              "...                                                 ...   \n",
              "121048                                                0   \n",
              "121049                                                0   \n",
              "121050                                                0   \n",
              "121051                                                0   \n",
              "121052                                                0   \n",
              "\n",
              "        data.http.result.response.headers.cache_control  \\\n",
              "0                                                     0   \n",
              "1                                                   218   \n",
              "2                                                     0   \n",
              "3                                                     0   \n",
              "4                                                     0   \n",
              "...                                                 ...   \n",
              "121048                                                0   \n",
              "121049                                                0   \n",
              "121050                                                0   \n",
              "121051                                                0   \n",
              "121052                                                0   \n",
              "\n",
              "        data.http.result.response.headers.retry_after  \\\n",
              "0                                                   0   \n",
              "1                                                   1   \n",
              "2                                                   0   \n",
              "3                                                   0   \n",
              "4                                                   0   \n",
              "...                                               ...   \n",
              "121048                                              0   \n",
              "121049                                              0   \n",
              "121050                                              0   \n",
              "121051                                              0   \n",
              "121052                                              0   \n",
              "\n",
              "        data.http.result.response.headers.content_type  \\\n",
              "0                                                   45   \n",
              "1                                                   45   \n",
              "2                                                   45   \n",
              "3                                                   45   \n",
              "4                                                   45   \n",
              "...                                                ...   \n",
              "121048                                               2   \n",
              "121049                                               2   \n",
              "121050                                               2   \n",
              "121051                                               2   \n",
              "121052                                               2   \n",
              "\n",
              "        data.http.result.response.headers.location  \\\n",
              "0                                                0   \n",
              "1                                                0   \n",
              "2                                                0   \n",
              "3                                                0   \n",
              "4                                                0   \n",
              "...                                            ...   \n",
              "121048                                           0   \n",
              "121049                                           0   \n",
              "121050                                           0   \n",
              "121051                                           0   \n",
              "121052                                           0   \n",
              "\n",
              "        data.http.result.response.headers.etag  as_name  as_no  \\\n",
              "0                                            0       91    567   \n",
              "1                                            0      995   2481   \n",
              "2                                            0       91    567   \n",
              "3                                            0       91    567   \n",
              "4                                            0       91    567   \n",
              "...                                        ...      ...    ...   \n",
              "121048                                       0      666   2783   \n",
              "121049                                       0      470    308   \n",
              "121050                                       0      712   1496   \n",
              "121051                                       0     2223   2146   \n",
              "121052                                       0     2541   1372   \n",
              "\n",
              "        data.tls.status  \\\n",
              "0                     2   \n",
              "1                     2   \n",
              "2                     3   \n",
              "3                     3   \n",
              "4                     2   \n",
              "...                 ...   \n",
              "121048                0   \n",
              "121049                0   \n",
              "121050                0   \n",
              "121051                0   \n",
              "121052                0   \n",
              "\n",
              "        data.tls.result.handshake_log.server_certificates.certificate.parsed.issuer.country  \\\n",
              "0                                                      74                                     \n",
              "1                                                      30                                     \n",
              "2                                                       1                                     \n",
              "3                                                       1                                     \n",
              "4                                                      74                                     \n",
              "...                                                   ...                                     \n",
              "121048                                                  1                                     \n",
              "121049                                                  1                                     \n",
              "121050                                                  1                                     \n",
              "121051                                                  1                                     \n",
              "121052                                                  1                                     \n",
              "\n",
              "        data.tls.result.handshake_log.server_certificates.certificate.parsed.issuer.organization  \\\n",
              "0                                                     197                                          \n",
              "1                                                     574                                          \n",
              "2                                                       4                                          \n",
              "3                                                       4                                          \n",
              "4                                                      49                                          \n",
              "...                                                   ...                                          \n",
              "121048                                                  4                                          \n",
              "121049                                                  4                                          \n",
              "121050                                                  4                                          \n",
              "121051                                                  4                                          \n",
              "121052                                                  4                                          \n",
              "\n",
              "        data.tls.result.handshake_log.server_certificates.certificate.parsed.subject.locality  \\\n",
              "0                                                     221                                       \n",
              "1                                                       2                                       \n",
              "2                                                       2                                       \n",
              "3                                                       2                                       \n",
              "4                                                       2                                       \n",
              "...                                                   ...                                       \n",
              "121048                                                  2                                       \n",
              "121049                                                  2                                       \n",
              "121050                                                  2                                       \n",
              "121051                                                  2                                       \n",
              "121052                                                  2                                       \n",
              "\n",
              "        data.tls.result.handshake_log.server_certificates.certificate.parsed.subject.organization  \\\n",
              "0                                                    1531                                           \n",
              "1                                                       9                                           \n",
              "2                                                       9                                           \n",
              "3                                                       9                                           \n",
              "4                                                       9                                           \n",
              "...                                                   ...                                           \n",
              "121048                                                  9                                           \n",
              "121049                                                  9                                           \n",
              "121050                                                  9                                           \n",
              "121051                                                  9                                           \n",
              "121052                                                  9                                           \n",
              "\n",
              "        vendor  \n",
              "0            0  \n",
              "1            0  \n",
              "2            0  \n",
              "3            0  \n",
              "4            0  \n",
              "...        ...  \n",
              "121048       3  \n",
              "121049       3  \n",
              "121050       3  \n",
              "121051       3  \n",
              "121052       3  \n",
              "\n",
              "[121053 rows x 19 columns]"
            ]
          },
          "execution_count": 28,
          "metadata": {},
          "output_type": "execute_result"
        }
      ],
      "source": [
        "categoricalDfEncoded"
      ]
    },
    {
      "cell_type": "code",
      "execution_count": null,
      "metadata": {
        "id": "eqao-FORUYS7"
      },
      "outputs": [],
      "source": [
        "df[catfields] = categoricalDfEncoded"
      ]
    },
    {
      "cell_type": "code",
      "execution_count": null,
      "metadata": {
        "id": "vNFy9aDgwsqG"
      },
      "outputs": [],
      "source": [
        "#encoder_dict['as_name'].classes_"
      ]
    },
    {
      "cell_type": "code",
      "execution_count": null,
      "metadata": {
        "id": "TJkf-rJHuyy-"
      },
      "outputs": [],
      "source": [
        "#inverse_transform_lambda = lambda x: encoder_dict[x.name].inverse_transform(x)"
      ]
    },
    {
      "cell_type": "code",
      "execution_count": null,
      "metadata": {
        "id": "VMflVo74u62V"
      },
      "outputs": [],
      "source": [
        "#labeled_df.apply(inverse_transform_lambda)"
      ]
    },
    {
      "cell_type": "code",
      "execution_count": null,
      "metadata": {
        "id": "Dqkwa3YMTlLT"
      },
      "outputs": [],
      "source": [
        ""
      ]
    },
    {
      "cell_type": "code",
      "execution_count": null,
      "metadata": {
        "id": "9zvYlJIWpD5h"
      },
      "outputs": [],
      "source": [
        "#df.corr()"
      ]
    },
    {
      "cell_type": "code",
      "execution_count": null,
      "metadata": {
        "id": "WbpBGmOApNKq"
      },
      "outputs": [],
      "source": [
        "# import matplotlib.pyplot as plt\n",
        "# import seaborn as sns\n",
        "# plt.figure(figsize=(40,40))\n",
        "# cor = df.corr()\n",
        "# sns.heatmap(cor,annot=True)\n",
        "# plt.show()"
      ]
    },
    {
      "cell_type": "code",
      "execution_count": null,
      "metadata": {
        "colab": {
          "base_uri": "https://localhost:8080/"
        },
        "id": "_eqruGVq-g9x",
        "outputId": "6cc742fb-e8df-4696-97bb-57f2370240b0"
      },
      "outputs": [
        {
          "data": {
            "text/plain": [
              "Index(['Most Recent Update', 'No of Who is Records',\n",
              "       'data.http.result.response.content_length', 'netSize', 'SAN Count',\n",
              "       'netType', 'data.http.result.response.headers.server',\n",
              "       'data.http.result.response.status_code',\n",
              "       'data.http.result.response.headers.connection',\n",
              "       'data.http.result.response.headers.via',\n",
              "       'data.http.result.response.headers.accept_ranges',\n",
              "       'data.http.result.response.headers.cache_control',\n",
              "       'data.http.result.response.headers.retry_after',\n",
              "       'data.http.result.response.headers.content_type',\n",
              "       'data.http.result.response.headers.location',\n",
              "       'data.http.result.response.headers.etag', 'as_name', 'as_no',\n",
              "       'data.tls.status',\n",
              "       'data.tls.result.handshake_log.server_certificates.certificate.parsed.issuer.country',\n",
              "       'data.tls.result.handshake_log.server_certificates.certificate.parsed.issuer.organization',\n",
              "       'data.tls.result.handshake_log.server_certificates.certificate.parsed.subject.locality',\n",
              "       'data.tls.result.handshake_log.server_certificates.certificate.parsed.subject.organization',\n",
              "       'vendor'],\n",
              "      dtype='object')"
            ]
          },
          "execution_count": 35,
          "metadata": {},
          "output_type": "execute_result"
        }
      ],
      "source": [
        "df.columns"
      ]
    },
    {
      "cell_type": "code",
      "execution_count": null,
      "metadata": {
        "id": "bW0nQJ3hphCX"
      },
      "outputs": [],
      "source": [
        "from sklearn.ensemble import RandomForestClassifier\n",
        "from sklearn.model_selection import train_test_split\n",
        "from sklearn.ensemble import RandomForestRegressor"
      ]
    },
    {
      "cell_type": "code",
      "execution_count": null,
      "metadata": {
        "id": "z4XntewYtd95"
      },
      "outputs": [],
      "source": [
        "vendor_encoded = df['vendor'].values"
      ]
    },
    {
      "cell_type": "code",
      "execution_count": null,
      "metadata": {
        "id": "JkDABE3fsED7"
      },
      "outputs": [],
      "source": [
        "df = df.drop(['vendor'],axis=1)"
      ]
    },
    {
      "cell_type": "code",
      "execution_count": null,
      "metadata": {
        "id": "9G05eQ1eSULE"
      },
      "outputs": [],
      "source": [
        "from imblearn.over_sampling import RandomOverSampler\n",
        "ros = RandomOverSampler(random_state=0)\n",
        "X_resampled, y_resampled = ros.fit_resample(df, vendor_encoded)"
      ]
    },
    {
      "cell_type": "code",
      "execution_count": null,
      "metadata": {
        "id": "JtO-VC765RYp"
      },
      "outputs": [],
      "source": [
        "fields = df.columns.values"
      ]
    },
    {
      "cell_type": "code",
      "execution_count": null,
      "metadata": {
        "id": "FOvxTJ--pxqY"
      },
      "outputs": [],
      "source": [
        "#X_train, X_test, y_train, y_test = train_test_split(X_resampled, y_resampled, test_size=0.3, random_state=42)"
      ]
    },
    {
      "cell_type": "code",
      "execution_count": null,
      "metadata": {
        "id": "Kh84u78kepYV"
      },
      "outputs": [],
      "source": [
        "X_train, X_test, y_train, y_test = train_test_split(X_resampled,y_resampled,test_size=0.3,random_state=42)\n",
        "x_Eval, X_test, y_Eval, y_test = train_test_split(X_test,y_test,test_size = 0.33,random_state=42)"
      ]
    },
    {
      "cell_type": "code",
      "execution_count": null,
      "metadata": {
        "colab": {
          "base_uri": "https://localhost:8080/",
          "height": 522
        },
        "id": "UPyDxSLSzsnq",
        "outputId": "d47dae46-e0f0-4d7e-e62a-3a6765214a63"
      },
      "outputs": [
        {
          "data": {
            "text/html": [
              "\n",
              "  <div id=\"df-25b78895-ba18-4e58-ac69-f1cd0c3229b4\">\n",
              "    <div class=\"colab-df-container\">\n",
              "      <div>\n",
              "<style scoped>\n",
              "    .dataframe tbody tr th:only-of-type {\n",
              "        vertical-align: middle;\n",
              "    }\n",
              "\n",
              "    .dataframe tbody tr th {\n",
              "        vertical-align: top;\n",
              "    }\n",
              "\n",
              "    .dataframe thead th {\n",
              "        text-align: right;\n",
              "    }\n",
              "</style>\n",
              "<table border=\"1\" class=\"dataframe\">\n",
              "  <thead>\n",
              "    <tr style=\"text-align: right;\">\n",
              "      <th></th>\n",
              "      <th>Most Recent Update</th>\n",
              "      <th>No of Who is Records</th>\n",
              "      <th>data.http.result.response.content_length</th>\n",
              "      <th>netSize</th>\n",
              "      <th>SAN Count</th>\n",
              "      <th>netType</th>\n",
              "      <th>data.http.result.response.headers.server</th>\n",
              "      <th>data.http.result.response.status_code</th>\n",
              "      <th>data.http.result.response.headers.connection</th>\n",
              "      <th>data.http.result.response.headers.via</th>\n",
              "      <th>...</th>\n",
              "      <th>data.http.result.response.headers.content_type</th>\n",
              "      <th>data.http.result.response.headers.location</th>\n",
              "      <th>data.http.result.response.headers.etag</th>\n",
              "      <th>as_name</th>\n",
              "      <th>as_no</th>\n",
              "      <th>data.tls.status</th>\n",
              "      <th>data.tls.result.handshake_log.server_certificates.certificate.parsed.issuer.country</th>\n",
              "      <th>data.tls.result.handshake_log.server_certificates.certificate.parsed.issuer.organization</th>\n",
              "      <th>data.tls.result.handshake_log.server_certificates.certificate.parsed.subject.locality</th>\n",
              "      <th>data.tls.result.handshake_log.server_certificates.certificate.parsed.subject.organization</th>\n",
              "    </tr>\n",
              "  </thead>\n",
              "  <tbody>\n",
              "    <tr>\n",
              "      <th>27822</th>\n",
              "      <td>1.586218e+09</td>\n",
              "      <td>4.0</td>\n",
              "      <td>915.0</td>\n",
              "      <td>131072</td>\n",
              "      <td>0</td>\n",
              "      <td>12</td>\n",
              "      <td>65</td>\n",
              "      <td>14</td>\n",
              "      <td>6</td>\n",
              "      <td>1</td>\n",
              "      <td>...</td>\n",
              "      <td>45</td>\n",
              "      <td>0</td>\n",
              "      <td>0</td>\n",
              "      <td>91</td>\n",
              "      <td>567</td>\n",
              "      <td>3</td>\n",
              "      <td>1</td>\n",
              "      <td>4</td>\n",
              "      <td>2</td>\n",
              "      <td>9</td>\n",
              "    </tr>\n",
              "    <tr>\n",
              "      <th>85202</th>\n",
              "      <td>0.000000e+00</td>\n",
              "      <td>0.0</td>\n",
              "      <td>163.0</td>\n",
              "      <td>0</td>\n",
              "      <td>2</td>\n",
              "      <td>0</td>\n",
              "      <td>33</td>\n",
              "      <td>2</td>\n",
              "      <td>0</td>\n",
              "      <td>0</td>\n",
              "      <td>...</td>\n",
              "      <td>45</td>\n",
              "      <td>0</td>\n",
              "      <td>0</td>\n",
              "      <td>1186</td>\n",
              "      <td>2483</td>\n",
              "      <td>2</td>\n",
              "      <td>74</td>\n",
              "      <td>744</td>\n",
              "      <td>2</td>\n",
              "      <td>9</td>\n",
              "    </tr>\n",
              "    <tr>\n",
              "      <th>42217</th>\n",
              "      <td>0.000000e+00</td>\n",
              "      <td>0.0</td>\n",
              "      <td>146.0</td>\n",
              "      <td>0</td>\n",
              "      <td>1</td>\n",
              "      <td>0</td>\n",
              "      <td>1</td>\n",
              "      <td>15</td>\n",
              "      <td>6</td>\n",
              "      <td>0</td>\n",
              "      <td>...</td>\n",
              "      <td>45</td>\n",
              "      <td>0</td>\n",
              "      <td>0</td>\n",
              "      <td>92</td>\n",
              "      <td>518</td>\n",
              "      <td>2</td>\n",
              "      <td>1</td>\n",
              "      <td>31</td>\n",
              "      <td>2</td>\n",
              "      <td>107</td>\n",
              "    </tr>\n",
              "    <tr>\n",
              "      <th>119958</th>\n",
              "      <td>0.000000e+00</td>\n",
              "      <td>0.0</td>\n",
              "      <td>0.0</td>\n",
              "      <td>0</td>\n",
              "      <td>0</td>\n",
              "      <td>0</td>\n",
              "      <td>1</td>\n",
              "      <td>0</td>\n",
              "      <td>0</td>\n",
              "      <td>0</td>\n",
              "      <td>...</td>\n",
              "      <td>2</td>\n",
              "      <td>0</td>\n",
              "      <td>0</td>\n",
              "      <td>2675</td>\n",
              "      <td>1389</td>\n",
              "      <td>0</td>\n",
              "      <td>1</td>\n",
              "      <td>4</td>\n",
              "      <td>2</td>\n",
              "      <td>9</td>\n",
              "    </tr>\n",
              "    <tr>\n",
              "      <th>37678</th>\n",
              "      <td>1.001151e+09</td>\n",
              "      <td>1.0</td>\n",
              "      <td>178.0</td>\n",
              "      <td>0</td>\n",
              "      <td>4</td>\n",
              "      <td>0</td>\n",
              "      <td>536</td>\n",
              "      <td>6</td>\n",
              "      <td>6</td>\n",
              "      <td>0</td>\n",
              "      <td>...</td>\n",
              "      <td>45</td>\n",
              "      <td>1</td>\n",
              "      <td>0</td>\n",
              "      <td>836</td>\n",
              "      <td>470</td>\n",
              "      <td>2</td>\n",
              "      <td>30</td>\n",
              "      <td>574</td>\n",
              "      <td>2</td>\n",
              "      <td>9</td>\n",
              "    </tr>\n",
              "    <tr>\n",
              "      <th>...</th>\n",
              "      <td>...</td>\n",
              "      <td>...</td>\n",
              "      <td>...</td>\n",
              "      <td>...</td>\n",
              "      <td>...</td>\n",
              "      <td>...</td>\n",
              "      <td>...</td>\n",
              "      <td>...</td>\n",
              "      <td>...</td>\n",
              "      <td>...</td>\n",
              "      <td>...</td>\n",
              "      <td>...</td>\n",
              "      <td>...</td>\n",
              "      <td>...</td>\n",
              "      <td>...</td>\n",
              "      <td>...</td>\n",
              "      <td>...</td>\n",
              "      <td>...</td>\n",
              "      <td>...</td>\n",
              "      <td>...</td>\n",
              "      <td>...</td>\n",
              "    </tr>\n",
              "    <tr>\n",
              "      <th>119879</th>\n",
              "      <td>1.490683e+09</td>\n",
              "      <td>2.0</td>\n",
              "      <td>0.0</td>\n",
              "      <td>16777216</td>\n",
              "      <td>0</td>\n",
              "      <td>1</td>\n",
              "      <td>1</td>\n",
              "      <td>0</td>\n",
              "      <td>0</td>\n",
              "      <td>0</td>\n",
              "      <td>...</td>\n",
              "      <td>2</td>\n",
              "      <td>0</td>\n",
              "      <td>0</td>\n",
              "      <td>1477</td>\n",
              "      <td>2233</td>\n",
              "      <td>0</td>\n",
              "      <td>1</td>\n",
              "      <td>4</td>\n",
              "      <td>2</td>\n",
              "      <td>9</td>\n",
              "    </tr>\n",
              "    <tr>\n",
              "      <th>103694</th>\n",
              "      <td>0.000000e+00</td>\n",
              "      <td>0.0</td>\n",
              "      <td>39.0</td>\n",
              "      <td>0</td>\n",
              "      <td>2</td>\n",
              "      <td>0</td>\n",
              "      <td>1</td>\n",
              "      <td>11</td>\n",
              "      <td>6</td>\n",
              "      <td>0</td>\n",
              "      <td>...</td>\n",
              "      <td>75</td>\n",
              "      <td>0</td>\n",
              "      <td>0</td>\n",
              "      <td>92</td>\n",
              "      <td>518</td>\n",
              "      <td>2</td>\n",
              "      <td>74</td>\n",
              "      <td>197</td>\n",
              "      <td>792</td>\n",
              "      <td>1465</td>\n",
              "    </tr>\n",
              "    <tr>\n",
              "      <th>131932</th>\n",
              "      <td>1.521072e+09</td>\n",
              "      <td>1.0</td>\n",
              "      <td>0.0</td>\n",
              "      <td>65536</td>\n",
              "      <td>0</td>\n",
              "      <td>14</td>\n",
              "      <td>1</td>\n",
              "      <td>0</td>\n",
              "      <td>0</td>\n",
              "      <td>0</td>\n",
              "      <td>...</td>\n",
              "      <td>2</td>\n",
              "      <td>0</td>\n",
              "      <td>0</td>\n",
              "      <td>1857</td>\n",
              "      <td>1223</td>\n",
              "      <td>0</td>\n",
              "      <td>1</td>\n",
              "      <td>4</td>\n",
              "      <td>2</td>\n",
              "      <td>9</td>\n",
              "    </tr>\n",
              "    <tr>\n",
              "      <th>146867</th>\n",
              "      <td>1.585613e+09</td>\n",
              "      <td>1.0</td>\n",
              "      <td>134.0</td>\n",
              "      <td>8388608</td>\n",
              "      <td>1</td>\n",
              "      <td>5</td>\n",
              "      <td>446</td>\n",
              "      <td>6</td>\n",
              "      <td>6</td>\n",
              "      <td>0</td>\n",
              "      <td>...</td>\n",
              "      <td>45</td>\n",
              "      <td>1</td>\n",
              "      <td>0</td>\n",
              "      <td>92</td>\n",
              "      <td>518</td>\n",
              "      <td>2</td>\n",
              "      <td>74</td>\n",
              "      <td>49</td>\n",
              "      <td>2</td>\n",
              "      <td>9</td>\n",
              "    </tr>\n",
              "    <tr>\n",
              "      <th>121958</th>\n",
              "      <td>1.571297e+09</td>\n",
              "      <td>2.0</td>\n",
              "      <td>0.0</td>\n",
              "      <td>16777216</td>\n",
              "      <td>0</td>\n",
              "      <td>1</td>\n",
              "      <td>1</td>\n",
              "      <td>0</td>\n",
              "      <td>0</td>\n",
              "      <td>0</td>\n",
              "      <td>...</td>\n",
              "      <td>2</td>\n",
              "      <td>0</td>\n",
              "      <td>0</td>\n",
              "      <td>2161</td>\n",
              "      <td>184</td>\n",
              "      <td>0</td>\n",
              "      <td>1</td>\n",
              "      <td>4</td>\n",
              "      <td>2</td>\n",
              "      <td>9</td>\n",
              "    </tr>\n",
              "  </tbody>\n",
              "</table>\n",
              "<p>105000 rows × 23 columns</p>\n",
              "</div>\n",
              "      <button class=\"colab-df-convert\" onclick=\"convertToInteractive('df-25b78895-ba18-4e58-ac69-f1cd0c3229b4')\"\n",
              "              title=\"Convert this dataframe to an interactive table.\"\n",
              "              style=\"display:none;\">\n",
              "        \n",
              "  <svg xmlns=\"http://www.w3.org/2000/svg\" height=\"24px\"viewBox=\"0 0 24 24\"\n",
              "       width=\"24px\">\n",
              "    <path d=\"M0 0h24v24H0V0z\" fill=\"none\"/>\n",
              "    <path d=\"M18.56 5.44l.94 2.06.94-2.06 2.06-.94-2.06-.94-.94-2.06-.94 2.06-2.06.94zm-11 1L8.5 8.5l.94-2.06 2.06-.94-2.06-.94L8.5 2.5l-.94 2.06-2.06.94zm10 10l.94 2.06.94-2.06 2.06-.94-2.06-.94-.94-2.06-.94 2.06-2.06.94z\"/><path d=\"M17.41 7.96l-1.37-1.37c-.4-.4-.92-.59-1.43-.59-.52 0-1.04.2-1.43.59L10.3 9.45l-7.72 7.72c-.78.78-.78 2.05 0 2.83L4 21.41c.39.39.9.59 1.41.59.51 0 1.02-.2 1.41-.59l7.78-7.78 2.81-2.81c.8-.78.8-2.07 0-2.86zM5.41 20L4 18.59l7.72-7.72 1.47 1.35L5.41 20z\"/>\n",
              "  </svg>\n",
              "      </button>\n",
              "      \n",
              "  <style>\n",
              "    .colab-df-container {\n",
              "      display:flex;\n",
              "      flex-wrap:wrap;\n",
              "      gap: 12px;\n",
              "    }\n",
              "\n",
              "    .colab-df-convert {\n",
              "      background-color: #E8F0FE;\n",
              "      border: none;\n",
              "      border-radius: 50%;\n",
              "      cursor: pointer;\n",
              "      display: none;\n",
              "      fill: #1967D2;\n",
              "      height: 32px;\n",
              "      padding: 0 0 0 0;\n",
              "      width: 32px;\n",
              "    }\n",
              "\n",
              "    .colab-df-convert:hover {\n",
              "      background-color: #E2EBFA;\n",
              "      box-shadow: 0px 1px 2px rgba(60, 64, 67, 0.3), 0px 1px 3px 1px rgba(60, 64, 67, 0.15);\n",
              "      fill: #174EA6;\n",
              "    }\n",
              "\n",
              "    [theme=dark] .colab-df-convert {\n",
              "      background-color: #3B4455;\n",
              "      fill: #D2E3FC;\n",
              "    }\n",
              "\n",
              "    [theme=dark] .colab-df-convert:hover {\n",
              "      background-color: #434B5C;\n",
              "      box-shadow: 0px 1px 3px 1px rgba(0, 0, 0, 0.15);\n",
              "      filter: drop-shadow(0px 1px 2px rgba(0, 0, 0, 0.3));\n",
              "      fill: #FFFFFF;\n",
              "    }\n",
              "  </style>\n",
              "\n",
              "      <script>\n",
              "        const buttonEl =\n",
              "          document.querySelector('#df-25b78895-ba18-4e58-ac69-f1cd0c3229b4 button.colab-df-convert');\n",
              "        buttonEl.style.display =\n",
              "          google.colab.kernel.accessAllowed ? 'block' : 'none';\n",
              "\n",
              "        async function convertToInteractive(key) {\n",
              "          const element = document.querySelector('#df-25b78895-ba18-4e58-ac69-f1cd0c3229b4');\n",
              "          const dataTable =\n",
              "            await google.colab.kernel.invokeFunction('convertToInteractive',\n",
              "                                                     [key], {});\n",
              "          if (!dataTable) return;\n",
              "\n",
              "          const docLinkHtml = 'Like what you see? Visit the ' +\n",
              "            '<a target=\"_blank\" href=https://colab.research.google.com/notebooks/data_table.ipynb>data table notebook</a>'\n",
              "            + ' to learn more about interactive tables.';\n",
              "          element.innerHTML = '';\n",
              "          dataTable['output_type'] = 'display_data';\n",
              "          await google.colab.output.renderOutput(dataTable, element);\n",
              "          const docLink = document.createElement('div');\n",
              "          docLink.innerHTML = docLinkHtml;\n",
              "          element.appendChild(docLink);\n",
              "        }\n",
              "      </script>\n",
              "    </div>\n",
              "  </div>\n",
              "  "
            ],
            "text/plain": [
              "        Most Recent Update  No of Who is Records  \\\n",
              "27822         1.586218e+09                   4.0   \n",
              "85202         0.000000e+00                   0.0   \n",
              "42217         0.000000e+00                   0.0   \n",
              "119958        0.000000e+00                   0.0   \n",
              "37678         1.001151e+09                   1.0   \n",
              "...                    ...                   ...   \n",
              "119879        1.490683e+09                   2.0   \n",
              "103694        0.000000e+00                   0.0   \n",
              "131932        1.521072e+09                   1.0   \n",
              "146867        1.585613e+09                   1.0   \n",
              "121958        1.571297e+09                   2.0   \n",
              "\n",
              "        data.http.result.response.content_length   netSize  SAN Count  \\\n",
              "27822                                      915.0    131072          0   \n",
              "85202                                      163.0         0          2   \n",
              "42217                                      146.0         0          1   \n",
              "119958                                       0.0         0          0   \n",
              "37678                                      178.0         0          4   \n",
              "...                                          ...       ...        ...   \n",
              "119879                                       0.0  16777216          0   \n",
              "103694                                      39.0         0          2   \n",
              "131932                                       0.0     65536          0   \n",
              "146867                                     134.0   8388608          1   \n",
              "121958                                       0.0  16777216          0   \n",
              "\n",
              "        netType  data.http.result.response.headers.server  \\\n",
              "27822        12                                        65   \n",
              "85202         0                                        33   \n",
              "42217         0                                         1   \n",
              "119958        0                                         1   \n",
              "37678         0                                       536   \n",
              "...         ...                                       ...   \n",
              "119879        1                                         1   \n",
              "103694        0                                         1   \n",
              "131932       14                                         1   \n",
              "146867        5                                       446   \n",
              "121958        1                                         1   \n",
              "\n",
              "        data.http.result.response.status_code  \\\n",
              "27822                                      14   \n",
              "85202                                       2   \n",
              "42217                                      15   \n",
              "119958                                      0   \n",
              "37678                                       6   \n",
              "...                                       ...   \n",
              "119879                                      0   \n",
              "103694                                     11   \n",
              "131932                                      0   \n",
              "146867                                      6   \n",
              "121958                                      0   \n",
              "\n",
              "        data.http.result.response.headers.connection  \\\n",
              "27822                                              6   \n",
              "85202                                              0   \n",
              "42217                                              6   \n",
              "119958                                             0   \n",
              "37678                                              6   \n",
              "...                                              ...   \n",
              "119879                                             0   \n",
              "103694                                             6   \n",
              "131932                                             0   \n",
              "146867                                             6   \n",
              "121958                                             0   \n",
              "\n",
              "        data.http.result.response.headers.via  ...  \\\n",
              "27822                                       1  ...   \n",
              "85202                                       0  ...   \n",
              "42217                                       0  ...   \n",
              "119958                                      0  ...   \n",
              "37678                                       0  ...   \n",
              "...                                       ...  ...   \n",
              "119879                                      0  ...   \n",
              "103694                                      0  ...   \n",
              "131932                                      0  ...   \n",
              "146867                                      0  ...   \n",
              "121958                                      0  ...   \n",
              "\n",
              "        data.http.result.response.headers.content_type  \\\n",
              "27822                                               45   \n",
              "85202                                               45   \n",
              "42217                                               45   \n",
              "119958                                               2   \n",
              "37678                                               45   \n",
              "...                                                ...   \n",
              "119879                                               2   \n",
              "103694                                              75   \n",
              "131932                                               2   \n",
              "146867                                              45   \n",
              "121958                                               2   \n",
              "\n",
              "        data.http.result.response.headers.location  \\\n",
              "27822                                            0   \n",
              "85202                                            0   \n",
              "42217                                            0   \n",
              "119958                                           0   \n",
              "37678                                            1   \n",
              "...                                            ...   \n",
              "119879                                           0   \n",
              "103694                                           0   \n",
              "131932                                           0   \n",
              "146867                                           1   \n",
              "121958                                           0   \n",
              "\n",
              "        data.http.result.response.headers.etag  as_name  as_no  \\\n",
              "27822                                        0       91    567   \n",
              "85202                                        0     1186   2483   \n",
              "42217                                        0       92    518   \n",
              "119958                                       0     2675   1389   \n",
              "37678                                        0      836    470   \n",
              "...                                        ...      ...    ...   \n",
              "119879                                       0     1477   2233   \n",
              "103694                                       0       92    518   \n",
              "131932                                       0     1857   1223   \n",
              "146867                                       0       92    518   \n",
              "121958                                       0     2161    184   \n",
              "\n",
              "        data.tls.status  \\\n",
              "27822                 3   \n",
              "85202                 2   \n",
              "42217                 2   \n",
              "119958                0   \n",
              "37678                 2   \n",
              "...                 ...   \n",
              "119879                0   \n",
              "103694                2   \n",
              "131932                0   \n",
              "146867                2   \n",
              "121958                0   \n",
              "\n",
              "        data.tls.result.handshake_log.server_certificates.certificate.parsed.issuer.country  \\\n",
              "27822                                                   1                                     \n",
              "85202                                                  74                                     \n",
              "42217                                                   1                                     \n",
              "119958                                                  1                                     \n",
              "37678                                                  30                                     \n",
              "...                                                   ...                                     \n",
              "119879                                                  1                                     \n",
              "103694                                                 74                                     \n",
              "131932                                                  1                                     \n",
              "146867                                                 74                                     \n",
              "121958                                                  1                                     \n",
              "\n",
              "        data.tls.result.handshake_log.server_certificates.certificate.parsed.issuer.organization  \\\n",
              "27822                                                   4                                          \n",
              "85202                                                 744                                          \n",
              "42217                                                  31                                          \n",
              "119958                                                  4                                          \n",
              "37678                                                 574                                          \n",
              "...                                                   ...                                          \n",
              "119879                                                  4                                          \n",
              "103694                                                197                                          \n",
              "131932                                                  4                                          \n",
              "146867                                                 49                                          \n",
              "121958                                                  4                                          \n",
              "\n",
              "        data.tls.result.handshake_log.server_certificates.certificate.parsed.subject.locality  \\\n",
              "27822                                                   2                                       \n",
              "85202                                                   2                                       \n",
              "42217                                                   2                                       \n",
              "119958                                                  2                                       \n",
              "37678                                                   2                                       \n",
              "...                                                   ...                                       \n",
              "119879                                                  2                                       \n",
              "103694                                                792                                       \n",
              "131932                                                  2                                       \n",
              "146867                                                  2                                       \n",
              "121958                                                  2                                       \n",
              "\n",
              "        data.tls.result.handshake_log.server_certificates.certificate.parsed.subject.organization  \n",
              "27822                                                   9                                          \n",
              "85202                                                   9                                          \n",
              "42217                                                 107                                          \n",
              "119958                                                  9                                          \n",
              "37678                                                   9                                          \n",
              "...                                                   ...                                          \n",
              "119879                                                  9                                          \n",
              "103694                                               1465                                          \n",
              "131932                                                  9                                          \n",
              "146867                                                  9                                          \n",
              "121958                                                  9                                          \n",
              "\n",
              "[105000 rows x 23 columns]"
            ]
          },
          "execution_count": 43,
          "metadata": {},
          "output_type": "execute_result"
        }
      ],
      "source": [
        "X_train"
      ]
    },
    {
      "cell_type": "code",
      "execution_count": null,
      "metadata": {
        "id": "8mkRp0KJp1Ci"
      },
      "outputs": [],
      "source": [
        "clf = RandomForestClassifier(\n",
        "      n_estimators = 500,\n",
        "      min_samples_split = 2, \n",
        "      min_samples_leaf = 1,\n",
        "      max_features ='sqrt',\n",
        "      max_depth = 15, \n",
        "      bootstrap = False\n",
        ")\n",
        "clf.fit(X_train, y_train) \n",
        "y_pred = clf.predict(X_test)"
      ]
    },
    {
      "cell_type": "code",
      "execution_count": null,
      "metadata": {
        "colab": {
          "base_uri": "https://localhost:8080/"
        },
        "id": "qoWaQ_d8Fx-P",
        "outputId": "c2865e7c-3064-4b68-a209-015648533628"
      },
      "outputs": [
        {
          "name": "stdout",
          "output_type": "stream",
          "text": [
            "[[2975    0    0    0    3]\n",
            " [  10 2442    0    0  549]\n",
            " [   0    0 2970    2    1]\n",
            " [   0   14    3 2900    3]\n",
            " [   7  169    3    2 2797]]\n",
            "              precision    recall  f1-score   support\n",
            "\n",
            "           0       0.99      1.00      1.00      2978\n",
            "           1       0.93      0.81      0.87      3001\n",
            "           2       1.00      1.00      1.00      2973\n",
            "           3       1.00      0.99      1.00      2920\n",
            "           4       0.83      0.94      0.88      2978\n",
            "\n",
            "    accuracy                           0.95     14850\n",
            "   macro avg       0.95      0.95      0.95     14850\n",
            "weighted avg       0.95      0.95      0.95     14850\n",
            "\n",
            "0.9484175084175084\n"
          ]
        }
      ],
      "source": [
        "from sklearn.metrics import classification_report,confusion_matrix,accuracy_score\n",
        "print(confusion_matrix(y_test,y_pred))\n",
        "print(classification_report(y_test,y_pred))\n",
        "print(accuracy_score(y_test,y_pred))"
      ]
    },
    {
      "cell_type": "code",
      "execution_count": null,
      "metadata": {
        "id": "r9FeyD_JFPTI"
      },
      "outputs": [],
      "source": [
        "y_pred = clf.predict(x_Eval)"
      ]
    },
    {
      "cell_type": "code",
      "execution_count": null,
      "metadata": {
        "colab": {
          "base_uri": "https://localhost:8080/"
        },
        "id": "enHrUK_TWwKR",
        "outputId": "76b9000c-568c-4dc0-8f9d-a01ae68985f1"
      },
      "outputs": [
        {
          "data": {
            "text/plain": [
              "array(['cdn', 'cloud', 'hosting', 'proxy', 'vpn'], dtype=object)"
            ]
          },
          "execution_count": 47,
          "metadata": {},
          "output_type": "execute_result"
        }
      ],
      "source": [
        "vendorEncodings"
      ]
    },
    {
      "cell_type": "code",
      "execution_count": null,
      "metadata": {
        "colab": {
          "base_uri": "https://localhost:8080/"
        },
        "id": "crz7m3yzE_Jd",
        "outputId": "a30a25cc-43e3-4aab-e6b7-e720e8a624a2"
      },
      "outputs": [
        {
          "name": "stdout",
          "output_type": "stream",
          "text": [
            "[[5934    1    0    0    4]\n",
            " [  31 4824    1    1 1191]\n",
            " [   0    0 5974    2    0]\n",
            " [   3   29   10 5999   11]\n",
            " [  23  345    2    2 5763]]\n",
            "              precision    recall  f1-score   support\n",
            "\n",
            "           0       0.99      1.00      0.99      5939\n",
            "           1       0.93      0.80      0.86      6048\n",
            "           2       1.00      1.00      1.00      5976\n",
            "           3       1.00      0.99      1.00      6052\n",
            "           4       0.83      0.94      0.88      6135\n",
            "\n",
            "    accuracy                           0.95     30150\n",
            "   macro avg       0.95      0.95      0.95     30150\n",
            "weighted avg       0.95      0.95      0.94     30150\n",
            "\n",
            "0.9450746268656717\n"
          ]
        }
      ],
      "source": [
        "from sklearn.metrics import classification_report,confusion_matrix,accuracy_score\n",
        "print(confusion_matrix(y_Eval,y_pred))\n",
        "print(classification_report(y_Eval,y_pred))\n",
        "print(accuracy_score(y_Eval,y_pred))"
      ]
    },
    {
      "cell_type": "code",
      "execution_count": null,
      "metadata": {
        "colab": {
          "base_uri": "https://localhost:8080/",
          "height": 351
        },
        "id": "lvPL7WXZUaxm",
        "outputId": "d0169bae-9c07-49c9-f3ae-092b089ebac4"
      },
      "outputs": [
        {
          "name": "stderr",
          "output_type": "stream",
          "text": [
            "/usr/local/lib/python3.7/dist-packages/sklearn/utils/deprecation.py:87: FutureWarning: Function plot_confusion_matrix is deprecated; Function `plot_confusion_matrix` is deprecated in 1.0 and will be removed in 1.2. Use one of the class methods: ConfusionMatrixDisplay.from_predictions or ConfusionMatrixDisplay.from_estimator.\n",
            "  warnings.warn(msg, category=FutureWarning)\n"
          ]
        },
        {
          "data": {
            "text/plain": [
              "<sklearn.metrics._plot.confusion_matrix.ConfusionMatrixDisplay at 0x7f3b029382d0>"
            ]
          },
          "execution_count": 49,
          "metadata": {},
          "output_type": "execute_result"
        },
        {
          "data": {
            "image/png": "[encoded data removed]",
            "text/plain": [
              "<Figure size 432x288 with 2 Axes>"
            ]
          },
          "metadata": {},
          "output_type": "display_data"
        }
      ],
      "source": [
        "from sklearn.metrics import plot_confusion_matrix\n",
        "plot_confusion_matrix(clf, x_Eval, y_Eval)  "
      ]
    },
    {
      "cell_type": "code",
      "execution_count": null,
      "metadata": {
        "colab": {
          "base_uri": "https://localhost:8080/"
        },
        "id": "KXREWp2qRljs",
        "outputId": "a77eaae1-aed8-4344-ed4c-8f3dab588e0b"
      },
      "outputs": [
        {
          "data": {
            "text/plain": [
              "['rndfrst.joblib']"
            ]
          },
          "execution_count": 50,
          "metadata": {},
          "output_type": "execute_result"
        }
      ],
      "source": [
        "from joblib import dump, load\n",
        "dump(clf, 'rndfrst.joblib') "
      ]
    },
    {
      "cell_type": "code",
      "execution_count": null,
      "metadata": {
        "colab": {
          "base_uri": "https://localhost:8080/",
          "height": 1000
        },
        "id": "CzF1MWJCp3Nv",
        "outputId": "23546735-c376-446d-9cdb-4f005745772c"
      },
      "outputs": [
        {
          "data": {
            "image/png": "[encoded data removed]",
            "text/plain": [
              "<Figure size 720x1440 with 1 Axes>"
            ]
          },
          "metadata": {},
          "output_type": "display_data"
        }
      ],
      "source": [
        "featureImportance(clf)"
      ]
    },
    {
      "cell_type": "code",
      "execution_count": null,
      "metadata": {
        "colab": {
          "base_uri": "https://localhost:8080/",
          "height": 351
        },
        "id": "znHmpqp3iu9o",
        "outputId": "ed8041a6-ab51-46d8-dc31-ecc15d244375"
      },
      "outputs": [
        {
          "name": "stderr",
          "output_type": "stream",
          "text": [
            "/usr/local/lib/python3.7/dist-packages/sklearn/utils/deprecation.py:87: FutureWarning: Function plot_confusion_matrix is deprecated; Function `plot_confusion_matrix` is deprecated in 1.0 and will be removed in 1.2. Use one of the class methods: ConfusionMatrixDisplay.from_predictions or ConfusionMatrixDisplay.from_estimator.\n",
            "  warnings.warn(msg, category=FutureWarning)\n"
          ]
        },
        {
          "data": {
            "text/plain": [
              "<sklearn.metrics._plot.confusion_matrix.ConfusionMatrixDisplay at 0x7f3afedeb490>"
            ]
          },
          "execution_count": 52,
          "metadata": {},
          "output_type": "execute_result"
        },
        {
          "data": {
            "image/png": "[encoded data removed]",
            "text/plain": [
              "<Figure size 432x288 with 2 Axes>"
            ]
          },
          "metadata": {},
          "output_type": "display_data"
        }
      ],
      "source": [
        "from sklearn.metrics import plot_confusion_matrix\n",
        "plot_confusion_matrix(clf, X_test, y_test)  "
      ]
    },
    {
      "cell_type": "code",
      "execution_count": null,
      "metadata": {
        "colab": {
          "base_uri": "https://localhost:8080/",
          "height": 448
        },
        "id": "fVKSehNSZpwJ",
        "outputId": "a79857b0-c0fb-4dd7-d686-0c6585b38558"
      },
      "outputs": [
        {
          "name": "stderr",
          "output_type": "stream",
          "text": [
            "/usr/local/lib/python3.7/dist-packages/sklearn/base.py:451: UserWarning: X does not have valid feature names, but RandomForestClassifier was fitted with feature names\n",
            "  \"X does not have valid feature names, but\"\n"
          ]
        },
        {
          "data": {
            "image/png": "[encoded data removed]",
            "text/plain": [
              "<Figure size 576x396 with 1 Axes>"
            ]
          },
          "metadata": {},
          "output_type": "display_data"
        },
        {
          "data": {
            "text/plain": [
              "<matplotlib.axes._subplots.AxesSubplot at 0x7f3b02454ed0>"
            ]
          },
          "execution_count": 53,
          "metadata": {},
          "output_type": "execute_result"
        }
      ],
      "source": [
        "from yellowbrick.classifier import ROCAUC\n",
        "visualizer = ROCAUC(clf, classes=vendorEncodings)\n",
        "\n",
        "visualizer.fit(X_train.values, y_train)        # Fit the training data to the visualizer\n",
        "visualizer.score(X_test, y_test)        # Evaluate the model on the test data\n",
        "visualizer.show()       "
      ]
    },
    {
      "cell_type": "code",
      "execution_count": null,
      "metadata": {
        "colab": {
          "base_uri": "https://localhost:8080/",
          "height": 394
        },
        "id": "P6hDSUrGZpKM",
        "outputId": "bc7240ad-5992-4b17-d342-7f0ac728b9d6"
      },
      "outputs": [
        {
          "data": {
            "image/png": "[encoded data removed]",
            "text/plain": [
              "<Figure size 576x396 with 1 Axes>"
            ]
          },
          "metadata": {},
          "output_type": "display_data"
        },
        {
          "data": {
            "text/plain": [
              "<matplotlib.axes._subplots.AxesSubplot at 0x7f3b01ea4ad0>"
            ]
          },
          "execution_count": 54,
          "metadata": {},
          "output_type": "execute_result"
        }
      ],
      "source": [
        "from yellowbrick.classifier import PrecisionRecallCurve\n",
        "viz = PrecisionRecallCurve(clf,per_class=True,cmap=\"Set1\",micro=False,classes=vendorEncodings)\n",
        "viz.fit(X_train, y_train)\n",
        "viz.score(X_test, y_test)\n",
        "viz.show()"
      ]
    },
    {
      "cell_type": "code",
      "execution_count": null,
      "metadata": {
        "id": "1-sW_6UFT0-N"
      },
      "outputs": [],
      "source": [
        "# from yellowbrick.classifier import ROCAUC\n",
        "# visualizer = ROCAUC(neigh, classes=vendorEncodings)\n",
        "\n",
        "# visualizer.fit(X_train.values, y_train)        # Fit the training data to the visualizer\n",
        "# visualizer.score(X_test, y_test)        # Evaluate the model on the test data\n",
        "# visualizer.show()"
      ]
    },
    {
      "cell_type": "code",
      "execution_count": null,
      "metadata": {
        "colab": {
          "base_uri": "https://localhost:8080/"
        },
        "id": "MAcIYiXc7UQr",
        "outputId": "c328783b-f10c-4dba-cad7-1aceec3ff326"
      },
      "outputs": [
        {
          "name": "stdout",
          "output_type": "stream",
          "text": [
            "0.9043097643097643\n"
          ]
        }
      ],
      "source": [
        "from sklearn.neighbors import KNeighborsClassifier\n",
        "neigh = KNeighborsClassifier(n_neighbors=2)\n",
        "neigh.fit(X_train, y_train)\n",
        "y_pred = neigh.predict(X_test)\n",
        "print(neigh.score(X_test, y_test))"
      ]
    },
    {
      "cell_type": "code",
      "execution_count": null,
      "metadata": {
        "colab": {
          "base_uri": "https://localhost:8080/"
        },
        "id": "b70XZ6zSF8DD",
        "outputId": "90f7b062-ba0e-40c6-9b66-6a54284cd875"
      },
      "outputs": [
        {
          "name": "stdout",
          "output_type": "stream",
          "text": [
            "[[2965    5    2    2    4]\n",
            " [  36 2653   22   20  270]\n",
            " [   6   26 2897   34   10]\n",
            " [   3   35   35 2830   17]\n",
            " [  17  745   54   78 2084]]\n",
            "              precision    recall  f1-score   support\n",
            "\n",
            "           0       0.98      1.00      0.99      2978\n",
            "           1       0.77      0.88      0.82      3001\n",
            "           2       0.96      0.97      0.97      2973\n",
            "           3       0.95      0.97      0.96      2920\n",
            "           4       0.87      0.70      0.78      2978\n",
            "\n",
            "    accuracy                           0.90     14850\n",
            "   macro avg       0.91      0.90      0.90     14850\n",
            "weighted avg       0.91      0.90      0.90     14850\n",
            "\n",
            "0.9043097643097643\n"
          ]
        }
      ],
      "source": [
        "from sklearn.metrics import classification_report,confusion_matrix,accuracy_score\n",
        "print(confusion_matrix(y_test,y_pred))\n",
        "print(classification_report(y_test,y_pred))\n",
        "print(accuracy_score(y_test,y_pred))"
      ]
    },
    {
      "cell_type": "code",
      "execution_count": null,
      "metadata": {
        "colab": {
          "base_uri": "https://localhost:8080/"
        },
        "id": "aUzyicXZIMQ3",
        "outputId": "4c1e84c5-9fb9-46f2-e6bb-874c7fe8693e"
      },
      "outputs": [
        {
          "data": {
            "text/plain": [
              "['neigh.joblib']"
            ]
          },
          "execution_count": 58,
          "metadata": {},
          "output_type": "execute_result"
        }
      ],
      "source": [
        "from joblib import dump, load\n",
        "dump(neigh, 'neigh.joblib') "
      ]
    },
    {
      "cell_type": "code",
      "execution_count": null,
      "metadata": {
        "colab": {
          "base_uri": "https://localhost:8080/",
          "height": 448
        },
        "id": "5_PracJmtnF7",
        "outputId": "c72da64a-8456-480a-c6b5-9af58bfd45a9"
      },
      "outputs": [
        {
          "name": "stderr",
          "output_type": "stream",
          "text": [
            "/usr/local/lib/python3.7/dist-packages/sklearn/base.py:451: UserWarning: X does not have valid feature names, but KNeighborsClassifier was fitted with feature names\n",
            "  \"X does not have valid feature names, but\"\n"
          ]
        },
        {
          "data": {
            "image/png": "[encoded data removed]",
            "text/plain": [
              "<Figure size 576x396 with 1 Axes>"
            ]
          },
          "metadata": {},
          "output_type": "display_data"
        },
        {
          "data": {
            "text/plain": [
              "<matplotlib.axes._subplots.AxesSubplot at 0x7f3b02994690>"
            ]
          },
          "execution_count": 59,
          "metadata": {},
          "output_type": "execute_result"
        }
      ],
      "source": [
        "from yellowbrick.classifier import ROCAUC\n",
        "visualizer = ROCAUC(neigh, classes=vendorEncodings)\n",
        "\n",
        "visualizer.fit(X_train.values, y_train)        # Fit the training data to the visualizer\n",
        "visualizer.score(X_test, y_test)        # Evaluate the model on the test data\n",
        "visualizer.show()       "
      ]
    },
    {
      "cell_type": "code",
      "execution_count": null,
      "metadata": {
        "colab": {
          "base_uri": "https://localhost:8080/",
          "height": 394
        },
        "id": "JfR_epBfz8Cl",
        "outputId": "c2a0a4e5-8989-41c8-b225-98769e7a7071"
      },
      "outputs": [
        {
          "data": {
            "image/png": "[encoded data removed]",
            "text/plain": [
              "<Figure size 576x396 with 1 Axes>"
            ]
          },
          "metadata": {},
          "output_type": "display_data"
        },
        {
          "data": {
            "text/plain": [
              "<matplotlib.axes._subplots.AxesSubplot at 0x7f3b02906710>"
            ]
          },
          "execution_count": 60,
          "metadata": {},
          "output_type": "execute_result"
        }
      ],
      "source": [
        "from yellowbrick.classifier import PrecisionRecallCurve\n",
        "viz = PrecisionRecallCurve(neigh,per_class=True,cmap=\"Set1\",micro=False,classes=vendorEncodings)\n",
        "viz.fit(X_train, y_train)\n",
        "viz.score(X_test, y_test)\n",
        "viz.show()"
      ]
    },
    {
      "cell_type": "code",
      "execution_count": null,
      "metadata": {
        "id": "iiJGl8R27XIS"
      },
      "outputs": [],
      "source": [
        "# from sklearn.svm import SVC\n",
        "# SVM_MODEL = SVC(gamma='auto')\n",
        "# SVM_MODEL.fit(X_train, y_train)\n",
        "# y_pred = SVM_MODEL.predict(X_test)"
      ]
    },
    {
      "cell_type": "code",
      "execution_count": null,
      "metadata": {
        "id": "R4ALw7cQmnzu"
      },
      "outputs": [],
      "source": [
        "# from sklearn.metrics import classification_report,confusion_matrix,accuracy_score\n",
        "# print(confusion_matrix(y_test,y_pred))\n",
        "# print(classification_report(y_test,y_pred))\n",
        "# print(accuracy_score(y_test,y_pred))"
      ]
    },
    {
      "cell_type": "code",
      "execution_count": null,
      "metadata": {
        "id": "l3sY2KWaOnvc"
      },
      "outputs": [],
      "source": [
        "# importance = model.feature_importances_\n",
        "\n",
        "# importancelist = []\n",
        "# for i,v in enumerate(importance):\n",
        "#  \timportancelist.append([df.columns[i],v])\n",
        "\n",
        "# importantdf = pd.DataFrame(importancelist)\n",
        "# importantdf.columns = ['Feature','Importance']\n",
        "# ax = importantdf.plot.barh(x='Feature', y='Importance', rot=0,figsize=(10,20))"
      ]
    },
    {
      "cell_type": "code",
      "execution_count": null,
      "metadata": {
        "colab": {
          "base_uri": "https://localhost:8080/"
        },
        "id": "52Wqr99Iu39v",
        "outputId": "bed2c322-1a04-42a2-a521-c43ab4124459"
      },
      "outputs": [
        {
          "data": {
            "text/plain": [
              "array(['cdn', 'cloud', 'hosting', 'proxy', 'vpn'], dtype=object)"
            ]
          },
          "execution_count": 64,
          "metadata": {},
          "output_type": "execute_result"
        }
      ],
      "source": [
        "vendorEncodings"
      ]
    },
    {
      "cell_type": "code",
      "execution_count": null,
      "metadata": {
        "id": "UwKWWjAzPkil"
      },
      "outputs": [],
      "source": [
        "from sklearn.linear_model import LogisticRegression\n",
        "clf = LogisticRegression(random_state=123,max_iter=200000).fit(X_train, y_train)\n",
        "y_pred = clf.predict(X_test)"
      ]
    },
    {
      "cell_type": "code",
      "execution_count": null,
      "metadata": {
        "colab": {
          "base_uri": "https://localhost:8080/"
        },
        "id": "tDEtMJb8uIoQ",
        "outputId": "089b73e6-63f3-4223-a133-c075993455e7"
      },
      "outputs": [
        {
          "name": "stdout",
          "output_type": "stream",
          "text": [
            "[[ 937  149 1867   25    0]\n",
            " [ 108  743 1486   48  616]\n",
            " [   6    1 2957    9    0]\n",
            " [  23   84 1166 1637   10]\n",
            " [ 100  181 1456  636  605]]\n",
            "              precision    recall  f1-score   support\n",
            "\n",
            "           0       0.80      0.31      0.45      2978\n",
            "           1       0.64      0.25      0.36      3001\n",
            "           2       0.33      0.99      0.50      2973\n",
            "           3       0.70      0.56      0.62      2920\n",
            "           4       0.49      0.20      0.29      2978\n",
            "\n",
            "    accuracy                           0.46     14850\n",
            "   macro avg       0.59      0.46      0.44     14850\n",
            "weighted avg       0.59      0.46      0.44     14850\n",
            "\n",
            "0.4632323232323232\n"
          ]
        }
      ],
      "source": [
        "from sklearn.metrics import classification_report,confusion_matrix,accuracy_score\n",
        "print(confusion_matrix(y_test,y_pred))\n",
        "print(classification_report(y_test,y_pred))\n",
        "print(accuracy_score(y_test,y_pred))"
      ]
    },
    {
      "cell_type": "code",
      "execution_count": null,
      "metadata": {
        "id": "eA95TDFyRNJd"
      },
      "outputs": [],
      "source": [
        "from sklearn.naive_bayes import GaussianNB\n",
        "gnb = GaussianNB()\n",
        "y_pred = gnb.fit(X_train, y_train).predict(X_test)"
      ]
    },
    {
      "cell_type": "code",
      "execution_count": null,
      "metadata": {
        "colab": {
          "base_uri": "https://localhost:8080/"
        },
        "id": "vSyS8VTguLw0",
        "outputId": "ccdc2948-d510-4e4f-9343-24770635e5cc"
      },
      "outputs": [
        {
          "name": "stdout",
          "output_type": "stream",
          "text": [
            "[[1471   12 1469   25    1]\n",
            " [ 673  852 1291  182    3]\n",
            " [ 291    0 2672    9    1]\n",
            " [ 679   37  558 1643    3]\n",
            " [ 500  189 1058 1227    4]]\n",
            "              precision    recall  f1-score   support\n",
            "\n",
            "           0       0.41      0.49      0.45      2978\n",
            "           1       0.78      0.28      0.42      3001\n",
            "           2       0.38      0.90      0.53      2973\n",
            "           3       0.53      0.56      0.55      2920\n",
            "           4       0.33      0.00      0.00      2978\n",
            "\n",
            "    accuracy                           0.45     14850\n",
            "   macro avg       0.49      0.45      0.39     14850\n",
            "weighted avg       0.49      0.45      0.39     14850\n",
            "\n",
            "0.44727272727272727\n"
          ]
        }
      ],
      "source": [
        "print(confusion_matrix(y_test,y_pred))\n",
        "print(classification_report(y_test,y_pred))\n",
        "print(accuracy_score(y_test,y_pred))"
      ]
    },
    {
      "cell_type": "code",
      "execution_count": null,
      "metadata": {
        "colab": {
          "base_uri": "https://localhost:8080/"
        },
        "id": "wl3yV2P5SXQN",
        "outputId": "d132fee6-21c7-4a32-d1f4-c43a50a9467a"
      },
      "outputs": [
        {
          "name": "stdout",
          "output_type": "stream",
          "text": [
            "0.9481481481481482\n"
          ]
        }
      ],
      "source": [
        "from sklearn.ensemble import GradientBoostingClassifier\n",
        "clf = GradientBoostingClassifier(n_estimators=300, learning_rate=0.5,\n",
        "max_depth=2, random_state=0,).fit(X_train, y_train)\n",
        "print(clf.score(X_test, y_test))\n",
        "y_pred = clf.predict(X_test)"
      ]
    },
    {
      "cell_type": "code",
      "execution_count": null,
      "metadata": {
        "colab": {
          "base_uri": "https://localhost:8080/"
        },
        "id": "rCK9PVWnuQJe",
        "outputId": "7497a00f-9afd-46b5-ecfb-0e103d505547"
      },
      "outputs": [
        {
          "name": "stdout",
          "output_type": "stream",
          "text": [
            "[[2974    1    0    0    3]\n",
            " [   6 2482    0    0  513]\n",
            " [   0    0 2972    1    0]\n",
            " [   0   14    0 2903    3]\n",
            " [   7  220    0    2 2749]]\n",
            "              precision    recall  f1-score   support\n",
            "\n",
            "           0       1.00      1.00      1.00      2978\n",
            "           1       0.91      0.83      0.87      3001\n",
            "           2       1.00      1.00      1.00      2973\n",
            "           3       1.00      0.99      1.00      2920\n",
            "           4       0.84      0.92      0.88      2978\n",
            "\n",
            "    accuracy                           0.95     14850\n",
            "   macro avg       0.95      0.95      0.95     14850\n",
            "weighted avg       0.95      0.95      0.95     14850\n",
            "\n",
            "0.9481481481481482\n"
          ]
        }
      ],
      "source": [
        "print(confusion_matrix(y_test,y_pred))\n",
        "print(classification_report(y_test,y_pred))\n",
        "print(accuracy_score(y_test,y_pred))"
      ]
    },
    {
      "cell_type": "code",
      "execution_count": null,
      "metadata": {
        "colab": {
          "base_uri": "https://localhost:8080/",
          "height": 1000
        },
        "id": "2iZhpuCKPDbE",
        "outputId": "bc6464f0-4ed1-42b7-f82c-6af101498b22"
      },
      "outputs": [
        {
          "data": {
            "image/png": "[encoded data removed]",
            "text/plain": [
              "<Figure size 720x1440 with 1 Axes>"
            ]
          },
          "metadata": {},
          "output_type": "display_data"
        }
      ],
      "source": [
        "featureImportance(clf)"
      ]
    },
    {
      "cell_type": "code",
      "execution_count": null,
      "metadata": {
        "colab": {
          "base_uri": "https://localhost:8080/"
        },
        "id": "fU-YjCZqPIIS",
        "outputId": "3ddb0821-bbb8-4ec5-dd99-e9ea856bc008"
      },
      "outputs": [
        {
          "data": {
            "text/plain": [
              "['clf.joblib']"
            ]
          },
          "execution_count": 72,
          "metadata": {},
          "output_type": "execute_result"
        }
      ],
      "source": [
        "from joblib import dump, load\n",
        "dump(clf, 'clf.joblib') "
      ]
    },
    {
      "cell_type": "code",
      "execution_count": null,
      "metadata": {
        "id": "nWEfsp3zaonB"
      },
      "outputs": [],
      "source": [
        ""
      ]
    },
    {
      "cell_type": "code",
      "execution_count": null,
      "metadata": {
        "colab": {
          "background_save": true
        },
        "id": "1ay0hP-qmJHd",
        "outputId": "d9e208ba-7a11-4615-f023-af54e82d0f7d"
      },
      "outputs": [
        {
          "data": {
            "text/plain": [
              "SVC(gamma='auto')"
            ]
          },
          "execution_count": null,
          "metadata": {},
          "output_type": "execute_result"
        }
      ],
      "source": [
        "from sklearn.svm import SVC\n",
        "SVM_MODEL = SVC(gamma='auto')\n",
        "SVM_MODEL.fit(X_train, y_train)"
      ]
    },
    {
      "cell_type": "code",
      "execution_count": null,
      "metadata": {
        "colab": {
          "background_save": true
        },
        "id": "U08uUTf_mLC_",
        "outputId": "a748886a-ce98-4f77-90b2-882b5b9e48c9"
      },
      "outputs": [
        {
          "name": "stdout",
          "output_type": "stream",
          "text": [
            "[[2974    1    0    0    3]\n",
            " [   6 2482    0    0  513]\n",
            " [   0    0 2972    1    0]\n",
            " [   0   14    0 2903    3]\n",
            " [   7  220    0    2 2749]]\n",
            "              precision    recall  f1-score   support\n",
            "\n",
            "           0       1.00      1.00      1.00      2978\n",
            "           1       0.91      0.83      0.87      3001\n",
            "           2       1.00      1.00      1.00      2973\n",
            "           3       1.00      0.99      1.00      2920\n",
            "           4       0.84      0.92      0.88      2978\n",
            "\n",
            "    accuracy                           0.95     14850\n",
            "   macro avg       0.95      0.95      0.95     14850\n",
            "weighted avg       0.95      0.95      0.95     14850\n",
            "\n",
            "0.9481481481481482\n"
          ]
        }
      ],
      "source": [
        "from sklearn.metrics import classification_report,confusion_matrix,accuracy_score\n",
        "print(confusion_matrix(y_test,y_pred))\n",
        "print(classification_report(y_test,y_pred))\n",
        "print(accuracy_score(y_test,y_pred))"
      ]
    },
    {
      "cell_type": "code",
      "execution_count": null,
      "metadata": {
        "colab": {
          "background_save": true
        },
        "id": "t4Lf_UqJSmo5"
      },
      "outputs": [],
      "source": [
        "from sklearn.model_selection import RandomizedSearchCV\n",
        "\n",
        "parameters = {\n",
        "              'max_depth':[10,11,12,15],\n",
        "              'n_estimators':[200,500,1000],\n",
        "              'max_features' : ['auto', 'sqrt'],\n",
        "              'min_samples_split' : [2, 5, 10],\n",
        "              'min_samples_leaf':  [1, 2, 4],\n",
        "              'bootstrap': [True, False]\n",
        "             }\n",
        "\n",
        "rfc = RandomForestClassifier()\n",
        "clf = RandomizedSearchCV(rfc, parameters, cv=5, return_train_score=True)\n",
        "clf.fit(X_train, y_train)"
      ]
    },
    {
      "cell_type": "code",
      "execution_count": null,
      "metadata": {
        "colab": {
          "background_save": true
        },
        "id": "gi3VJ4Ge-E-F"
      },
      "outputs": [],
      "source": [
        "clfresults = pd.DataFrame(clf.cv_results_)\n",
        "clfresults.to_csv('RDFGridSearchResults.csv',index=False)"
      ]
    },
    {
      "cell_type": "code",
      "execution_count": null,
      "metadata": {
        "colab": {
          "background_save": true
        },
        "id": "-zQNhRmf2-pf"
      },
      "outputs": [],
      "source": [
        "clfresults"
      ]
    },
    {
      "cell_type": "code",
      "execution_count": null,
      "metadata": {
        "colab": {
          "background_save": true
        },
        "id": "tKuSV97NoVVA"
      },
      "outputs": [],
      "source": [
        "clfresults"
      ]
    },
    {
      "cell_type": "code",
      "execution_count": null,
      "metadata": {
        "colab": {
          "background_save": true
        },
        "id": "fmcHtp1L-XMr"
      },
      "outputs": [],
      "source": [
        "!cp   /content/RDFGridSearchResults.csv /content/drive/MyDrive/RDFGridSearchResults.csv"
      ]
    }
  ],
  "metadata": {
    "colab": {
      "collapsed_sections": [],
      "name": "Model Save Feature Check.ipynb",
      "provenance": []
    },
    "kernelspec": {
      "display_name": "Python 3",
      "name": "python3"
    },
    "language_info": {
      "name": "python"
    }
  },
  "nbformat": 4,
  "nbformat_minor": 0
}