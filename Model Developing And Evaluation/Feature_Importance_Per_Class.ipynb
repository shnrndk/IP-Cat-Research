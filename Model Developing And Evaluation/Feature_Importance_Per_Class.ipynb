{
  "cells": [
    {
      "cell_type": "code",
      "execution_count": null,
      "metadata": {
        "id": "fgw7T-4hX8AR"
      },
      "outputs": [],
      "source": [
        "import pandas as pd\n",
        "import matplotlib.pyplot as plt\n",
        "import numpy as np\n",
        "from sklearn import preprocessing\n",
        "le = preprocessing.LabelEncoder()\n",
        "import math \n",
        "from ast import literal_eval\n",
        "import pickle"
      ]
    },
    {
      "cell_type": "code",
      "execution_count": null,
      "metadata": {
        "id": "CxfA0b8DY_h9",
        "colab": {
          "base_uri": "https://localhost:8080/"
        },
        "outputId": "510160b3-449e-4a2f-d412-80ae832071a4"
      },
      "outputs": [
        {
          "output_type": "stream",
          "name": "stdout",
          "text": [
            "Mounted at /content/drive\n"
          ]
        }
      ],
      "source": [
        "from google.colab import drive\n",
        "drive.mount('/content/drive')"
      ]
    },
    {
      "cell_type": "code",
      "execution_count": null,
      "metadata": {
        "id": "iesv91TgZC27"
      },
      "outputs": [],
      "source": [
        "!cp  /content/drive/MyDrive/Updated_Dateset_v5.zip /content/"
      ]
    },
    {
      "cell_type": "code",
      "execution_count": null,
      "metadata": {
        "colab": {
          "base_uri": "https://localhost:8080/"
        },
        "id": "-oPfaWAKaTho",
        "outputId": "20535610-933c-45f8-b321-44cbdbd25549"
      },
      "outputs": [
        {
          "output_type": "stream",
          "name": "stdout",
          "text": [
            "Archive:  Updated_Dateset_v5.zip\n",
            "  inflating: cdn_final_final.csv     \n",
            "  inflating: cloud_final_final.csv   \n",
            "  inflating: hosting_final_final.csv  \n",
            "  inflating: proxy_final_final.csv   \n",
            "  inflating: vpn_final_final.csv     \n"
          ]
        }
      ],
      "source": [
        "!unzip  Updated_Dateset_v5.zip"
      ]
    },
    {
      "cell_type": "code",
      "source": [
        "vendorname = 'hosting'\n",
        "samplesize = 30000"
      ],
      "metadata": {
        "id": "Fpj1sjbYfHMd"
      },
      "execution_count": null,
      "outputs": []
    },
    {
      "cell_type": "code",
      "execution_count": null,
      "metadata": {
        "colab": {
          "base_uri": "https://localhost:8080/"
        },
        "id": "O_EYS5ZkZEfH",
        "outputId": "9f45f26c-b824-41d4-cc64-a5a683fb9fe0"
      },
      "outputs": [
        {
          "output_type": "stream",
          "name": "stderr",
          "text": [
            "/usr/local/lib/python3.7/dist-packages/IPython/core/interactiveshell.py:2882: DtypeWarning: Columns (25) have mixed types.Specify dtype option on import or set low_memory=False.\n",
            "  exec(code_obj, self.user_global_ns, self.user_ns)\n",
            "/usr/local/lib/python3.7/dist-packages/IPython/core/interactiveshell.py:2882: DtypeWarning: Columns (31) have mixed types.Specify dtype option on import or set low_memory=False.\n",
            "  exec(code_obj, self.user_global_ns, self.user_ns)\n"
          ]
        }
      ],
      "source": [
        "sample_size = 30000\n",
        "df = pd.read_csv('cdn_final_final.csv')\n",
        "#df['vendor']= ['cdn' for x in range(df.shape[0])]\n",
        "df = df.sample(n = sample_size)\n",
        "df1 = pd.read_csv('cloud_final_final.csv')\n",
        "#df1['vendor']= ['cloud' for x in range(df1.shape[0])]\n",
        "df1 = df1.sample(n = sample_size)\n",
        "df2 = pd.read_csv('hosting_final_final.csv')\n",
        "#df2['vendor']= ['hosting' for x in range(df2.shape[0])]\n",
        "df2 = df2.sample(n = sample_size)\n",
        "df3 = pd.read_csv('vpn_final_final.csv')\n",
        "#df3['vendor']= ['vpn' for x in range(df3.shape[0])]\n",
        "#df3 = df3.sample(n = 15000)\n",
        "df4 = pd.read_csv('proxy_final_final.csv')\n",
        "#df4 = df4.sample(n = 9200)\n",
        "\n",
        "df = df.append([df1,df2,df3,df4],ignore_index=True)"
      ]
    },
    {
      "cell_type": "code",
      "source": [
        "df['data.http.result.response.headers.content_type.0'].count()"
      ],
      "metadata": {
        "colab": {
          "base_uri": "https://localhost:8080/"
        },
        "id": "vtc6ZUTKMeh8",
        "outputId": "ce5d00d5-b23c-4c12-bfc1-e7ccad50c53b"
      },
      "execution_count": null,
      "outputs": [
        {
          "output_type": "execute_result",
          "data": {
            "text/plain": [
              "91905"
            ]
          },
          "metadata": {},
          "execution_count": 371
        }
      ]
    },
    {
      "cell_type": "code",
      "source": [
        "df['data.http.result.response.headers.connection.0'].count()"
      ],
      "metadata": {
        "colab": {
          "base_uri": "https://localhost:8080/"
        },
        "id": "eb4E9dmdMtGZ",
        "outputId": "e65d547d-babc-4dee-8195-47a49e936c81"
      },
      "execution_count": null,
      "outputs": [
        {
          "output_type": "execute_result",
          "data": {
            "text/plain": [
              "64654"
            ]
          },
          "metadata": {},
          "execution_count": 372
        }
      ]
    },
    {
      "cell_type": "code",
      "source": [
        "df.columns"
      ],
      "metadata": {
        "colab": {
          "base_uri": "https://localhost:8080/"
        },
        "id": "QyUE8peM-qcJ",
        "outputId": "5cb34620-caca-4671-816d-a9e8b5589189"
      },
      "execution_count": null,
      "outputs": [
        {
          "output_type": "execute_result",
          "data": {
            "text/plain": [
              "Index(['ip', 'No Of Owners', 'CIDR', 'netType', 'Organization',\n",
              "       'Most Recent Update', 'No of Who is Records',\n",
              "       'data.http.result.response.headers.server.0',\n",
              "       'data.http.result.response.status_code',\n",
              "       'data.http.result.response.headers.unknown.0.key',\n",
              "       'data.http.result.response.headers.unknown.0.value.0',\n",
              "       'data.http.result.response.headers.connection.0',\n",
              "       'data.http.result.response.headers.via.0',\n",
              "       'data.http.result.response.headers.unknown.1.key',\n",
              "       'data.http.result.response.headers.unknown.1.value.0',\n",
              "       'data.http.result.response.headers.accept_ranges.0',\n",
              "       'data.http.result.response.headers.cache_control.0',\n",
              "       'data.http.result.response.headers.retry_after.0',\n",
              "       'data.http.result.response.body',\n",
              "       'data.http.result.response.body_sha256',\n",
              "       'data.http.result.response.content_length',\n",
              "       'data.http.result.response.headers.content_type.0',\n",
              "       'data.http.result.response.headers.location.0',\n",
              "       'data.http.result.redirect_response_chain.0.status_line',\n",
              "       'data.http.result.response.headers.etag.0',\n",
              "       'data.http.result.response.headers.last_modified.0',\n",
              "       'data.http.result.response.headers.vary.0',\n",
              "       'data.http.result.response.transfer_encoding.0',\n",
              "       'data.http.result.response.headers.x_powered_by.0',\n",
              "       'data.http.result.response.headers.pragma.0',\n",
              "       'data.http.result.redirect_response_chain.0.headers.server.0',\n",
              "       'as_name', 'as_no', 'data.tls.status',\n",
              "       'data.tls.result.handshake_log.server_certificates.certificate.parsed.issuer.common_name',\n",
              "       'data.tls.result.handshake_log.server_certificates.certificate.parsed.issuer.country',\n",
              "       'data.tls.result.handshake_log.server_certificates.certificate.parsed.issuer.organization',\n",
              "       'data.tls.result.handshake_log.server_certificates.certificate.parsed.issuer_dn',\n",
              "       'data.tls.result.handshake_log.server_certificates.certificate.parsed.subject.common_name',\n",
              "       'data.tls.result.handshake_log.server_certificates.certificate.parsed.subject.country',\n",
              "       'data.tls.result.handshake_log.server_certificates.certificate.parsed.subject.locality',\n",
              "       'data.tls.result.handshake_log.server_certificates.certificate.parsed.subject.province',\n",
              "       'data.tls.result.handshake_log.server_certificates.certificate.parsed.subject.organization',\n",
              "       'data.tls.result.handshake_log.server_certificates.certificate.parsed.subject_dn',\n",
              "       'data.tls.result.handshake_log.server_certificates.certificate.parsed.extensions.subject_alt_name.dns_names',\n",
              "       'vendor', 'Unnamed: 0_y'],\n",
              "      dtype='object')"
            ]
          },
          "metadata": {},
          "execution_count": 373
        }
      ]
    },
    {
      "cell_type": "code",
      "source": [
        "renameDict = {\n",
        "       'data.http.result.response.headers.server.0':'data.http.result.response.headers.server',\n",
        "       'data.http.result.response.headers.connection.0':'data.http.result.response.headers.connection',\n",
        "       'data.http.result.response.headers.via.0':'data.http.result.response.headers.via',\n",
        "       'data.http.result.response.headers.accept_ranges.0': 'data.http.result.response.headers.accept_ranges',\n",
        "       'data.http.result.response.headers.cache_control.0':'data.http.result.response.headers.cache_control',\n",
        "       'data.http.result.response.headers.retry_after.0':'data.http.result.response.headers.retry_after',\n",
        "       'data.http.result.response.headers.content_type.0':'data.http.result.response.headers.content_type',\n",
        "       'data.http.result.response.headers.location.0': 'data.http.result.response.headers.location',\n",
        "       'data.http.result.redirect_response_chain.0.status_line':'data.http.result.redirect_response_chain.status_line',\n",
        "       'data.http.result.response.headers.etag.0':'data.http.result.response.headers.etag',\n",
        "       'data.http.result.response.headers.last_modified.0':'data.http.result.response.headers.last_modified',\n",
        "       'data.http.result.response.headers.vary.0':'data.http.result.response.headers.vary',\n",
        "       'data.http.result.response.transfer_encoding.0': 'data.http.result.response.transfer_encoding',\n",
        "       'data.http.result.response.headers.x_powered_by.0':'data.http.result.response.headers.x_powered_by',\n",
        "       'data.http.result.response.headers.pragma.0':'data.http.result.response.headers.pragma',\n",
        "       'data.http.result.redirect_response_chain.0.headers.server.0':'data.http.result.redirect_response_chain.headers.server'\n",
        "}"
      ],
      "metadata": {
        "id": "P44b1L2Vkzu2"
      },
      "execution_count": null,
      "outputs": []
    },
    {
      "cell_type": "code",
      "source": [
        "df.rename(columns=renameDict, errors=\"raise\",inplace=True)"
      ],
      "metadata": {
        "id": "JGOk6eh1krLy"
      },
      "execution_count": null,
      "outputs": []
    },
    {
      "cell_type": "code",
      "source": [
        "catfields = [ 'netType', \n",
        "              #'Organization',\n",
        "              'data.http.result.response.headers.server',\n",
        "               'data.http.result.response.status_code',\n",
        "              'data.http.result.response.headers.connection',\n",
        "              'data.http.result.response.headers.via',\n",
        "              'data.http.result.response.headers.accept_ranges',\n",
        "              'data.http.result.response.headers.cache_control',\n",
        "              'data.http.result.response.headers.retry_after',\n",
        "             # 'data.http.result.response.body',\n",
        "             # 'data.http.result.response.body_sha256',\n",
        "              'data.http.result.response.headers.content_type',\n",
        "              'data.http.result.response.headers.location',\n",
        "             # 'data.http.result.redirect_response_chain.status_line',\n",
        "              'data.http.result.response.headers.etag',\n",
        "              #'data.http.result.response.headers.vary',\n",
        "              #'data.http.result.response.transfer_encoding',\n",
        "             # 'data.http.result.response.headers.x_powered_by',\n",
        "              #'data.http.result.response.headers.pragma',\n",
        "              'as_name', 'as_no',\n",
        "              'data.tls.status',\n",
        "              'data.tls.result.handshake_log.server_certificates.certificate.parsed.issuer.country',\n",
        "              'data.tls.result.handshake_log.server_certificates.certificate.parsed.issuer.organization',\n",
        "              #'data.tls.result.handshake_log.server_certificates.certificate.parsed.subject.common_name',\n",
        "              #'data.tls.result.handshake_log.server_certificates.certificate.parsed.subject.country',\n",
        "              'data.tls.result.handshake_log.server_certificates.certificate.parsed.subject.locality',\n",
        "              #'data.tls.result.handshake_log.server_certificates.certificate.parsed.subject.province',\n",
        "              'data.tls.result.handshake_log.server_certificates.certificate.parsed.subject.organization',\n",
        "              'vendor'\n",
        "       ]"
      ],
      "metadata": {
        "id": "oAnji2jLQb5P"
      },
      "execution_count": null,
      "outputs": []
    },
    {
      "cell_type": "code",
      "execution_count": null,
      "metadata": {
        "id": "oa7wrfDjZM6T"
      },
      "outputs": [],
      "source": [
        "def renameToClasses(className):\n",
        "  if(className==vendorname):\n",
        "    return className\n",
        "  else:\n",
        "    return 'non'+vendorname\n",
        "\n",
        "def getgeneralCloudfront(x):\n",
        "  if('(CloudFront)' in str(x)):\n",
        "      return 'CloudFront'\n",
        "  else:\n",
        "      return x\n",
        "\n",
        "def getgeneralServerNames(x):\n",
        "  if('nginx' in str(x)):\n",
        "      return 'nginx'\n",
        "  elif('Apache' in str(x)):\n",
        "      return 'Apache'\n",
        "  else:\n",
        "      return x\n",
        "\n",
        "def getgeneralphp(x):\n",
        "  if (pd.isna(x)):\n",
        "    return -1\n",
        "  else:\n",
        "    if('PHP' in x):\n",
        "      return 'PHP'\n",
        "\n",
        "def changenullaszero(x):\n",
        "  if (pd.isna(x)): \n",
        "    return -1\n",
        "  else:\n",
        "    return 1\n",
        "\n",
        "def getCIDRBlockLength(ipadd):\n",
        "   if(pd.isna(ipadd)):\n",
        "     return 0\n",
        "   else:\n",
        "      if(len(ipadd.split(','))==1):\n",
        "        return (2**(32-int(ipadd.split('/')[1])))\n",
        "      else:\n",
        "        sum=0\n",
        "        for i in ipadd.split(','):\n",
        "          sum=sum + (2**(32-int(i.split('/')[1])))\n",
        "        return sum \n",
        "\n",
        "def arrayLiteral(stringarray):\n",
        "  if(pd.isna(stringarray)):\n",
        "     return 0\n",
        "  return len(literal_eval(stringarray))\n",
        "\n",
        "def removeSquareBrackets(text):\n",
        "  if(pd.isna(text)):\n",
        "     return -1\n",
        "  return literal_eval(text)[0];\n",
        "\n",
        "def featureImportance(clf):\n",
        "  importance = clf.feature_importances_\n",
        "  importancelist = []\n",
        "  for i,v in enumerate(importance):\n",
        "    importancelist.append([df.columns[i],v])\n",
        "  importantdf = pd.DataFrame(importancelist)\n",
        "  importantdf.columns = ['Feature','Importance']\n",
        "  importantdf = importantdf.sort_values(by=['Importance'],ascending=False)\n",
        "  importantdf = importantdf[:15]\n",
        "  importantdf = importantdf[::-1]\n",
        "  print(importantdf)\n",
        "  fig = importantdf.plot.barh(x='Feature', y='Importance', rot=0,figsize=(3,7),title = vendorname.capitalize() + \" Top 15 Features\")\n",
        "  plt.savefig(vendorname.capitalize() + \" Top 15 Features\"+'.png',bbox_inches='tight')"
      ]
    },
    {
      "cell_type": "code",
      "source": [
        "df['vendor']  = df[\"vendor\"].apply(renameToClasses)"
      ],
      "metadata": {
        "id": "W1Bd_ibrJOJV"
      },
      "execution_count": null,
      "outputs": []
    },
    {
      "cell_type": "code",
      "source": [
        "df['vendor'].value_counts()"
      ],
      "metadata": {
        "colab": {
          "base_uri": "https://localhost:8080/"
        },
        "id": "m7CGDoYnKGiv",
        "outputId": "6a09909b-7c84-4e2c-cb3e-2b2bd8b4388b"
      },
      "execution_count": null,
      "outputs": [
        {
          "output_type": "execute_result",
          "data": {
            "text/plain": [
              "nonhosting    91053\n",
              "hosting       30000\n",
              "Name: vendor, dtype: int64"
            ]
          },
          "metadata": {},
          "execution_count": 379
        }
      ]
    },
    {
      "cell_type": "code",
      "source": [
        "df1 = df[df[\"vendor\"] == vendorname]\n",
        "df2 = df[df[\"vendor\"] == \"non\"+vendorname]\n",
        "df2 = df2.sample(n = samplesize)\n",
        "df1 = df1.append(df2)\n",
        "df = df1"
      ],
      "metadata": {
        "id": "QDsizTefOVX9"
      },
      "execution_count": null,
      "outputs": []
    },
    {
      "cell_type": "code",
      "execution_count": null,
      "metadata": {
        "id": "V-k_-3CAZbNN"
      },
      "outputs": [],
      "source": [
        "#df['data.http.result.response.headers.via']  = df[\"data.http.result.response.headers.via\"].apply(getgeneralCloudfront)\n",
        "df['data.http.result.response.status_code'].fillna(-1, inplace=True)\n",
        "df['data.http.result.response.headers.pragma'].fillna(-1, inplace=True)\n",
        "df['data.http.result.response.headers.connection'].fillna(-1, inplace=True)\n",
        "df['data.http.result.response.headers.via']  = df[\"data.http.result.response.headers.via\"].apply(changenullaszero)\n",
        "df['data.http.result.response.headers.via'].fillna(-1, inplace=True)\n",
        "df['data.http.result.response.headers.accept_ranges'].fillna(-1, inplace=True)\n",
        "df['data.http.result.response.headers.cache_control'].fillna(-1, inplace=True)\n",
        "df['data.http.result.response.headers.retry_after'].fillna(-1, inplace=True)\n",
        "df['data.http.result.response.body']  = df[\"data.http.result.response.body\"].apply(changenullaszero)\n",
        "df['data.http.result.response.body_sha256']  = df['data.http.result.response.body_sha256'].apply(changenullaszero)\n",
        "df['data.http.result.response.content_length'].fillna(0, inplace=True)\n",
        "df['data.http.result.response.headers.content_type'].fillna(-1, inplace=True)\n",
        "df['data.http.result.response.headers.location'] = df['data.http.result.response.headers.location'].apply(changenullaszero)\n",
        "df['data.http.result.redirect_response_chain.status_line'].fillna(-1, inplace=True)\n",
        "df['data.http.result.response.headers.etag'] = df['data.http.result.response.headers.etag'].apply(changenullaszero)\n",
        "df['data.http.result.response.headers.last_modified']  = df['data.http.result.response.headers.last_modified'].apply(changenullaszero)\n",
        "df['data.http.result.response.headers.vary'].fillna(-1, inplace=True)\n",
        "df['data.http.result.response.transfer_encoding'].fillna(-1, inplace=True)\n",
        "df['data.http.result.response.headers.x_powered_by']  = df['data.http.result.response.headers.x_powered_by'].apply(getgeneralphp)\n",
        "#df['data.http.result.response.headers.x_powered_by'].fillna(-1, inplace=True)\n",
        "\n",
        "df['data.http.result.response.headers.server']  = df['data.http.result.response.headers.server'].apply(getgeneralServerNames)\n",
        "df['data.http.result.response.headers.server'].fillna(-1, inplace=True)"
      ]
    },
    {
      "cell_type": "code",
      "execution_count": null,
      "metadata": {
        "id": "HDt9GIfbZc3r"
      },
      "outputs": [],
      "source": [
        "# df['data.http.result.response.headers.server'] = le.fit_transform(df['data.http.result.response.headers.server'].astype(str))\n",
        "# df['data.http.result.response.status_code'] = le.fit_transform(df['data.http.result.response.status_code'].astype(str))\n",
        "# df['data.http.result.response.headers.connection'] = le.fit_transform(df['data.http.result.response.headers.connection'].astype(str))\n",
        "# df['data.http.result.response.headers.via'] = le.fit_transform(df['data.http.result.response.headers.via'].astype(str))\n",
        "# df['data.http.result.response.headers.accept_ranges'] = le.fit_transform(df['data.http.result.response.headers.accept_ranges'].astype(str))\n",
        "# df['data.http.result.response.headers.cache_control'] = le.fit_transform(df['data.http.result.response.headers.cache_control'].astype(str))\n",
        "# df['data.http.result.response.headers.retry_after'] = le.fit_transform(df['data.http.result.response.headers.retry_after'].astype(str))\n",
        "# df['data.http.result.response.body'] = le.fit_transform(df['data.http.result.response.body'].astype(str))\n",
        "# df['data.http.result.response.body_sha256'] = le.fit_transform(df['data.http.result.response.body_sha256'].astype(str))\n",
        "# df['data.http.result.response.headers.content_type'] = le.fit_transform(df['data.http.result.response.headers.content_type'].astype(str))\n",
        "\n",
        "# df['data.http.result.response.headers.location'] = le.fit_transform(df['data.http.result.response.headers.location'].astype(str))\n",
        "# df['data.http.result.redirect_response_chain.status_line'] = le.fit_transform(df['data.http.result.redirect_response_chain.status_line'].astype(str))\n",
        "# df['data.http.result.response.headers.etag'] = le.fit_transform(df['data.http.result.response.headers.etag'].astype(str))\n",
        "# df['data.http.result.response.headers.last_modified'] = le.fit_transform(df['data.http.result.response.headers.last_modified'].astype(str))\n",
        "# df['data.http.result.response.headers.vary'] = le.fit_transform(df['data.http.result.response.headers.vary'].astype(str))\n",
        "# df['data.http.result.response.transfer_encoding'] = le.fit_transform(df['data.http.result.response.transfer_encoding'].astype(str))\n",
        "\n",
        "# df['data.http.result.response.headers.x_powered_by'] = le.fit_transform(df['data.http.result.response.headers.x_powered_by'].astype(str))\n",
        "# df['data.http.result.response.headers.pragma'] = le.fit_transform(df['data.http.result.response.headers.pragma'].astype(str))\n",
        "# df['as_name'] = le.fit_transform(df['as_name'].astype(str))\n",
        "\n",
        "# df['as_no'] = le.fit_transform(df['as_no'].astype(str))\n",
        "# df['vendor'] = le.fit_transform(df['vendor'].astype(str))\n",
        "# vendorEncodings = le.classes_"
      ]
    },
    {
      "cell_type": "code",
      "execution_count": null,
      "metadata": {
        "id": "oPo1n3l6UnNO"
      },
      "outputs": [],
      "source": [
        "#df['data.tls.result.handshake_log.server_certificates.certificate.parsed.subject.common_name']  =  df['data.tls.result.handshake_log.server_certificates.certificate.parsed.subject.common_name'].apply(changenullaszero)"
      ]
    },
    {
      "cell_type": "code",
      "execution_count": null,
      "metadata": {
        "id": "i__Rjbdmjwnr"
      },
      "outputs": [],
      "source": [
        "df['netSize']  = df[\"CIDR\"].apply(getCIDRBlockLength)\n",
        "df['data.tls.result.handshake_log.server_certificates.certificate.parsed.issuer.common_name']  =  df['data.tls.result.handshake_log.server_certificates.certificate.parsed.issuer.common_name'].apply(removeSquareBrackets)\n",
        "df['data.tls.result.handshake_log.server_certificates.certificate.parsed.issuer.country']  =  df['data.tls.result.handshake_log.server_certificates.certificate.parsed.issuer.country'].apply(removeSquareBrackets)\n",
        "df['data.tls.result.handshake_log.server_certificates.certificate.parsed.issuer.organization']  =  df['data.tls.result.handshake_log.server_certificates.certificate.parsed.issuer.organization'].apply(removeSquareBrackets)\n",
        "df['data.tls.result.handshake_log.server_certificates.certificate.parsed.subject.common_name']  =  df['data.tls.result.handshake_log.server_certificates.certificate.parsed.subject.common_name'].apply(removeSquareBrackets)\n",
        "df['data.tls.result.handshake_log.server_certificates.certificate.parsed.subject.country']  =  df['data.tls.result.handshake_log.server_certificates.certificate.parsed.subject.country'].apply(removeSquareBrackets)\n",
        "df['data.tls.result.handshake_log.server_certificates.certificate.parsed.subject.province']  =  df['data.tls.result.handshake_log.server_certificates.certificate.parsed.subject.province'].apply(removeSquareBrackets)\n",
        "df['data.tls.result.handshake_log.server_certificates.certificate.parsed.subject.locality']  =  df['data.tls.result.handshake_log.server_certificates.certificate.parsed.subject.locality'].apply(removeSquareBrackets)\n",
        "df['data.tls.result.handshake_log.server_certificates.certificate.parsed.subject.organization']  =  df['data.tls.result.handshake_log.server_certificates.certificate.parsed.subject.organization'].apply(removeSquareBrackets)\n",
        "df['SAN Count']  =  df['data.tls.result.handshake_log.server_certificates.certificate.parsed.extensions.subject_alt_name.dns_names'].apply(arrayLiteral)"
      ]
    },
    {
      "cell_type": "code",
      "execution_count": null,
      "metadata": {
        "id": "lr35q976jrhw"
      },
      "outputs": [],
      "source": [
        "df['Organization'].fillna(-1, inplace=True)\n",
        "df['netType'].fillna(-1, inplace=True)\n",
        "df['No of Who is Records'].fillna(0, inplace=True)\n",
        "df['Most Recent Update'].fillna(0, inplace=True)"
      ]
    },
    {
      "cell_type": "code",
      "execution_count": null,
      "metadata": {
        "id": "Y5KySBSLjjCQ"
      },
      "outputs": [],
      "source": [
        "# df['Organization'] = le.fit_transform(df['Organization'].astype(str))\n",
        "# df['netType'] = le.fit_transform(df['netType'].astype(str))\n",
        "\n",
        "# df['data.tls.result.handshake_log.server_certificates.certificate.parsed.issuer.common_name'] = le.fit_transform(df['data.tls.result.handshake_log.server_certificates.certificate.parsed.issuer.common_name'].astype(str))\n",
        "# df['data.tls.result.handshake_log.server_certificates.certificate.parsed.issuer.country'] = le.fit_transform(df['data.tls.result.handshake_log.server_certificates.certificate.parsed.issuer.country'].astype(str))\n",
        "# df['data.tls.result.handshake_log.server_certificates.certificate.parsed.issuer.organization'] = le.fit_transform(df['data.tls.result.handshake_log.server_certificates.certificate.parsed.issuer.organization'].astype(str))\n",
        "# df['data.tls.result.handshake_log.server_certificates.certificate.parsed.subject.common_name'] = le.fit_transform(df['data.tls.result.handshake_log.server_certificates.certificate.parsed.subject.common_name'].astype(str))\n",
        "# df['data.tls.result.handshake_log.server_certificates.certificate.parsed.subject.country'] = le.fit_transform(df['data.tls.result.handshake_log.server_certificates.certificate.parsed.subject.country'].astype(str))\n",
        "# df['data.tls.result.handshake_log.server_certificates.certificate.parsed.subject.province'] = le.fit_transform(df['data.tls.result.handshake_log.server_certificates.certificate.parsed.subject.province'].astype(str))\n",
        "# df['data.tls.result.handshake_log.server_certificates.certificate.parsed.subject.locality'] = le.fit_transform(df['data.tls.result.handshake_log.server_certificates.certificate.parsed.subject.locality'].astype(str))\n",
        "# df['data.tls.result.handshake_log.server_certificates.certificate.parsed.subject.organization'] = le.fit_transform(df['data.tls.result.handshake_log.server_certificates.certificate.parsed.subject.organization'].astype(str))\n",
        "# df['data.tls.status'] = le.fit_transform(df['data.tls.status'].astype(str))"
      ]
    },
    {
      "cell_type": "code",
      "execution_count": null,
      "metadata": {
        "id": "-zIWNIXcn_EV"
      },
      "outputs": [],
      "source": [
        "df = df.drop(['data.tls.result.handshake_log.server_certificates.certificate.parsed.issuer_dn'],axis=1)\n",
        "df = df.drop(['data.tls.result.handshake_log.server_certificates.certificate.parsed.subject_dn'],axis=1)\n",
        "df = df.drop(['data.tls.result.handshake_log.server_certificates.certificate.parsed.extensions.subject_alt_name.dns_names'],axis=1)\n",
        "df = df.drop(['No Of Owners'],axis=1)\n",
        "df = df.drop(['CIDR'],axis=1)\n",
        "df = df.drop(['data.http.result.response.headers.unknown.0.key'],axis=1)\n",
        "df = df.drop(['data.http.result.response.headers.unknown.0.value.0'],axis=1)\n",
        "df = df.drop(['data.http.result.response.headers.unknown.1.key'],axis=1)\n",
        "df = df.drop(['data.http.result.response.headers.unknown.1.value.0'],axis=1)\n",
        "df = df.drop(['ip'],axis=1)\n",
        "df = df.drop(['Unnamed: 0_y'],axis=1)\n",
        "df = df.drop(['data.tls.result.handshake_log.server_certificates.certificate.parsed.issuer.common_name'],axis=1)\n",
        "\n",
        "\n",
        "#Reducing the Insignificant Features\n",
        "df = df.drop(['data.http.result.response.transfer_encoding'],axis=1)\n",
        "df = df.drop(['data.http.result.response.headers.x_powered_by'],axis=1)\n",
        "df = df.drop(['data.http.result.response.headers.pragma'],axis=1)\n",
        "df = df.drop(['data.http.result.redirect_response_chain.headers.server'],axis=1)\n",
        "df = df.drop(['data.http.result.redirect_response_chain.status_line'],axis=1)\n",
        "df = df.drop(['data.http.result.response.headers.last_modified'],axis=1)\n",
        "df = df.drop(['data.http.result.response.body_sha256'],axis=1)\n",
        "df = df.drop(['data.http.result.response.headers.vary'],axis=1)\n",
        "df = df.drop(['data.http.result.response.body'],axis=1)\n",
        "\n",
        "df = df.drop(['data.tls.result.handshake_log.server_certificates.certificate.parsed.subject.country'],axis=1)\n",
        "df = df.drop(['data.tls.result.handshake_log.server_certificates.certificate.parsed.subject.province'],axis=1)\n",
        "df = df.drop(['data.tls.result.handshake_log.server_certificates.certificate.parsed.subject.common_name'],axis=1)\n",
        "\n",
        "#Unsure Significant Features\n",
        "df = df.drop(['Organization'],axis=1)"
      ]
    },
    {
      "cell_type": "code",
      "source": [
        "categoricalDf = df[catfields]\n",
        "df.drop(catfields, axis=1, inplace=True)\n",
        "df"
      ],
      "metadata": {
        "colab": {
          "base_uri": "https://localhost:8080/",
          "height": 424
        },
        "id": "mC-nGuFoTPnd",
        "outputId": "1f28396a-6d3a-4bfe-f59d-ab8cca97ad1d"
      },
      "execution_count": null,
      "outputs": [
        {
          "output_type": "execute_result",
          "data": {
            "text/plain": [
              "       Most Recent Update  No of Who is Records  \\\n",
              "60000        0.000000e+00                   0.0   \n",
              "60001        1.610112e+09                   5.0   \n",
              "60002        1.580313e+09                   7.0   \n",
              "60003        1.589979e+09                   5.0   \n",
              "60004        1.580313e+09                   6.0   \n",
              "...                   ...                   ...   \n",
              "21802        0.000000e+00                   0.0   \n",
              "57076        1.001151e+09                   4.0   \n",
              "52450        1.566822e+09                   4.0   \n",
              "41980        1.627666e+09                   3.0   \n",
              "7583         1.585613e+09                   1.0   \n",
              "\n",
              "       data.http.result.response.content_length  netSize  SAN Count  \n",
              "60000                                     864.0        0          2  \n",
              "60001                                     163.0     4096          2  \n",
              "60002                                       0.0    16384          8  \n",
              "60003                                       0.0    16384          8  \n",
              "60004                                      -1.0    65536          8  \n",
              "...                                         ...      ...        ...  \n",
              "21802                                       0.0        0          4  \n",
              "57076                                      -1.0    65536          1  \n",
              "52450                                     236.0  2080768          1  \n",
              "41980                                       0.0        0         13  \n",
              "7583                                      915.0    65536          1  \n",
              "\n",
              "[60000 rows x 5 columns]"
            ],
            "text/html": [
              "\n",
              "  <div id=\"df-441836f7-09a2-430e-98d6-5877cbf8a6d2\">\n",
              "    <div class=\"colab-df-container\">\n",
              "      <div>\n",
              "<style scoped>\n",
              "    .dataframe tbody tr th:only-of-type {\n",
              "        vertical-align: middle;\n",
              "    }\n",
              "\n",
              "    .dataframe tbody tr th {\n",
              "        vertical-align: top;\n",
              "    }\n",
              "\n",
              "    .dataframe thead th {\n",
              "        text-align: right;\n",
              "    }\n",
              "</style>\n",
              "<table border=\"1\" class=\"dataframe\">\n",
              "  <thead>\n",
              "    <tr style=\"text-align: right;\">\n",
              "      <th></th>\n",
              "      <th>Most Recent Update</th>\n",
              "      <th>No of Who is Records</th>\n",
              "      <th>data.http.result.response.content_length</th>\n",
              "      <th>netSize</th>\n",
              "      <th>SAN Count</th>\n",
              "    </tr>\n",
              "  </thead>\n",
              "  <tbody>\n",
              "    <tr>\n",
              "      <th>60000</th>\n",
              "      <td>0.000000e+00</td>\n",
              "      <td>0.0</td>\n",
              "      <td>864.0</td>\n",
              "      <td>0</td>\n",
              "      <td>2</td>\n",
              "    </tr>\n",
              "    <tr>\n",
              "      <th>60001</th>\n",
              "      <td>1.610112e+09</td>\n",
              "      <td>5.0</td>\n",
              "      <td>163.0</td>\n",
              "      <td>4096</td>\n",
              "      <td>2</td>\n",
              "    </tr>\n",
              "    <tr>\n",
              "      <th>60002</th>\n",
              "      <td>1.580313e+09</td>\n",
              "      <td>7.0</td>\n",
              "      <td>0.0</td>\n",
              "      <td>16384</td>\n",
              "      <td>8</td>\n",
              "    </tr>\n",
              "    <tr>\n",
              "      <th>60003</th>\n",
              "      <td>1.589979e+09</td>\n",
              "      <td>5.0</td>\n",
              "      <td>0.0</td>\n",
              "      <td>16384</td>\n",
              "      <td>8</td>\n",
              "    </tr>\n",
              "    <tr>\n",
              "      <th>60004</th>\n",
              "      <td>1.580313e+09</td>\n",
              "      <td>6.0</td>\n",
              "      <td>-1.0</td>\n",
              "      <td>65536</td>\n",
              "      <td>8</td>\n",
              "    </tr>\n",
              "    <tr>\n",
              "      <th>...</th>\n",
              "      <td>...</td>\n",
              "      <td>...</td>\n",
              "      <td>...</td>\n",
              "      <td>...</td>\n",
              "      <td>...</td>\n",
              "    </tr>\n",
              "    <tr>\n",
              "      <th>21802</th>\n",
              "      <td>0.000000e+00</td>\n",
              "      <td>0.0</td>\n",
              "      <td>0.0</td>\n",
              "      <td>0</td>\n",
              "      <td>4</td>\n",
              "    </tr>\n",
              "    <tr>\n",
              "      <th>57076</th>\n",
              "      <td>1.001151e+09</td>\n",
              "      <td>4.0</td>\n",
              "      <td>-1.0</td>\n",
              "      <td>65536</td>\n",
              "      <td>1</td>\n",
              "    </tr>\n",
              "    <tr>\n",
              "      <th>52450</th>\n",
              "      <td>1.566822e+09</td>\n",
              "      <td>4.0</td>\n",
              "      <td>236.0</td>\n",
              "      <td>2080768</td>\n",
              "      <td>1</td>\n",
              "    </tr>\n",
              "    <tr>\n",
              "      <th>41980</th>\n",
              "      <td>1.627666e+09</td>\n",
              "      <td>3.0</td>\n",
              "      <td>0.0</td>\n",
              "      <td>0</td>\n",
              "      <td>13</td>\n",
              "    </tr>\n",
              "    <tr>\n",
              "      <th>7583</th>\n",
              "      <td>1.585613e+09</td>\n",
              "      <td>1.0</td>\n",
              "      <td>915.0</td>\n",
              "      <td>65536</td>\n",
              "      <td>1</td>\n",
              "    </tr>\n",
              "  </tbody>\n",
              "</table>\n",
              "<p>60000 rows × 5 columns</p>\n",
              "</div>\n",
              "      <button class=\"colab-df-convert\" onclick=\"convertToInteractive('df-441836f7-09a2-430e-98d6-5877cbf8a6d2')\"\n",
              "              title=\"Convert this dataframe to an interactive table.\"\n",
              "              style=\"display:none;\">\n",
              "        \n",
              "  <svg xmlns=\"http://www.w3.org/2000/svg\" height=\"24px\"viewBox=\"0 0 24 24\"\n",
              "       width=\"24px\">\n",
              "    <path d=\"M0 0h24v24H0V0z\" fill=\"none\"/>\n",
              "    <path d=\"M18.56 5.44l.94 2.06.94-2.06 2.06-.94-2.06-.94-.94-2.06-.94 2.06-2.06.94zm-11 1L8.5 8.5l.94-2.06 2.06-.94-2.06-.94L8.5 2.5l-.94 2.06-2.06.94zm10 10l.94 2.06.94-2.06 2.06-.94-2.06-.94-.94-2.06-.94 2.06-2.06.94z\"/><path d=\"M17.41 7.96l-1.37-1.37c-.4-.4-.92-.59-1.43-.59-.52 0-1.04.2-1.43.59L10.3 9.45l-7.72 7.72c-.78.78-.78 2.05 0 2.83L4 21.41c.39.39.9.59 1.41.59.51 0 1.02-.2 1.41-.59l7.78-7.78 2.81-2.81c.8-.78.8-2.07 0-2.86zM5.41 20L4 18.59l7.72-7.72 1.47 1.35L5.41 20z\"/>\n",
              "  </svg>\n",
              "      </button>\n",
              "      \n",
              "  <style>\n",
              "    .colab-df-container {\n",
              "      display:flex;\n",
              "      flex-wrap:wrap;\n",
              "      gap: 12px;\n",
              "    }\n",
              "\n",
              "    .colab-df-convert {\n",
              "      background-color: #E8F0FE;\n",
              "      border: none;\n",
              "      border-radius: 50%;\n",
              "      cursor: pointer;\n",
              "      display: none;\n",
              "      fill: #1967D2;\n",
              "      height: 32px;\n",
              "      padding: 0 0 0 0;\n",
              "      width: 32px;\n",
              "    }\n",
              "\n",
              "    .colab-df-convert:hover {\n",
              "      background-color: #E2EBFA;\n",
              "      box-shadow: 0px 1px 2px rgba(60, 64, 67, 0.3), 0px 1px 3px 1px rgba(60, 64, 67, 0.15);\n",
              "      fill: #174EA6;\n",
              "    }\n",
              "\n",
              "    [theme=dark] .colab-df-convert {\n",
              "      background-color: #3B4455;\n",
              "      fill: #D2E3FC;\n",
              "    }\n",
              "\n",
              "    [theme=dark] .colab-df-convert:hover {\n",
              "      background-color: #434B5C;\n",
              "      box-shadow: 0px 1px 3px 1px rgba(0, 0, 0, 0.15);\n",
              "      filter: drop-shadow(0px 1px 2px rgba(0, 0, 0, 0.3));\n",
              "      fill: #FFFFFF;\n",
              "    }\n",
              "  </style>\n",
              "\n",
              "      <script>\n",
              "        const buttonEl =\n",
              "          document.querySelector('#df-441836f7-09a2-430e-98d6-5877cbf8a6d2 button.colab-df-convert');\n",
              "        buttonEl.style.display =\n",
              "          google.colab.kernel.accessAllowed ? 'block' : 'none';\n",
              "\n",
              "        async function convertToInteractive(key) {\n",
              "          const element = document.querySelector('#df-441836f7-09a2-430e-98d6-5877cbf8a6d2');\n",
              "          const dataTable =\n",
              "            await google.colab.kernel.invokeFunction('convertToInteractive',\n",
              "                                                     [key], {});\n",
              "          if (!dataTable) return;\n",
              "\n",
              "          const docLinkHtml = 'Like what you see? Visit the ' +\n",
              "            '<a target=\"_blank\" href=https://colab.research.google.com/notebooks/data_table.ipynb>data table notebook</a>'\n",
              "            + ' to learn more about interactive tables.';\n",
              "          element.innerHTML = '';\n",
              "          dataTable['output_type'] = 'display_data';\n",
              "          await google.colab.output.renderOutput(dataTable, element);\n",
              "          const docLink = document.createElement('div');\n",
              "          docLink.innerHTML = docLinkHtml;\n",
              "          element.appendChild(docLink);\n",
              "        }\n",
              "      </script>\n",
              "    </div>\n",
              "  </div>\n",
              "  "
            ]
          },
          "metadata": {},
          "execution_count": 388
        }
      ]
    },
    {
      "cell_type": "code",
      "source": [
        "from sklearn.preprocessing import LabelEncoder\n",
        "import collections\n",
        "#df = df.astype(str).apply(LabelEncoder().fit_transform)"
      ],
      "metadata": {
        "id": "6jA1d4Txk_7G"
      },
      "execution_count": null,
      "outputs": []
    },
    {
      "cell_type": "code",
      "source": [
        "encoder_dict = collections.defaultdict(LabelEncoder)\n",
        "categoricalDfEncoded = categoricalDf.astype(str).apply(lambda x: encoder_dict[x.name].fit_transform(x))"
      ],
      "metadata": {
        "id": "pUCcmKkEmN3Z"
      },
      "execution_count": null,
      "outputs": []
    },
    {
      "cell_type": "code",
      "source": [
        "with open('label_encodings','wb') as f:\n",
        "  pickle.dump(encoder_dict,f)"
      ],
      "metadata": {
        "id": "pQ415Sm5fOdw"
      },
      "execution_count": null,
      "outputs": []
    },
    {
      "cell_type": "code",
      "source": [
        "categoricalDfEncoded"
      ],
      "metadata": {
        "colab": {
          "base_uri": "https://localhost:8080/",
          "height": 488
        },
        "id": "nWRKXZqSTseX",
        "outputId": "225241fa-c9a7-4851-a4b7-9f07923764d2"
      },
      "execution_count": null,
      "outputs": [
        {
          "output_type": "execute_result",
          "data": {
            "text/plain": [
              "       netType  data.http.result.response.headers.server  \\\n",
              "60000        0                                        15   \n",
              "60001        5                                       134   \n",
              "60002        5                                         1   \n",
              "60003        5                                         1   \n",
              "60004        5                                        15   \n",
              "...        ...                                       ...   \n",
              "21802        0                                         1   \n",
              "57076        5                                        15   \n",
              "52450        5                                        15   \n",
              "41980        0                                        14   \n",
              "7583        11                                        27   \n",
              "\n",
              "       data.http.result.response.status_code  \\\n",
              "60000                                      2   \n",
              "60001                                      2   \n",
              "60002                                      0   \n",
              "60003                                      0   \n",
              "60004                                     23   \n",
              "...                                      ...   \n",
              "21802                                      0   \n",
              "57076                                     10   \n",
              "52450                                      5   \n",
              "41980                                      8   \n",
              "7583                                      13   \n",
              "\n",
              "       data.http.result.response.headers.connection  \\\n",
              "60000                                             6   \n",
              "60001                                             2   \n",
              "60002                                             0   \n",
              "60003                                             0   \n",
              "60004                                             0   \n",
              "...                                             ...   \n",
              "21802                                             0   \n",
              "57076                                             0   \n",
              "52450                                             0   \n",
              "41980                                             0   \n",
              "7583                                              6   \n",
              "\n",
              "       data.http.result.response.headers.via  \\\n",
              "60000                                      0   \n",
              "60001                                      0   \n",
              "60002                                      0   \n",
              "60003                                      0   \n",
              "60004                                      0   \n",
              "...                                      ...   \n",
              "21802                                      0   \n",
              "57076                                      0   \n",
              "52450                                      0   \n",
              "41980                                      0   \n",
              "7583                                       1   \n",
              "\n",
              "       data.http.result.response.headers.accept_ranges  \\\n",
              "60000                                                1   \n",
              "60001                                                1   \n",
              "60002                                                0   \n",
              "60003                                                0   \n",
              "60004                                                0   \n",
              "...                                                ...   \n",
              "21802                                                0   \n",
              "57076                                                0   \n",
              "52450                                                0   \n",
              "41980                                                0   \n",
              "7583                                                 0   \n",
              "\n",
              "       data.http.result.response.headers.cache_control  \\\n",
              "60000                                                0   \n",
              "60001                                                0   \n",
              "60002                                                0   \n",
              "60003                                                0   \n",
              "60004                                               92   \n",
              "...                                                ...   \n",
              "21802                                                0   \n",
              "57076                                                0   \n",
              "52450                                                0   \n",
              "41980                                                0   \n",
              "7583                                                 0   \n",
              "\n",
              "       data.http.result.response.headers.retry_after  \\\n",
              "60000                                              0   \n",
              "60001                                              0   \n",
              "60002                                              0   \n",
              "60003                                              0   \n",
              "60004                                              0   \n",
              "...                                              ...   \n",
              "21802                                              0   \n",
              "57076                                              0   \n",
              "52450                                              0   \n",
              "41980                                              0   \n",
              "7583                                               0   \n",
              "\n",
              "       data.http.result.response.headers.content_type  \\\n",
              "60000                                              33   \n",
              "60001                                              33   \n",
              "60002                                               1   \n",
              "60003                                               1   \n",
              "60004                                              40   \n",
              "...                                               ...   \n",
              "21802                                               1   \n",
              "57076                                              33   \n",
              "52450                                              41   \n",
              "41980                                               1   \n",
              "7583                                               33   \n",
              "\n",
              "       data.http.result.response.headers.location  \\\n",
              "60000                                           0   \n",
              "60001                                           0   \n",
              "60002                                           0   \n",
              "60003                                           0   \n",
              "60004                                           0   \n",
              "...                                           ...   \n",
              "21802                                           0   \n",
              "57076                                           0   \n",
              "52450                                           1   \n",
              "41980                                           1   \n",
              "7583                                            0   \n",
              "\n",
              "       data.http.result.response.headers.etag  as_name  as_no  \\\n",
              "60000                                       1      452    607   \n",
              "60001                                       1        5   1300   \n",
              "60002                                       0     1367   1169   \n",
              "60003                                       0      827    871   \n",
              "60004                                       0     1367   1169   \n",
              "...                                       ...      ...    ...   \n",
              "21802                                       0      528   1291   \n",
              "57076                                       0      445    243   \n",
              "52450                                       0       49    265   \n",
              "41980                                       0       48    298   \n",
              "7583                                        0       48    298   \n",
              "\n",
              "       data.tls.status  \\\n",
              "60000                2   \n",
              "60001                2   \n",
              "60002                2   \n",
              "60003                2   \n",
              "60004                2   \n",
              "...                ...   \n",
              "21802                2   \n",
              "57076                2   \n",
              "52450                2   \n",
              "41980                2   \n",
              "7583                 2   \n",
              "\n",
              "       data.tls.result.handshake_log.server_certificates.certificate.parsed.issuer.country  \\\n",
              "60000                                                 22                                     \n",
              "60001                                                 52                                     \n",
              "60002                                                 52                                     \n",
              "60003                                                 52                                     \n",
              "60004                                                 52                                     \n",
              "...                                                  ...                                     \n",
              "21802                                                  8                                     \n",
              "57076                                                 52                                     \n",
              "52450                                                 52                                     \n",
              "41980                                                 52                                     \n",
              "7583                                                  52                                     \n",
              "\n",
              "       data.tls.result.handshake_log.server_certificates.certificate.parsed.issuer.organization  \\\n",
              "60000                                                 60                                          \n",
              "60001                                                203                                          \n",
              "60002                                                203                                          \n",
              "60003                                                400                                          \n",
              "60004                                                203                                          \n",
              "...                                                  ...                                          \n",
              "21802                                                148                                          \n",
              "57076                                                203                                          \n",
              "52450                                                203                                          \n",
              "41980                                                104                                          \n",
              "7583                                                 336                                          \n",
              "\n",
              "       data.tls.result.handshake_log.server_certificates.certificate.parsed.subject.locality  \\\n",
              "60000                                                  1                                       \n",
              "60001                                                  1                                       \n",
              "60002                                                  1                                       \n",
              "60003                                                  1                                       \n",
              "60004                                                  1                                       \n",
              "...                                                  ...                                       \n",
              "21802                                                  1                                       \n",
              "57076                                                  1                                       \n",
              "52450                                                  1                                       \n",
              "41980                                                644                                       \n",
              "7583                                                 644                                       \n",
              "\n",
              "       data.tls.result.handshake_log.server_certificates.certificate.parsed.subject.organization  \\\n",
              "60000                                                  5                                           \n",
              "60001                                                  5                                           \n",
              "60002                                                  5                                           \n",
              "60003                                                  5                                           \n",
              "60004                                                  5                                           \n",
              "...                                                  ...                                           \n",
              "21802                                                  5                                           \n",
              "57076                                                  5                                           \n",
              "52450                                                  5                                           \n",
              "41980                                                101                                           \n",
              "7583                                                 101                                           \n",
              "\n",
              "       vendor  \n",
              "60000       0  \n",
              "60001       0  \n",
              "60002       0  \n",
              "60003       0  \n",
              "60004       0  \n",
              "...       ...  \n",
              "21802       1  \n",
              "57076       1  \n",
              "52450       1  \n",
              "41980       1  \n",
              "7583        1  \n",
              "\n",
              "[60000 rows x 19 columns]"
            ],
            "text/html": [
              "\n",
              "  <div id=\"df-7f9c39d1-55b5-455c-8c55-ddcb57b06789\">\n",
              "    <div class=\"colab-df-container\">\n",
              "      <div>\n",
              "<style scoped>\n",
              "    .dataframe tbody tr th:only-of-type {\n",
              "        vertical-align: middle;\n",
              "    }\n",
              "\n",
              "    .dataframe tbody tr th {\n",
              "        vertical-align: top;\n",
              "    }\n",
              "\n",
              "    .dataframe thead th {\n",
              "        text-align: right;\n",
              "    }\n",
              "</style>\n",
              "<table border=\"1\" class=\"dataframe\">\n",
              "  <thead>\n",
              "    <tr style=\"text-align: right;\">\n",
              "      <th></th>\n",
              "      <th>netType</th>\n",
              "      <th>data.http.result.response.headers.server</th>\n",
              "      <th>data.http.result.response.status_code</th>\n",
              "      <th>data.http.result.response.headers.connection</th>\n",
              "      <th>data.http.result.response.headers.via</th>\n",
              "      <th>data.http.result.response.headers.accept_ranges</th>\n",
              "      <th>data.http.result.response.headers.cache_control</th>\n",
              "      <th>data.http.result.response.headers.retry_after</th>\n",
              "      <th>data.http.result.response.headers.content_type</th>\n",
              "      <th>data.http.result.response.headers.location</th>\n",
              "      <th>data.http.result.response.headers.etag</th>\n",
              "      <th>as_name</th>\n",
              "      <th>as_no</th>\n",
              "      <th>data.tls.status</th>\n",
              "      <th>data.tls.result.handshake_log.server_certificates.certificate.parsed.issuer.country</th>\n",
              "      <th>data.tls.result.handshake_log.server_certificates.certificate.parsed.issuer.organization</th>\n",
              "      <th>data.tls.result.handshake_log.server_certificates.certificate.parsed.subject.locality</th>\n",
              "      <th>data.tls.result.handshake_log.server_certificates.certificate.parsed.subject.organization</th>\n",
              "      <th>vendor</th>\n",
              "    </tr>\n",
              "  </thead>\n",
              "  <tbody>\n",
              "    <tr>\n",
              "      <th>60000</th>\n",
              "      <td>0</td>\n",
              "      <td>15</td>\n",
              "      <td>2</td>\n",
              "      <td>6</td>\n",
              "      <td>0</td>\n",
              "      <td>1</td>\n",
              "      <td>0</td>\n",
              "      <td>0</td>\n",
              "      <td>33</td>\n",
              "      <td>0</td>\n",
              "      <td>1</td>\n",
              "      <td>452</td>\n",
              "      <td>607</td>\n",
              "      <td>2</td>\n",
              "      <td>22</td>\n",
              "      <td>60</td>\n",
              "      <td>1</td>\n",
              "      <td>5</td>\n",
              "      <td>0</td>\n",
              "    </tr>\n",
              "    <tr>\n",
              "      <th>60001</th>\n",
              "      <td>5</td>\n",
              "      <td>134</td>\n",
              "      <td>2</td>\n",
              "      <td>2</td>\n",
              "      <td>0</td>\n",
              "      <td>1</td>\n",
              "      <td>0</td>\n",
              "      <td>0</td>\n",
              "      <td>33</td>\n",
              "      <td>0</td>\n",
              "      <td>1</td>\n",
              "      <td>5</td>\n",
              "      <td>1300</td>\n",
              "      <td>2</td>\n",
              "      <td>52</td>\n",
              "      <td>203</td>\n",
              "      <td>1</td>\n",
              "      <td>5</td>\n",
              "      <td>0</td>\n",
              "    </tr>\n",
              "    <tr>\n",
              "      <th>60002</th>\n",
              "      <td>5</td>\n",
              "      <td>1</td>\n",
              "      <td>0</td>\n",
              "      <td>0</td>\n",
              "      <td>0</td>\n",
              "      <td>0</td>\n",
              "      <td>0</td>\n",
              "      <td>0</td>\n",
              "      <td>1</td>\n",
              "      <td>0</td>\n",
              "      <td>0</td>\n",
              "      <td>1367</td>\n",
              "      <td>1169</td>\n",
              "      <td>2</td>\n",
              "      <td>52</td>\n",
              "      <td>203</td>\n",
              "      <td>1</td>\n",
              "      <td>5</td>\n",
              "      <td>0</td>\n",
              "    </tr>\n",
              "    <tr>\n",
              "      <th>60003</th>\n",
              "      <td>5</td>\n",
              "      <td>1</td>\n",
              "      <td>0</td>\n",
              "      <td>0</td>\n",
              "      <td>0</td>\n",
              "      <td>0</td>\n",
              "      <td>0</td>\n",
              "      <td>0</td>\n",
              "      <td>1</td>\n",
              "      <td>0</td>\n",
              "      <td>0</td>\n",
              "      <td>827</td>\n",
              "      <td>871</td>\n",
              "      <td>2</td>\n",
              "      <td>52</td>\n",
              "      <td>400</td>\n",
              "      <td>1</td>\n",
              "      <td>5</td>\n",
              "      <td>0</td>\n",
              "    </tr>\n",
              "    <tr>\n",
              "      <th>60004</th>\n",
              "      <td>5</td>\n",
              "      <td>15</td>\n",
              "      <td>23</td>\n",
              "      <td>0</td>\n",
              "      <td>0</td>\n",
              "      <td>0</td>\n",
              "      <td>92</td>\n",
              "      <td>0</td>\n",
              "      <td>40</td>\n",
              "      <td>0</td>\n",
              "      <td>0</td>\n",
              "      <td>1367</td>\n",
              "      <td>1169</td>\n",
              "      <td>2</td>\n",
              "      <td>52</td>\n",
              "      <td>203</td>\n",
              "      <td>1</td>\n",
              "      <td>5</td>\n",
              "      <td>0</td>\n",
              "    </tr>\n",
              "    <tr>\n",
              "      <th>...</th>\n",
              "      <td>...</td>\n",
              "      <td>...</td>\n",
              "      <td>...</td>\n",
              "      <td>...</td>\n",
              "      <td>...</td>\n",
              "      <td>...</td>\n",
              "      <td>...</td>\n",
              "      <td>...</td>\n",
              "      <td>...</td>\n",
              "      <td>...</td>\n",
              "      <td>...</td>\n",
              "      <td>...</td>\n",
              "      <td>...</td>\n",
              "      <td>...</td>\n",
              "      <td>...</td>\n",
              "      <td>...</td>\n",
              "      <td>...</td>\n",
              "      <td>...</td>\n",
              "      <td>...</td>\n",
              "    </tr>\n",
              "    <tr>\n",
              "      <th>21802</th>\n",
              "      <td>0</td>\n",
              "      <td>1</td>\n",
              "      <td>0</td>\n",
              "      <td>0</td>\n",
              "      <td>0</td>\n",
              "      <td>0</td>\n",
              "      <td>0</td>\n",
              "      <td>0</td>\n",
              "      <td>1</td>\n",
              "      <td>0</td>\n",
              "      <td>0</td>\n",
              "      <td>528</td>\n",
              "      <td>1291</td>\n",
              "      <td>2</td>\n",
              "      <td>8</td>\n",
              "      <td>148</td>\n",
              "      <td>1</td>\n",
              "      <td>5</td>\n",
              "      <td>1</td>\n",
              "    </tr>\n",
              "    <tr>\n",
              "      <th>57076</th>\n",
              "      <td>5</td>\n",
              "      <td>15</td>\n",
              "      <td>10</td>\n",
              "      <td>0</td>\n",
              "      <td>0</td>\n",
              "      <td>0</td>\n",
              "      <td>0</td>\n",
              "      <td>0</td>\n",
              "      <td>33</td>\n",
              "      <td>0</td>\n",
              "      <td>0</td>\n",
              "      <td>445</td>\n",
              "      <td>243</td>\n",
              "      <td>2</td>\n",
              "      <td>52</td>\n",
              "      <td>203</td>\n",
              "      <td>1</td>\n",
              "      <td>5</td>\n",
              "      <td>1</td>\n",
              "    </tr>\n",
              "    <tr>\n",
              "      <th>52450</th>\n",
              "      <td>5</td>\n",
              "      <td>15</td>\n",
              "      <td>5</td>\n",
              "      <td>0</td>\n",
              "      <td>0</td>\n",
              "      <td>0</td>\n",
              "      <td>0</td>\n",
              "      <td>0</td>\n",
              "      <td>41</td>\n",
              "      <td>1</td>\n",
              "      <td>0</td>\n",
              "      <td>49</td>\n",
              "      <td>265</td>\n",
              "      <td>2</td>\n",
              "      <td>52</td>\n",
              "      <td>203</td>\n",
              "      <td>1</td>\n",
              "      <td>5</td>\n",
              "      <td>1</td>\n",
              "    </tr>\n",
              "    <tr>\n",
              "      <th>41980</th>\n",
              "      <td>0</td>\n",
              "      <td>14</td>\n",
              "      <td>8</td>\n",
              "      <td>0</td>\n",
              "      <td>0</td>\n",
              "      <td>0</td>\n",
              "      <td>0</td>\n",
              "      <td>0</td>\n",
              "      <td>1</td>\n",
              "      <td>1</td>\n",
              "      <td>0</td>\n",
              "      <td>48</td>\n",
              "      <td>298</td>\n",
              "      <td>2</td>\n",
              "      <td>52</td>\n",
              "      <td>104</td>\n",
              "      <td>644</td>\n",
              "      <td>101</td>\n",
              "      <td>1</td>\n",
              "    </tr>\n",
              "    <tr>\n",
              "      <th>7583</th>\n",
              "      <td>11</td>\n",
              "      <td>27</td>\n",
              "      <td>13</td>\n",
              "      <td>6</td>\n",
              "      <td>1</td>\n",
              "      <td>0</td>\n",
              "      <td>0</td>\n",
              "      <td>0</td>\n",
              "      <td>33</td>\n",
              "      <td>0</td>\n",
              "      <td>0</td>\n",
              "      <td>48</td>\n",
              "      <td>298</td>\n",
              "      <td>2</td>\n",
              "      <td>52</td>\n",
              "      <td>336</td>\n",
              "      <td>644</td>\n",
              "      <td>101</td>\n",
              "      <td>1</td>\n",
              "    </tr>\n",
              "  </tbody>\n",
              "</table>\n",
              "<p>60000 rows × 19 columns</p>\n",
              "</div>\n",
              "      <button class=\"colab-df-convert\" onclick=\"convertToInteractive('df-7f9c39d1-55b5-455c-8c55-ddcb57b06789')\"\n",
              "              title=\"Convert this dataframe to an interactive table.\"\n",
              "              style=\"display:none;\">\n",
              "        \n",
              "  <svg xmlns=\"http://www.w3.org/2000/svg\" height=\"24px\"viewBox=\"0 0 24 24\"\n",
              "       width=\"24px\">\n",
              "    <path d=\"M0 0h24v24H0V0z\" fill=\"none\"/>\n",
              "    <path d=\"M18.56 5.44l.94 2.06.94-2.06 2.06-.94-2.06-.94-.94-2.06-.94 2.06-2.06.94zm-11 1L8.5 8.5l.94-2.06 2.06-.94-2.06-.94L8.5 2.5l-.94 2.06-2.06.94zm10 10l.94 2.06.94-2.06 2.06-.94-2.06-.94-.94-2.06-.94 2.06-2.06.94z\"/><path d=\"M17.41 7.96l-1.37-1.37c-.4-.4-.92-.59-1.43-.59-.52 0-1.04.2-1.43.59L10.3 9.45l-7.72 7.72c-.78.78-.78 2.05 0 2.83L4 21.41c.39.39.9.59 1.41.59.51 0 1.02-.2 1.41-.59l7.78-7.78 2.81-2.81c.8-.78.8-2.07 0-2.86zM5.41 20L4 18.59l7.72-7.72 1.47 1.35L5.41 20z\"/>\n",
              "  </svg>\n",
              "      </button>\n",
              "      \n",
              "  <style>\n",
              "    .colab-df-container {\n",
              "      display:flex;\n",
              "      flex-wrap:wrap;\n",
              "      gap: 12px;\n",
              "    }\n",
              "\n",
              "    .colab-df-convert {\n",
              "      background-color: #E8F0FE;\n",
              "      border: none;\n",
              "      border-radius: 50%;\n",
              "      cursor: pointer;\n",
              "      display: none;\n",
              "      fill: #1967D2;\n",
              "      height: 32px;\n",
              "      padding: 0 0 0 0;\n",
              "      width: 32px;\n",
              "    }\n",
              "\n",
              "    .colab-df-convert:hover {\n",
              "      background-color: #E2EBFA;\n",
              "      box-shadow: 0px 1px 2px rgba(60, 64, 67, 0.3), 0px 1px 3px 1px rgba(60, 64, 67, 0.15);\n",
              "      fill: #174EA6;\n",
              "    }\n",
              "\n",
              "    [theme=dark] .colab-df-convert {\n",
              "      background-color: #3B4455;\n",
              "      fill: #D2E3FC;\n",
              "    }\n",
              "\n",
              "    [theme=dark] .colab-df-convert:hover {\n",
              "      background-color: #434B5C;\n",
              "      box-shadow: 0px 1px 3px 1px rgba(0, 0, 0, 0.15);\n",
              "      filter: drop-shadow(0px 1px 2px rgba(0, 0, 0, 0.3));\n",
              "      fill: #FFFFFF;\n",
              "    }\n",
              "  </style>\n",
              "\n",
              "      <script>\n",
              "        const buttonEl =\n",
              "          document.querySelector('#df-7f9c39d1-55b5-455c-8c55-ddcb57b06789 button.colab-df-convert');\n",
              "        buttonEl.style.display =\n",
              "          google.colab.kernel.accessAllowed ? 'block' : 'none';\n",
              "\n",
              "        async function convertToInteractive(key) {\n",
              "          const element = document.querySelector('#df-7f9c39d1-55b5-455c-8c55-ddcb57b06789');\n",
              "          const dataTable =\n",
              "            await google.colab.kernel.invokeFunction('convertToInteractive',\n",
              "                                                     [key], {});\n",
              "          if (!dataTable) return;\n",
              "\n",
              "          const docLinkHtml = 'Like what you see? Visit the ' +\n",
              "            '<a target=\"_blank\" href=https://colab.research.google.com/notebooks/data_table.ipynb>data table notebook</a>'\n",
              "            + ' to learn more about interactive tables.';\n",
              "          element.innerHTML = '';\n",
              "          dataTable['output_type'] = 'display_data';\n",
              "          await google.colab.output.renderOutput(dataTable, element);\n",
              "          const docLink = document.createElement('div');\n",
              "          docLink.innerHTML = docLinkHtml;\n",
              "          element.appendChild(docLink);\n",
              "        }\n",
              "      </script>\n",
              "    </div>\n",
              "  </div>\n",
              "  "
            ]
          },
          "metadata": {},
          "execution_count": 392
        }
      ]
    },
    {
      "cell_type": "code",
      "source": [
        "df[catfields] = categoricalDfEncoded"
      ],
      "metadata": {
        "id": "eqao-FORUYS7"
      },
      "execution_count": null,
      "outputs": []
    },
    {
      "cell_type": "code",
      "source": [
        "renameDict = {\n",
        "       'data.http.result.response.headers.via':'Via',\n",
        "       'data.http.result.response.content_length': 'Content_Length',\n",
        "       'data.tls.result.handshake_log.server_certificates.certificate.parsed.issuer.organization':'Certificate_Issuer_Org',\n",
        "       'data.tls.result.handshake_log.server_certificates.certificate.parsed.issuer.country':'Certificate_Issuer_Country',\n",
        "       'data.http.result.response.status_code':'Status_Code',\n",
        "       'data.http.result.response.headers.server': 'Server',\n",
        "       'data.http.result.response.headers.connection':'Connection',\n",
        "       'data.http.result.response.headers.content_type':'Content_Type',\n",
        "       'data.http.result.response.headers.cache_control':'Cache_control',\n",
        "       'data.tls.result.handshake_log.server_certificates.certificate.parsed.subject.locality':'X.509_Subject_Locality',\n",
        "       'data.tls.result.handshake_log.server_certificates.certificate.parsed.subject.organization':'X.509_Subject _Org',\n",
        "       'data.http.result.response.headers.accept_ranges':'Accept_Ranges',\n",
        "       'data.http.result.response.headers.retry_after':'Retry_After',\n",
        "       'data.http.result.response.headers.location':'Location'\n",
        "}"
      ],
      "metadata": {
        "id": "QZaIErTQnOxc"
      },
      "execution_count": null,
      "outputs": []
    },
    {
      "cell_type": "code",
      "source": [
        "df.rename(columns=renameDict, errors=\"raise\",inplace=True)"
      ],
      "metadata": {
        "id": "4RgFSK3TUhg_"
      },
      "execution_count": null,
      "outputs": []
    },
    {
      "cell_type": "code",
      "execution_count": null,
      "metadata": {
        "id": "bW0nQJ3hphCX"
      },
      "outputs": [],
      "source": [
        "from sklearn.ensemble import RandomForestClassifier\n",
        "from sklearn.model_selection import train_test_split\n",
        "from sklearn.ensemble import RandomForestRegressor"
      ]
    },
    {
      "cell_type": "code",
      "execution_count": null,
      "metadata": {
        "id": "z4XntewYtd95"
      },
      "outputs": [],
      "source": [
        "vendor_encoded = df['vendor'].values"
      ]
    },
    {
      "cell_type": "code",
      "execution_count": null,
      "metadata": {
        "id": "JkDABE3fsED7"
      },
      "outputs": [],
      "source": [
        "df = df.drop(['vendor'],axis=1)"
      ]
    },
    {
      "cell_type": "code",
      "source": [
        "from imblearn.over_sampling import RandomOverSampler\n",
        "ros = RandomOverSampler(random_state=0)\n",
        "X_resampled, y_resampled = ros.fit_resample(df, vendor_encoded)"
      ],
      "metadata": {
        "id": "9G05eQ1eSULE"
      },
      "execution_count": null,
      "outputs": []
    },
    {
      "cell_type": "code",
      "execution_count": null,
      "metadata": {
        "id": "JtO-VC765RYp"
      },
      "outputs": [],
      "source": [
        "fields = df.columns.values"
      ]
    },
    {
      "cell_type": "code",
      "source": [
        "X_train, X_test, y_train, y_test = train_test_split(X_resampled,y_resampled,test_size=0.3,random_state=42)\n",
        "x_Eval, X_test, y_Eval, y_test = train_test_split(X_test,y_test,test_size = 0.33,random_state=42)"
      ],
      "metadata": {
        "id": "Kh84u78kepYV"
      },
      "execution_count": null,
      "outputs": []
    },
    {
      "cell_type": "code",
      "execution_count": null,
      "metadata": {
        "id": "8mkRp0KJp1Ci"
      },
      "outputs": [],
      "source": [
        "clf = RandomForestClassifier(max_depth=12)\n",
        "clf.fit(X_train, y_train) \n",
        "y_pred = clf.predict(X_test)"
      ]
    },
    {
      "cell_type": "code",
      "execution_count": null,
      "metadata": {
        "colab": {
          "base_uri": "https://localhost:8080/"
        },
        "id": "qoWaQ_d8Fx-P",
        "outputId": "0ce40e62-702d-4888-b81f-edd7e70168ca"
      },
      "outputs": [
        {
          "output_type": "stream",
          "name": "stdout",
          "text": [
            "[[2948    1]\n",
            " [   1 2990]]\n",
            "              precision    recall  f1-score   support\n",
            "\n",
            "           0       1.00      1.00      1.00      2949\n",
            "           1       1.00      1.00      1.00      2991\n",
            "\n",
            "    accuracy                           1.00      5940\n",
            "   macro avg       1.00      1.00      1.00      5940\n",
            "weighted avg       1.00      1.00      1.00      5940\n",
            "\n",
            "0.9996632996632997\n"
          ]
        }
      ],
      "source": [
        "from sklearn.metrics import classification_report,confusion_matrix,accuracy_score\n",
        "print(confusion_matrix(y_test,y_pred))\n",
        "print(classification_report(y_test,y_pred))\n",
        "print(accuracy_score(y_test,y_pred))"
      ]
    },
    {
      "cell_type": "code",
      "source": [
        "y_pred = clf.predict(x_Eval)"
      ],
      "metadata": {
        "id": "r9FeyD_JFPTI"
      },
      "execution_count": null,
      "outputs": []
    },
    {
      "cell_type": "code",
      "source": [
        "from sklearn.metrics import classification_report,confusion_matrix,accuracy_score\n",
        "print(confusion_matrix(y_Eval,y_pred))\n",
        "print(classification_report(y_Eval,y_pred))\n",
        "print(accuracy_score(y_Eval,y_pred))"
      ],
      "metadata": {
        "colab": {
          "base_uri": "https://localhost:8080/"
        },
        "id": "crz7m3yzE_Jd",
        "outputId": "c8b28845-108a-471e-dd36-f5bef0a76bb0"
      },
      "execution_count": null,
      "outputs": [
        {
          "output_type": "stream",
          "name": "stdout",
          "text": [
            "[[5994    1]\n",
            " [   2 6063]]\n",
            "              precision    recall  f1-score   support\n",
            "\n",
            "           0       1.00      1.00      1.00      5995\n",
            "           1       1.00      1.00      1.00      6065\n",
            "\n",
            "    accuracy                           1.00     12060\n",
            "   macro avg       1.00      1.00      1.00     12060\n",
            "weighted avg       1.00      1.00      1.00     12060\n",
            "\n",
            "0.9997512437810945\n"
          ]
        }
      ]
    },
    {
      "cell_type": "code",
      "source": [
        "from joblib import dump, load\n",
        "dump(clf, 'rndfrst.joblib') "
      ],
      "metadata": {
        "colab": {
          "base_uri": "https://localhost:8080/"
        },
        "id": "KXREWp2qRljs",
        "outputId": "2242882f-653c-4874-d2c0-de9eb2146daf"
      },
      "execution_count": null,
      "outputs": [
        {
          "output_type": "execute_result",
          "data": {
            "text/plain": [
              "['rndfrst.joblib']"
            ]
          },
          "metadata": {},
          "execution_count": 406
        }
      ]
    },
    {
      "cell_type": "code",
      "execution_count": null,
      "metadata": {
        "colab": {
          "base_uri": "https://localhost:8080/",
          "height": 722
        },
        "id": "CzF1MWJCp3Nv",
        "outputId": "0c6f577f-d31a-4c18-caab-d968ad3dd3dc"
      },
      "outputs": [
        {
          "output_type": "stream",
          "name": "stdout",
          "text": [
            "                   Feature  Importance\n",
            "12             Retry_After    0.010855\n",
            "11           Cache_control    0.011382\n",
            "2           Content_Length    0.015248\n",
            "4                SAN Count    0.018452\n",
            "18         data.tls.status    0.019340\n",
            "1     No of Who is Records    0.022600\n",
            "6                   Server    0.023725\n",
            "0       Most Recent Update    0.024520\n",
            "8               Connection    0.027191\n",
            "5                  netType    0.028267\n",
            "7              Status_Code    0.044192\n",
            "20  Certificate_Issuer_Org    0.074994\n",
            "3                  netSize    0.113306\n",
            "16                 as_name    0.172386\n",
            "17                   as_no    0.360381\n"
          ]
        },
        {
          "output_type": "display_data",
          "data": {
            "text/plain": [
              "<Figure size 216x504 with 1 Axes>"
            ],
            "image/png": "[encoded data removed]"
          },
          "metadata": {
            "needs_background": "light"
          }
        }
      ],
      "source": [
        "featureImportance(clf)"
      ]
    },
    {
      "cell_type": "code",
      "source": [
        "from sklearn.metrics import plot_confusion_matrix\n",
        "plot_confusion_matrix(clf, X_test, y_test)  "
      ],
      "metadata": {
        "colab": {
          "base_uri": "https://localhost:8080/",
          "height": 351
        },
        "id": "znHmpqp3iu9o",
        "outputId": "67a657de-e0ea-4914-9709-ec75e6c2f10f"
      },
      "execution_count": null,
      "outputs": [
        {
          "output_type": "stream",
          "name": "stderr",
          "text": [
            "/usr/local/lib/python3.7/dist-packages/sklearn/utils/deprecation.py:87: FutureWarning: Function plot_confusion_matrix is deprecated; Function `plot_confusion_matrix` is deprecated in 1.0 and will be removed in 1.2. Use one of the class methods: ConfusionMatrixDisplay.from_predictions or ConfusionMatrixDisplay.from_estimator.\n",
            "  warnings.warn(msg, category=FutureWarning)\n"
          ]
        },
        {
          "output_type": "execute_result",
          "data": {
            "text/plain": [
              "<sklearn.metrics._plot.confusion_matrix.ConfusionMatrixDisplay at 0x7f654d0fbd90>"
            ]
          },
          "metadata": {},
          "execution_count": 408
        },
        {
          "output_type": "display_data",
          "data": {
            "text/plain": [
              "<Figure size 432x288 with 2 Axes>"
            ],
            "image/png": "[encoded data removed]"
          },
          "metadata": {
            "needs_background": "light"
          }
        }
      ]
    }
  ],
  "metadata": {
    "colab": {
      "collapsed_sections": [],
      "name": "Feature Importance Per Class.ipynb",
      "provenance": []
    },
    "kernelspec": {
      "display_name": "Python 3",
      "name": "python3"
    },
    "language_info": {
      "name": "python"
    }
  },
  "nbformat": 4,
  "nbformat_minor": 0
}