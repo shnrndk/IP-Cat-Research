{
  "cells": [
    {
      "cell_type": "code",
      "execution_count": null,
      "metadata": {
        "id": "fgw7T-4hX8AR"
      },
      "outputs": [],
      "source": [
        "import pandas as pd\n",
        "import matplotlib.pyplot as plt\n",
        "import numpy as np\n",
        "from sklearn import preprocessing\n",
        "le = preprocessing.LabelEncoder()\n",
        "import math \n",
        "from ast import literal_eval\n",
        "import pickle"
      ]
    },
    {
      "cell_type": "code",
      "execution_count": null,
      "metadata": {
        "colab": {
          "base_uri": "https://localhost:8080/"
        },
        "id": "CxfA0b8DY_h9",
        "outputId": "8415ddb3-08eb-4073-bbe9-7d1dab2f31bf"
      },
      "outputs": [
        {
          "output_type": "stream",
          "name": "stdout",
          "text": [
            "Mounted at /content/drive\n"
          ]
        }
      ],
      "source": [
        "from google.colab import drive\n",
        "drive.mount('/content/drive')"
      ]
    },
    {
      "cell_type": "code",
      "execution_count": null,
      "metadata": {
        "id": "iesv91TgZC27"
      },
      "outputs": [],
      "source": [
        "!cp  /content/drive/MyDrive/Updated_Dateset_v5.zip /content/"
      ]
    },
    {
      "cell_type": "code",
      "execution_count": null,
      "metadata": {
        "colab": {
          "base_uri": "https://localhost:8080/"
        },
        "id": "-oPfaWAKaTho",
        "outputId": "03eb391c-9dd8-4a1f-be8b-275d3742108d"
      },
      "outputs": [
        {
          "output_type": "stream",
          "name": "stdout",
          "text": [
            "Archive:  Updated_Dateset_v5.zip\n",
            "  inflating: cdn_final_final.csv     \n",
            "  inflating: cloud_final_final.csv   \n",
            "  inflating: hosting_final_final.csv  \n",
            "  inflating: proxy_final_final.csv   \n",
            "  inflating: vpn_final_final.csv     \n"
          ]
        }
      ],
      "source": [
        "!unzip  Updated_Dateset_v5.zip"
      ]
    },
    {
      "cell_type": "code",
      "execution_count": null,
      "metadata": {
        "colab": {
          "base_uri": "https://localhost:8080/"
        },
        "id": "O_EYS5ZkZEfH",
        "outputId": "2e01776c-0887-4fb0-ffd2-c95b2c7a4441"
      },
      "outputs": [
        {
          "output_type": "stream",
          "name": "stderr",
          "text": [
            "/usr/local/lib/python3.7/dist-packages/IPython/core/interactiveshell.py:2882: DtypeWarning: Columns (25) have mixed types.Specify dtype option on import or set low_memory=False.\n",
            "  exec(code_obj, self.user_global_ns, self.user_ns)\n",
            "/usr/local/lib/python3.7/dist-packages/IPython/core/interactiveshell.py:2882: DtypeWarning: Columns (31) have mixed types.Specify dtype option on import or set low_memory=False.\n",
            "  exec(code_obj, self.user_global_ns, self.user_ns)\n"
          ]
        }
      ],
      "source": [
        "sample_size = 30000\n",
        "df = pd.read_csv('cdn_final_final.csv')\n",
        "#df['vendor']= ['cdn' for x in range(df.shape[0])]\n",
        "df = df.sample(n = sample_size)\n",
        "df1 = pd.read_csv('cloud_final_final.csv')\n",
        "#df1['vendor']= ['cloud' for x in range(df1.shape[0])]\n",
        "df1 = df1.sample(n = sample_size)\n",
        "df2 = pd.read_csv('hosting_final_final.csv')\n",
        "#df2['vendor']= ['hosting' for x in range(df2.shape[0])]\n",
        "df2 = df2.sample(n = sample_size)\n",
        "df3 = pd.read_csv('vpn_final_final.csv')\n",
        "#df3['vendor']= ['vpn' for x in range(df3.shape[0])]\n",
        "#df3 = df3.sample(n = 15000)\n",
        "df4 = pd.read_csv('proxy_final_final.csv')\n",
        "#df4 = df4.sample(n = 9200)\n",
        "\n",
        "df = df.append([df1,df2,df3,df4],ignore_index=True)"
      ]
    },
    {
      "cell_type": "code",
      "source": [
        "df['vendor']"
      ],
      "metadata": {
        "colab": {
          "base_uri": "https://localhost:8080/"
        },
        "id": "stBGTGaeHjzo",
        "outputId": "d734c776-9b6d-45ae-986d-a0361909ac9a"
      },
      "execution_count": null,
      "outputs": [
        {
          "output_type": "execute_result",
          "data": {
            "text/plain": [
              "0           cdn\n",
              "1           cdn\n",
              "2           cdn\n",
              "3           cdn\n",
              "4           cdn\n",
              "          ...  \n",
              "121048    proxy\n",
              "121049    proxy\n",
              "121050    proxy\n",
              "121051    proxy\n",
              "121052    proxy\n",
              "Name: vendor, Length: 121053, dtype: object"
            ]
          },
          "metadata": {},
          "execution_count": 48
        }
      ]
    },
    {
      "cell_type": "code",
      "source": [
        "df['vendor'].value_counts()"
      ],
      "metadata": {
        "colab": {
          "base_uri": "https://localhost:8080/"
        },
        "id": "ofETfQaKExgz",
        "outputId": "d9f74b4c-febc-4453-f026-ea928d49298c"
      },
      "execution_count": null,
      "outputs": [
        {
          "output_type": "execute_result",
          "data": {
            "text/plain": [
              "cdn        30000\n",
              "cloud      30000\n",
              "hosting    30000\n",
              "vpn        21853\n",
              "proxy       9200\n",
              "Name: vendor, dtype: int64"
            ]
          },
          "metadata": {},
          "execution_count": 49
        }
      ]
    },
    {
      "cell_type": "code",
      "execution_count": null,
      "metadata": {
        "colab": {
          "base_uri": "https://localhost:8080/"
        },
        "id": "QyUE8peM-qcJ",
        "outputId": "bf5b15a1-81a5-4ba3-a991-9cd1f9f5e7ec"
      },
      "outputs": [
        {
          "output_type": "execute_result",
          "data": {
            "text/plain": [
              "Index(['ip', 'No Of Owners', 'CIDR', 'netType', 'Organization',\n",
              "       'Most Recent Update', 'No of Who is Records',\n",
              "       'data.http.result.response.headers.server.0',\n",
              "       'data.http.result.response.status_code',\n",
              "       'data.http.result.response.headers.unknown.0.key',\n",
              "       'data.http.result.response.headers.unknown.0.value.0',\n",
              "       'data.http.result.response.headers.connection.0',\n",
              "       'data.http.result.response.headers.via.0',\n",
              "       'data.http.result.response.headers.unknown.1.key',\n",
              "       'data.http.result.response.headers.unknown.1.value.0',\n",
              "       'data.http.result.response.headers.accept_ranges.0',\n",
              "       'data.http.result.response.headers.cache_control.0',\n",
              "       'data.http.result.response.headers.retry_after.0',\n",
              "       'data.http.result.response.body',\n",
              "       'data.http.result.response.body_sha256',\n",
              "       'data.http.result.response.content_length',\n",
              "       'data.http.result.response.headers.content_type.0',\n",
              "       'data.http.result.response.headers.location.0',\n",
              "       'data.http.result.redirect_response_chain.0.status_line',\n",
              "       'data.http.result.response.headers.etag.0',\n",
              "       'data.http.result.response.headers.last_modified.0',\n",
              "       'data.http.result.response.headers.vary.0',\n",
              "       'data.http.result.response.transfer_encoding.0',\n",
              "       'data.http.result.response.headers.x_powered_by.0',\n",
              "       'data.http.result.response.headers.pragma.0',\n",
              "       'data.http.result.redirect_response_chain.0.headers.server.0',\n",
              "       'as_name', 'as_no', 'data.tls.status',\n",
              "       'data.tls.result.handshake_log.server_certificates.certificate.parsed.issuer.common_name',\n",
              "       'data.tls.result.handshake_log.server_certificates.certificate.parsed.issuer.country',\n",
              "       'data.tls.result.handshake_log.server_certificates.certificate.parsed.issuer.organization',\n",
              "       'data.tls.result.handshake_log.server_certificates.certificate.parsed.issuer_dn',\n",
              "       'data.tls.result.handshake_log.server_certificates.certificate.parsed.subject.common_name',\n",
              "       'data.tls.result.handshake_log.server_certificates.certificate.parsed.subject.country',\n",
              "       'data.tls.result.handshake_log.server_certificates.certificate.parsed.subject.locality',\n",
              "       'data.tls.result.handshake_log.server_certificates.certificate.parsed.subject.province',\n",
              "       'data.tls.result.handshake_log.server_certificates.certificate.parsed.subject.organization',\n",
              "       'data.tls.result.handshake_log.server_certificates.certificate.parsed.subject_dn',\n",
              "       'data.tls.result.handshake_log.server_certificates.certificate.parsed.extensions.subject_alt_name.dns_names',\n",
              "       'vendor', 'Unnamed: 0_y'],\n",
              "      dtype='object')"
            ]
          },
          "metadata": {},
          "execution_count": 50
        }
      ],
      "source": [
        "df.columns"
      ]
    },
    {
      "cell_type": "code",
      "execution_count": null,
      "metadata": {
        "id": "P44b1L2Vkzu2"
      },
      "outputs": [],
      "source": [
        "renameDict = {\n",
        "       'data.http.result.response.headers.server.0':'data.http.result.response.headers.server',\n",
        "       'data.http.result.response.headers.connection.0':'data.http.result.response.headers.connection',\n",
        "       'data.http.result.response.headers.via.0':'data.http.result.response.headers.via',\n",
        "       'data.http.result.response.headers.accept_ranges.0': 'data.http.result.response.headers.accept_ranges',\n",
        "       'data.http.result.response.headers.cache_control.0':'data.http.result.response.headers.cache_control',\n",
        "       'data.http.result.response.headers.retry_after.0':'data.http.result.response.headers.retry_after',\n",
        "       'data.http.result.response.headers.content_type.0':'data.http.result.response.headers.content_type',\n",
        "       'data.http.result.response.headers.location.0': 'data.http.result.response.headers.location',\n",
        "       'data.http.result.redirect_response_chain.0.status_line':'data.http.result.redirect_response_chain.status_line',\n",
        "       'data.http.result.response.headers.etag.0':'data.http.result.response.headers.etag',\n",
        "       'data.http.result.response.headers.last_modified.0':'data.http.result.response.headers.last_modified',\n",
        "       'data.http.result.response.headers.vary.0':'data.http.result.response.headers.vary',\n",
        "       'data.http.result.response.transfer_encoding.0': 'data.http.result.response.transfer_encoding',\n",
        "       'data.http.result.response.headers.x_powered_by.0':'data.http.result.response.headers.x_powered_by',\n",
        "       'data.http.result.response.headers.pragma.0':'data.http.result.response.headers.pragma',\n",
        "       'data.http.result.redirect_response_chain.0.headers.server.0':'data.http.result.redirect_response_chain.headers.server'\n",
        "}"
      ]
    },
    {
      "cell_type": "code",
      "execution_count": null,
      "metadata": {
        "id": "JGOk6eh1krLy"
      },
      "outputs": [],
      "source": [
        "df.rename(columns=renameDict, errors=\"raise\",inplace=True)"
      ]
    },
    {
      "cell_type": "code",
      "execution_count": null,
      "metadata": {
        "id": "oAnji2jLQb5P"
      },
      "outputs": [],
      "source": [
        "catfields = [ 'netType', \n",
        "              #'Organization',\n",
        "              'data.http.result.response.headers.server',\n",
        "               'data.http.result.response.status_code',\n",
        "              'data.http.result.response.headers.connection',\n",
        "              'data.http.result.response.headers.via',\n",
        "              'data.http.result.response.headers.accept_ranges',\n",
        "              'data.http.result.response.headers.cache_control',\n",
        "              'data.http.result.response.headers.retry_after',\n",
        "             # 'data.http.result.response.body',\n",
        "             # 'data.http.result.response.body_sha256',\n",
        "              'data.http.result.response.headers.content_type',\n",
        "              'data.http.result.response.headers.location',\n",
        "             # 'data.http.result.redirect_response_chain.status_line',\n",
        "              'data.http.result.response.headers.etag',\n",
        "              #'data.http.result.response.headers.vary',\n",
        "              #'data.http.result.response.transfer_encoding',\n",
        "             # 'data.http.result.response.headers.x_powered_by',\n",
        "              #'data.http.result.response.headers.pragma',\n",
        "              'as_name', 'as_no',\n",
        "              'data.tls.status',\n",
        "              'data.tls.result.handshake_log.server_certificates.certificate.parsed.issuer.country',\n",
        "              'data.tls.result.handshake_log.server_certificates.certificate.parsed.issuer.organization',\n",
        "              #'data.tls.result.handshake_log.server_certificates.certificate.parsed.subject.common_name',\n",
        "              #'data.tls.result.handshake_log.server_certificates.certificate.parsed.subject.country',\n",
        "              'data.tls.result.handshake_log.server_certificates.certificate.parsed.subject.locality',\n",
        "              #'data.tls.result.handshake_log.server_certificates.certificate.parsed.subject.province',\n",
        "              'data.tls.result.handshake_log.server_certificates.certificate.parsed.subject.organization',\n",
        "              'vendor'\n",
        "       ]"
      ]
    },
    {
      "cell_type": "code",
      "execution_count": null,
      "metadata": {
        "id": "oa7wrfDjZM6T"
      },
      "outputs": [],
      "source": [
        "def getgeneralCloudfront(x):\n",
        "  if('(CloudFront)' in str(x)):\n",
        "      return 'CloudFront'\n",
        "  else:\n",
        "      return x\n",
        "\n",
        "def getgeneralServerNames(x):\n",
        "  if('nginx' in str(x)):\n",
        "      return 'nginx'\n",
        "  elif('Apache' in str(x)):\n",
        "      return 'Apache'\n",
        "  else:\n",
        "      return x\n",
        "\n",
        "def getgeneralphp(x):\n",
        "  if (pd.isna(x)):\n",
        "    return -1\n",
        "  else:\n",
        "    if('PHP' in x):\n",
        "      return 'PHP'\n",
        "\n",
        "def changenullaszero(x):\n",
        "  if (pd.isna(x)): \n",
        "    return -1\n",
        "  else:\n",
        "    return 1\n",
        "\n",
        "def getCIDRBlockLength(ipadd):\n",
        "   if(pd.isna(ipadd)):\n",
        "     return 0\n",
        "   else:\n",
        "      if(len(ipadd.split(','))==1):\n",
        "        return (2**(32-int(ipadd.split('/')[1])))\n",
        "      else:\n",
        "        sum=0\n",
        "        for i in ipadd.split(','):\n",
        "          sum=sum + (2**(32-int(i.split('/')[1])))\n",
        "        return sum \n",
        "\n",
        "def arrayLiteral(stringarray):\n",
        "  if(pd.isna(stringarray)):\n",
        "     return 0\n",
        "  return len(literal_eval(stringarray))\n",
        "\n",
        "def removeSquareBrackets(text):\n",
        "  if(pd.isna(text)):\n",
        "     return -1\n",
        "  return literal_eval(text)[0];\n",
        "\n",
        "def featureImportance(clf):\n",
        "  importance = clf.feature_importances_\n",
        "  importancelist = []\n",
        "  for i,v in enumerate(importance):\n",
        "    importancelist.append([df.columns[i],v])\n",
        "  importantdf = pd.DataFrame(importancelist)\n",
        "  importantdf.columns = ['Feature','Importance']\n",
        "  ax = importantdf.plot.barh(x='Feature', y='Importance', rot=0,figsize=(10,20))"
      ]
    },
    {
      "cell_type": "code",
      "source": [
        "df['data.http.result.response.headers.retry_after'].value_counts()"
      ],
      "metadata": {
        "colab": {
          "base_uri": "https://localhost:8080/"
        },
        "id": "1GdtwqjZbPF_",
        "outputId": "aa587b14-89ba-482c-f6a8-123ae01f423e"
      },
      "execution_count": null,
      "outputs": [
        {
          "output_type": "execute_result",
          "data": {
            "text/plain": [
              "0.0        5054\n",
              "86400.0      15\n",
              "5.0          12\n",
              "3600.0        7\n",
              "300.0         5\n",
              "600.0         1\n",
              "84600.0       1\n",
              "900.0         1\n",
              "Name: data.http.result.response.headers.retry_after, dtype: int64"
            ]
          },
          "metadata": {},
          "execution_count": 55
        }
      ]
    },
    {
      "cell_type": "code",
      "execution_count": null,
      "metadata": {
        "id": "V-k_-3CAZbNN"
      },
      "outputs": [],
      "source": [
        "#df['data.http.result.response.headers.via']  = df[\"data.http.result.response.headers.via\"].apply(getgeneralCloudfront)\n",
        "df['data.http.result.response.status_code'].fillna(-1, inplace=True)\n",
        "df['data.http.result.response.headers.pragma'].fillna(-1, inplace=True)\n",
        "df['data.http.result.response.headers.connection'].fillna(-1, inplace=True)\n",
        "df['data.http.result.response.headers.via']  = df[\"data.http.result.response.headers.via\"].apply(changenullaszero)\n",
        "df['data.http.result.response.headers.via'].fillna(-1, inplace=True)\n",
        "df['data.http.result.response.headers.accept_ranges'].fillna(-1, inplace=True)\n",
        "df['data.http.result.response.headers.cache_control'].fillna(-1, inplace=True)\n",
        "df['data.http.result.response.headers.retry_after'].fillna(-1, inplace=True)\n",
        "df['data.http.result.response.body']  = df[\"data.http.result.response.body\"].apply(changenullaszero)\n",
        "df['data.http.result.response.body_sha256']  = df['data.http.result.response.body_sha256'].apply(changenullaszero)\n",
        "df['data.http.result.response.content_length'].fillna(0, inplace=True)\n",
        "df['data.http.result.response.headers.content_type'].fillna(-1, inplace=True)\n",
        "df['data.http.result.response.headers.location'] = df['data.http.result.response.headers.location'].apply(changenullaszero)\n",
        "df['data.http.result.redirect_response_chain.status_line'].fillna(-1, inplace=True)\n",
        "df['data.http.result.response.headers.etag'] = df['data.http.result.response.headers.etag'].apply(changenullaszero)\n",
        "df['data.http.result.response.headers.last_modified']  = df['data.http.result.response.headers.last_modified'].apply(changenullaszero)\n",
        "df['data.http.result.response.headers.vary'].fillna(-1, inplace=True)\n",
        "df['data.http.result.response.transfer_encoding'].fillna(-1, inplace=True)\n",
        "df['data.http.result.response.headers.x_powered_by']  = df['data.http.result.response.headers.x_powered_by'].apply(getgeneralphp)\n",
        "#df['data.http.result.response.headers.x_powered_by'].fillna(-1, inplace=True)\n",
        "\n",
        "df['data.http.result.response.headers.server']  = df['data.http.result.response.headers.server'].apply(getgeneralServerNames)\n",
        "df['data.http.result.response.headers.server'].fillna(-1, inplace=True)"
      ]
    },
    {
      "cell_type": "code",
      "execution_count": null,
      "metadata": {
        "id": "HDt9GIfbZc3r"
      },
      "outputs": [],
      "source": [
        "# df['data.http.result.response.headers.server'] = le.fit_transform(df['data.http.result.response.headers.server'].astype(str))\n",
        "# df['data.http.result.response.status_code'] = le.fit_transform(df['data.http.result.response.status_code'].astype(str))\n",
        "# df['data.http.result.response.headers.connection'] = le.fit_transform(df['data.http.result.response.headers.connection'].astype(str))\n",
        "# df['data.http.result.response.headers.via'] = le.fit_transform(df['data.http.result.response.headers.via'].astype(str))\n",
        "# df['data.http.result.response.headers.accept_ranges'] = le.fit_transform(df['data.http.result.response.headers.accept_ranges'].astype(str))\n",
        "# df['data.http.result.response.headers.cache_control'] = le.fit_transform(df['data.http.result.response.headers.cache_control'].astype(str))\n",
        "# df['data.http.result.response.headers.retry_after'] = le.fit_transform(df['data.http.result.response.headers.retry_after'].astype(str))\n",
        "# df['data.http.result.response.body'] = le.fit_transform(df['data.http.result.response.body'].astype(str))\n",
        "# df['data.http.result.response.body_sha256'] = le.fit_transform(df['data.http.result.response.body_sha256'].astype(str))\n",
        "# df['data.http.result.response.headers.content_type'] = le.fit_transform(df['data.http.result.response.headers.content_type'].astype(str))\n",
        "\n",
        "# df['data.http.result.response.headers.location'] = le.fit_transform(df['data.http.result.response.headers.location'].astype(str))\n",
        "# df['data.http.result.redirect_response_chain.status_line'] = le.fit_transform(df['data.http.result.redirect_response_chain.status_line'].astype(str))\n",
        "# df['data.http.result.response.headers.etag'] = le.fit_transform(df['data.http.result.response.headers.etag'].astype(str))\n",
        "# df['data.http.result.response.headers.last_modified'] = le.fit_transform(df['data.http.result.response.headers.last_modified'].astype(str))\n",
        "# df['data.http.result.response.headers.vary'] = le.fit_transform(df['data.http.result.response.headers.vary'].astype(str))\n",
        "# df['data.http.result.response.transfer_encoding'] = le.fit_transform(df['data.http.result.response.transfer_encoding'].astype(str))\n",
        "\n",
        "# df['data.http.result.response.headers.x_powered_by'] = le.fit_transform(df['data.http.result.response.headers.x_powered_by'].astype(str))\n",
        "# df['data.http.result.response.headers.pragma'] = le.fit_transform(df['data.http.result.response.headers.pragma'].astype(str))\n",
        "# df['as_name'] = le.fit_transform(df['as_name'].astype(str))\n",
        "\n",
        "# df['as_no'] = le.fit_transform(df['as_no'].astype(str))\n",
        "# df['vendor'] = le.fit_transform(df['vendor'].astype(str))\n",
        "# vendorEncodings = le.classes_"
      ]
    },
    {
      "cell_type": "code",
      "execution_count": null,
      "metadata": {
        "id": "oPo1n3l6UnNO"
      },
      "outputs": [],
      "source": [
        "#df['data.tls.result.handshake_log.server_certificates.certificate.parsed.subject.common_name']  =  df['data.tls.result.handshake_log.server_certificates.certificate.parsed.subject.common_name'].apply(changenullaszero)"
      ]
    },
    {
      "cell_type": "code",
      "execution_count": null,
      "metadata": {
        "id": "i__Rjbdmjwnr"
      },
      "outputs": [],
      "source": [
        "df['netSize']  = df[\"CIDR\"].apply(getCIDRBlockLength)\n",
        "df['data.tls.result.handshake_log.server_certificates.certificate.parsed.issuer.common_name']  =  df['data.tls.result.handshake_log.server_certificates.certificate.parsed.issuer.common_name'].apply(removeSquareBrackets)\n",
        "df['data.tls.result.handshake_log.server_certificates.certificate.parsed.issuer.country']  =  df['data.tls.result.handshake_log.server_certificates.certificate.parsed.issuer.country'].apply(removeSquareBrackets)\n",
        "df['data.tls.result.handshake_log.server_certificates.certificate.parsed.issuer.organization']  =  df['data.tls.result.handshake_log.server_certificates.certificate.parsed.issuer.organization'].apply(removeSquareBrackets)\n",
        "df['data.tls.result.handshake_log.server_certificates.certificate.parsed.subject.common_name']  =  df['data.tls.result.handshake_log.server_certificates.certificate.parsed.subject.common_name'].apply(removeSquareBrackets)\n",
        "df['data.tls.result.handshake_log.server_certificates.certificate.parsed.subject.country']  =  df['data.tls.result.handshake_log.server_certificates.certificate.parsed.subject.country'].apply(removeSquareBrackets)\n",
        "df['data.tls.result.handshake_log.server_certificates.certificate.parsed.subject.province']  =  df['data.tls.result.handshake_log.server_certificates.certificate.parsed.subject.province'].apply(removeSquareBrackets)\n",
        "df['data.tls.result.handshake_log.server_certificates.certificate.parsed.subject.locality']  =  df['data.tls.result.handshake_log.server_certificates.certificate.parsed.subject.locality'].apply(removeSquareBrackets)\n",
        "df['data.tls.result.handshake_log.server_certificates.certificate.parsed.subject.organization']  =  df['data.tls.result.handshake_log.server_certificates.certificate.parsed.subject.organization'].apply(removeSquareBrackets)\n",
        "df['SAN Count']  =  df['data.tls.result.handshake_log.server_certificates.certificate.parsed.extensions.subject_alt_name.dns_names'].apply(arrayLiteral)"
      ]
    },
    {
      "cell_type": "code",
      "execution_count": null,
      "metadata": {
        "id": "lr35q976jrhw"
      },
      "outputs": [],
      "source": [
        "df['Organization'].fillna(-1, inplace=True)\n",
        "df['netType'].fillna(-1, inplace=True)\n",
        "df['No of Who is Records'].fillna(0, inplace=True)\n",
        "df['Most Recent Update'].fillna(0, inplace=True)"
      ]
    },
    {
      "cell_type": "code",
      "execution_count": null,
      "metadata": {
        "id": "Y5KySBSLjjCQ"
      },
      "outputs": [],
      "source": [
        "# df['Organization'] = le.fit_transform(df['Organization'].astype(str))\n",
        "# df['netType'] = le.fit_transform(df['netType'].astype(str))\n",
        "\n",
        "# df['data.tls.result.handshake_log.server_certificates.certificate.parsed.issuer.common_name'] = le.fit_transform(df['data.tls.result.handshake_log.server_certificates.certificate.parsed.issuer.common_name'].astype(str))\n",
        "# df['data.tls.result.handshake_log.server_certificates.certificate.parsed.issuer.country'] = le.fit_transform(df['data.tls.result.handshake_log.server_certificates.certificate.parsed.issuer.country'].astype(str))\n",
        "# df['data.tls.result.handshake_log.server_certificates.certificate.parsed.issuer.organization'] = le.fit_transform(df['data.tls.result.handshake_log.server_certificates.certificate.parsed.issuer.organization'].astype(str))\n",
        "# df['data.tls.result.handshake_log.server_certificates.certificate.parsed.subject.common_name'] = le.fit_transform(df['data.tls.result.handshake_log.server_certificates.certificate.parsed.subject.common_name'].astype(str))\n",
        "# df['data.tls.result.handshake_log.server_certificates.certificate.parsed.subject.country'] = le.fit_transform(df['data.tls.result.handshake_log.server_certificates.certificate.parsed.subject.country'].astype(str))\n",
        "# df['data.tls.result.handshake_log.server_certificates.certificate.parsed.subject.province'] = le.fit_transform(df['data.tls.result.handshake_log.server_certificates.certificate.parsed.subject.province'].astype(str))\n",
        "# df['data.tls.result.handshake_log.server_certificates.certificate.parsed.subject.locality'] = le.fit_transform(df['data.tls.result.handshake_log.server_certificates.certificate.parsed.subject.locality'].astype(str))\n",
        "# df['data.tls.result.handshake_log.server_certificates.certificate.parsed.subject.organization'] = le.fit_transform(df['data.tls.result.handshake_log.server_certificates.certificate.parsed.subject.organization'].astype(str))\n",
        "# df['data.tls.status'] = le.fit_transform(df['data.tls.status'].astype(str))"
      ]
    },
    {
      "cell_type": "code",
      "execution_count": null,
      "metadata": {
        "id": "-zIWNIXcn_EV"
      },
      "outputs": [],
      "source": [
        "df = df.drop(['data.tls.result.handshake_log.server_certificates.certificate.parsed.issuer_dn'],axis=1)\n",
        "df = df.drop(['data.tls.result.handshake_log.server_certificates.certificate.parsed.subject_dn'],axis=1)\n",
        "df = df.drop(['data.tls.result.handshake_log.server_certificates.certificate.parsed.extensions.subject_alt_name.dns_names'],axis=1)\n",
        "df = df.drop(['No Of Owners'],axis=1)\n",
        "df = df.drop(['CIDR'],axis=1)\n",
        "df = df.drop(['data.http.result.response.headers.unknown.0.key'],axis=1)\n",
        "df = df.drop(['data.http.result.response.headers.unknown.0.value.0'],axis=1)\n",
        "df = df.drop(['data.http.result.response.headers.unknown.1.key'],axis=1)\n",
        "df = df.drop(['data.http.result.response.headers.unknown.1.value.0'],axis=1)\n",
        "df = df.drop(['ip'],axis=1)\n",
        "df = df.drop(['Unnamed: 0_y'],axis=1)\n",
        "df = df.drop(['data.tls.result.handshake_log.server_certificates.certificate.parsed.issuer.common_name'],axis=1)\n",
        "\n",
        "\n",
        "#Reducing the Insignificant Features\n",
        "df = df.drop(['data.http.result.response.transfer_encoding'],axis=1)\n",
        "df = df.drop(['data.http.result.response.headers.x_powered_by'],axis=1)\n",
        "df = df.drop(['data.http.result.response.headers.pragma'],axis=1)\n",
        "df = df.drop(['data.http.result.redirect_response_chain.headers.server'],axis=1)\n",
        "df = df.drop(['data.http.result.redirect_response_chain.status_line'],axis=1)\n",
        "df = df.drop(['data.http.result.response.headers.last_modified'],axis=1)\n",
        "df = df.drop(['data.http.result.response.body_sha256'],axis=1)\n",
        "df = df.drop(['data.http.result.response.headers.vary'],axis=1)\n",
        "df = df.drop(['data.http.result.response.body'],axis=1)\n",
        "\n",
        "df = df.drop(['data.tls.result.handshake_log.server_certificates.certificate.parsed.subject.country'],axis=1)\n",
        "df = df.drop(['data.tls.result.handshake_log.server_certificates.certificate.parsed.subject.province'],axis=1)\n",
        "df = df.drop(['data.tls.result.handshake_log.server_certificates.certificate.parsed.subject.common_name'],axis=1)\n",
        "\n",
        "#Unsure Significant Features\n",
        "df = df.drop(['Organization'],axis=1)"
      ]
    },
    {
      "cell_type": "code",
      "execution_count": null,
      "metadata": {
        "colab": {
          "base_uri": "https://localhost:8080/"
        },
        "id": "rJhcinAPY2ok",
        "outputId": "8afcd3a1-506b-4951-bdea-82186274f710"
      },
      "outputs": [
        {
          "output_type": "execute_result",
          "data": {
            "text/plain": [
              "Index(['netType', 'Most Recent Update', 'No of Who is Records',\n",
              "       'data.http.result.response.headers.server',\n",
              "       'data.http.result.response.status_code',\n",
              "       'data.http.result.response.headers.connection',\n",
              "       'data.http.result.response.headers.via',\n",
              "       'data.http.result.response.headers.accept_ranges',\n",
              "       'data.http.result.response.headers.cache_control',\n",
              "       'data.http.result.response.headers.retry_after',\n",
              "       'data.http.result.response.content_length',\n",
              "       'data.http.result.response.headers.content_type',\n",
              "       'data.http.result.response.headers.location',\n",
              "       'data.http.result.response.headers.etag', 'as_name', 'as_no',\n",
              "       'data.tls.status',\n",
              "       'data.tls.result.handshake_log.server_certificates.certificate.parsed.issuer.country',\n",
              "       'data.tls.result.handshake_log.server_certificates.certificate.parsed.issuer.organization',\n",
              "       'data.tls.result.handshake_log.server_certificates.certificate.parsed.subject.locality',\n",
              "       'data.tls.result.handshake_log.server_certificates.certificate.parsed.subject.organization',\n",
              "       'vendor', 'netSize', 'SAN Count'],\n",
              "      dtype='object')"
            ]
          },
          "metadata": {},
          "execution_count": 63
        }
      ],
      "source": [
        "df.columns"
      ]
    },
    {
      "cell_type": "code",
      "execution_count": null,
      "metadata": {
        "id": "wTeFzZULgcBg"
      },
      "outputs": [],
      "source": [
        "# import datetime"
      ]
    },
    {
      "cell_type": "code",
      "execution_count": null,
      "metadata": {
        "id": "ONMJoG2Hhvcf"
      },
      "outputs": [],
      "source": [
        ""
      ]
    },
    {
      "cell_type": "code",
      "execution_count": null,
      "metadata": {
        "colab": {
          "base_uri": "https://localhost:8080/"
        },
        "id": "yhAt6zxv3Xvv",
        "outputId": "1491472a-973e-4e65-d4ff-b832795dc7de"
      },
      "outputs": [
        {
          "output_type": "execute_result",
          "data": {
            "text/plain": [
              "-1    9113\n",
              " 1      87\n",
              "Name: data.http.result.response.headers.location, dtype: int64"
            ]
          },
          "metadata": {},
          "execution_count": 65
        }
      ],
      "source": [
        "df[df[\"vendor\"] == \"proxy\"]['data.http.result.response.headers.location'].value_counts()"
      ]
    },
    {
      "cell_type": "code",
      "execution_count": null,
      "metadata": {
        "id": "vNGomzCNE-oI"
      },
      "outputs": [],
      "source": [
        "# val = 7.794858e+08\n",
        "# value = datetime.datetime.fromtimestamp(val)\n",
        "# print(f\"{value:%Y-%m-%d}\")"
      ]
    },
    {
      "cell_type": "code",
      "execution_count": null,
      "metadata": {
        "colab": {
          "base_uri": "https://localhost:8080/",
          "height": 423
        },
        "id": "mC-nGuFoTPnd",
        "outputId": "821c4d44-28a1-4334-d025-e84560001266"
      },
      "outputs": [
        {
          "output_type": "execute_result",
          "data": {
            "text/plain": [
              "        Most Recent Update  No of Who is Records  \\\n",
              "0             0.000000e+00                   0.0   \n",
              "1             1.585613e+09                   1.0   \n",
              "2             1.585613e+09                   3.0   \n",
              "3             1.564013e+09                   1.0   \n",
              "4             0.000000e+00                   0.0   \n",
              "...                    ...                   ...   \n",
              "121048        1.472602e+09                   1.0   \n",
              "121049        1.488331e+09                   2.0   \n",
              "121050        1.521072e+09                   1.0   \n",
              "121051        1.363599e+09                   2.0   \n",
              "121052        1.521072e+09                   1.0   \n",
              "\n",
              "        data.http.result.response.content_length   netSize  SAN Count  \n",
              "0                                          249.0         0         11  \n",
              "1                                          915.0     16384          0  \n",
              "2                                          915.0     65536          6  \n",
              "3                                          915.0    786432          0  \n",
              "4                                            0.0         0         37  \n",
              "...                                          ...       ...        ...  \n",
              "121048                                       0.0        16          0  \n",
              "121049                                       0.0  16777216          0  \n",
              "121050                                       0.0  16777216          0  \n",
              "121051                                       0.0  16777216          0  \n",
              "121052                                       0.0   2097152          0  \n",
              "\n",
              "[121053 rows x 5 columns]"
            ],
            "text/html": [
              "\n",
              "  <div id=\"df-28698664-221a-4bc6-871c-e51a2dfdb7b4\">\n",
              "    <div class=\"colab-df-container\">\n",
              "      <div>\n",
              "<style scoped>\n",
              "    .dataframe tbody tr th:only-of-type {\n",
              "        vertical-align: middle;\n",
              "    }\n",
              "\n",
              "    .dataframe tbody tr th {\n",
              "        vertical-align: top;\n",
              "    }\n",
              "\n",
              "    .dataframe thead th {\n",
              "        text-align: right;\n",
              "    }\n",
              "</style>\n",
              "<table border=\"1\" class=\"dataframe\">\n",
              "  <thead>\n",
              "    <tr style=\"text-align: right;\">\n",
              "      <th></th>\n",
              "      <th>Most Recent Update</th>\n",
              "      <th>No of Who is Records</th>\n",
              "      <th>data.http.result.response.content_length</th>\n",
              "      <th>netSize</th>\n",
              "      <th>SAN Count</th>\n",
              "    </tr>\n",
              "  </thead>\n",
              "  <tbody>\n",
              "    <tr>\n",
              "      <th>0</th>\n",
              "      <td>0.000000e+00</td>\n",
              "      <td>0.0</td>\n",
              "      <td>249.0</td>\n",
              "      <td>0</td>\n",
              "      <td>11</td>\n",
              "    </tr>\n",
              "    <tr>\n",
              "      <th>1</th>\n",
              "      <td>1.585613e+09</td>\n",
              "      <td>1.0</td>\n",
              "      <td>915.0</td>\n",
              "      <td>16384</td>\n",
              "      <td>0</td>\n",
              "    </tr>\n",
              "    <tr>\n",
              "      <th>2</th>\n",
              "      <td>1.585613e+09</td>\n",
              "      <td>3.0</td>\n",
              "      <td>915.0</td>\n",
              "      <td>65536</td>\n",
              "      <td>6</td>\n",
              "    </tr>\n",
              "    <tr>\n",
              "      <th>3</th>\n",
              "      <td>1.564013e+09</td>\n",
              "      <td>1.0</td>\n",
              "      <td>915.0</td>\n",
              "      <td>786432</td>\n",
              "      <td>0</td>\n",
              "    </tr>\n",
              "    <tr>\n",
              "      <th>4</th>\n",
              "      <td>0.000000e+00</td>\n",
              "      <td>0.0</td>\n",
              "      <td>0.0</td>\n",
              "      <td>0</td>\n",
              "      <td>37</td>\n",
              "    </tr>\n",
              "    <tr>\n",
              "      <th>...</th>\n",
              "      <td>...</td>\n",
              "      <td>...</td>\n",
              "      <td>...</td>\n",
              "      <td>...</td>\n",
              "      <td>...</td>\n",
              "    </tr>\n",
              "    <tr>\n",
              "      <th>121048</th>\n",
              "      <td>1.472602e+09</td>\n",
              "      <td>1.0</td>\n",
              "      <td>0.0</td>\n",
              "      <td>16</td>\n",
              "      <td>0</td>\n",
              "    </tr>\n",
              "    <tr>\n",
              "      <th>121049</th>\n",
              "      <td>1.488331e+09</td>\n",
              "      <td>2.0</td>\n",
              "      <td>0.0</td>\n",
              "      <td>16777216</td>\n",
              "      <td>0</td>\n",
              "    </tr>\n",
              "    <tr>\n",
              "      <th>121050</th>\n",
              "      <td>1.521072e+09</td>\n",
              "      <td>1.0</td>\n",
              "      <td>0.0</td>\n",
              "      <td>16777216</td>\n",
              "      <td>0</td>\n",
              "    </tr>\n",
              "    <tr>\n",
              "      <th>121051</th>\n",
              "      <td>1.363599e+09</td>\n",
              "      <td>2.0</td>\n",
              "      <td>0.0</td>\n",
              "      <td>16777216</td>\n",
              "      <td>0</td>\n",
              "    </tr>\n",
              "    <tr>\n",
              "      <th>121052</th>\n",
              "      <td>1.521072e+09</td>\n",
              "      <td>1.0</td>\n",
              "      <td>0.0</td>\n",
              "      <td>2097152</td>\n",
              "      <td>0</td>\n",
              "    </tr>\n",
              "  </tbody>\n",
              "</table>\n",
              "<p>121053 rows × 5 columns</p>\n",
              "</div>\n",
              "      <button class=\"colab-df-convert\" onclick=\"convertToInteractive('df-28698664-221a-4bc6-871c-e51a2dfdb7b4')\"\n",
              "              title=\"Convert this dataframe to an interactive table.\"\n",
              "              style=\"display:none;\">\n",
              "        \n",
              "  <svg xmlns=\"http://www.w3.org/2000/svg\" height=\"24px\"viewBox=\"0 0 24 24\"\n",
              "       width=\"24px\">\n",
              "    <path d=\"M0 0h24v24H0V0z\" fill=\"none\"/>\n",
              "    <path d=\"M18.56 5.44l.94 2.06.94-2.06 2.06-.94-2.06-.94-.94-2.06-.94 2.06-2.06.94zm-11 1L8.5 8.5l.94-2.06 2.06-.94-2.06-.94L8.5 2.5l-.94 2.06-2.06.94zm10 10l.94 2.06.94-2.06 2.06-.94-2.06-.94-.94-2.06-.94 2.06-2.06.94z\"/><path d=\"M17.41 7.96l-1.37-1.37c-.4-.4-.92-.59-1.43-.59-.52 0-1.04.2-1.43.59L10.3 9.45l-7.72 7.72c-.78.78-.78 2.05 0 2.83L4 21.41c.39.39.9.59 1.41.59.51 0 1.02-.2 1.41-.59l7.78-7.78 2.81-2.81c.8-.78.8-2.07 0-2.86zM5.41 20L4 18.59l7.72-7.72 1.47 1.35L5.41 20z\"/>\n",
              "  </svg>\n",
              "      </button>\n",
              "      \n",
              "  <style>\n",
              "    .colab-df-container {\n",
              "      display:flex;\n",
              "      flex-wrap:wrap;\n",
              "      gap: 12px;\n",
              "    }\n",
              "\n",
              "    .colab-df-convert {\n",
              "      background-color: #E8F0FE;\n",
              "      border: none;\n",
              "      border-radius: 50%;\n",
              "      cursor: pointer;\n",
              "      display: none;\n",
              "      fill: #1967D2;\n",
              "      height: 32px;\n",
              "      padding: 0 0 0 0;\n",
              "      width: 32px;\n",
              "    }\n",
              "\n",
              "    .colab-df-convert:hover {\n",
              "      background-color: #E2EBFA;\n",
              "      box-shadow: 0px 1px 2px rgba(60, 64, 67, 0.3), 0px 1px 3px 1px rgba(60, 64, 67, 0.15);\n",
              "      fill: #174EA6;\n",
              "    }\n",
              "\n",
              "    [theme=dark] .colab-df-convert {\n",
              "      background-color: #3B4455;\n",
              "      fill: #D2E3FC;\n",
              "    }\n",
              "\n",
              "    [theme=dark] .colab-df-convert:hover {\n",
              "      background-color: #434B5C;\n",
              "      box-shadow: 0px 1px 3px 1px rgba(0, 0, 0, 0.15);\n",
              "      filter: drop-shadow(0px 1px 2px rgba(0, 0, 0, 0.3));\n",
              "      fill: #FFFFFF;\n",
              "    }\n",
              "  </style>\n",
              "\n",
              "      <script>\n",
              "        const buttonEl =\n",
              "          document.querySelector('#df-28698664-221a-4bc6-871c-e51a2dfdb7b4 button.colab-df-convert');\n",
              "        buttonEl.style.display =\n",
              "          google.colab.kernel.accessAllowed ? 'block' : 'none';\n",
              "\n",
              "        async function convertToInteractive(key) {\n",
              "          const element = document.querySelector('#df-28698664-221a-4bc6-871c-e51a2dfdb7b4');\n",
              "          const dataTable =\n",
              "            await google.colab.kernel.invokeFunction('convertToInteractive',\n",
              "                                                     [key], {});\n",
              "          if (!dataTable) return;\n",
              "\n",
              "          const docLinkHtml = 'Like what you see? Visit the ' +\n",
              "            '<a target=\"_blank\" href=https://colab.research.google.com/notebooks/data_table.ipynb>data table notebook</a>'\n",
              "            + ' to learn more about interactive tables.';\n",
              "          element.innerHTML = '';\n",
              "          dataTable['output_type'] = 'display_data';\n",
              "          await google.colab.output.renderOutput(dataTable, element);\n",
              "          const docLink = document.createElement('div');\n",
              "          docLink.innerHTML = docLinkHtml;\n",
              "          element.appendChild(docLink);\n",
              "        }\n",
              "      </script>\n",
              "    </div>\n",
              "  </div>\n",
              "  "
            ]
          },
          "metadata": {},
          "execution_count": 67
        }
      ],
      "source": [
        "categoricalDf = df[catfields]\n",
        "df.drop(catfields, axis=1, inplace=True)\n",
        "df"
      ]
    },
    {
      "cell_type": "code",
      "execution_count": null,
      "metadata": {
        "id": "6jA1d4Txk_7G"
      },
      "outputs": [],
      "source": [
        "from sklearn.preprocessing import LabelEncoder\n",
        "import collections\n",
        "#df = df.astype(str).apply(LabelEncoder().fit_transform)"
      ]
    },
    {
      "cell_type": "code",
      "execution_count": null,
      "metadata": {
        "id": "pUCcmKkEmN3Z"
      },
      "outputs": [],
      "source": [
        "encoder_dict = collections.defaultdict(LabelEncoder)\n",
        "categoricalDfEncoded = categoricalDf.astype(str).apply(lambda x: encoder_dict[x.name].fit_transform(x))"
      ]
    },
    {
      "cell_type": "code",
      "execution_count": null,
      "metadata": {
        "id": "V8irsbSwe94U"
      },
      "outputs": [],
      "source": [
        ""
      ]
    },
    {
      "cell_type": "code",
      "execution_count": null,
      "metadata": {
        "id": "pQ415Sm5fOdw"
      },
      "outputs": [],
      "source": [
        "with open('label_encodings','wb') as f:\n",
        "  pickle.dump(encoder_dict,f)"
      ]
    },
    {
      "cell_type": "code",
      "execution_count": null,
      "metadata": {
        "id": "VqwHVNSmfvFS"
      },
      "outputs": [],
      "source": [
        "vendorEncodings = encoder_dict['vendor'].classes_"
      ]
    },
    {
      "cell_type": "code",
      "execution_count": null,
      "metadata": {
        "colab": {
          "base_uri": "https://localhost:8080/",
          "height": 487
        },
        "id": "nWRKXZqSTseX",
        "outputId": "d226acd5-d40b-41b8-c7c2-3a0591c39516"
      },
      "outputs": [
        {
          "output_type": "execute_result",
          "data": {
            "text/plain": [
              "        netType  data.http.result.response.headers.server  \\\n",
              "0             0                                       357   \n",
              "1            11                                        63   \n",
              "2            11                                        63   \n",
              "3             5                                        63   \n",
              "4             0                                         1   \n",
              "...         ...                                       ...   \n",
              "121048       12                                         1   \n",
              "121049        1                                         1   \n",
              "121050        3                                         1   \n",
              "121051        1                                         1   \n",
              "121052       14                                         1   \n",
              "\n",
              "        data.http.result.response.status_code  \\\n",
              "0                                          28   \n",
              "1                                          14   \n",
              "2                                          14   \n",
              "3                                          14   \n",
              "4                                           0   \n",
              "...                                       ...   \n",
              "121048                                      0   \n",
              "121049                                      0   \n",
              "121050                                      0   \n",
              "121051                                      0   \n",
              "121052                                      0   \n",
              "\n",
              "        data.http.result.response.headers.connection  \\\n",
              "0                                                  7   \n",
              "1                                                  7   \n",
              "2                                                  7   \n",
              "3                                                  7   \n",
              "4                                                  0   \n",
              "...                                              ...   \n",
              "121048                                             0   \n",
              "121049                                             0   \n",
              "121050                                             0   \n",
              "121051                                             0   \n",
              "121052                                             0   \n",
              "\n",
              "        data.http.result.response.headers.via  \\\n",
              "0                                           1   \n",
              "1                                           1   \n",
              "2                                           1   \n",
              "3                                           1   \n",
              "4                                           0   \n",
              "...                                       ...   \n",
              "121048                                      0   \n",
              "121049                                      0   \n",
              "121050                                      0   \n",
              "121051                                      0   \n",
              "121052                                      0   \n",
              "\n",
              "        data.http.result.response.headers.accept_ranges  \\\n",
              "0                                                     1   \n",
              "1                                                     0   \n",
              "2                                                     0   \n",
              "3                                                     0   \n",
              "4                                                     0   \n",
              "...                                                 ...   \n",
              "121048                                                0   \n",
              "121049                                                0   \n",
              "121050                                                0   \n",
              "121051                                                0   \n",
              "121052                                                0   \n",
              "\n",
              "        data.http.result.response.headers.cache_control  \\\n",
              "0                                                   217   \n",
              "1                                                     0   \n",
              "2                                                     0   \n",
              "3                                                     0   \n",
              "4                                                     0   \n",
              "...                                                 ...   \n",
              "121048                                                0   \n",
              "121049                                                0   \n",
              "121050                                                0   \n",
              "121051                                                0   \n",
              "121052                                                0   \n",
              "\n",
              "        data.http.result.response.headers.retry_after  \\\n",
              "0                                                   1   \n",
              "1                                                   0   \n",
              "2                                                   0   \n",
              "3                                                   0   \n",
              "4                                                   0   \n",
              "...                                               ...   \n",
              "121048                                              0   \n",
              "121049                                              0   \n",
              "121050                                              0   \n",
              "121051                                              0   \n",
              "121052                                              0   \n",
              "\n",
              "        data.http.result.response.headers.content_type  \\\n",
              "0                                                   47   \n",
              "1                                                   47   \n",
              "2                                                   47   \n",
              "3                                                   47   \n",
              "4                                                    2   \n",
              "...                                                ...   \n",
              "121048                                               2   \n",
              "121049                                               2   \n",
              "121050                                               2   \n",
              "121051                                               2   \n",
              "121052                                               2   \n",
              "\n",
              "        data.http.result.response.headers.location  \\\n",
              "0                                                0   \n",
              "1                                                0   \n",
              "2                                                0   \n",
              "3                                                0   \n",
              "4                                                0   \n",
              "...                                            ...   \n",
              "121048                                           0   \n",
              "121049                                           0   \n",
              "121050                                           0   \n",
              "121051                                           0   \n",
              "121052                                           0   \n",
              "\n",
              "        data.http.result.response.headers.etag  as_name  as_no  \\\n",
              "0                                            0      996   2483   \n",
              "1                                            0       92    568   \n",
              "2                                            0       92    568   \n",
              "3                                            0       92    568   \n",
              "4                                            0      566   2645   \n",
              "...                                        ...      ...    ...   \n",
              "121048                                       0      666   2785   \n",
              "121049                                       0      470    310   \n",
              "121050                                       0      712   1498   \n",
              "121051                                       0     2224   2148   \n",
              "121052                                       0     2542   1374   \n",
              "\n",
              "        data.tls.status  \\\n",
              "0                     2   \n",
              "1                     3   \n",
              "2                     2   \n",
              "3                     3   \n",
              "4                     2   \n",
              "...                 ...   \n",
              "121048                0   \n",
              "121049                0   \n",
              "121050                0   \n",
              "121051                0   \n",
              "121052                0   \n",
              "\n",
              "        data.tls.result.handshake_log.server_certificates.certificate.parsed.issuer.country  \\\n",
              "0                                                      10                                     \n",
              "1                                                       1                                     \n",
              "2                                                      75                                     \n",
              "3                                                       1                                     \n",
              "4                                                      75                                     \n",
              "...                                                   ...                                     \n",
              "121048                                                  1                                     \n",
              "121049                                                  1                                     \n",
              "121050                                                  1                                     \n",
              "121051                                                  1                                     \n",
              "121052                                                  1                                     \n",
              "\n",
              "        data.tls.result.handshake_log.server_certificates.certificate.parsed.issuer.organization  \\\n",
              "0                                                     278                                          \n",
              "1                                                       4                                          \n",
              "2                                                      49                                          \n",
              "3                                                       4                                          \n",
              "4                                                     375                                          \n",
              "...                                                   ...                                          \n",
              "121048                                                  4                                          \n",
              "121049                                                  4                                          \n",
              "121050                                                  4                                          \n",
              "121051                                                  4                                          \n",
              "121052                                                  4                                          \n",
              "\n",
              "        data.tls.result.handshake_log.server_certificates.certificate.parsed.subject.locality  \\\n",
              "0                                                    1031                                       \n",
              "1                                                       1                                       \n",
              "2                                                       1                                       \n",
              "3                                                       1                                       \n",
              "4                                                       1                                       \n",
              "...                                                   ...                                       \n",
              "121048                                                  1                                       \n",
              "121049                                                  1                                       \n",
              "121050                                                  1                                       \n",
              "121051                                                  1                                       \n",
              "121052                                                  1                                       \n",
              "\n",
              "        data.tls.result.handshake_log.server_certificates.certificate.parsed.subject.organization  \\\n",
              "0                                                    1091                                           \n",
              "1                                                      11                                           \n",
              "2                                                      11                                           \n",
              "3                                                      11                                           \n",
              "4                                                      11                                           \n",
              "...                                                   ...                                           \n",
              "121048                                                 11                                           \n",
              "121049                                                 11                                           \n",
              "121050                                                 11                                           \n",
              "121051                                                 11                                           \n",
              "121052                                                 11                                           \n",
              "\n",
              "        vendor  \n",
              "0            0  \n",
              "1            0  \n",
              "2            0  \n",
              "3            0  \n",
              "4            0  \n",
              "...        ...  \n",
              "121048       3  \n",
              "121049       3  \n",
              "121050       3  \n",
              "121051       3  \n",
              "121052       3  \n",
              "\n",
              "[121053 rows x 19 columns]"
            ],
            "text/html": [
              "\n",
              "  <div id=\"df-efcb2980-5ba5-4de8-8e50-6e69241f9580\">\n",
              "    <div class=\"colab-df-container\">\n",
              "      <div>\n",
              "<style scoped>\n",
              "    .dataframe tbody tr th:only-of-type {\n",
              "        vertical-align: middle;\n",
              "    }\n",
              "\n",
              "    .dataframe tbody tr th {\n",
              "        vertical-align: top;\n",
              "    }\n",
              "\n",
              "    .dataframe thead th {\n",
              "        text-align: right;\n",
              "    }\n",
              "</style>\n",
              "<table border=\"1\" class=\"dataframe\">\n",
              "  <thead>\n",
              "    <tr style=\"text-align: right;\">\n",
              "      <th></th>\n",
              "      <th>netType</th>\n",
              "      <th>data.http.result.response.headers.server</th>\n",
              "      <th>data.http.result.response.status_code</th>\n",
              "      <th>data.http.result.response.headers.connection</th>\n",
              "      <th>data.http.result.response.headers.via</th>\n",
              "      <th>data.http.result.response.headers.accept_ranges</th>\n",
              "      <th>data.http.result.response.headers.cache_control</th>\n",
              "      <th>data.http.result.response.headers.retry_after</th>\n",
              "      <th>data.http.result.response.headers.content_type</th>\n",
              "      <th>data.http.result.response.headers.location</th>\n",
              "      <th>data.http.result.response.headers.etag</th>\n",
              "      <th>as_name</th>\n",
              "      <th>as_no</th>\n",
              "      <th>data.tls.status</th>\n",
              "      <th>data.tls.result.handshake_log.server_certificates.certificate.parsed.issuer.country</th>\n",
              "      <th>data.tls.result.handshake_log.server_certificates.certificate.parsed.issuer.organization</th>\n",
              "      <th>data.tls.result.handshake_log.server_certificates.certificate.parsed.subject.locality</th>\n",
              "      <th>data.tls.result.handshake_log.server_certificates.certificate.parsed.subject.organization</th>\n",
              "      <th>vendor</th>\n",
              "    </tr>\n",
              "  </thead>\n",
              "  <tbody>\n",
              "    <tr>\n",
              "      <th>0</th>\n",
              "      <td>0</td>\n",
              "      <td>357</td>\n",
              "      <td>28</td>\n",
              "      <td>7</td>\n",
              "      <td>1</td>\n",
              "      <td>1</td>\n",
              "      <td>217</td>\n",
              "      <td>1</td>\n",
              "      <td>47</td>\n",
              "      <td>0</td>\n",
              "      <td>0</td>\n",
              "      <td>996</td>\n",
              "      <td>2483</td>\n",
              "      <td>2</td>\n",
              "      <td>10</td>\n",
              "      <td>278</td>\n",
              "      <td>1031</td>\n",
              "      <td>1091</td>\n",
              "      <td>0</td>\n",
              "    </tr>\n",
              "    <tr>\n",
              "      <th>1</th>\n",
              "      <td>11</td>\n",
              "      <td>63</td>\n",
              "      <td>14</td>\n",
              "      <td>7</td>\n",
              "      <td>1</td>\n",
              "      <td>0</td>\n",
              "      <td>0</td>\n",
              "      <td>0</td>\n",
              "      <td>47</td>\n",
              "      <td>0</td>\n",
              "      <td>0</td>\n",
              "      <td>92</td>\n",
              "      <td>568</td>\n",
              "      <td>3</td>\n",
              "      <td>1</td>\n",
              "      <td>4</td>\n",
              "      <td>1</td>\n",
              "      <td>11</td>\n",
              "      <td>0</td>\n",
              "    </tr>\n",
              "    <tr>\n",
              "      <th>2</th>\n",
              "      <td>11</td>\n",
              "      <td>63</td>\n",
              "      <td>14</td>\n",
              "      <td>7</td>\n",
              "      <td>1</td>\n",
              "      <td>0</td>\n",
              "      <td>0</td>\n",
              "      <td>0</td>\n",
              "      <td>47</td>\n",
              "      <td>0</td>\n",
              "      <td>0</td>\n",
              "      <td>92</td>\n",
              "      <td>568</td>\n",
              "      <td>2</td>\n",
              "      <td>75</td>\n",
              "      <td>49</td>\n",
              "      <td>1</td>\n",
              "      <td>11</td>\n",
              "      <td>0</td>\n",
              "    </tr>\n",
              "    <tr>\n",
              "      <th>3</th>\n",
              "      <td>5</td>\n",
              "      <td>63</td>\n",
              "      <td>14</td>\n",
              "      <td>7</td>\n",
              "      <td>1</td>\n",
              "      <td>0</td>\n",
              "      <td>0</td>\n",
              "      <td>0</td>\n",
              "      <td>47</td>\n",
              "      <td>0</td>\n",
              "      <td>0</td>\n",
              "      <td>92</td>\n",
              "      <td>568</td>\n",
              "      <td>3</td>\n",
              "      <td>1</td>\n",
              "      <td>4</td>\n",
              "      <td>1</td>\n",
              "      <td>11</td>\n",
              "      <td>0</td>\n",
              "    </tr>\n",
              "    <tr>\n",
              "      <th>4</th>\n",
              "      <td>0</td>\n",
              "      <td>1</td>\n",
              "      <td>0</td>\n",
              "      <td>0</td>\n",
              "      <td>0</td>\n",
              "      <td>0</td>\n",
              "      <td>0</td>\n",
              "      <td>0</td>\n",
              "      <td>2</td>\n",
              "      <td>0</td>\n",
              "      <td>0</td>\n",
              "      <td>566</td>\n",
              "      <td>2645</td>\n",
              "      <td>2</td>\n",
              "      <td>75</td>\n",
              "      <td>375</td>\n",
              "      <td>1</td>\n",
              "      <td>11</td>\n",
              "      <td>0</td>\n",
              "    </tr>\n",
              "    <tr>\n",
              "      <th>...</th>\n",
              "      <td>...</td>\n",
              "      <td>...</td>\n",
              "      <td>...</td>\n",
              "      <td>...</td>\n",
              "      <td>...</td>\n",
              "      <td>...</td>\n",
              "      <td>...</td>\n",
              "      <td>...</td>\n",
              "      <td>...</td>\n",
              "      <td>...</td>\n",
              "      <td>...</td>\n",
              "      <td>...</td>\n",
              "      <td>...</td>\n",
              "      <td>...</td>\n",
              "      <td>...</td>\n",
              "      <td>...</td>\n",
              "      <td>...</td>\n",
              "      <td>...</td>\n",
              "      <td>...</td>\n",
              "    </tr>\n",
              "    <tr>\n",
              "      <th>121048</th>\n",
              "      <td>12</td>\n",
              "      <td>1</td>\n",
              "      <td>0</td>\n",
              "      <td>0</td>\n",
              "      <td>0</td>\n",
              "      <td>0</td>\n",
              "      <td>0</td>\n",
              "      <td>0</td>\n",
              "      <td>2</td>\n",
              "      <td>0</td>\n",
              "      <td>0</td>\n",
              "      <td>666</td>\n",
              "      <td>2785</td>\n",
              "      <td>0</td>\n",
              "      <td>1</td>\n",
              "      <td>4</td>\n",
              "      <td>1</td>\n",
              "      <td>11</td>\n",
              "      <td>3</td>\n",
              "    </tr>\n",
              "    <tr>\n",
              "      <th>121049</th>\n",
              "      <td>1</td>\n",
              "      <td>1</td>\n",
              "      <td>0</td>\n",
              "      <td>0</td>\n",
              "      <td>0</td>\n",
              "      <td>0</td>\n",
              "      <td>0</td>\n",
              "      <td>0</td>\n",
              "      <td>2</td>\n",
              "      <td>0</td>\n",
              "      <td>0</td>\n",
              "      <td>470</td>\n",
              "      <td>310</td>\n",
              "      <td>0</td>\n",
              "      <td>1</td>\n",
              "      <td>4</td>\n",
              "      <td>1</td>\n",
              "      <td>11</td>\n",
              "      <td>3</td>\n",
              "    </tr>\n",
              "    <tr>\n",
              "      <th>121050</th>\n",
              "      <td>3</td>\n",
              "      <td>1</td>\n",
              "      <td>0</td>\n",
              "      <td>0</td>\n",
              "      <td>0</td>\n",
              "      <td>0</td>\n",
              "      <td>0</td>\n",
              "      <td>0</td>\n",
              "      <td>2</td>\n",
              "      <td>0</td>\n",
              "      <td>0</td>\n",
              "      <td>712</td>\n",
              "      <td>1498</td>\n",
              "      <td>0</td>\n",
              "      <td>1</td>\n",
              "      <td>4</td>\n",
              "      <td>1</td>\n",
              "      <td>11</td>\n",
              "      <td>3</td>\n",
              "    </tr>\n",
              "    <tr>\n",
              "      <th>121051</th>\n",
              "      <td>1</td>\n",
              "      <td>1</td>\n",
              "      <td>0</td>\n",
              "      <td>0</td>\n",
              "      <td>0</td>\n",
              "      <td>0</td>\n",
              "      <td>0</td>\n",
              "      <td>0</td>\n",
              "      <td>2</td>\n",
              "      <td>0</td>\n",
              "      <td>0</td>\n",
              "      <td>2224</td>\n",
              "      <td>2148</td>\n",
              "      <td>0</td>\n",
              "      <td>1</td>\n",
              "      <td>4</td>\n",
              "      <td>1</td>\n",
              "      <td>11</td>\n",
              "      <td>3</td>\n",
              "    </tr>\n",
              "    <tr>\n",
              "      <th>121052</th>\n",
              "      <td>14</td>\n",
              "      <td>1</td>\n",
              "      <td>0</td>\n",
              "      <td>0</td>\n",
              "      <td>0</td>\n",
              "      <td>0</td>\n",
              "      <td>0</td>\n",
              "      <td>0</td>\n",
              "      <td>2</td>\n",
              "      <td>0</td>\n",
              "      <td>0</td>\n",
              "      <td>2542</td>\n",
              "      <td>1374</td>\n",
              "      <td>0</td>\n",
              "      <td>1</td>\n",
              "      <td>4</td>\n",
              "      <td>1</td>\n",
              "      <td>11</td>\n",
              "      <td>3</td>\n",
              "    </tr>\n",
              "  </tbody>\n",
              "</table>\n",
              "<p>121053 rows × 19 columns</p>\n",
              "</div>\n",
              "      <button class=\"colab-df-convert\" onclick=\"convertToInteractive('df-efcb2980-5ba5-4de8-8e50-6e69241f9580')\"\n",
              "              title=\"Convert this dataframe to an interactive table.\"\n",
              "              style=\"display:none;\">\n",
              "        \n",
              "  <svg xmlns=\"http://www.w3.org/2000/svg\" height=\"24px\"viewBox=\"0 0 24 24\"\n",
              "       width=\"24px\">\n",
              "    <path d=\"M0 0h24v24H0V0z\" fill=\"none\"/>\n",
              "    <path d=\"M18.56 5.44l.94 2.06.94-2.06 2.06-.94-2.06-.94-.94-2.06-.94 2.06-2.06.94zm-11 1L8.5 8.5l.94-2.06 2.06-.94-2.06-.94L8.5 2.5l-.94 2.06-2.06.94zm10 10l.94 2.06.94-2.06 2.06-.94-2.06-.94-.94-2.06-.94 2.06-2.06.94z\"/><path d=\"M17.41 7.96l-1.37-1.37c-.4-.4-.92-.59-1.43-.59-.52 0-1.04.2-1.43.59L10.3 9.45l-7.72 7.72c-.78.78-.78 2.05 0 2.83L4 21.41c.39.39.9.59 1.41.59.51 0 1.02-.2 1.41-.59l7.78-7.78 2.81-2.81c.8-.78.8-2.07 0-2.86zM5.41 20L4 18.59l7.72-7.72 1.47 1.35L5.41 20z\"/>\n",
              "  </svg>\n",
              "      </button>\n",
              "      \n",
              "  <style>\n",
              "    .colab-df-container {\n",
              "      display:flex;\n",
              "      flex-wrap:wrap;\n",
              "      gap: 12px;\n",
              "    }\n",
              "\n",
              "    .colab-df-convert {\n",
              "      background-color: #E8F0FE;\n",
              "      border: none;\n",
              "      border-radius: 50%;\n",
              "      cursor: pointer;\n",
              "      display: none;\n",
              "      fill: #1967D2;\n",
              "      height: 32px;\n",
              "      padding: 0 0 0 0;\n",
              "      width: 32px;\n",
              "    }\n",
              "\n",
              "    .colab-df-convert:hover {\n",
              "      background-color: #E2EBFA;\n",
              "      box-shadow: 0px 1px 2px rgba(60, 64, 67, 0.3), 0px 1px 3px 1px rgba(60, 64, 67, 0.15);\n",
              "      fill: #174EA6;\n",
              "    }\n",
              "\n",
              "    [theme=dark] .colab-df-convert {\n",
              "      background-color: #3B4455;\n",
              "      fill: #D2E3FC;\n",
              "    }\n",
              "\n",
              "    [theme=dark] .colab-df-convert:hover {\n",
              "      background-color: #434B5C;\n",
              "      box-shadow: 0px 1px 3px 1px rgba(0, 0, 0, 0.15);\n",
              "      filter: drop-shadow(0px 1px 2px rgba(0, 0, 0, 0.3));\n",
              "      fill: #FFFFFF;\n",
              "    }\n",
              "  </style>\n",
              "\n",
              "      <script>\n",
              "        const buttonEl =\n",
              "          document.querySelector('#df-efcb2980-5ba5-4de8-8e50-6e69241f9580 button.colab-df-convert');\n",
              "        buttonEl.style.display =\n",
              "          google.colab.kernel.accessAllowed ? 'block' : 'none';\n",
              "\n",
              "        async function convertToInteractive(key) {\n",
              "          const element = document.querySelector('#df-efcb2980-5ba5-4de8-8e50-6e69241f9580');\n",
              "          const dataTable =\n",
              "            await google.colab.kernel.invokeFunction('convertToInteractive',\n",
              "                                                     [key], {});\n",
              "          if (!dataTable) return;\n",
              "\n",
              "          const docLinkHtml = 'Like what you see? Visit the ' +\n",
              "            '<a target=\"_blank\" href=https://colab.research.google.com/notebooks/data_table.ipynb>data table notebook</a>'\n",
              "            + ' to learn more about interactive tables.';\n",
              "          element.innerHTML = '';\n",
              "          dataTable['output_type'] = 'display_data';\n",
              "          await google.colab.output.renderOutput(dataTable, element);\n",
              "          const docLink = document.createElement('div');\n",
              "          docLink.innerHTML = docLinkHtml;\n",
              "          element.appendChild(docLink);\n",
              "        }\n",
              "      </script>\n",
              "    </div>\n",
              "  </div>\n",
              "  "
            ]
          },
          "metadata": {},
          "execution_count": 72
        }
      ],
      "source": [
        "categoricalDfEncoded"
      ]
    },
    {
      "cell_type": "code",
      "execution_count": null,
      "metadata": {
        "id": "eqao-FORUYS7"
      },
      "outputs": [],
      "source": [
        "df[catfields] = categoricalDfEncoded"
      ]
    },
    {
      "cell_type": "code",
      "execution_count": null,
      "metadata": {
        "id": "vNFy9aDgwsqG"
      },
      "outputs": [],
      "source": [
        "#encoder_dict['as_name'].classes_"
      ]
    },
    {
      "cell_type": "code",
      "execution_count": null,
      "metadata": {
        "id": "TJkf-rJHuyy-"
      },
      "outputs": [],
      "source": [
        "#inverse_transform_lambda = lambda x: encoder_dict[x.name].inverse_transform(x)"
      ]
    },
    {
      "cell_type": "code",
      "execution_count": null,
      "metadata": {
        "id": "VMflVo74u62V"
      },
      "outputs": [],
      "source": [
        "#labeled_df.apply(inverse_transform_lambda)"
      ]
    },
    {
      "cell_type": "code",
      "execution_count": null,
      "metadata": {
        "id": "Dqkwa3YMTlLT"
      },
      "outputs": [],
      "source": [
        ""
      ]
    },
    {
      "cell_type": "code",
      "execution_count": null,
      "metadata": {
        "id": "9zvYlJIWpD5h"
      },
      "outputs": [],
      "source": [
        "#df.corr()"
      ]
    },
    {
      "cell_type": "code",
      "execution_count": null,
      "metadata": {
        "id": "WbpBGmOApNKq"
      },
      "outputs": [],
      "source": [
        "# import matplotlib.pyplot as plt\n",
        "# import seaborn as sns\n",
        "# plt.figure(figsize=(40,40))\n",
        "# cor = df.corr()\n",
        "# sns.heatmap(cor,annot=True)\n",
        "# plt.show()"
      ]
    },
    {
      "cell_type": "code",
      "execution_count": null,
      "metadata": {
        "colab": {
          "base_uri": "https://localhost:8080/"
        },
        "id": "_eqruGVq-g9x",
        "outputId": "6ea7c2e2-0fc4-4ee7-d22f-d143334a1c08"
      },
      "outputs": [
        {
          "output_type": "execute_result",
          "data": {
            "text/plain": [
              "Index(['Most Recent Update', 'No of Who is Records',\n",
              "       'data.http.result.response.content_length', 'netSize', 'SAN Count',\n",
              "       'netType', 'data.http.result.response.headers.server',\n",
              "       'data.http.result.response.status_code',\n",
              "       'data.http.result.response.headers.connection',\n",
              "       'data.http.result.response.headers.via',\n",
              "       'data.http.result.response.headers.accept_ranges',\n",
              "       'data.http.result.response.headers.cache_control',\n",
              "       'data.http.result.response.headers.retry_after',\n",
              "       'data.http.result.response.headers.content_type',\n",
              "       'data.http.result.response.headers.location',\n",
              "       'data.http.result.response.headers.etag', 'as_name', 'as_no',\n",
              "       'data.tls.status',\n",
              "       'data.tls.result.handshake_log.server_certificates.certificate.parsed.issuer.country',\n",
              "       'data.tls.result.handshake_log.server_certificates.certificate.parsed.issuer.organization',\n",
              "       'data.tls.result.handshake_log.server_certificates.certificate.parsed.subject.locality',\n",
              "       'data.tls.result.handshake_log.server_certificates.certificate.parsed.subject.organization',\n",
              "       'vendor'],\n",
              "      dtype='object')"
            ]
          },
          "metadata": {},
          "execution_count": 79
        }
      ],
      "source": [
        "df.columns"
      ]
    },
    {
      "cell_type": "code",
      "execution_count": null,
      "metadata": {
        "id": "bW0nQJ3hphCX"
      },
      "outputs": [],
      "source": [
        "from sklearn.ensemble import RandomForestClassifier\n",
        "from sklearn.model_selection import train_test_split\n",
        "from sklearn.ensemble import RandomForestRegressor"
      ]
    },
    {
      "cell_type": "code",
      "execution_count": null,
      "metadata": {
        "id": "z4XntewYtd95"
      },
      "outputs": [],
      "source": [
        "vendor_encoded = df['vendor'].values"
      ]
    },
    {
      "cell_type": "code",
      "execution_count": null,
      "metadata": {
        "id": "JkDABE3fsED7"
      },
      "outputs": [],
      "source": [
        "df = df.drop(['vendor'],axis=1)"
      ]
    },
    {
      "cell_type": "code",
      "execution_count": null,
      "metadata": {
        "id": "9G05eQ1eSULE"
      },
      "outputs": [],
      "source": [
        "from imblearn.over_sampling import RandomOverSampler\n",
        "ros = RandomOverSampler(random_state=0)\n",
        "X_resampled, y_resampled = ros.fit_resample(df, vendor_encoded)"
      ]
    },
    {
      "cell_type": "code",
      "execution_count": null,
      "metadata": {
        "id": "JtO-VC765RYp"
      },
      "outputs": [],
      "source": [
        "fields = df.columns.values"
      ]
    },
    {
      "cell_type": "code",
      "execution_count": null,
      "metadata": {
        "id": "FOvxTJ--pxqY"
      },
      "outputs": [],
      "source": [
        "#X_train, X_test, y_train, y_test = train_test_split(X_resampled, y_resampled, test_size=0.3, random_state=42)"
      ]
    },
    {
      "cell_type": "code",
      "execution_count": null,
      "metadata": {
        "id": "Kh84u78kepYV"
      },
      "outputs": [],
      "source": [
        "X_train, X_test, y_train, y_test = train_test_split(X_resampled,y_resampled,test_size=0.3,random_state=42)\n",
        "x_Eval, X_test, y_Eval, y_test = train_test_split(X_test,y_test,test_size = 0.33,random_state=42)"
      ]
    },
    {
      "cell_type": "code",
      "source": [
        "import random"
      ],
      "metadata": {
        "id": "kxuXOxAtNaN5"
      },
      "execution_count": null,
      "outputs": []
    },
    {
      "cell_type": "code",
      "execution_count": null,
      "metadata": {
        "colab": {
          "base_uri": "https://localhost:8080/"
        },
        "id": "UPyDxSLSzsnq",
        "outputId": "59831b71-6fa1-4adf-f9a1-cbafbca4f5c3"
      },
      "outputs": [
        {
          "output_type": "stream",
          "name": "stdout",
          "text": [
            "75000\n"
          ]
        }
      ],
      "source": [
        "percentage = 50\n",
        "datasize = int(150000*percentage/100)\n",
        "print(datasize)\n",
        "count = 0\n",
        "for i in range(len(y_train)):\n",
        "  y_train[i] = int(random.uniform(0, 5))\n",
        "  count = count + 1\n",
        "  if(count>=datasize):\n",
        "    break"
      ]
    },
    {
      "cell_type": "code",
      "source": [
        "y_train"
      ],
      "metadata": {
        "colab": {
          "base_uri": "https://localhost:8080/"
        },
        "id": "r8Z4riWzKhG9",
        "outputId": "59521731-80f9-41fe-9929-0179fe893ab6"
      },
      "execution_count": null,
      "outputs": [
        {
          "output_type": "execute_result",
          "data": {
            "text/plain": [
              "array([1, 0, 3, ..., 3, 4, 3])"
            ]
          },
          "metadata": {},
          "execution_count": 260
        }
      ]
    },
    {
      "cell_type": "code",
      "execution_count": null,
      "metadata": {
        "id": "8mkRp0KJp1Ci"
      },
      "outputs": [],
      "source": [
        "clf = RandomForestClassifier(\n",
        "      # n_estimators = 500,\n",
        "      # min_samples_split = 2, \n",
        "      # min_samples_leaf = 1,\n",
        "      # max_features ='sqrt',\n",
        "      max_depth = 8, \n",
        "      # bootstrap = False\n",
        ")\n",
        "clf.fit(X_train, y_train) \n",
        "y_pred = clf.predict(X_test)"
      ]
    },
    {
      "cell_type": "code",
      "execution_count": null,
      "metadata": {
        "colab": {
          "base_uri": "https://localhost:8080/"
        },
        "id": "qoWaQ_d8Fx-P",
        "outputId": "eecee393-9dcc-4b87-b603-208715f46998"
      },
      "outputs": [
        {
          "output_type": "stream",
          "name": "stdout",
          "text": [
            "[[2810   85   25   39   19]\n",
            " [   5 2681    3    6  306]\n",
            " [   0    0 2951   19    3]\n",
            " [   0   23   20 2841   36]\n",
            " [   3  700   18   41 2216]]\n",
            "              precision    recall  f1-score   support\n",
            "\n",
            "           0       1.00      0.94      0.97      2978\n",
            "           1       0.77      0.89      0.83      3001\n",
            "           2       0.98      0.99      0.99      2973\n",
            "           3       0.96      0.97      0.97      2920\n",
            "           4       0.86      0.74      0.80      2978\n",
            "\n",
            "    accuracy                           0.91     14850\n",
            "   macro avg       0.91      0.91      0.91     14850\n",
            "weighted avg       0.91      0.91      0.91     14850\n",
            "\n",
            "0.9090235690235691\n"
          ]
        }
      ],
      "source": [
        "from sklearn.metrics import classification_report,confusion_matrix,accuracy_score\n",
        "print(confusion_matrix(y_test,y_pred))\n",
        "print(classification_report(y_test,y_pred))\n",
        "print(accuracy_score(y_test,y_pred))"
      ]
    }
  ],
  "metadata": {
    "colab": {
      "collapsed_sections": [],
      "name": "Model Save Check Noise.ipynb",
      "provenance": []
    },
    "kernelspec": {
      "display_name": "Python 3",
      "name": "python3"
    },
    "language_info": {
      "name": "python"
    }
  },
  "nbformat": 4,
  "nbformat_minor": 0
}