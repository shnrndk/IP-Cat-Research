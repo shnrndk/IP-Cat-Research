{
  "nbformat": 4,
  "nbformat_minor": 0,
  "metadata": {
    "colab": {
      "name": "ModelRunHTTP.ipynb",
      "provenance": [],
      "collapsed_sections": []
    },
    "kernelspec": {
      "name": "python3",
      "display_name": "Python 3"
    },
    "language_info": {
      "name": "python"
    }
  },
  "cells": [
    {
      "cell_type": "code",
      "execution_count": null,
      "metadata": {
        "id": "k906-Oa1_lrm"
      },
      "outputs": [],
      "source": [
        "import pandas as pd\n",
        "import matplotlib.pyplot as plt\n",
        "import numpy as np\n",
        "from sklearn import preprocessing\n",
        "le = preprocessing.LabelEncoder()\n",
        "import math \n",
        "from ast import literal_eval\n",
        "import pickle\n",
        "import json"
      ]
    },
    {
      "cell_type": "code",
      "source": [
        "from google.colab import auth\n",
        "auth.authenticate_user()\n",
        "\n",
        "project_id = 'beaming-opus-337709'\n",
        "!gcloud config set project {project_id}\n",
        "!gsutil ls"
      ],
      "metadata": {
        "colab": {
          "base_uri": "https://localhost:8080/"
        },
        "id": "oe3mXkZdB1QI",
        "outputId": "abb54de3-6f46-43e1-a2d2-26f49540b3d0"
      },
      "execution_count": null,
      "outputs": [
        {
          "output_type": "stream",
          "name": "stdout",
          "text": [
            "\u001b[1;33mWARNING:\u001b[0m You do not appear to have access to project [beaming-opus-337709] or it does not exist.\n",
            "Are you sure you wish to set property [core/project] to beaming-opus-337709?\n",
            "\n",
            "Do you want to continue (Y/n)?  Y\n",
            "\n",
            "Updated property [core/project].\n",
            "You are attempting to access protected data with no configured\n",
            "credentials. Please visit https://cloud.google.com/console#/project\n",
            "and sign up for an account, and then run the \"gcloud auth login\"\n",
            "command to configure gsutil to use these credentials.\n"
          ]
        }
      ]
    },
    {
      "cell_type": "code",
      "source": [
        "bucket_name = 'ipcat_bucket2'\n",
        "\n",
        "!gsutil -m cp -r gs://ipcat_bucket2/store_data_gh/results_scan_on_port_80/round_7/zipped/zgrab_result_instance-05_7_443_20210903.json.bz2  /content/drive/My\\ Drive/Data/banner.json.bz2"
      ],
      "metadata": {
        "colab": {
          "base_uri": "https://localhost:8080/"
        },
        "id": "6Iko8DeZaz6R",
        "outputId": "6fb4b9c1-a98a-46f0-cbed-76b43b6a4dc0"
      },
      "execution_count": null,
      "outputs": [
        {
          "output_type": "stream",
          "name": "stdout",
          "text": [
            "AccessDeniedException: 403 sahanr@scorelab.org does not have storage.objects.list access to the Google Cloud Storage bucket.\n",
            "CommandException: 1 file/object could not be transferred.\n"
          ]
        }
      ]
    },
    {
      "cell_type": "code",
      "source": [
        "!sudo apt-get install bzip2"
      ],
      "metadata": {
        "colab": {
          "base_uri": "https://localhost:8080/"
        },
        "id": "88Muk9O6eEd0",
        "outputId": "bc8cab02-1fad-4e9d-b770-8670874e71a6"
      },
      "execution_count": null,
      "outputs": [
        {
          "output_type": "stream",
          "name": "stdout",
          "text": [
            "Reading package lists... Done\n",
            "Building dependency tree       \n",
            "Reading state information... Done\n",
            "bzip2 is already the newest version (1.0.6-8.1ubuntu0.2).\n",
            "0 upgraded, 0 newly installed, 0 to remove and 37 not upgraded.\n"
          ]
        }
      ]
    },
    {
      "cell_type": "code",
      "source": [
        "!bzip2 -d ./Data/banner.json.bz2"
      ],
      "metadata": {
        "id": "YAQLHsFpd1mU"
      },
      "execution_count": null,
      "outputs": []
    },
    {
      "cell_type": "code",
      "source": [
        "columnlist = [\n",
        "       'ip',\n",
        "       'data.http.result.response.headers.server',\n",
        "       'data.http.result.response.status_code',\n",
        "       'data.http.result.response.headers.connection',\n",
        "       'data.http.result.response.headers.via',\n",
        "       'data.http.result.response.headers.accept_ranges',\n",
        "       'data.http.result.response.headers.cache_control',\n",
        "       'data.http.result.response.headers.retry_after',\n",
        "       'data.http.result.response.content_length',\n",
        "       'data.http.result.response.headers.content_type',\n",
        "       'data.http.result.response.headers.location',\n",
        "       'data.http.result.response.headers.etag',\n",
        "]\n"
      ],
      "metadata": {
        "id": "rZfX5YPFbtCj"
      },
      "execution_count": null,
      "outputs": []
    },
    {
      "cell_type": "code",
      "source": [
        "def getgeneralCloudfront(x):\n",
        "  if('(CloudFront)' in str(x)):\n",
        "      return 'CloudFront'\n",
        "  else:\n",
        "      return x\n",
        "\n",
        "def getgeneralServerNames(x):\n",
        "  if('nginx' in str(x)):\n",
        "      return 'nginx'\n",
        "  elif('Apache' in str(x)):\n",
        "      return 'Apache'\n",
        "  else:\n",
        "      return x\n",
        "\n",
        "def getgeneralphp(x):\n",
        "  if (pd.isna(x)):\n",
        "    return -1\n",
        "  else:\n",
        "    if('PHP' in x):\n",
        "      return 'PHP'\n",
        "\n",
        "def changenullaszero(x):\n",
        "  try:\n",
        "      if (pd.isna(x)): \n",
        "        return -1\n",
        "      else:\n",
        "        return 1\n",
        "  except:\n",
        "     print('Error Occured')\n",
        "  finally:\n",
        "    return -1\n",
        "\n",
        "def getCIDRBlockLength(ipadd):\n",
        "   if(pd.isna(ipadd)):\n",
        "     return 0\n",
        "   else:\n",
        "      if(len(ipadd.split(','))==1):\n",
        "        return (2**(32-int(ipadd.split('/')[1])))\n",
        "      else:\n",
        "        sum=0\n",
        "        for i in ipadd.split(','):\n",
        "          sum=sum + (2**(32-int(i.split('/')[1])))\n",
        "        return sum \n",
        "\n",
        "def arrayLiteral(stringarray):\n",
        "  if(pd.isna(stringarray)):\n",
        "     return 0\n",
        "  return len(literal_eval(stringarray))\n",
        "\n",
        "def removeSquareBrackets(text):\n",
        "  if(pd.isna(text)):\n",
        "     return -1\n",
        "  return literal_eval(text)[0];"
      ],
      "metadata": {
        "id": "1TyN5379v6vS"
      },
      "execution_count": null,
      "outputs": []
    },
    {
      "cell_type": "code",
      "source": [
        "with open('label_encodings','rb') as f:\n",
        "  encoder_dict = pickle.load(f)"
      ],
      "metadata": {
        "id": "Sq7pPrqurzbB"
      },
      "execution_count": null,
      "outputs": []
    },
    {
      "cell_type": "code",
      "source": [
        "encoder_dict['data.http.result.response.status_code'].classes_"
      ],
      "metadata": {
        "id": "x61LwM87sHRO",
        "colab": {
          "base_uri": "https://localhost:8080/"
        },
        "outputId": "2e5aad2c-75b4-4e28-9b97-c3e4be6387a4"
      },
      "execution_count": null,
      "outputs": [
        {
          "output_type": "execute_result",
          "data": {
            "text/plain": [
              "array(['-1.0', '101.0', '200.0', '201.0', '204.0', '299.0', '301.0',\n",
              "       '302.0', '303.0', '307.0', '308.0', '400.0', '401.0', '402.0',\n",
              "       '403.0', '404.0', '405.0', '406.0', '407.0', '409.0', '410.0',\n",
              "       '412.0', '418.0', '421.0', '422.0', '426.0', '470.0', '500.0',\n",
              "       '501.0', '502.0', '503.0', '504.0', '508.0', '511.0', '523.0',\n",
              "       '561.0', '596.0', '599.0', '801.0', '999.0'], dtype=object)"
            ]
          },
          "metadata": {},
          "execution_count": 140
        }
      ]
    },
    {
      "cell_type": "code",
      "source": [
        "def encodingcheck(val,column):\n",
        "  column = encoder_dict[column].classes_\n",
        "  return (val in column ) and  np.where( column ==val)[0][0] or -1"
      ],
      "metadata": {
        "id": "oV7po-DjD3eq"
      },
      "execution_count": null,
      "outputs": []
    },
    {
      "cell_type": "code",
      "source": [
        "#encodingcheck(str(float(500)),'data.http.result.response.status_code')"
      ],
      "metadata": {
        "colab": {
          "base_uri": "https://localhost:8080/"
        },
        "id": "tKozSq6OTx4y",
        "outputId": "30680da4-8bbd-477c-fdcb-0ecde655e2bb"
      },
      "execution_count": null,
      "outputs": [
        {
          "output_type": "execute_result",
          "data": {
            "text/plain": [
              "27"
            ]
          },
          "metadata": {},
          "execution_count": 146
        }
      ]
    },
    {
      "cell_type": "code",
      "source": [
        "finallist = []\n",
        "finaltemplist = []\n",
        "count = 0\n",
        "\n",
        "with open('Data/banner.json') as file:\n",
        "      for line in file:\n",
        "          count=count+1\n",
        "          row = json.loads(line.rstrip())\n",
        "          df = pd.json_normalize(row)\n",
        "          templist = []\n",
        "          temptemplist = []\n",
        "          for column in columnlist:\n",
        "            if column in df.columns:\n",
        "              (column == 'ip') and templist.append(df[column].values[0])\n",
        "              (column == 'data.http.result.response.headers.server') and templist.append(encodingcheck(getgeneralServerNames(df[column].values[0]),column))\n",
        "              (column == 'data.http.result.response.status_code') and templist.append(encodingcheck(str(float(df[column].values[0])),column))\n",
        "              (column == 'data.http.result.response.headers.connection') and templist.append(encodingcheck(df[column].values[0][0],column))\n",
        "              (column == 'data.http.result.response.headers.via') and templist.append(encodingcheck(changenullaszero(df[column].values[0]),column))\n",
        "              (column == 'data.http.result.response.headers.accept_ranges') and templist.append(encodingcheck(df[column].values[0][0],column))\n",
        "              (column == 'data.http.result.response.headers.cache_control') and templist.append(encodingcheck(df[column].values[0][0],column))\n",
        "              (column == 'data.http.result.response.headers.retry_after') and templist.append(encodingcheck(df[column].values[0][0],column))\n",
        "              (column == 'data.http.result.response.content_length') and templist.append(df[column].values[0])\n",
        "              (column == 'data.http.result.response.headers.content_type') and templist.append(encodingcheck(df[column].values[0][0],column))\n",
        "              (column == 'data.http.result.response.headers.location') and templist.append(encodingcheck(changenullaszero(df[column].values[0]),column))\n",
        "              (column == 'data.http.result.response.headers.etag') and templist.append(encodingcheck(changenullaszero(df[column].values[0]),column))\n",
        "              temptemplist.append(df[column].values[0])\n",
        "              continue\n",
        "            else:\n",
        "              templist.append(-1)\n",
        "              temptemplist.append(-1)\n",
        "          finaltemplist.append(temptemplist)\n",
        "          finallist.append(templist)\n",
        "          if(count%5000==0):\n",
        "            print(count)"
      ],
      "metadata": {
        "id": "dbjAj94rb879"
      },
      "execution_count": null,
      "outputs": []
    },
    {
      "cell_type": "code",
      "source": [
        "len(finallist[0])"
      ],
      "metadata": {
        "colab": {
          "base_uri": "https://localhost:8080/"
        },
        "id": "UpShlZW6ahOf",
        "outputId": "dcb4573e-a425-490b-fc9f-08d745b3d1d5"
      },
      "execution_count": null,
      "outputs": [
        {
          "output_type": "execute_result",
          "data": {
            "text/plain": [
              "12"
            ]
          },
          "metadata": {},
          "execution_count": 129
        }
      ]
    },
    {
      "cell_type": "code",
      "source": [
        "finallist[1000]"
      ],
      "metadata": {
        "colab": {
          "base_uri": "https://localhost:8080/"
        },
        "id": "0SSl5dSmbDrG",
        "outputId": "71b7727f-2e48-4bf3-84ce-6ffa3bf0abf8"
      },
      "execution_count": null,
      "outputs": [
        {
          "output_type": "execute_result",
          "data": {
            "text/plain": [
              "['159.69.32.133', 479, 6, 6, -1, -1, -1, -1, 162, 44, -1, -1]"
            ]
          },
          "metadata": {},
          "execution_count": 164
        }
      ]
    },
    {
      "cell_type": "code",
      "source": [
        "finallist  = pd.DataFrame(finallist, columns =columnlist)"
      ],
      "metadata": {
        "id": "3Ns0_lz9iTEU"
      },
      "execution_count": null,
      "outputs": []
    },
    {
      "cell_type": "code",
      "source": [
        "finaltemplist[127035]"
      ],
      "metadata": {
        "colab": {
          "base_uri": "https://localhost:8080/"
        },
        "id": "4NSkpMA9F-_s",
        "outputId": "a9e015ea-1f72-4f83-e970-ebccec3821bb"
      },
      "execution_count": null,
      "outputs": [
        {
          "output_type": "execute_result",
          "data": {
            "text/plain": [
              "['144.73.228.49', -1, -1, -1, -1, -1, -1, -1, -1, -1, -1, -1]"
            ]
          },
          "metadata": {},
          "execution_count": 185
        }
      ]
    },
    {
      "cell_type": "code",
      "source": [
        "finallist.iloc[127035]"
      ],
      "metadata": {
        "colab": {
          "base_uri": "https://localhost:8080/"
        },
        "id": "gveVsZ_n-6Vl",
        "outputId": "2fa41cdc-f043-4f32-ea36-634f129126aa"
      },
      "execution_count": null,
      "outputs": [
        {
          "output_type": "execute_result",
          "data": {
            "text/plain": [
              "ip                                                 144.73.228.49\n",
              "data.http.result.response.headers.server                      -1\n",
              "data.http.result.response.status_code                         -1\n",
              "data.http.result.response.headers.connection                  -1\n",
              "data.http.result.response.headers.via                         -1\n",
              "data.http.result.response.headers.accept_ranges               -1\n",
              "data.http.result.response.headers.cache_control               -1\n",
              "data.http.result.response.headers.retry_after                 -1\n",
              "data.http.result.response.content_length                      -1\n",
              "data.http.result.response.headers.content_type                -1\n",
              "data.http.result.response.headers.location                    -1\n",
              "data.http.result.response.headers.etag                        -1\n",
              "Name: 127035, dtype: object"
            ]
          },
          "metadata": {},
          "execution_count": 184
        }
      ]
    }
  ]
}