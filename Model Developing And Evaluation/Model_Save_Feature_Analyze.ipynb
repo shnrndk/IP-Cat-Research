{
  "cells": [
    {
      "cell_type": "code",
      "execution_count": null,
      "metadata": {
        "id": "fgw7T-4hX8AR"
      },
      "outputs": [],
      "source": [
        "import pandas as pd\n",
        "import matplotlib.pyplot as plt\n",
        "import numpy as np\n",
        "from sklearn import preprocessing\n",
        "le = preprocessing.LabelEncoder()\n",
        "import math \n",
        "from ast import literal_eval\n",
        "import pickle"
      ]
    },
    {
      "cell_type": "code",
      "execution_count": null,
      "metadata": {
        "colab": {
          "base_uri": "https://localhost:8080/"
        },
        "id": "CxfA0b8DY_h9",
        "outputId": "45b43661-aaf8-4bed-bb17-bbdc1b30f2cd"
      },
      "outputs": [
        {
          "output_type": "stream",
          "name": "stdout",
          "text": [
            "Mounted at /content/drive\n"
          ]
        }
      ],
      "source": [
        "from google.colab import drive\n",
        "drive.mount('/content/drive')"
      ]
    },
    {
      "cell_type": "code",
      "execution_count": null,
      "metadata": {
        "id": "iesv91TgZC27"
      },
      "outputs": [],
      "source": [
        "!cp  /content/drive/MyDrive/Updated_Dateset_v5.zip /content/"
      ]
    },
    {
      "cell_type": "code",
      "execution_count": null,
      "metadata": {
        "colab": {
          "base_uri": "https://localhost:8080/"
        },
        "id": "-oPfaWAKaTho",
        "outputId": "c6cb3f58-bf1a-4df1-da7b-414cb02df11d"
      },
      "outputs": [
        {
          "output_type": "stream",
          "name": "stdout",
          "text": [
            "Archive:  Updated_Dateset_v5.zip\n",
            "  inflating: cdn_final_final.csv     \n",
            "  inflating: cloud_final_final.csv   \n",
            "  inflating: hosting_final_final.csv  \n",
            "  inflating: proxy_final_final.csv   \n",
            "  inflating: vpn_final_final.csv     \n"
          ]
        }
      ],
      "source": [
        "!unzip  Updated_Dateset_v5.zip"
      ]
    },
    {
      "cell_type": "code",
      "execution_count": null,
      "metadata": {
        "colab": {
          "base_uri": "https://localhost:8080/"
        },
        "id": "O_EYS5ZkZEfH",
        "outputId": "e0ed09b0-1534-4dfa-dba4-b23d7e21a257"
      },
      "outputs": [
        {
          "output_type": "stream",
          "name": "stderr",
          "text": [
            "/usr/local/lib/python3.7/dist-packages/IPython/core/interactiveshell.py:2882: DtypeWarning: Columns (25) have mixed types.Specify dtype option on import or set low_memory=False.\n",
            "  exec(code_obj, self.user_global_ns, self.user_ns)\n",
            "/usr/local/lib/python3.7/dist-packages/IPython/core/interactiveshell.py:2882: DtypeWarning: Columns (31) have mixed types.Specify dtype option on import or set low_memory=False.\n",
            "  exec(code_obj, self.user_global_ns, self.user_ns)\n"
          ]
        }
      ],
      "source": [
        "sample_size = 30000\n",
        "df = pd.read_csv('cdn_final_final.csv')\n",
        "#df['vendor']= ['cdn' for x in range(df.shape[0])]\n",
        "df = df.sample(n = sample_size)\n",
        "df1 = pd.read_csv('cloud_final_final.csv')\n",
        "#df1['vendor']= ['cloud' for x in range(df1.shape[0])]\n",
        "df1 = df1.sample(n = sample_size)\n",
        "df2 = pd.read_csv('hosting_final_final.csv')\n",
        "#df2['vendor']= ['hosting' for x in range(df2.shape[0])]\n",
        "df2 = df2.sample(n = sample_size)\n",
        "df3 = pd.read_csv('vpn_final_final.csv')\n",
        "#df3['vendor']= ['vpn' for x in range(df3.shape[0])]\n",
        "#df3 = df3.sample(n = 15000)\n",
        "df4 = pd.read_csv('proxy_final_final.csv')\n",
        "#df4 = df4.sample(n = 9200)\n",
        "\n",
        "df = df.append([df1,df2,df3,df4],ignore_index=True)"
      ]
    },
    {
      "cell_type": "code",
      "execution_count": null,
      "metadata": {
        "colab": {
          "base_uri": "https://localhost:8080/"
        },
        "id": "QyUE8peM-qcJ",
        "outputId": "86dda405-b7ee-470a-c722-9fdc2f4a8114"
      },
      "outputs": [
        {
          "output_type": "execute_result",
          "data": {
            "text/plain": [
              "Index(['ip', 'No Of Owners', 'CIDR', 'netType', 'Organization',\n",
              "       'Most Recent Update', 'No of Who is Records',\n",
              "       'data.http.result.response.headers.server.0',\n",
              "       'data.http.result.response.status_code',\n",
              "       'data.http.result.response.headers.unknown.0.key',\n",
              "       'data.http.result.response.headers.unknown.0.value.0',\n",
              "       'data.http.result.response.headers.connection.0',\n",
              "       'data.http.result.response.headers.via.0',\n",
              "       'data.http.result.response.headers.unknown.1.key',\n",
              "       'data.http.result.response.headers.unknown.1.value.0',\n",
              "       'data.http.result.response.headers.accept_ranges.0',\n",
              "       'data.http.result.response.headers.cache_control.0',\n",
              "       'data.http.result.response.headers.retry_after.0',\n",
              "       'data.http.result.response.body',\n",
              "       'data.http.result.response.body_sha256',\n",
              "       'data.http.result.response.content_length',\n",
              "       'data.http.result.response.headers.content_type.0',\n",
              "       'data.http.result.response.headers.location.0',\n",
              "       'data.http.result.redirect_response_chain.0.status_line',\n",
              "       'data.http.result.response.headers.etag.0',\n",
              "       'data.http.result.response.headers.last_modified.0',\n",
              "       'data.http.result.response.headers.vary.0',\n",
              "       'data.http.result.response.transfer_encoding.0',\n",
              "       'data.http.result.response.headers.x_powered_by.0',\n",
              "       'data.http.result.response.headers.pragma.0',\n",
              "       'data.http.result.redirect_response_chain.0.headers.server.0',\n",
              "       'as_name', 'as_no', 'data.tls.status',\n",
              "       'data.tls.result.handshake_log.server_certificates.certificate.parsed.issuer.common_name',\n",
              "       'data.tls.result.handshake_log.server_certificates.certificate.parsed.issuer.country',\n",
              "       'data.tls.result.handshake_log.server_certificates.certificate.parsed.issuer.organization',\n",
              "       'data.tls.result.handshake_log.server_certificates.certificate.parsed.issuer_dn',\n",
              "       'data.tls.result.handshake_log.server_certificates.certificate.parsed.subject.common_name',\n",
              "       'data.tls.result.handshake_log.server_certificates.certificate.parsed.subject.country',\n",
              "       'data.tls.result.handshake_log.server_certificates.certificate.parsed.subject.locality',\n",
              "       'data.tls.result.handshake_log.server_certificates.certificate.parsed.subject.province',\n",
              "       'data.tls.result.handshake_log.server_certificates.certificate.parsed.subject.organization',\n",
              "       'data.tls.result.handshake_log.server_certificates.certificate.parsed.subject_dn',\n",
              "       'data.tls.result.handshake_log.server_certificates.certificate.parsed.extensions.subject_alt_name.dns_names',\n",
              "       'vendor', 'Unnamed: 0_y'],\n",
              "      dtype='object')"
            ]
          },
          "metadata": {},
          "execution_count": 6
        }
      ],
      "source": [
        "df.columns"
      ]
    },
    {
      "cell_type": "code",
      "execution_count": null,
      "metadata": {
        "id": "P44b1L2Vkzu2"
      },
      "outputs": [],
      "source": [
        "renameDict = {\n",
        "       'data.http.result.response.headers.server.0':'data.http.result.response.headers.server',\n",
        "       'data.http.result.response.headers.connection.0':'data.http.result.response.headers.connection',\n",
        "       'data.http.result.response.headers.via.0':'data.http.result.response.headers.via',\n",
        "       'data.http.result.response.headers.accept_ranges.0': 'data.http.result.response.headers.accept_ranges',\n",
        "       'data.http.result.response.headers.cache_control.0':'data.http.result.response.headers.cache_control',\n",
        "       'data.http.result.response.headers.retry_after.0':'data.http.result.response.headers.retry_after',\n",
        "       'data.http.result.response.headers.content_type.0':'data.http.result.response.headers.content_type',\n",
        "       'data.http.result.response.headers.location.0': 'data.http.result.response.headers.location',\n",
        "       'data.http.result.redirect_response_chain.0.status_line':'data.http.result.redirect_response_chain.status_line',\n",
        "       'data.http.result.response.headers.etag.0':'data.http.result.response.headers.etag',\n",
        "       'data.http.result.response.headers.last_modified.0':'data.http.result.response.headers.last_modified',\n",
        "       'data.http.result.response.headers.vary.0':'data.http.result.response.headers.vary',\n",
        "       'data.http.result.response.transfer_encoding.0': 'data.http.result.response.transfer_encoding',\n",
        "       'data.http.result.response.headers.x_powered_by.0':'data.http.result.response.headers.x_powered_by',\n",
        "       'data.http.result.response.headers.pragma.0':'data.http.result.response.headers.pragma',\n",
        "       'data.http.result.redirect_response_chain.0.headers.server.0':'data.http.result.redirect_response_chain.headers.server'\n",
        "}"
      ]
    },
    {
      "cell_type": "code",
      "execution_count": null,
      "metadata": {
        "id": "JGOk6eh1krLy"
      },
      "outputs": [],
      "source": [
        "df.rename(columns=renameDict, errors=\"raise\",inplace=True)"
      ]
    },
    {
      "cell_type": "code",
      "execution_count": null,
      "metadata": {
        "id": "oAnji2jLQb5P"
      },
      "outputs": [],
      "source": [
        "catfields = [ 'netType', \n",
        "              #'Organization',\n",
        "              'data.http.result.response.headers.server',\n",
        "               'data.http.result.response.status_code',\n",
        "              'data.http.result.response.headers.connection',\n",
        "              'data.http.result.response.headers.via',\n",
        "              'data.http.result.response.headers.accept_ranges',\n",
        "              'data.http.result.response.headers.cache_control',\n",
        "              'data.http.result.response.headers.retry_after',\n",
        "             # 'data.http.result.response.body',\n",
        "             # 'data.http.result.response.body_sha256',\n",
        "              'data.http.result.response.headers.content_type',\n",
        "              'data.http.result.response.headers.location',\n",
        "             # 'data.http.result.redirect_response_chain.status_line',\n",
        "              'data.http.result.response.headers.etag',\n",
        "              #'data.http.result.response.headers.vary',\n",
        "              #'data.http.result.response.transfer_encoding',\n",
        "             # 'data.http.result.response.headers.x_powered_by',\n",
        "              #'data.http.result.response.headers.pragma',\n",
        "              'as_name', 'as_no',\n",
        "              'data.tls.status',\n",
        "              'data.tls.result.handshake_log.server_certificates.certificate.parsed.issuer.country',\n",
        "              'data.tls.result.handshake_log.server_certificates.certificate.parsed.issuer.organization',\n",
        "              #'data.tls.result.handshake_log.server_certificates.certificate.parsed.subject.common_name',\n",
        "              #'data.tls.result.handshake_log.server_certificates.certificate.parsed.subject.country',\n",
        "              'data.tls.result.handshake_log.server_certificates.certificate.parsed.subject.locality',\n",
        "              #'data.tls.result.handshake_log.server_certificates.certificate.parsed.subject.province',\n",
        "              'data.tls.result.handshake_log.server_certificates.certificate.parsed.subject.organization',\n",
        "              'vendor'\n",
        "       ]"
      ]
    },
    {
      "cell_type": "code",
      "source": [
        "df[df[\"vendor\"] == 'proxy']['data.http.result.response.headers.cache_control'].value_counts()"
      ],
      "metadata": {
        "colab": {
          "base_uri": "https://localhost:8080/"
        },
        "id": "qFK0G8I6HJsf",
        "outputId": "abd82456-de4b-4784-d61b-2ddbc20cf22b"
      },
      "execution_count": null,
      "outputs": [
        {
          "output_type": "execute_result",
          "data": {
            "text/plain": [
              "no-cache                                                                      29\n",
              "no-store, no-cache, must-revalidate, post-check=0, pre-check=0                13\n",
              "no-cache, no-store, must-revalidate                                           11\n",
              "no-store, no-cache, must-revalidate                                           10\n",
              "private                                                                       10\n",
              "no-store                                                                       4\n",
              "no-cache, private                                                              4\n",
              "max-age=0                                                                      4\n",
              "no-cache, no-store, max-age=0                                                  3\n",
              "no-cache,no-store                                                              3\n",
              "no-cache, must-revalidate                                                      2\n",
              "no-cache, public                                                               2\n",
              "max-age=3600,public                                                            1\n",
              "public, max-age=0                                                              1\n",
              "max-age=600                                                                    1\n",
              "no-store, no-cache, must-revalidate,  pre-check=0, post-check=0, max-age=0     1\n",
              "no-cache, must-revalidate, private, max-age=86400                              1\n",
              "must-revalidate, no-cache, private                                             1\n",
              "private, no-cache, max-age=0                                                   1\n",
              "max-age=315360000                                                              1\n",
              "public, no-cache=\"Set-Cookie\", no-store, max-age=0                             1\n",
              "max-age=3600, immutable                                                        1\n",
              "Name: data.http.result.response.headers.cache_control, dtype: int64"
            ]
          },
          "metadata": {},
          "execution_count": 10
        }
      ]
    },
    {
      "cell_type": "code",
      "source": [
        "#df[''].value_counts()"
      ],
      "metadata": {
        "id": "Wz6wk0vqFvfb"
      },
      "execution_count": null,
      "outputs": []
    },
    {
      "cell_type": "code",
      "execution_count": null,
      "metadata": {
        "id": "oa7wrfDjZM6T"
      },
      "outputs": [],
      "source": [
        "def getgeneralCloudfront(x):\n",
        "  if('(CloudFront)' in str(x)):\n",
        "      return 'CloudFront'\n",
        "  else:\n",
        "      return x\n",
        "\n",
        "def getgeneralServerNames(x):\n",
        "  if('nginx' in str(x)):\n",
        "      return 'nginx'\n",
        "  elif('Apache' in str(x)):\n",
        "      return 'Apache'\n",
        "  else:\n",
        "      return x\n",
        "\n",
        "def getgeneralphp(x):\n",
        "  if (pd.isna(x)):\n",
        "    return -1\n",
        "  else:\n",
        "    if('PHP' in x):\n",
        "      return 'PHP'\n",
        "\n",
        "def changenullaszero(x):\n",
        "  if (pd.isna(x)): \n",
        "    return -1\n",
        "  else:\n",
        "    return 1\n",
        "\n",
        "def getCIDRBlockLength(ipadd):\n",
        "   if(pd.isna(ipadd)):\n",
        "     return 0\n",
        "   else:\n",
        "      if(len(ipadd.split(','))==1):\n",
        "        return (2**(32-int(ipadd.split('/')[1])))\n",
        "      else:\n",
        "        sum=0\n",
        "        for i in ipadd.split(','):\n",
        "          sum=sum + (2**(32-int(i.split('/')[1])))\n",
        "        return sum \n",
        "\n",
        "def arrayLiteral(stringarray):\n",
        "  if(pd.isna(stringarray)):\n",
        "     return 0\n",
        "  return len(literal_eval(stringarray))\n",
        "\n",
        "def removeSquareBrackets(text):\n",
        "  if(pd.isna(text)):\n",
        "     return -1\n",
        "  return literal_eval(text)[0];\n",
        "\n",
        "def featureImportance(clf):\n",
        "    importance = clf.feature_importances_\n",
        "    importancelist = []\n",
        "    for i,v in enumerate(importance):\n",
        "      importancelist.append([df.columns[i],v])\n",
        "    importantdf = pd.DataFrame(importancelist)\n",
        "    importantdf.columns = ['Feature','Importance']\n",
        "    importantdf = importantdf.sort_values(by=['Importance'],ascending=False)\n",
        "    importantdf = importantdf[::-1]\n",
        "    print(importantdf)\n",
        "    fig = importantdf.plot.barh(x='Feature', y='Importance', rot=0,figsize=(5,10),title = 'Overall Feature Importance')"
      ]
    },
    {
      "cell_type": "code",
      "execution_count": null,
      "metadata": {
        "id": "V-k_-3CAZbNN"
      },
      "outputs": [],
      "source": [
        "#df['data.http.result.response.headers.via']  = df[\"data.http.result.response.headers.via\"].apply(getgeneralCloudfront)\n",
        "df['data.http.result.response.status_code'].fillna(-1, inplace=True)\n",
        "df['data.http.result.response.headers.pragma'].fillna(-1, inplace=True)\n",
        "df['data.http.result.response.headers.connection'].fillna(-1, inplace=True)\n",
        "df['data.http.result.response.headers.via']  = df[\"data.http.result.response.headers.via\"].apply(changenullaszero)\n",
        "df['data.http.result.response.headers.via'].fillna(-1, inplace=True)\n",
        "df['data.http.result.response.headers.accept_ranges'].fillna(-1, inplace=True)\n",
        "df['data.http.result.response.headers.cache_control'].fillna(-1, inplace=True)\n",
        "df['data.http.result.response.headers.retry_after'].fillna(-1, inplace=True)\n",
        "df['data.http.result.response.body']  = df[\"data.http.result.response.body\"].apply(changenullaszero)\n",
        "df['data.http.result.response.body_sha256']  = df['data.http.result.response.body_sha256'].apply(changenullaszero)\n",
        "df['data.http.result.response.content_length'].fillna(0, inplace=True)\n",
        "df['data.http.result.response.headers.content_type'].fillna(-1, inplace=True)\n",
        "df['data.http.result.response.headers.location'] = df['data.http.result.response.headers.location'].apply(changenullaszero)\n",
        "df['data.http.result.redirect_response_chain.status_line'].fillna(-1, inplace=True)\n",
        "df['data.http.result.response.headers.etag'] = df['data.http.result.response.headers.etag'].apply(changenullaszero)\n",
        "df['data.http.result.response.headers.last_modified']  = df['data.http.result.response.headers.last_modified'].apply(changenullaszero)\n",
        "df['data.http.result.response.headers.vary'].fillna(-1, inplace=True)\n",
        "df['data.http.result.response.transfer_encoding'].fillna(-1, inplace=True)\n",
        "df['data.http.result.response.headers.x_powered_by']  = df['data.http.result.response.headers.x_powered_by'].apply(getgeneralphp)\n",
        "#df['data.http.result.response.headers.x_powered_by'].fillna(-1, inplace=True)\n",
        "\n",
        "df['data.http.result.response.headers.server']  = df['data.http.result.response.headers.server'].apply(getgeneralServerNames)\n",
        "df['data.http.result.response.headers.server'].fillna(-1, inplace=True)"
      ]
    },
    {
      "cell_type": "code",
      "execution_count": null,
      "metadata": {
        "id": "i__Rjbdmjwnr"
      },
      "outputs": [],
      "source": [
        "df['netSize']  = df[\"CIDR\"].apply(getCIDRBlockLength)\n",
        "df['data.tls.result.handshake_log.server_certificates.certificate.parsed.issuer.common_name']  =  df['data.tls.result.handshake_log.server_certificates.certificate.parsed.issuer.common_name'].apply(removeSquareBrackets)\n",
        "df['data.tls.result.handshake_log.server_certificates.certificate.parsed.issuer.country']  =  df['data.tls.result.handshake_log.server_certificates.certificate.parsed.issuer.country'].apply(removeSquareBrackets)\n",
        "df['data.tls.result.handshake_log.server_certificates.certificate.parsed.issuer.organization']  =  df['data.tls.result.handshake_log.server_certificates.certificate.parsed.issuer.organization'].apply(removeSquareBrackets)\n",
        "df['data.tls.result.handshake_log.server_certificates.certificate.parsed.subject.common_name']  =  df['data.tls.result.handshake_log.server_certificates.certificate.parsed.subject.common_name'].apply(removeSquareBrackets)\n",
        "df['data.tls.result.handshake_log.server_certificates.certificate.parsed.subject.country']  =  df['data.tls.result.handshake_log.server_certificates.certificate.parsed.subject.country'].apply(removeSquareBrackets)\n",
        "df['data.tls.result.handshake_log.server_certificates.certificate.parsed.subject.province']  =  df['data.tls.result.handshake_log.server_certificates.certificate.parsed.subject.province'].apply(removeSquareBrackets)\n",
        "df['data.tls.result.handshake_log.server_certificates.certificate.parsed.subject.locality']  =  df['data.tls.result.handshake_log.server_certificates.certificate.parsed.subject.locality'].apply(removeSquareBrackets)\n",
        "df['data.tls.result.handshake_log.server_certificates.certificate.parsed.subject.organization']  =  df['data.tls.result.handshake_log.server_certificates.certificate.parsed.subject.organization'].apply(removeSquareBrackets)\n",
        "df['SAN Count']  =  df['data.tls.result.handshake_log.server_certificates.certificate.parsed.extensions.subject_alt_name.dns_names'].apply(arrayLiteral)"
      ]
    },
    {
      "cell_type": "code",
      "execution_count": null,
      "metadata": {
        "id": "lr35q976jrhw"
      },
      "outputs": [],
      "source": [
        "df['Organization'].fillna(-1, inplace=True)\n",
        "df['netType'].fillna(-1, inplace=True)\n",
        "df['No of Who is Records'].fillna(0, inplace=True)\n",
        "df['Most Recent Update'].fillna(0, inplace=True)"
      ]
    },
    {
      "cell_type": "code",
      "execution_count": null,
      "metadata": {
        "id": "Y5KySBSLjjCQ"
      },
      "outputs": [],
      "source": [
        "# df['Organization'] = le.fit_transform(df['Organization'].astype(str))\n",
        "# df['netType'] = le.fit_transform(df['netType'].astype(str))\n",
        "\n",
        "# df['data.tls.result.handshake_log.server_certificates.certificate.parsed.issuer.common_name'] = le.fit_transform(df['data.tls.result.handshake_log.server_certificates.certificate.parsed.issuer.common_name'].astype(str))\n",
        "# df['data.tls.result.handshake_log.server_certificates.certificate.parsed.issuer.country'] = le.fit_transform(df['data.tls.result.handshake_log.server_certificates.certificate.parsed.issuer.country'].astype(str))\n",
        "# df['data.tls.result.handshake_log.server_certificates.certificate.parsed.issuer.organization'] = le.fit_transform(df['data.tls.result.handshake_log.server_certificates.certificate.parsed.issuer.organization'].astype(str))\n",
        "# df['data.tls.result.handshake_log.server_certificates.certificate.parsed.subject.common_name'] = le.fit_transform(df['data.tls.result.handshake_log.server_certificates.certificate.parsed.subject.common_name'].astype(str))\n",
        "# df['data.tls.result.handshake_log.server_certificates.certificate.parsed.subject.country'] = le.fit_transform(df['data.tls.result.handshake_log.server_certificates.certificate.parsed.subject.country'].astype(str))\n",
        "# df['data.tls.result.handshake_log.server_certificates.certificate.parsed.subject.province'] = le.fit_transform(df['data.tls.result.handshake_log.server_certificates.certificate.parsed.subject.province'].astype(str))\n",
        "# df['data.tls.result.handshake_log.server_certificates.certificate.parsed.subject.locality'] = le.fit_transform(df['data.tls.result.handshake_log.server_certificates.certificate.parsed.subject.locality'].astype(str))\n",
        "# df['data.tls.result.handshake_log.server_certificates.certificate.parsed.subject.organization'] = le.fit_transform(df['data.tls.result.handshake_log.server_certificates.certificate.parsed.subject.organization'].astype(str))\n",
        "# df['data.tls.status'] = le.fit_transform(df['data.tls.status'].astype(str))"
      ]
    },
    {
      "cell_type": "code",
      "execution_count": null,
      "metadata": {
        "id": "-zIWNIXcn_EV"
      },
      "outputs": [],
      "source": [
        "df = df.drop(['data.tls.result.handshake_log.server_certificates.certificate.parsed.issuer_dn'],axis=1)\n",
        "df = df.drop(['data.tls.result.handshake_log.server_certificates.certificate.parsed.subject_dn'],axis=1)\n",
        "df = df.drop(['data.tls.result.handshake_log.server_certificates.certificate.parsed.extensions.subject_alt_name.dns_names'],axis=1)\n",
        "df = df.drop(['No Of Owners'],axis=1)\n",
        "df = df.drop(['CIDR'],axis=1)\n",
        "df = df.drop(['data.http.result.response.headers.unknown.0.key'],axis=1)\n",
        "df = df.drop(['data.http.result.response.headers.unknown.0.value.0'],axis=1)\n",
        "df = df.drop(['data.http.result.response.headers.unknown.1.key'],axis=1)\n",
        "df = df.drop(['data.http.result.response.headers.unknown.1.value.0'],axis=1)\n",
        "df = df.drop(['ip'],axis=1)\n",
        "df = df.drop(['Unnamed: 0_y'],axis=1)\n",
        "df = df.drop(['data.tls.result.handshake_log.server_certificates.certificate.parsed.issuer.common_name'],axis=1)\n",
        "\n",
        "\n",
        "#Reducing the Insignificant Features\n",
        "df = df.drop(['data.http.result.response.transfer_encoding'],axis=1)\n",
        "df = df.drop(['data.http.result.response.headers.x_powered_by'],axis=1)\n",
        "df = df.drop(['data.http.result.response.headers.pragma'],axis=1)\n",
        "df = df.drop(['data.http.result.redirect_response_chain.headers.server'],axis=1)\n",
        "df = df.drop(['data.http.result.redirect_response_chain.status_line'],axis=1)\n",
        "df = df.drop(['data.http.result.response.headers.last_modified'],axis=1)\n",
        "df = df.drop(['data.http.result.response.body_sha256'],axis=1)\n",
        "df = df.drop(['data.http.result.response.headers.vary'],axis=1)\n",
        "df = df.drop(['data.http.result.response.body'],axis=1)\n",
        "\n",
        "df = df.drop(['data.tls.result.handshake_log.server_certificates.certificate.parsed.subject.country'],axis=1)\n",
        "df = df.drop(['data.tls.result.handshake_log.server_certificates.certificate.parsed.subject.province'],axis=1)\n",
        "df = df.drop(['data.tls.result.handshake_log.server_certificates.certificate.parsed.subject.common_name'],axis=1)\n",
        "\n",
        "#Unsure Significant Features\n",
        "df = df.drop(['Organization'],axis=1)"
      ]
    },
    {
      "cell_type": "code",
      "execution_count": null,
      "metadata": {
        "id": "rJhcinAPY2ok",
        "colab": {
          "base_uri": "https://localhost:8080/"
        },
        "outputId": "d010b2d7-0d7b-42ef-d849-4c412830c7d6"
      },
      "outputs": [
        {
          "output_type": "execute_result",
          "data": {
            "text/plain": [
              "Index(['netType', 'Most Recent Update', 'No of Who is Records',\n",
              "       'data.http.result.response.headers.server',\n",
              "       'data.http.result.response.status_code',\n",
              "       'data.http.result.response.headers.connection',\n",
              "       'data.http.result.response.headers.via',\n",
              "       'data.http.result.response.headers.accept_ranges',\n",
              "       'data.http.result.response.headers.cache_control',\n",
              "       'data.http.result.response.headers.retry_after',\n",
              "       'data.http.result.response.content_length',\n",
              "       'data.http.result.response.headers.content_type',\n",
              "       'data.http.result.response.headers.location',\n",
              "       'data.http.result.response.headers.etag', 'as_name', 'as_no',\n",
              "       'data.tls.status',\n",
              "       'data.tls.result.handshake_log.server_certificates.certificate.parsed.issuer.country',\n",
              "       'data.tls.result.handshake_log.server_certificates.certificate.parsed.issuer.organization',\n",
              "       'data.tls.result.handshake_log.server_certificates.certificate.parsed.subject.locality',\n",
              "       'data.tls.result.handshake_log.server_certificates.certificate.parsed.subject.organization',\n",
              "       'vendor', 'netSize', 'SAN Count'],\n",
              "      dtype='object')"
            ]
          },
          "metadata": {},
          "execution_count": 19
        }
      ],
      "source": [
        "df.columns"
      ]
    },
    {
      "cell_type": "code",
      "execution_count": null,
      "metadata": {
        "id": "wTeFzZULgcBg"
      },
      "outputs": [],
      "source": [
        "# import datetime"
      ]
    },
    {
      "cell_type": "code",
      "execution_count": null,
      "metadata": {
        "id": "ONMJoG2Hhvcf"
      },
      "outputs": [],
      "source": [
        ""
      ]
    },
    {
      "cell_type": "code",
      "execution_count": null,
      "metadata": {
        "id": "yhAt6zxv3Xvv",
        "colab": {
          "base_uri": "https://localhost:8080/"
        },
        "outputId": "ed3c317c-f003-4ae1-ece7-13e4a3690fde"
      },
      "outputs": [
        {
          "output_type": "execute_result",
          "data": {
            "text/plain": [
              "success               23876\n",
              "io-timeout             5600\n",
              "unknown-error           468\n",
              "connection-timeout       56\n",
              "Name: data.tls.status, dtype: int64"
            ]
          },
          "metadata": {},
          "execution_count": 21
        }
      ],
      "source": [
        "df[df[\"vendor\"] == \"cloud\"]['data.tls.status'].value_counts()"
      ]
    },
    {
      "cell_type": "code",
      "execution_count": null,
      "metadata": {
        "id": "vNGomzCNE-oI"
      },
      "outputs": [],
      "source": [
        "# val = 7.794858e+08\n",
        "# value = datetime.datetime.fromtimestamp(val)\n",
        "# print(f\"{value:%Y-%m-%d}\")"
      ]
    },
    {
      "cell_type": "code",
      "execution_count": null,
      "metadata": {
        "id": "mC-nGuFoTPnd",
        "colab": {
          "base_uri": "https://localhost:8080/",
          "height": 424
        },
        "outputId": "ce4ac83d-58d7-447d-ec66-677bcae22b0f"
      },
      "outputs": [
        {
          "output_type": "execute_result",
          "data": {
            "text/plain": [
              "        Most Recent Update  No of Who is Records  \\\n",
              "0             1.585613e+09                   1.0   \n",
              "1             1.586218e+09                   3.0   \n",
              "2             1.487946e+09                   2.0   \n",
              "3             0.000000e+00                   0.0   \n",
              "4             1.375056e+09                   1.0   \n",
              "...                    ...                   ...   \n",
              "121048        1.472602e+09                   1.0   \n",
              "121049        1.488331e+09                   2.0   \n",
              "121050        1.521072e+09                   1.0   \n",
              "121051        1.363599e+09                   2.0   \n",
              "121052        1.521072e+09                   1.0   \n",
              "\n",
              "        data.http.result.response.content_length   netSize  SAN Count  \n",
              "0                                          915.0    262144          2  \n",
              "1                                            0.0    131072          2  \n",
              "2                                            0.0  16777216         37  \n",
              "3                                          915.0         0          0  \n",
              "4                                          249.0     65536         11  \n",
              "...                                          ...       ...        ...  \n",
              "121048                                       0.0        16          0  \n",
              "121049                                       0.0  16777216          0  \n",
              "121050                                       0.0  16777216          0  \n",
              "121051                                       0.0  16777216          0  \n",
              "121052                                       0.0   2097152          0  \n",
              "\n",
              "[121053 rows x 5 columns]"
            ],
            "text/html": [
              "\n",
              "  <div id=\"df-09678682-896f-4b2b-9baa-622268865680\">\n",
              "    <div class=\"colab-df-container\">\n",
              "      <div>\n",
              "<style scoped>\n",
              "    .dataframe tbody tr th:only-of-type {\n",
              "        vertical-align: middle;\n",
              "    }\n",
              "\n",
              "    .dataframe tbody tr th {\n",
              "        vertical-align: top;\n",
              "    }\n",
              "\n",
              "    .dataframe thead th {\n",
              "        text-align: right;\n",
              "    }\n",
              "</style>\n",
              "<table border=\"1\" class=\"dataframe\">\n",
              "  <thead>\n",
              "    <tr style=\"text-align: right;\">\n",
              "      <th></th>\n",
              "      <th>Most Recent Update</th>\n",
              "      <th>No of Who is Records</th>\n",
              "      <th>data.http.result.response.content_length</th>\n",
              "      <th>netSize</th>\n",
              "      <th>SAN Count</th>\n",
              "    </tr>\n",
              "  </thead>\n",
              "  <tbody>\n",
              "    <tr>\n",
              "      <th>0</th>\n",
              "      <td>1.585613e+09</td>\n",
              "      <td>1.0</td>\n",
              "      <td>915.0</td>\n",
              "      <td>262144</td>\n",
              "      <td>2</td>\n",
              "    </tr>\n",
              "    <tr>\n",
              "      <th>1</th>\n",
              "      <td>1.586218e+09</td>\n",
              "      <td>3.0</td>\n",
              "      <td>0.0</td>\n",
              "      <td>131072</td>\n",
              "      <td>2</td>\n",
              "    </tr>\n",
              "    <tr>\n",
              "      <th>2</th>\n",
              "      <td>1.487946e+09</td>\n",
              "      <td>2.0</td>\n",
              "      <td>0.0</td>\n",
              "      <td>16777216</td>\n",
              "      <td>37</td>\n",
              "    </tr>\n",
              "    <tr>\n",
              "      <th>3</th>\n",
              "      <td>0.000000e+00</td>\n",
              "      <td>0.0</td>\n",
              "      <td>915.0</td>\n",
              "      <td>0</td>\n",
              "      <td>0</td>\n",
              "    </tr>\n",
              "    <tr>\n",
              "      <th>4</th>\n",
              "      <td>1.375056e+09</td>\n",
              "      <td>1.0</td>\n",
              "      <td>249.0</td>\n",
              "      <td>65536</td>\n",
              "      <td>11</td>\n",
              "    </tr>\n",
              "    <tr>\n",
              "      <th>...</th>\n",
              "      <td>...</td>\n",
              "      <td>...</td>\n",
              "      <td>...</td>\n",
              "      <td>...</td>\n",
              "      <td>...</td>\n",
              "    </tr>\n",
              "    <tr>\n",
              "      <th>121048</th>\n",
              "      <td>1.472602e+09</td>\n",
              "      <td>1.0</td>\n",
              "      <td>0.0</td>\n",
              "      <td>16</td>\n",
              "      <td>0</td>\n",
              "    </tr>\n",
              "    <tr>\n",
              "      <th>121049</th>\n",
              "      <td>1.488331e+09</td>\n",
              "      <td>2.0</td>\n",
              "      <td>0.0</td>\n",
              "      <td>16777216</td>\n",
              "      <td>0</td>\n",
              "    </tr>\n",
              "    <tr>\n",
              "      <th>121050</th>\n",
              "      <td>1.521072e+09</td>\n",
              "      <td>1.0</td>\n",
              "      <td>0.0</td>\n",
              "      <td>16777216</td>\n",
              "      <td>0</td>\n",
              "    </tr>\n",
              "    <tr>\n",
              "      <th>121051</th>\n",
              "      <td>1.363599e+09</td>\n",
              "      <td>2.0</td>\n",
              "      <td>0.0</td>\n",
              "      <td>16777216</td>\n",
              "      <td>0</td>\n",
              "    </tr>\n",
              "    <tr>\n",
              "      <th>121052</th>\n",
              "      <td>1.521072e+09</td>\n",
              "      <td>1.0</td>\n",
              "      <td>0.0</td>\n",
              "      <td>2097152</td>\n",
              "      <td>0</td>\n",
              "    </tr>\n",
              "  </tbody>\n",
              "</table>\n",
              "<p>121053 rows × 5 columns</p>\n",
              "</div>\n",
              "      <button class=\"colab-df-convert\" onclick=\"convertToInteractive('df-09678682-896f-4b2b-9baa-622268865680')\"\n",
              "              title=\"Convert this dataframe to an interactive table.\"\n",
              "              style=\"display:none;\">\n",
              "        \n",
              "  <svg xmlns=\"http://www.w3.org/2000/svg\" height=\"24px\"viewBox=\"0 0 24 24\"\n",
              "       width=\"24px\">\n",
              "    <path d=\"M0 0h24v24H0V0z\" fill=\"none\"/>\n",
              "    <path d=\"M18.56 5.44l.94 2.06.94-2.06 2.06-.94-2.06-.94-.94-2.06-.94 2.06-2.06.94zm-11 1L8.5 8.5l.94-2.06 2.06-.94-2.06-.94L8.5 2.5l-.94 2.06-2.06.94zm10 10l.94 2.06.94-2.06 2.06-.94-2.06-.94-.94-2.06-.94 2.06-2.06.94z\"/><path d=\"M17.41 7.96l-1.37-1.37c-.4-.4-.92-.59-1.43-.59-.52 0-1.04.2-1.43.59L10.3 9.45l-7.72 7.72c-.78.78-.78 2.05 0 2.83L4 21.41c.39.39.9.59 1.41.59.51 0 1.02-.2 1.41-.59l7.78-7.78 2.81-2.81c.8-.78.8-2.07 0-2.86zM5.41 20L4 18.59l7.72-7.72 1.47 1.35L5.41 20z\"/>\n",
              "  </svg>\n",
              "      </button>\n",
              "      \n",
              "  <style>\n",
              "    .colab-df-container {\n",
              "      display:flex;\n",
              "      flex-wrap:wrap;\n",
              "      gap: 12px;\n",
              "    }\n",
              "\n",
              "    .colab-df-convert {\n",
              "      background-color: #E8F0FE;\n",
              "      border: none;\n",
              "      border-radius: 50%;\n",
              "      cursor: pointer;\n",
              "      display: none;\n",
              "      fill: #1967D2;\n",
              "      height: 32px;\n",
              "      padding: 0 0 0 0;\n",
              "      width: 32px;\n",
              "    }\n",
              "\n",
              "    .colab-df-convert:hover {\n",
              "      background-color: #E2EBFA;\n",
              "      box-shadow: 0px 1px 2px rgba(60, 64, 67, 0.3), 0px 1px 3px 1px rgba(60, 64, 67, 0.15);\n",
              "      fill: #174EA6;\n",
              "    }\n",
              "\n",
              "    [theme=dark] .colab-df-convert {\n",
              "      background-color: #3B4455;\n",
              "      fill: #D2E3FC;\n",
              "    }\n",
              "\n",
              "    [theme=dark] .colab-df-convert:hover {\n",
              "      background-color: #434B5C;\n",
              "      box-shadow: 0px 1px 3px 1px rgba(0, 0, 0, 0.15);\n",
              "      filter: drop-shadow(0px 1px 2px rgba(0, 0, 0, 0.3));\n",
              "      fill: #FFFFFF;\n",
              "    }\n",
              "  </style>\n",
              "\n",
              "      <script>\n",
              "        const buttonEl =\n",
              "          document.querySelector('#df-09678682-896f-4b2b-9baa-622268865680 button.colab-df-convert');\n",
              "        buttonEl.style.display =\n",
              "          google.colab.kernel.accessAllowed ? 'block' : 'none';\n",
              "\n",
              "        async function convertToInteractive(key) {\n",
              "          const element = document.querySelector('#df-09678682-896f-4b2b-9baa-622268865680');\n",
              "          const dataTable =\n",
              "            await google.colab.kernel.invokeFunction('convertToInteractive',\n",
              "                                                     [key], {});\n",
              "          if (!dataTable) return;\n",
              "\n",
              "          const docLinkHtml = 'Like what you see? Visit the ' +\n",
              "            '<a target=\"_blank\" href=https://colab.research.google.com/notebooks/data_table.ipynb>data table notebook</a>'\n",
              "            + ' to learn more about interactive tables.';\n",
              "          element.innerHTML = '';\n",
              "          dataTable['output_type'] = 'display_data';\n",
              "          await google.colab.output.renderOutput(dataTable, element);\n",
              "          const docLink = document.createElement('div');\n",
              "          docLink.innerHTML = docLinkHtml;\n",
              "          element.appendChild(docLink);\n",
              "        }\n",
              "      </script>\n",
              "    </div>\n",
              "  </div>\n",
              "  "
            ]
          },
          "metadata": {},
          "execution_count": 23
        }
      ],
      "source": [
        "categoricalDf = df[catfields]\n",
        "df.drop(catfields, axis=1, inplace=True)\n",
        "df"
      ]
    },
    {
      "cell_type": "code",
      "execution_count": null,
      "metadata": {
        "id": "6jA1d4Txk_7G"
      },
      "outputs": [],
      "source": [
        "from sklearn.preprocessing import LabelEncoder\n",
        "import collections\n",
        "#df = df.astype(str).apply(LabelEncoder().fit_transform)"
      ]
    },
    {
      "cell_type": "code",
      "execution_count": null,
      "metadata": {
        "id": "pUCcmKkEmN3Z"
      },
      "outputs": [],
      "source": [
        "encoder_dict = collections.defaultdict(LabelEncoder)\n",
        "categoricalDfEncoded = categoricalDf.astype(str).apply(lambda x: encoder_dict[x.name].fit_transform(x))"
      ]
    },
    {
      "cell_type": "code",
      "execution_count": null,
      "metadata": {
        "id": "V8irsbSwe94U"
      },
      "outputs": [],
      "source": [
        ""
      ]
    },
    {
      "cell_type": "code",
      "execution_count": null,
      "metadata": {
        "id": "pQ415Sm5fOdw"
      },
      "outputs": [],
      "source": [
        "with open('label_encodings','wb') as f:\n",
        "  pickle.dump(encoder_dict,f)"
      ]
    },
    {
      "cell_type": "code",
      "execution_count": null,
      "metadata": {
        "id": "VqwHVNSmfvFS"
      },
      "outputs": [],
      "source": [
        "vendorEncodings = encoder_dict['vendor'].classes_"
      ]
    },
    {
      "cell_type": "code",
      "execution_count": null,
      "metadata": {
        "id": "nWRKXZqSTseX",
        "colab": {
          "base_uri": "https://localhost:8080/",
          "height": 488
        },
        "outputId": "6a2760ca-2d6a-4e27-fa72-1528643ab1e6"
      },
      "outputs": [
        {
          "output_type": "execute_result",
          "data": {
            "text/plain": [
              "        netType  data.http.result.response.headers.server  \\\n",
              "0            11                                        65   \n",
              "1            12                                         1   \n",
              "2             4                                         1   \n",
              "3             0                                        65   \n",
              "4            10                                       361   \n",
              "...         ...                                       ...   \n",
              "121048       12                                         1   \n",
              "121049        1                                         1   \n",
              "121050        3                                         1   \n",
              "121051        1                                         1   \n",
              "121052       14                                         1   \n",
              "\n",
              "        data.http.result.response.status_code  \\\n",
              "0                                          14   \n",
              "1                                           0   \n",
              "2                                           0   \n",
              "3                                          14   \n",
              "4                                          28   \n",
              "...                                       ...   \n",
              "121048                                      0   \n",
              "121049                                      0   \n",
              "121050                                      0   \n",
              "121051                                      0   \n",
              "121052                                      0   \n",
              "\n",
              "        data.http.result.response.headers.connection  \\\n",
              "0                                                  7   \n",
              "1                                                  0   \n",
              "2                                                  0   \n",
              "3                                                  7   \n",
              "4                                                  7   \n",
              "...                                              ...   \n",
              "121048                                             0   \n",
              "121049                                             0   \n",
              "121050                                             0   \n",
              "121051                                             0   \n",
              "121052                                             0   \n",
              "\n",
              "        data.http.result.response.headers.via  \\\n",
              "0                                           1   \n",
              "1                                           0   \n",
              "2                                           0   \n",
              "3                                           1   \n",
              "4                                           1   \n",
              "...                                       ...   \n",
              "121048                                      0   \n",
              "121049                                      0   \n",
              "121050                                      0   \n",
              "121051                                      0   \n",
              "121052                                      0   \n",
              "\n",
              "        data.http.result.response.headers.accept_ranges  \\\n",
              "0                                                     0   \n",
              "1                                                     0   \n",
              "2                                                     0   \n",
              "3                                                     0   \n",
              "4                                                     1   \n",
              "...                                                 ...   \n",
              "121048                                                0   \n",
              "121049                                                0   \n",
              "121050                                                0   \n",
              "121051                                                0   \n",
              "121052                                                0   \n",
              "\n",
              "        data.http.result.response.headers.cache_control  \\\n",
              "0                                                     0   \n",
              "1                                                     0   \n",
              "2                                                     0   \n",
              "3                                                     0   \n",
              "4                                                   214   \n",
              "...                                                 ...   \n",
              "121048                                                0   \n",
              "121049                                                0   \n",
              "121050                                                0   \n",
              "121051                                                0   \n",
              "121052                                                0   \n",
              "\n",
              "        data.http.result.response.headers.retry_after  \\\n",
              "0                                                   0   \n",
              "1                                                   0   \n",
              "2                                                   0   \n",
              "3                                                   0   \n",
              "4                                                   1   \n",
              "...                                               ...   \n",
              "121048                                              0   \n",
              "121049                                              0   \n",
              "121050                                              0   \n",
              "121051                                              0   \n",
              "121052                                              0   \n",
              "\n",
              "        data.http.result.response.headers.content_type  \\\n",
              "0                                                   45   \n",
              "1                                                    2   \n",
              "2                                                    2   \n",
              "3                                                   45   \n",
              "4                                                   45   \n",
              "...                                                ...   \n",
              "121048                                               2   \n",
              "121049                                               2   \n",
              "121050                                               2   \n",
              "121051                                               2   \n",
              "121052                                               2   \n",
              "\n",
              "        data.http.result.response.headers.location  \\\n",
              "0                                                0   \n",
              "1                                                0   \n",
              "2                                                0   \n",
              "3                                                0   \n",
              "4                                                0   \n",
              "...                                            ...   \n",
              "121048                                           0   \n",
              "121049                                           0   \n",
              "121050                                           0   \n",
              "121051                                           0   \n",
              "121052                                           0   \n",
              "\n",
              "        data.http.result.response.headers.etag  as_name  as_no  \\\n",
              "0                                            0       92    569   \n",
              "1                                            0       92    569   \n",
              "2                                            0      567   2645   \n",
              "3                                            0       92    569   \n",
              "4                                            0      996   2484   \n",
              "...                                        ...      ...    ...   \n",
              "121048                                       0      666   2785   \n",
              "121049                                       0      471    310   \n",
              "121050                                       0      712   1499   \n",
              "121051                                       0     2224   2149   \n",
              "121052                                       0     2542   1375   \n",
              "\n",
              "        data.tls.status  \\\n",
              "0                     2   \n",
              "1                     2   \n",
              "2                     2   \n",
              "3                     3   \n",
              "4                     2   \n",
              "...                 ...   \n",
              "121048                0   \n",
              "121049                0   \n",
              "121050                0   \n",
              "121051                0   \n",
              "121052                0   \n",
              "\n",
              "        data.tls.result.handshake_log.server_certificates.certificate.parsed.issuer.country  \\\n",
              "0                                                      74                                     \n",
              "1                                                      74                                     \n",
              "2                                                      74                                     \n",
              "3                                                       1                                     \n",
              "4                                                      11                                     \n",
              "...                                                   ...                                     \n",
              "121048                                                  1                                     \n",
              "121049                                                  1                                     \n",
              "121050                                                  1                                     \n",
              "121051                                                  1                                     \n",
              "121052                                                  1                                     \n",
              "\n",
              "        data.tls.result.handshake_log.server_certificates.certificate.parsed.issuer.organization  \\\n",
              "0                                                      51                                          \n",
              "1                                                      51                                          \n",
              "2                                                     376                                          \n",
              "3                                                       4                                          \n",
              "4                                                     279                                          \n",
              "...                                                   ...                                          \n",
              "121048                                                  4                                          \n",
              "121049                                                  4                                          \n",
              "121050                                                  4                                          \n",
              "121051                                                  4                                          \n",
              "121052                                                  4                                          \n",
              "\n",
              "        data.tls.result.handshake_log.server_certificates.certificate.parsed.subject.locality  \\\n",
              "0                                                       1                                       \n",
              "1                                                       1                                       \n",
              "2                                                       1                                       \n",
              "3                                                       1                                       \n",
              "4                                                    1018                                       \n",
              "...                                                   ...                                       \n",
              "121048                                                  1                                       \n",
              "121049                                                  1                                       \n",
              "121050                                                  1                                       \n",
              "121051                                                  1                                       \n",
              "121052                                                  1                                       \n",
              "\n",
              "        data.tls.result.handshake_log.server_certificates.certificate.parsed.subject.organization  \\\n",
              "0                                                      11                                           \n",
              "1                                                      11                                           \n",
              "2                                                      11                                           \n",
              "3                                                      11                                           \n",
              "4                                                    1100                                           \n",
              "...                                                   ...                                           \n",
              "121048                                                 11                                           \n",
              "121049                                                 11                                           \n",
              "121050                                                 11                                           \n",
              "121051                                                 11                                           \n",
              "121052                                                 11                                           \n",
              "\n",
              "        vendor  \n",
              "0            0  \n",
              "1            0  \n",
              "2            0  \n",
              "3            0  \n",
              "4            0  \n",
              "...        ...  \n",
              "121048       3  \n",
              "121049       3  \n",
              "121050       3  \n",
              "121051       3  \n",
              "121052       3  \n",
              "\n",
              "[121053 rows x 19 columns]"
            ],
            "text/html": [
              "\n",
              "  <div id=\"df-854d3fbe-a14f-4136-96bd-7c458854f3fe\">\n",
              "    <div class=\"colab-df-container\">\n",
              "      <div>\n",
              "<style scoped>\n",
              "    .dataframe tbody tr th:only-of-type {\n",
              "        vertical-align: middle;\n",
              "    }\n",
              "\n",
              "    .dataframe tbody tr th {\n",
              "        vertical-align: top;\n",
              "    }\n",
              "\n",
              "    .dataframe thead th {\n",
              "        text-align: right;\n",
              "    }\n",
              "</style>\n",
              "<table border=\"1\" class=\"dataframe\">\n",
              "  <thead>\n",
              "    <tr style=\"text-align: right;\">\n",
              "      <th></th>\n",
              "      <th>netType</th>\n",
              "      <th>data.http.result.response.headers.server</th>\n",
              "      <th>data.http.result.response.status_code</th>\n",
              "      <th>data.http.result.response.headers.connection</th>\n",
              "      <th>data.http.result.response.headers.via</th>\n",
              "      <th>data.http.result.response.headers.accept_ranges</th>\n",
              "      <th>data.http.result.response.headers.cache_control</th>\n",
              "      <th>data.http.result.response.headers.retry_after</th>\n",
              "      <th>data.http.result.response.headers.content_type</th>\n",
              "      <th>data.http.result.response.headers.location</th>\n",
              "      <th>data.http.result.response.headers.etag</th>\n",
              "      <th>as_name</th>\n",
              "      <th>as_no</th>\n",
              "      <th>data.tls.status</th>\n",
              "      <th>data.tls.result.handshake_log.server_certificates.certificate.parsed.issuer.country</th>\n",
              "      <th>data.tls.result.handshake_log.server_certificates.certificate.parsed.issuer.organization</th>\n",
              "      <th>data.tls.result.handshake_log.server_certificates.certificate.parsed.subject.locality</th>\n",
              "      <th>data.tls.result.handshake_log.server_certificates.certificate.parsed.subject.organization</th>\n",
              "      <th>vendor</th>\n",
              "    </tr>\n",
              "  </thead>\n",
              "  <tbody>\n",
              "    <tr>\n",
              "      <th>0</th>\n",
              "      <td>11</td>\n",
              "      <td>65</td>\n",
              "      <td>14</td>\n",
              "      <td>7</td>\n",
              "      <td>1</td>\n",
              "      <td>0</td>\n",
              "      <td>0</td>\n",
              "      <td>0</td>\n",
              "      <td>45</td>\n",
              "      <td>0</td>\n",
              "      <td>0</td>\n",
              "      <td>92</td>\n",
              "      <td>569</td>\n",
              "      <td>2</td>\n",
              "      <td>74</td>\n",
              "      <td>51</td>\n",
              "      <td>1</td>\n",
              "      <td>11</td>\n",
              "      <td>0</td>\n",
              "    </tr>\n",
              "    <tr>\n",
              "      <th>1</th>\n",
              "      <td>12</td>\n",
              "      <td>1</td>\n",
              "      <td>0</td>\n",
              "      <td>0</td>\n",
              "      <td>0</td>\n",
              "      <td>0</td>\n",
              "      <td>0</td>\n",
              "      <td>0</td>\n",
              "      <td>2</td>\n",
              "      <td>0</td>\n",
              "      <td>0</td>\n",
              "      <td>92</td>\n",
              "      <td>569</td>\n",
              "      <td>2</td>\n",
              "      <td>74</td>\n",
              "      <td>51</td>\n",
              "      <td>1</td>\n",
              "      <td>11</td>\n",
              "      <td>0</td>\n",
              "    </tr>\n",
              "    <tr>\n",
              "      <th>2</th>\n",
              "      <td>4</td>\n",
              "      <td>1</td>\n",
              "      <td>0</td>\n",
              "      <td>0</td>\n",
              "      <td>0</td>\n",
              "      <td>0</td>\n",
              "      <td>0</td>\n",
              "      <td>0</td>\n",
              "      <td>2</td>\n",
              "      <td>0</td>\n",
              "      <td>0</td>\n",
              "      <td>567</td>\n",
              "      <td>2645</td>\n",
              "      <td>2</td>\n",
              "      <td>74</td>\n",
              "      <td>376</td>\n",
              "      <td>1</td>\n",
              "      <td>11</td>\n",
              "      <td>0</td>\n",
              "    </tr>\n",
              "    <tr>\n",
              "      <th>3</th>\n",
              "      <td>0</td>\n",
              "      <td>65</td>\n",
              "      <td>14</td>\n",
              "      <td>7</td>\n",
              "      <td>1</td>\n",
              "      <td>0</td>\n",
              "      <td>0</td>\n",
              "      <td>0</td>\n",
              "      <td>45</td>\n",
              "      <td>0</td>\n",
              "      <td>0</td>\n",
              "      <td>92</td>\n",
              "      <td>569</td>\n",
              "      <td>3</td>\n",
              "      <td>1</td>\n",
              "      <td>4</td>\n",
              "      <td>1</td>\n",
              "      <td>11</td>\n",
              "      <td>0</td>\n",
              "    </tr>\n",
              "    <tr>\n",
              "      <th>4</th>\n",
              "      <td>10</td>\n",
              "      <td>361</td>\n",
              "      <td>28</td>\n",
              "      <td>7</td>\n",
              "      <td>1</td>\n",
              "      <td>1</td>\n",
              "      <td>214</td>\n",
              "      <td>1</td>\n",
              "      <td>45</td>\n",
              "      <td>0</td>\n",
              "      <td>0</td>\n",
              "      <td>996</td>\n",
              "      <td>2484</td>\n",
              "      <td>2</td>\n",
              "      <td>11</td>\n",
              "      <td>279</td>\n",
              "      <td>1018</td>\n",
              "      <td>1100</td>\n",
              "      <td>0</td>\n",
              "    </tr>\n",
              "    <tr>\n",
              "      <th>...</th>\n",
              "      <td>...</td>\n",
              "      <td>...</td>\n",
              "      <td>...</td>\n",
              "      <td>...</td>\n",
              "      <td>...</td>\n",
              "      <td>...</td>\n",
              "      <td>...</td>\n",
              "      <td>...</td>\n",
              "      <td>...</td>\n",
              "      <td>...</td>\n",
              "      <td>...</td>\n",
              "      <td>...</td>\n",
              "      <td>...</td>\n",
              "      <td>...</td>\n",
              "      <td>...</td>\n",
              "      <td>...</td>\n",
              "      <td>...</td>\n",
              "      <td>...</td>\n",
              "      <td>...</td>\n",
              "    </tr>\n",
              "    <tr>\n",
              "      <th>121048</th>\n",
              "      <td>12</td>\n",
              "      <td>1</td>\n",
              "      <td>0</td>\n",
              "      <td>0</td>\n",
              "      <td>0</td>\n",
              "      <td>0</td>\n",
              "      <td>0</td>\n",
              "      <td>0</td>\n",
              "      <td>2</td>\n",
              "      <td>0</td>\n",
              "      <td>0</td>\n",
              "      <td>666</td>\n",
              "      <td>2785</td>\n",
              "      <td>0</td>\n",
              "      <td>1</td>\n",
              "      <td>4</td>\n",
              "      <td>1</td>\n",
              "      <td>11</td>\n",
              "      <td>3</td>\n",
              "    </tr>\n",
              "    <tr>\n",
              "      <th>121049</th>\n",
              "      <td>1</td>\n",
              "      <td>1</td>\n",
              "      <td>0</td>\n",
              "      <td>0</td>\n",
              "      <td>0</td>\n",
              "      <td>0</td>\n",
              "      <td>0</td>\n",
              "      <td>0</td>\n",
              "      <td>2</td>\n",
              "      <td>0</td>\n",
              "      <td>0</td>\n",
              "      <td>471</td>\n",
              "      <td>310</td>\n",
              "      <td>0</td>\n",
              "      <td>1</td>\n",
              "      <td>4</td>\n",
              "      <td>1</td>\n",
              "      <td>11</td>\n",
              "      <td>3</td>\n",
              "    </tr>\n",
              "    <tr>\n",
              "      <th>121050</th>\n",
              "      <td>3</td>\n",
              "      <td>1</td>\n",
              "      <td>0</td>\n",
              "      <td>0</td>\n",
              "      <td>0</td>\n",
              "      <td>0</td>\n",
              "      <td>0</td>\n",
              "      <td>0</td>\n",
              "      <td>2</td>\n",
              "      <td>0</td>\n",
              "      <td>0</td>\n",
              "      <td>712</td>\n",
              "      <td>1499</td>\n",
              "      <td>0</td>\n",
              "      <td>1</td>\n",
              "      <td>4</td>\n",
              "      <td>1</td>\n",
              "      <td>11</td>\n",
              "      <td>3</td>\n",
              "    </tr>\n",
              "    <tr>\n",
              "      <th>121051</th>\n",
              "      <td>1</td>\n",
              "      <td>1</td>\n",
              "      <td>0</td>\n",
              "      <td>0</td>\n",
              "      <td>0</td>\n",
              "      <td>0</td>\n",
              "      <td>0</td>\n",
              "      <td>0</td>\n",
              "      <td>2</td>\n",
              "      <td>0</td>\n",
              "      <td>0</td>\n",
              "      <td>2224</td>\n",
              "      <td>2149</td>\n",
              "      <td>0</td>\n",
              "      <td>1</td>\n",
              "      <td>4</td>\n",
              "      <td>1</td>\n",
              "      <td>11</td>\n",
              "      <td>3</td>\n",
              "    </tr>\n",
              "    <tr>\n",
              "      <th>121052</th>\n",
              "      <td>14</td>\n",
              "      <td>1</td>\n",
              "      <td>0</td>\n",
              "      <td>0</td>\n",
              "      <td>0</td>\n",
              "      <td>0</td>\n",
              "      <td>0</td>\n",
              "      <td>0</td>\n",
              "      <td>2</td>\n",
              "      <td>0</td>\n",
              "      <td>0</td>\n",
              "      <td>2542</td>\n",
              "      <td>1375</td>\n",
              "      <td>0</td>\n",
              "      <td>1</td>\n",
              "      <td>4</td>\n",
              "      <td>1</td>\n",
              "      <td>11</td>\n",
              "      <td>3</td>\n",
              "    </tr>\n",
              "  </tbody>\n",
              "</table>\n",
              "<p>121053 rows × 19 columns</p>\n",
              "</div>\n",
              "      <button class=\"colab-df-convert\" onclick=\"convertToInteractive('df-854d3fbe-a14f-4136-96bd-7c458854f3fe')\"\n",
              "              title=\"Convert this dataframe to an interactive table.\"\n",
              "              style=\"display:none;\">\n",
              "        \n",
              "  <svg xmlns=\"http://www.w3.org/2000/svg\" height=\"24px\"viewBox=\"0 0 24 24\"\n",
              "       width=\"24px\">\n",
              "    <path d=\"M0 0h24v24H0V0z\" fill=\"none\"/>\n",
              "    <path d=\"M18.56 5.44l.94 2.06.94-2.06 2.06-.94-2.06-.94-.94-2.06-.94 2.06-2.06.94zm-11 1L8.5 8.5l.94-2.06 2.06-.94-2.06-.94L8.5 2.5l-.94 2.06-2.06.94zm10 10l.94 2.06.94-2.06 2.06-.94-2.06-.94-.94-2.06-.94 2.06-2.06.94z\"/><path d=\"M17.41 7.96l-1.37-1.37c-.4-.4-.92-.59-1.43-.59-.52 0-1.04.2-1.43.59L10.3 9.45l-7.72 7.72c-.78.78-.78 2.05 0 2.83L4 21.41c.39.39.9.59 1.41.59.51 0 1.02-.2 1.41-.59l7.78-7.78 2.81-2.81c.8-.78.8-2.07 0-2.86zM5.41 20L4 18.59l7.72-7.72 1.47 1.35L5.41 20z\"/>\n",
              "  </svg>\n",
              "      </button>\n",
              "      \n",
              "  <style>\n",
              "    .colab-df-container {\n",
              "      display:flex;\n",
              "      flex-wrap:wrap;\n",
              "      gap: 12px;\n",
              "    }\n",
              "\n",
              "    .colab-df-convert {\n",
              "      background-color: #E8F0FE;\n",
              "      border: none;\n",
              "      border-radius: 50%;\n",
              "      cursor: pointer;\n",
              "      display: none;\n",
              "      fill: #1967D2;\n",
              "      height: 32px;\n",
              "      padding: 0 0 0 0;\n",
              "      width: 32px;\n",
              "    }\n",
              "\n",
              "    .colab-df-convert:hover {\n",
              "      background-color: #E2EBFA;\n",
              "      box-shadow: 0px 1px 2px rgba(60, 64, 67, 0.3), 0px 1px 3px 1px rgba(60, 64, 67, 0.15);\n",
              "      fill: #174EA6;\n",
              "    }\n",
              "\n",
              "    [theme=dark] .colab-df-convert {\n",
              "      background-color: #3B4455;\n",
              "      fill: #D2E3FC;\n",
              "    }\n",
              "\n",
              "    [theme=dark] .colab-df-convert:hover {\n",
              "      background-color: #434B5C;\n",
              "      box-shadow: 0px 1px 3px 1px rgba(0, 0, 0, 0.15);\n",
              "      filter: drop-shadow(0px 1px 2px rgba(0, 0, 0, 0.3));\n",
              "      fill: #FFFFFF;\n",
              "    }\n",
              "  </style>\n",
              "\n",
              "      <script>\n",
              "        const buttonEl =\n",
              "          document.querySelector('#df-854d3fbe-a14f-4136-96bd-7c458854f3fe button.colab-df-convert');\n",
              "        buttonEl.style.display =\n",
              "          google.colab.kernel.accessAllowed ? 'block' : 'none';\n",
              "\n",
              "        async function convertToInteractive(key) {\n",
              "          const element = document.querySelector('#df-854d3fbe-a14f-4136-96bd-7c458854f3fe');\n",
              "          const dataTable =\n",
              "            await google.colab.kernel.invokeFunction('convertToInteractive',\n",
              "                                                     [key], {});\n",
              "          if (!dataTable) return;\n",
              "\n",
              "          const docLinkHtml = 'Like what you see? Visit the ' +\n",
              "            '<a target=\"_blank\" href=https://colab.research.google.com/notebooks/data_table.ipynb>data table notebook</a>'\n",
              "            + ' to learn more about interactive tables.';\n",
              "          element.innerHTML = '';\n",
              "          dataTable['output_type'] = 'display_data';\n",
              "          await google.colab.output.renderOutput(dataTable, element);\n",
              "          const docLink = document.createElement('div');\n",
              "          docLink.innerHTML = docLinkHtml;\n",
              "          element.appendChild(docLink);\n",
              "        }\n",
              "      </script>\n",
              "    </div>\n",
              "  </div>\n",
              "  "
            ]
          },
          "metadata": {},
          "execution_count": 28
        }
      ],
      "source": [
        "categoricalDfEncoded"
      ]
    },
    {
      "cell_type": "code",
      "execution_count": null,
      "metadata": {
        "id": "eqao-FORUYS7"
      },
      "outputs": [],
      "source": [
        "df[catfields] = categoricalDfEncoded"
      ]
    },
    {
      "cell_type": "code",
      "execution_count": null,
      "metadata": {
        "id": "IRnaDXMhxDMP"
      },
      "outputs": [],
      "source": [
        "renameDict = {\n",
        "       'data.http.result.response.headers.via':'Via',\n",
        "       'data.http.result.response.content_length': 'Content_Length',\n",
        "       'data.tls.result.handshake_log.server_certificates.certificate.parsed.issuer.organization':'Certificate_Issuer_Org',\n",
        "       'data.tls.result.handshake_log.server_certificates.certificate.parsed.issuer.country':'Certificate_Issuer_Country',\n",
        "       'data.http.result.response.status_code':'Status_Code',\n",
        "       'data.http.result.response.headers.server': 'Server',\n",
        "       'data.http.result.response.headers.connection':'Connection',\n",
        "       'data.http.result.response.headers.content_type':'Content_Type',\n",
        "       'data.http.result.response.headers.cache_control':'Cache_control',\n",
        "       'data.tls.result.handshake_log.server_certificates.certificate.parsed.subject.locality':'X.509_Subject_Locality',\n",
        "       'data.tls.result.handshake_log.server_certificates.certificate.parsed.subject.organization':'X.509_Subject _Org',\n",
        "       'data.http.result.response.headers.accept_ranges':'Accept_Ranges',\n",
        "       'data.http.result.response.headers.retry_after':'Retry_After',\n",
        "       'data.http.result.response.headers.location':'Location',\n",
        "       'data.http.result.response.headers.etag':'Etag'\n",
        "}"
      ]
    },
    {
      "cell_type": "code",
      "execution_count": null,
      "metadata": {
        "id": "k9s2ZGYixDrU"
      },
      "outputs": [],
      "source": [
        "df.rename(columns=renameDict, errors=\"raise\",inplace=True)"
      ]
    },
    {
      "cell_type": "code",
      "source": [
        "#df = df.dropna(subset=['SAN Count'])"
      ],
      "metadata": {
        "id": "jpIaQ2b0TGrY"
      },
      "execution_count": null,
      "outputs": []
    },
    {
      "cell_type": "code",
      "source": [
        "df[df[\"vendor\"] == 4]['SAN Count'].describe()"
      ],
      "metadata": {
        "id": "mWsQfBz_VXRn",
        "colab": {
          "base_uri": "https://localhost:8080/"
        },
        "outputId": "ad610552-33d1-449a-ed11-47669d00c17c"
      },
      "execution_count": null,
      "outputs": [
        {
          "output_type": "execute_result",
          "data": {
            "text/plain": [
              "count    21853.000000\n",
              "mean         2.647325\n",
              "std          7.159677\n",
              "min          0.000000\n",
              "25%          1.000000\n",
              "50%          2.000000\n",
              "75%          2.000000\n",
              "max        246.000000\n",
              "Name: SAN Count, dtype: float64"
            ]
          },
          "metadata": {},
          "execution_count": 33
        }
      ]
    },
    {
      "cell_type": "code",
      "source": [
        "field = 'netSize'\n",
        "binamount = 500"
      ],
      "metadata": {
        "id": "AFQUlRPRTR9k"
      },
      "execution_count": null,
      "outputs": []
    },
    {
      "cell_type": "code",
      "source": [
        "#df = df.dropna(subset=[field])"
      ],
      "metadata": {
        "id": "H2eOznMCaSeN"
      },
      "execution_count": null,
      "outputs": []
    },
    {
      "cell_type": "code",
      "source": [
        "count, bins_count  = np.histogram(df[df[\"vendor\"] == 4][field].values, bins=binamount)\n",
        "pdf = count / sum(count)\n",
        "cdf = np.cumsum(pdf)\n",
        "plt.plot(bins_count[1:], cdf, label=encoder_dict['vendor'].classes_[4])\n",
        "plt.legend()\n",
        "\n",
        "count, bins_count  = np.histogram(df[df[\"vendor\"] == 3][field].values, bins=binamount)\n",
        "pdf = count / sum(count)\n",
        "cdf = np.cumsum(pdf)\n",
        "plt.plot(bins_count[1:], cdf, label=encoder_dict['vendor'].classes_[3])\n",
        "plt.legend()\n",
        "\n",
        "count, bins_count  = np.histogram(df[df[\"vendor\"] == 2][field].values, bins=binamount)\n",
        "pdf = count / sum(count)\n",
        "cdf = np.cumsum(pdf)\n",
        "plt.plot(bins_count[1:], cdf, label=encoder_dict['vendor'].classes_[2])\n",
        "plt.legend()\n",
        "\n",
        "count, bins_count  = np.histogram(df[df[\"vendor\"] == 1][field].values, bins=binamount)\n",
        "pdf = count / sum(count)\n",
        "cdf = np.cumsum(pdf)\n",
        "plt.plot(bins_count[1:], cdf, label=encoder_dict['vendor'].classes_[1])\n",
        "plt.legend()\n",
        "\n",
        "count, bins_count  = np.histogram(df[df[\"vendor\"] == 0][field].values, bins=binamount)\n",
        "pdf = count / sum(count)\n",
        "cdf = np.cumsum(pdf)\n",
        "plt.plot(bins_count[1:], cdf, label=encoder_dict['vendor'].classes_[0])\n",
        "plt.legend()\n",
        "plt.title(field+' Per Vendor')\n",
        "plt.ylabel('CDF')\n",
        "plt.xlabel(field)\n",
        "plt.savefig(field+' Per Vendor.png')"
      ],
      "metadata": {
        "id": "Zqsmtm1ESp10",
        "colab": {
          "base_uri": "https://localhost:8080/",
          "height": 295
        },
        "outputId": "46b612e3-a5e7-49de-a77e-2d3700f829ae"
      },
      "execution_count": null,
      "outputs": [
        {
          "output_type": "display_data",
          "data": {
            "text/plain": [
              "<Figure size 432x288 with 1 Axes>"
            ],
            "image/png": "[encoded data removed]"
          },
          "metadata": {
            "needs_background": "light"
          }
        }
      ]
    },
    {
      "cell_type": "code",
      "source": [
        "# count, bins_count  = np.histogram(df[df[\"vendor\"] == 4][field].values, bins=10000)\n",
        "# pdf = count / sum(count)\n",
        "# cdf = np.cumsum(pdf)\n",
        "# plt.plot(bins_count[1:], cdf, label=le.classes_[4])\n",
        "# plt.legend()\n",
        "\n",
        "# count, bins_count  = np.histogram(df[df[\"vendor\"] == 3][field].values, bins=10000)\n",
        "# pdf = count / sum(count)\n",
        "# cdf = np.cumsum(pdf)\n",
        "# plt.plot(bins_count[1:], cdf, label=le.classes_[3])\n",
        "# plt.legend()\n",
        "\n",
        "# count, bins_count  = np.histogram(df[df[\"vendor\"] == 2][field].values, bins=10000)\n",
        "# pdf = count / sum(count)\n",
        "# cdf = np.cumsum(pdf)\n",
        "# plt.plot(bins_count[1:], cdf, label=le.classes_[2])\n",
        "# plt.legend()\n",
        "\n",
        "# count, bins_count  = np.histogram(df[df[\"vendor\"] == 1][field].values, bins=10000)\n",
        "# pdf = count / sum(count)\n",
        "# cdf = np.cumsum(pdf)\n",
        "# plt.plot(bins_count[1:], cdf, label=le.classes_[1])\n",
        "# plt.legend()\n",
        "\n",
        "# count, bins_count  = np.histogram(df[df[\"vendor\"] == 0][field].values, bins=10000)\n",
        "# pdf = count / sum(count)\n",
        "# cdf = np.cumsum(pdf)\n",
        "# plt.plot(bins_count[1:], cdf, label=le.classes_[0])\n",
        "# plt.legend()\n",
        "# plt.title('CDF of No of Whois Records Per Vendor')\n",
        "# plt.ylabel('CDF')\n",
        "# plt.xlabel('# of Whois Records')\n",
        "\n",
        "# count, bins_count  = np.histogram(df[field].values, bins=1000)\n",
        "# pdf = count / sum(count)\n",
        "# cdf = np.cumsum(pdf)\n",
        "# plt.plot(bins_count[1:], cdf, label = \"Whole Dataset\")\n",
        "# plt.legend()\n",
        "# plt.title(field)\n",
        "# plt.ylabel('CDF')\n",
        "# plt.xlabel('Content Length')\n",
        "# plt.xlim(0,10000)\n",
        "# plt.savefig('HTTP Content Length Merged.png')"
      ],
      "metadata": {
        "id": "1nWkFqg9Sy3t"
      },
      "execution_count": null,
      "outputs": []
    },
    {
      "cell_type": "code",
      "source": [
        "encoder_dict['vendor'].classes_"
      ],
      "metadata": {
        "id": "O0YrBfpCYbpf",
        "colab": {
          "base_uri": "https://localhost:8080/"
        },
        "outputId": "02b3edfc-0500-4516-84c9-9fb24d30ee6c"
      },
      "execution_count": null,
      "outputs": [
        {
          "output_type": "execute_result",
          "data": {
            "text/plain": [
              "array(['cdn', 'cloud', 'hosting', 'proxy', 'vpn'], dtype=object)"
            ]
          },
          "metadata": {},
          "execution_count": 38
        }
      ]
    },
    {
      "cell_type": "code",
      "source": [
        "df[df[\"vendor\"] == 2]['SAN Count'].describe()"
      ],
      "metadata": {
        "id": "SD9Wew95YVxa",
        "colab": {
          "base_uri": "https://localhost:8080/"
        },
        "outputId": "f77c09af-a502-4810-f179-c6659bd34332"
      },
      "execution_count": null,
      "outputs": [
        {
          "output_type": "execute_result",
          "data": {
            "text/plain": [
              "count    30000.00000\n",
              "mean         5.20280\n",
              "std         13.57525\n",
              "min          0.00000\n",
              "25%          2.00000\n",
              "50%          2.00000\n",
              "75%          8.00000\n",
              "max       2073.00000\n",
              "Name: SAN Count, dtype: float64"
            ]
          },
          "metadata": {},
          "execution_count": 39
        }
      ]
    }
  ],
  "metadata": {
    "colab": {
      "collapsed_sections": [],
      "name": "Model Save Feature Analyze.ipynb",
      "provenance": []
    },
    "kernelspec": {
      "display_name": "Python 3",
      "name": "python3"
    },
    "language_info": {
      "name": "python"
    }
  },
  "nbformat": 4,
  "nbformat_minor": 0
}